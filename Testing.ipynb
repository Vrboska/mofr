{
 "cells": [
  {
   "cell_type": "markdown",
   "metadata": {
    "ExecuteTime": {
     "end_time": "2020-12-14T20:53:36.838573Z",
     "start_time": "2020-12-14T20:53:36.835573Z"
    }
   },
   "source": [
    "# Testing packages"
   ]
  },
  {
   "cell_type": "code",
   "execution_count": 90,
   "metadata": {
    "ExecuteTime": {
     "end_time": "2021-11-08T12:03:24.751004Z",
     "start_time": "2021-11-08T12:03:24.571961Z"
    }
   },
   "outputs": [],
   "source": [
    "import pandas as pd\n",
    "import numpy as np\n",
    "import random"
   ]
  },
  {
   "cell_type": "code",
   "execution_count": 91,
   "metadata": {
    "ExecuteTime": {
     "end_time": "2021-11-08T12:03:24.860003Z",
     "start_time": "2021-11-08T12:03:24.753975Z"
    }
   },
   "outputs": [
    {
     "name": "stdout",
     "output_type": "stream",
     "text": [
      "The autoreload extension is already loaded. To reload it, use:\n",
      "  %reload_ext autoreload\n"
     ]
    }
   ],
   "source": [
    "%load_ext autoreload\n",
    "%autoreload 2"
   ]
  },
  {
   "cell_type": "markdown",
   "metadata": {
    "ExecuteTime": {
     "end_time": "2020-12-14T20:54:47.225113Z",
     "start_time": "2020-12-14T20:54:47.161113Z"
    }
   },
   "source": [
    "# Metrics"
   ]
  },
  {
   "cell_type": "markdown",
   "metadata": {},
   "source": [
    "## Simple scores"
   ]
  },
  {
   "cell_type": "code",
   "execution_count": 92,
   "metadata": {
    "ExecuteTime": {
     "end_time": "2021-11-08T12:03:24.986969Z",
     "start_time": "2021-11-08T12:03:24.862957Z"
    }
   },
   "outputs": [],
   "source": [
    "from mofr import metrics"
   ]
  },
  {
   "cell_type": "code",
   "execution_count": 93,
   "metadata": {
    "ExecuteTime": {
     "end_time": "2021-11-08T12:03:25.114972Z",
     "start_time": "2021-11-08T12:03:24.990956Z"
    }
   },
   "outputs": [],
   "source": [
    "df=pd.read_csv(r'c:\\Users\\T862363F\\Projects\\DevOps_Repos\\PRG_TD_ModellingFramework\\data\\Model_Eval_Data_For_Andrej.csv')"
   ]
  },
  {
   "cell_type": "code",
   "execution_count": 94,
   "metadata": {
    "ExecuteTime": {
     "end_time": "2021-11-08T12:03:25.240975Z",
     "start_time": "2021-11-08T12:03:25.116956Z"
    }
   },
   "outputs": [],
   "source": [
    "df['p_churn']=df['p_alive']*-1+1\n",
    "df['target_obs']=1\n",
    "df['random_score']=np.random.randint(1, 1000000, df.shape[0])/1000000\n",
    "df['semi_random_score']=0.7*df['p_churn']+0.3*np.random.normal(0,1,df.shape[0])\n",
    "df['month']=df['target_obs'].apply(lambda x: random.choice([202001,202002,202003]))"
   ]
  },
  {
   "cell_type": "code",
   "execution_count": 95,
   "metadata": {
    "ExecuteTime": {
     "end_time": "2021-11-08T12:03:25.352957Z",
     "start_time": "2021-11-08T12:03:25.242952Z"
    }
   },
   "outputs": [
    {
     "data": {
      "text/plain": [
       "7946"
      ]
     },
     "execution_count": 95,
     "metadata": {},
     "output_type": "execute_result"
    }
   ],
   "source": [
    "len(df)"
   ]
  },
  {
   "cell_type": "code",
   "execution_count": 96,
   "metadata": {
    "ExecuteTime": {
     "end_time": "2021-11-08T12:03:25.478948Z",
     "start_time": "2021-11-08T12:03:25.355949Z"
    }
   },
   "outputs": [
    {
     "data": {
      "text/html": [
       "<div>\n",
       "<style scoped>\n",
       "    .dataframe tbody tr th:only-of-type {\n",
       "        vertical-align: middle;\n",
       "    }\n",
       "\n",
       "    .dataframe tbody tr th {\n",
       "        vertical-align: top;\n",
       "    }\n",
       "\n",
       "    .dataframe thead th {\n",
       "        text-align: right;\n",
       "    }\n",
       "</style>\n",
       "<table border=\"1\" class=\"dataframe\">\n",
       "  <thead>\n",
       "    <tr style=\"text-align: right;\">\n",
       "      <th></th>\n",
       "      <th>TECCOMPCE</th>\n",
       "      <th>TECSOLDTO</th>\n",
       "      <th>p_alive</th>\n",
       "      <th>CLV</th>\n",
       "      <th>p_alive_</th>\n",
       "      <th>PB_Churn_Flag</th>\n",
       "      <th>CLV_</th>\n",
       "      <th>ob</th>\n",
       "      <th>omx</th>\n",
       "      <th>omn</th>\n",
       "      <th>...</th>\n",
       "      <th>CreditBlock</th>\n",
       "      <th>Churn</th>\n",
       "      <th>a</th>\n",
       "      <th>b</th>\n",
       "      <th>target</th>\n",
       "      <th>target_obs</th>\n",
       "      <th>p_churn</th>\n",
       "      <th>random_score</th>\n",
       "      <th>semi_random_score</th>\n",
       "      <th>month</th>\n",
       "    </tr>\n",
       "  </thead>\n",
       "  <tbody>\n",
       "    <tr>\n",
       "      <th>0</th>\n",
       "      <td>40</td>\n",
       "      <td>636362</td>\n",
       "      <td>0.994196</td>\n",
       "      <td>2821.981425</td>\n",
       "      <td>0</td>\n",
       "      <td>994196067.0</td>\n",
       "      <td>0</td>\n",
       "      <td>2821</td>\n",
       "      <td>981425.0</td>\n",
       "      <td>11</td>\n",
       "      <td>...</td>\n",
       "      <td>2020-09-29 00:00:00.0000000</td>\n",
       "      <td>2019-10-01 00:00:00.0000000</td>\n",
       "      <td>NaN</td>\n",
       "      <td>0.0</td>\n",
       "      <td>0</td>\n",
       "      <td>1</td>\n",
       "      <td>0.005804</td>\n",
       "      <td>0.212508</td>\n",
       "      <td>0.139515</td>\n",
       "      <td>202001</td>\n",
       "    </tr>\n",
       "    <tr>\n",
       "      <th>1</th>\n",
       "      <td>40</td>\n",
       "      <td>441577</td>\n",
       "      <td>0.613307</td>\n",
       "      <td>0.000000</td>\n",
       "      <td>0</td>\n",
       "      <td>613306736.0</td>\n",
       "      <td>0</td>\n",
       "      <td>0</td>\n",
       "      <td>1.0</td>\n",
       "      <td>2018-10-01 00:00:00.0000000</td>\n",
       "      <td>...</td>\n",
       "      <td>NaN</td>\n",
       "      <td>NaN</td>\n",
       "      <td>1.0</td>\n",
       "      <td>NaN</td>\n",
       "      <td>1</td>\n",
       "      <td>1</td>\n",
       "      <td>0.386693</td>\n",
       "      <td>0.928684</td>\n",
       "      <td>-0.013441</td>\n",
       "      <td>202001</td>\n",
       "    </tr>\n",
       "    <tr>\n",
       "      <th>2</th>\n",
       "      <td>40</td>\n",
       "      <td>422141</td>\n",
       "      <td>0.462324</td>\n",
       "      <td>3340.062341</td>\n",
       "      <td>0</td>\n",
       "      <td>462324357.0</td>\n",
       "      <td>1</td>\n",
       "      <td>3340</td>\n",
       "      <td>62341.0</td>\n",
       "      <td>7</td>\n",
       "      <td>...</td>\n",
       "      <td>2020-07-01 00:00:00.0000000</td>\n",
       "      <td>2020-02-19 00:00:00.0000000</td>\n",
       "      <td>NaN</td>\n",
       "      <td>0.0</td>\n",
       "      <td>0</td>\n",
       "      <td>1</td>\n",
       "      <td>0.537676</td>\n",
       "      <td>0.818042</td>\n",
       "      <td>0.423547</td>\n",
       "      <td>202003</td>\n",
       "    </tr>\n",
       "    <tr>\n",
       "      <th>3</th>\n",
       "      <td>40</td>\n",
       "      <td>706342</td>\n",
       "      <td>0.841013</td>\n",
       "      <td>5023.797898</td>\n",
       "      <td>0</td>\n",
       "      <td>841012858.0</td>\n",
       "      <td>0</td>\n",
       "      <td>5023</td>\n",
       "      <td>797898.0</td>\n",
       "      <td>17</td>\n",
       "      <td>...</td>\n",
       "      <td>2020-07-17 00:00:00.0000000</td>\n",
       "      <td>2019-10-03 00:00:00.0000000</td>\n",
       "      <td>NaN</td>\n",
       "      <td>0.0</td>\n",
       "      <td>0</td>\n",
       "      <td>1</td>\n",
       "      <td>0.158987</td>\n",
       "      <td>0.033832</td>\n",
       "      <td>0.341914</td>\n",
       "      <td>202003</td>\n",
       "    </tr>\n",
       "    <tr>\n",
       "      <th>4</th>\n",
       "      <td>40</td>\n",
       "      <td>718698</td>\n",
       "      <td>0.668060</td>\n",
       "      <td>0.000000</td>\n",
       "      <td>0</td>\n",
       "      <td>668060235.0</td>\n",
       "      <td>0</td>\n",
       "      <td>0</td>\n",
       "      <td>1.0</td>\n",
       "      <td>2019-02-06 00:00:00.0000000</td>\n",
       "      <td>...</td>\n",
       "      <td>2020-01-10 00:00:00.0000000</td>\n",
       "      <td>NaN</td>\n",
       "      <td>0.0</td>\n",
       "      <td>NaN</td>\n",
       "      <td>0</td>\n",
       "      <td>1</td>\n",
       "      <td>0.331940</td>\n",
       "      <td>0.043368</td>\n",
       "      <td>-0.059302</td>\n",
       "      <td>202003</td>\n",
       "    </tr>\n",
       "  </tbody>\n",
       "</table>\n",
       "<p>5 rows × 23 columns</p>\n",
       "</div>"
      ],
      "text/plain": [
       "   TECCOMPCE  TECSOLDTO   p_alive          CLV  p_alive_  PB_Churn_Flag  CLV_  \\\n",
       "0         40     636362  0.994196  2821.981425         0    994196067.0     0   \n",
       "1         40     441577  0.613307     0.000000         0    613306736.0     0   \n",
       "2         40     422141  0.462324  3340.062341         0    462324357.0     1   \n",
       "3         40     706342  0.841013  5023.797898         0    841012858.0     0   \n",
       "4         40     718698  0.668060     0.000000         0    668060235.0     0   \n",
       "\n",
       "     ob       omx                          omn  ...  \\\n",
       "0  2821  981425.0                           11  ...   \n",
       "1     0       1.0  2018-10-01 00:00:00.0000000  ...   \n",
       "2  3340   62341.0                            7  ...   \n",
       "3  5023  797898.0                           17  ...   \n",
       "4     0       1.0  2019-02-06 00:00:00.0000000  ...   \n",
       "\n",
       "                   CreditBlock                        Churn    a    b target  \\\n",
       "0  2020-09-29 00:00:00.0000000  2019-10-01 00:00:00.0000000  NaN  0.0      0   \n",
       "1                          NaN                          NaN  1.0  NaN      1   \n",
       "2  2020-07-01 00:00:00.0000000  2020-02-19 00:00:00.0000000  NaN  0.0      0   \n",
       "3  2020-07-17 00:00:00.0000000  2019-10-03 00:00:00.0000000  NaN  0.0      0   \n",
       "4  2020-01-10 00:00:00.0000000                          NaN  0.0  NaN      0   \n",
       "\n",
       "   target_obs   p_churn  random_score  semi_random_score   month  \n",
       "0           1  0.005804      0.212508           0.139515  202001  \n",
       "1           1  0.386693      0.928684          -0.013441  202001  \n",
       "2           1  0.537676      0.818042           0.423547  202003  \n",
       "3           1  0.158987      0.033832           0.341914  202003  \n",
       "4           1  0.331940      0.043368          -0.059302  202003  \n",
       "\n",
       "[5 rows x 23 columns]"
      ]
     },
     "execution_count": 96,
     "metadata": {},
     "output_type": "execute_result"
    }
   ],
   "source": [
    "df.head()"
   ]
  },
  {
   "cell_type": "markdown",
   "metadata": {},
   "source": [
    "### Accuracy"
   ]
  },
  {
   "cell_type": "code",
   "execution_count": 97,
   "metadata": {
    "ExecuteTime": {
     "end_time": "2021-11-08T12:03:25.588947Z",
     "start_time": "2021-11-08T12:03:25.481952Z"
    }
   },
   "outputs": [
    {
     "data": {
      "text/plain": [
       "0.7793858545179965"
      ]
     },
     "execution_count": 97,
     "metadata": {},
     "output_type": "execute_result"
    }
   ],
   "source": [
    "metrics.accuracy_score(df['target'], df['p_churn']>0.5)"
   ]
  },
  {
   "cell_type": "code",
   "execution_count": 98,
   "metadata": {
    "ExecuteTime": {
     "end_time": "2021-11-08T12:03:25.728987Z",
     "start_time": "2021-11-08T12:03:25.591948Z"
    }
   },
   "outputs": [
    {
     "data": {
      "text/plain": [
       "[0.31059652655424114,\n",
       " 0.40057890762647874,\n",
       " 0.46967027435187514,\n",
       " 0.5117040020135918,\n",
       " 0.5485779008306066,\n",
       " 0.5690913667253964,\n",
       " 0.591492574880443,\n",
       " 0.6063428139944627,\n",
       " 0.618801912912157,\n",
       " 0.6303800654417316,\n",
       " 0.6401963251950668,\n",
       " 0.6477472942360937,\n",
       " 0.6552982632771206,\n",
       " 0.6614648879939592,\n",
       " 0.6676315127107979,\n",
       " 0.6720362446513969,\n",
       " 0.676566826076013,\n",
       " 0.6827334507928517,\n",
       " 0.6867606342813994,\n",
       " 0.6906619682859301]"
      ]
     },
     "execution_count": 98,
     "metadata": {},
     "output_type": "execute_result"
    }
   ],
   "source": [
    "[metrics.accuracy_score(df['target'], df['p_churn']>(x+1)/1000) for x in range(20)]"
   ]
  },
  {
   "cell_type": "code",
   "execution_count": 99,
   "metadata": {
    "ExecuteTime": {
     "end_time": "2021-11-08T12:03:25.839945Z",
     "start_time": "2021-11-08T12:03:25.729945Z"
    }
   },
   "outputs": [],
   "source": [
    "#metrics.accuracy_score?"
   ]
  },
  {
   "cell_type": "markdown",
   "metadata": {},
   "source": [
    "### Precision"
   ]
  },
  {
   "cell_type": "code",
   "execution_count": 100,
   "metadata": {
    "ExecuteTime": {
     "end_time": "2021-11-08T12:03:25.950941Z",
     "start_time": "2021-11-08T12:03:25.841945Z"
    }
   },
   "outputs": [
    {
     "data": {
      "text/plain": [
       "0.5398230088495575"
      ]
     },
     "execution_count": 100,
     "metadata": {},
     "output_type": "execute_result"
    }
   ],
   "source": [
    "metrics.precision_score(df['target'], df['p_churn']>0.5)"
   ]
  },
  {
   "cell_type": "code",
   "execution_count": 101,
   "metadata": {
    "ExecuteTime": {
     "end_time": "2021-11-08T12:03:26.121941Z",
     "start_time": "2021-11-08T12:03:25.954942Z"
    }
   },
   "outputs": [
    {
     "data": {
      "text/plain": [
       "[0.6588235294117647,\n",
       " 0.6239316239316239,\n",
       " 0.625,\n",
       " 0.618421052631579,\n",
       " 0.6073619631901841,\n",
       " 0.6123595505617978,\n",
       " 0.6096256684491979,\n",
       " 0.6062176165803109,\n",
       " 0.6019417475728155,\n",
       " 0.591304347826087,\n",
       " 0.5887096774193549,\n",
       " 0.5889328063241107,\n",
       " 0.5923076923076923,\n",
       " 0.6,\n",
       " 0.5949820788530465,\n",
       " 0.5929824561403508,\n",
       " 0.5932203389830508,\n",
       " 0.5907590759075908,\n",
       " 0.6006191950464397,\n",
       " 0.600609756097561]"
      ]
     },
     "execution_count": 101,
     "metadata": {},
     "output_type": "execute_result"
    }
   ],
   "source": [
    "[metrics.precision_score(df['target'], df['p_churn']>(99-x)/100) for x in range(20)]"
   ]
  },
  {
   "cell_type": "code",
   "execution_count": 102,
   "metadata": {
    "ExecuteTime": {
     "end_time": "2021-11-08T12:03:26.229153Z",
     "start_time": "2021-11-08T12:03:26.124940Z"
    }
   },
   "outputs": [],
   "source": [
    "#metrics.precision_score?"
   ]
  },
  {
   "cell_type": "markdown",
   "metadata": {},
   "source": [
    "### Recall"
   ]
  },
  {
   "cell_type": "code",
   "execution_count": 103,
   "metadata": {
    "ExecuteTime": {
     "end_time": "2021-11-08T12:03:26.338177Z",
     "start_time": "2021-11-08T12:03:26.231799Z"
    }
   },
   "outputs": [
    {
     "data": {
      "text/plain": [
       "0.20254565578306585"
      ]
     },
     "execution_count": 103,
     "metadata": {},
     "output_type": "execute_result"
    }
   ],
   "source": [
    "metrics.recall_score(df['target'], df['p_churn']>0.5)"
   ]
  },
  {
   "cell_type": "code",
   "execution_count": 104,
   "metadata": {
    "ExecuteTime": {
     "end_time": "2021-11-08T12:03:26.509174Z",
     "start_time": "2021-11-08T12:03:26.340190Z"
    }
   },
   "outputs": [
    {
     "data": {
      "text/plain": [
       "[0.03099059214167128,\n",
       " 0.040398450470392915,\n",
       " 0.04703929164360819,\n",
       " 0.05201992252351965,\n",
       " 0.05478693967902601,\n",
       " 0.06032097399003874,\n",
       " 0.0630879911455451,\n",
       " 0.06474820143884892,\n",
       " 0.06862202545655784,\n",
       " 0.0752628666297731,\n",
       " 0.08079690094078583,\n",
       " 0.08245711123408965,\n",
       " 0.08522412838959602,\n",
       " 0.0896513558384062,\n",
       " 0.09186496956281129,\n",
       " 0.09352517985611511,\n",
       " 0.09684560044272275,\n",
       " 0.09905921416712783,\n",
       " 0.10736026563364692,\n",
       " 0.10902047592695074]"
      ]
     },
     "execution_count": 104,
     "metadata": {},
     "output_type": "execute_result"
    }
   ],
   "source": [
    "[metrics.recall_score(df['target'], df['p_churn']>(99-x)/100) for x in range(20)]"
   ]
  },
  {
   "cell_type": "code",
   "execution_count": 105,
   "metadata": {
    "ExecuteTime": {
     "end_time": "2021-11-08T12:03:26.619503Z",
     "start_time": "2021-11-08T12:03:26.511175Z"
    }
   },
   "outputs": [],
   "source": [
    "#metrics.recall_score?"
   ]
  },
  {
   "cell_type": "markdown",
   "metadata": {},
   "source": [
    "### F1 score"
   ]
  },
  {
   "cell_type": "code",
   "execution_count": 106,
   "metadata": {
    "ExecuteTime": {
     "end_time": "2021-11-08T12:03:26.729547Z",
     "start_time": "2021-11-08T12:03:26.621496Z"
    }
   },
   "outputs": [
    {
     "data": {
      "text/plain": [
       "0.2945674044265594"
      ]
     },
     "execution_count": 106,
     "metadata": {},
     "output_type": "execute_result"
    }
   ],
   "source": [
    "metrics.f1_score(df['target'], df['p_churn']>0.5)"
   ]
  },
  {
   "cell_type": "code",
   "execution_count": 107,
   "metadata": {
    "ExecuteTime": {
     "end_time": "2021-11-08T12:03:26.901591Z",
     "start_time": "2021-11-08T12:03:26.731548Z"
    }
   },
   "outputs": [
    {
     "data": {
      "text/plain": [
       "[0.39749230092388915,\n",
       " 0.4314193625402889,\n",
       " 0.46057347670250887,\n",
       " 0.48072805139186287,\n",
       " 0.5000696864111499,\n",
       " 0.5107173478136611,\n",
       " 0.5233480176211454,\n",
       " 0.5313155528918191,\n",
       " 0.5383325712543819,\n",
       " 0.545144804088586,\n",
       " 0.5509659180147636,\n",
       " 0.5550786838340487,\n",
       " 0.5590082112381259,\n",
       " 0.5628859278518037,\n",
       " 0.5664094565752751,\n",
       " 0.5691137566137566,\n",
       " 0.5709515859766277,\n",
       " 0.5755177639333221,\n",
       " 0.5776344815883251,\n",
       " 0.5796853625170998]"
      ]
     },
     "execution_count": 107,
     "metadata": {},
     "output_type": "execute_result"
    }
   ],
   "source": [
    "[metrics.f1_score(df['target'], df['p_churn']>(x+1)/1000) for x in range(20)]"
   ]
  },
  {
   "cell_type": "code",
   "execution_count": 108,
   "metadata": {
    "ExecuteTime": {
     "end_time": "2021-11-08T12:03:27.011342Z",
     "start_time": "2021-11-08T12:03:26.904560Z"
    }
   },
   "outputs": [],
   "source": [
    "#metrics.f1_score?"
   ]
  },
  {
   "cell_type": "markdown",
   "metadata": {},
   "source": [
    "### Confusion matrix"
   ]
  },
  {
   "cell_type": "code",
   "execution_count": 109,
   "metadata": {
    "ExecuteTime": {
     "end_time": "2021-11-08T12:03:27.135223Z",
     "start_time": "2021-11-08T12:03:27.013174Z"
    }
   },
   "outputs": [
    {
     "data": {
      "text/plain": [
       "array([[5827,  312],\n",
       "       [1441,  366]], dtype=int64)"
      ]
     },
     "execution_count": 109,
     "metadata": {},
     "output_type": "execute_result"
    }
   ],
   "source": [
    "metrics.confusion_matrix(df['target'], df['p_churn']>0.5)"
   ]
  },
  {
   "cell_type": "markdown",
   "metadata": {
    "ExecuteTime": {
     "end_time": "2020-12-14T21:53:17.790901Z",
     "start_time": "2020-12-14T21:53:17.685943Z"
    }
   },
   "source": [
    "### ROC AUC "
   ]
  },
  {
   "cell_type": "code",
   "execution_count": 110,
   "metadata": {
    "ExecuteTime": {
     "end_time": "2021-11-08T12:03:27.245198Z",
     "start_time": "2021-11-08T12:03:27.138173Z"
    }
   },
   "outputs": [
    {
     "data": {
      "text/plain": [
       "0.8560895967276451"
      ]
     },
     "execution_count": 110,
     "metadata": {},
     "output_type": "execute_result"
    }
   ],
   "source": [
    "metrics.roc_auc_score(df['target'], df['p_churn'])"
   ]
  },
  {
   "cell_type": "code",
   "execution_count": 111,
   "metadata": {
    "ExecuteTime": {
     "end_time": "2021-11-08T12:03:27.341221Z",
     "start_time": "2021-11-08T12:03:27.247173Z"
    }
   },
   "outputs": [],
   "source": [
    "#metrics.roc_auc_score?"
   ]
  },
  {
   "cell_type": "markdown",
   "metadata": {},
   "source": [
    "### GINI"
   ]
  },
  {
   "cell_type": "code",
   "execution_count": 112,
   "metadata": {
    "ExecuteTime": {
     "end_time": "2021-11-08T12:03:27.451558Z",
     "start_time": "2021-11-08T12:03:27.346197Z"
    }
   },
   "outputs": [
    {
     "data": {
      "text/plain": [
       "0.7121791934552901"
      ]
     },
     "execution_count": 112,
     "metadata": {},
     "output_type": "execute_result"
    }
   ],
   "source": [
    "metrics.gini(df['target'], df['p_churn'])"
   ]
  },
  {
   "cell_type": "code",
   "execution_count": 113,
   "metadata": {
    "ExecuteTime": {
     "end_time": "2021-11-08T12:03:27.560936Z",
     "start_time": "2021-11-08T12:03:27.455566Z"
    }
   },
   "outputs": [
    {
     "data": {
      "text/plain": [
       "0.7121791934552901"
      ]
     },
     "execution_count": 113,
     "metadata": {},
     "output_type": "execute_result"
    }
   ],
   "source": [
    "metrics.gini(df['target'], df['p_churn'], average='samples')"
   ]
  },
  {
   "cell_type": "code",
   "execution_count": 114,
   "metadata": {
    "ExecuteTime": {
     "end_time": "2021-11-08T12:03:27.669912Z",
     "start_time": "2021-11-08T12:03:27.563559Z"
    }
   },
   "outputs": [],
   "source": [
    "#metrics.gini?"
   ]
  },
  {
   "cell_type": "markdown",
   "metadata": {},
   "source": [
    "### Lift"
   ]
  },
  {
   "cell_type": "code",
   "execution_count": 115,
   "metadata": {
    "ExecuteTime": {
     "end_time": "2021-11-08T12:03:27.778909Z",
     "start_time": "2021-11-08T12:03:27.672917Z"
    }
   },
   "outputs": [
    {
     "data": {
      "text/plain": [
       "2.306531204644412"
      ]
     },
     "execution_count": 115,
     "metadata": {},
     "output_type": "execute_result"
    }
   ],
   "source": [
    "metrics.lift(df['target'], df['p_churn'])"
   ]
  },
  {
   "cell_type": "code",
   "execution_count": 116,
   "metadata": {
    "ExecuteTime": {
     "end_time": "2021-11-08T12:03:27.885910Z",
     "start_time": "2021-11-08T12:03:27.780909Z"
    }
   },
   "outputs": [
    {
     "data": {
      "text/plain": [
       "2.519081294685937"
      ]
     },
     "execution_count": 116,
     "metadata": {},
     "output_type": "execute_result"
    }
   ],
   "source": [
    "metrics.liftN(df['target'], df['p_churn'], 0.05)"
   ]
  },
  {
   "cell_type": "code",
   "execution_count": 117,
   "metadata": {
    "ExecuteTime": {
     "end_time": "2021-11-08T12:03:28.008906Z",
     "start_time": "2021-11-08T12:03:27.889909Z"
    }
   },
   "outputs": [
    {
     "data": {
      "text/plain": [
       "[2.564655037052907,\n",
       " 2.418539014941893,\n",
       " 2.1267203306629034,\n",
       " 1.8638627559490868,\n",
       " 1.6290557813709337,\n",
       " 1.4191355404598403,\n",
       " 1.2480818075848659,\n",
       " 1.111484123653658,\n",
       " 1]"
      ]
     },
     "execution_count": 117,
     "metadata": {},
     "output_type": "execute_result"
    }
   ],
   "source": [
    "[metrics.liftN(df['target'], df['p_churn'],(x+1)/10) for x in range(1,10)]"
   ]
  },
  {
   "cell_type": "markdown",
   "metadata": {},
   "source": [
    "### KS score"
   ]
  },
  {
   "cell_type": "code",
   "execution_count": 118,
   "metadata": {
    "ExecuteTime": {
     "end_time": "2021-11-08T12:03:28.213165Z",
     "start_time": "2021-11-08T12:03:28.010906Z"
    }
   },
   "outputs": [
    {
     "data": {
      "text/plain": [
       "0.588206908879903"
      ]
     },
     "execution_count": 118,
     "metadata": {},
     "output_type": "execute_result"
    }
   ],
   "source": [
    "metrics.ks_score(df['target'], df['p_churn'])"
   ]
  },
  {
   "cell_type": "code",
   "execution_count": 119,
   "metadata": {
    "ExecuteTime": {
     "end_time": "2021-11-08T12:03:28.309119Z",
     "start_time": "2021-11-08T12:03:28.215694Z"
    }
   },
   "outputs": [],
   "source": [
    "#metrics.ks_score?"
   ]
  },
  {
   "cell_type": "markdown",
   "metadata": {},
   "source": [
    "## Curves and others"
   ]
  },
  {
   "cell_type": "markdown",
   "metadata": {},
   "source": [
    "### ROC curve"
   ]
  },
  {
   "cell_type": "code",
   "execution_count": 120,
   "metadata": {
    "ExecuteTime": {
     "end_time": "2021-11-08T12:03:28.418250Z",
     "start_time": "2021-11-08T12:03:28.311699Z"
    }
   },
   "outputs": [
    {
     "data": {
      "text/plain": [
       "(array([0.        , 0.        , 0.        , ..., 0.99788239, 0.99837107,\n",
       "        1.        ]),\n",
       " array([0.00000000e+00, 5.53403431e-04, 7.74764804e-03, ...,\n",
       "        1.00000000e+00, 1.00000000e+00, 1.00000000e+00]),\n",
       " array([2.0000000e+00, 1.0000000e+00, 9.9999814e-01, ..., 1.7253500e-04,\n",
       "        1.7186300e-04, 1.5661200e-04]))"
      ]
     },
     "execution_count": 120,
     "metadata": {},
     "output_type": "execute_result"
    }
   ],
   "source": [
    "metrics.roc_curve(df['target'], df['p_churn'])"
   ]
  },
  {
   "cell_type": "code",
   "execution_count": 121,
   "metadata": {
    "ExecuteTime": {
     "end_time": "2021-11-08T12:03:28.749620Z",
     "start_time": "2021-11-08T12:03:28.420249Z"
    }
   },
   "outputs": [
    {
     "data": {
      "image/png": "[encoded data removed]",
      "text/plain": [
       "<Figure size 432x288 with 1 Axes>"
      ]
     },
     "metadata": {
      "needs_background": "light"
     },
     "output_type": "display_data"
    }
   ],
   "source": [
    "from matplotlib import pyplot as plt\n",
    "_fpr, _tpr, _ = metrics.roc_curve(df['target'], df['p_churn'])\n",
    "\n",
    "# plot the roc curve for the model\n",
    "plt.plot(_fpr, _tpr, linestyle='-', color='red', label='Model 1')\n",
    "\n",
    "# axis labels\n",
    "plt.title('ROC curve')\n",
    "plt.xlim(-0.01,1.01)\n",
    "plt.ylim(-0.01,1.03)\n",
    "plt.xlabel('False Positive Rate')\n",
    "plt.ylabel('True Positive Rate')\n",
    "# show the legend\n",
    "plt.legend()\n",
    "# show the plot\n",
    "plt.show()"
   ]
  },
  {
   "cell_type": "code",
   "execution_count": 122,
   "metadata": {
    "ExecuteTime": {
     "end_time": "2021-11-08T12:03:28.861186Z",
     "start_time": "2021-11-08T12:03:28.752256Z"
    }
   },
   "outputs": [],
   "source": [
    "#metrics.roc_curve?"
   ]
  },
  {
   "cell_type": "markdown",
   "metadata": {},
   "source": [
    "### Lift curve"
   ]
  },
  {
   "cell_type": "code",
   "execution_count": 123,
   "metadata": {
    "ExecuteTime": {
     "end_time": "2021-11-08T12:03:28.973236Z",
     "start_time": "2021-11-08T12:03:28.863194Z"
    }
   },
   "outputs": [
    {
     "data": {
      "text/plain": [
       "[2.306531204644412,\n",
       " 2.564655037052907,\n",
       " 2.418539014941893,\n",
       " 2.1267203306629034,\n",
       " 1.8638627559490868,\n",
       " 1.6290557813709337,\n",
       " 1.4191355404598403,\n",
       " 1.2480818075848659,\n",
       " 1.111484123653658,\n",
       " 1]"
      ]
     },
     "execution_count": 123,
     "metadata": {},
     "output_type": "execute_result"
    }
   ],
   "source": [
    "[metrics.liftN(df['target'], df['p_churn'], x/10) for x in range (1,11)]"
   ]
  },
  {
   "cell_type": "code",
   "execution_count": 124,
   "metadata": {
    "ExecuteTime": {
     "end_time": "2021-11-08T12:03:29.273186Z",
     "start_time": "2021-11-08T12:03:28.975191Z"
    }
   },
   "outputs": [
    {
     "data": {
      "image/png": "[encoded data removed]",
      "text/plain": [
       "<Figure size 432x288 with 1 Axes>"
      ]
     },
     "metadata": {
      "needs_background": "light"
     },
     "output_type": "display_data"
    }
   ],
   "source": [
    "from matplotlib import pyplot as plt\n",
    "x= [(x/10) for x in range (1,11)]\n",
    "lift_curve = [metrics.liftN(df['target'], df['p_churn'], x/10) for x in range (1,11)]\n",
    "plt.plot(x, lift_curve, linestyle='-', color='red', label='Model 1')\n",
    "# axis labels\n",
    "plt.title('Lift curve')\n",
    "#plt.xlim(-0.01,1.01)\n",
    "#plt.ylim(-0.01,1.03)\n",
    "#plt.xlabel('False Positive Rate')\n",
    "#plt.ylabel('True Positive Rate')\n",
    "# show the legend\n",
    "plt.legend()\n",
    "# show the plot\n",
    "plt.show()"
   ]
  },
  {
   "cell_type": "markdown",
   "metadata": {},
   "source": [
    "### Precision-Recall curve"
   ]
  },
  {
   "cell_type": "code",
   "execution_count": 125,
   "metadata": {
    "ExecuteTime": {
     "end_time": "2021-11-08T12:03:29.385190Z",
     "start_time": "2021-11-08T12:03:29.275189Z"
    }
   },
   "outputs": [
    {
     "data": {
      "text/plain": [
       "(array([0.27778632, 0.27767528, 0.27771798, ..., 1.        , 1.        ,\n",
       "        1.        ]),\n",
       " array([1.00000000e+00, 9.99446597e-01, 9.99446597e-01, ...,\n",
       "        1.10680686e-03, 5.53403431e-04, 0.00000000e+00]),\n",
       " array([0.00209515, 0.00209674, 0.00209705, ..., 1.        , 1.        ,\n",
       "        1.        ]))"
      ]
     },
     "execution_count": 125,
     "metadata": {},
     "output_type": "execute_result"
    }
   ],
   "source": [
    "metrics.precision_recall_curve(df['target'], df['p_churn'])"
   ]
  },
  {
   "cell_type": "code",
   "execution_count": 126,
   "metadata": {
    "ExecuteTime": {
     "end_time": "2021-11-08T12:03:29.792180Z",
     "start_time": "2021-11-08T12:03:29.387185Z"
    }
   },
   "outputs": [
    {
     "data": {
      "image/png": "[encoded data removed]",
      "text/plain": [
       "<Figure size 432x288 with 1 Axes>"
      ]
     },
     "metadata": {
      "needs_background": "light"
     },
     "output_type": "display_data"
    }
   ],
   "source": [
    "from matplotlib import pyplot as plt\n",
    "\n",
    "\n",
    "f_scores = np.linspace(0.2, 0.8, num=4)\n",
    "lines = []\n",
    "labels = []\n",
    "for f_score in f_scores:\n",
    "    x = np.linspace(0.01, 1)\n",
    "    y = f_score * x / (2 * x - f_score)\n",
    "    l, = plt.plot(x[y >= 0], y[y >= 0], color='gray', alpha=0.2)\n",
    "    plt.annotate('f1={0:0.1f}'.format(f_score), xy=(0.9, y[45] + 0.02))\n",
    "lines.append(l)\n",
    "labels.append('iso-f1 curves')\n",
    "\n",
    "lr_precision, lr_recall, _ = metrics.precision_recall_curve(df['target'], df['p_churn'])\n",
    "# plot the precision-recall curves\n",
    "no_skill = len(df['target'][df['target']==1]) / len(df['target'])\n",
    "plt.plot([0, 1], [no_skill, no_skill], linestyle='--')\n",
    "l,=plt.plot(lr_recall, lr_precision,linestyle='-', color='red', label='Model 1')\n",
    "lines.append(l)\n",
    "labels.append('Model 1')\n",
    "# axis labels\n",
    "plt.title('Precision-Recall curve with iso-f1 curves')\n",
    "plt.xlabel('Recall')\n",
    "plt.ylabel('Precision')\n",
    "plt.xlim([0.0, 1.0])\n",
    "plt.ylim([0.0, 1.05])\n",
    "# show the legend\n",
    "plt.legend(lines,labels)\n",
    "# show the plot\n",
    "plt.show()\n"
   ]
  },
  {
   "cell_type": "markdown",
   "metadata": {},
   "source": [
    "# Basic Evaluators"
   ]
  },
  {
   "cell_type": "markdown",
   "metadata": {
    "ExecuteTime": {
     "end_time": "2020-12-17T19:31:46.233868Z",
     "start_time": "2020-12-17T19:31:45.976866Z"
    }
   },
   "source": [
    "## Lift Curve Evaluator"
   ]
  },
  {
   "cell_type": "code",
   "execution_count": 127,
   "metadata": {
    "ExecuteTime": {
     "end_time": "2021-11-08T12:03:29.888176Z",
     "start_time": "2021-11-08T12:03:29.794197Z"
    }
   },
   "outputs": [],
   "source": [
    "from mofr.basic_evaluators.LiftCurve import LiftCurveEvaluator\n",
    "\n",
    "lce=LiftCurveEvaluator()"
   ]
  },
  {
   "cell_type": "code",
   "execution_count": 128,
   "metadata": {
    "ExecuteTime": {
     "end_time": "2021-11-08T12:03:29.983219Z",
     "start_time": "2021-11-08T12:03:29.890177Z"
    }
   },
   "outputs": [
    {
     "data": {
      "text/plain": []
     },
     "execution_count": 128,
     "metadata": {},
     "output_type": "execute_result"
    }
   ],
   "source": [
    "lce.d(df).t([('target','target_obs')]).s(['p_churn', 'semi_random_score','random_score'])"
   ]
  },
  {
   "cell_type": "code",
   "execution_count": 129,
   "metadata": {
    "ExecuteTime": {
     "end_time": "2021-11-08T12:03:30.436248Z",
     "start_time": "2021-11-08T12:03:29.986177Z"
    }
   },
   "outputs": [
    {
     "data": {
      "image/png": "[encoded data removed]",
      "text/plain": [
       "<Figure size 504x576 with 1 Axes>"
      ]
     },
     "metadata": {
      "needs_background": "light"
     },
     "output_type": "display_data"
    },
    {
     "data": {
      "text/plain": []
     },
     "execution_count": 129,
     "metadata": {},
     "output_type": "execute_result"
    }
   ],
   "source": [
    "lce.get_graph()"
   ]
  },
  {
   "cell_type": "markdown",
   "metadata": {
    "ExecuteTime": {
     "end_time": "2020-12-17T19:32:52.905283Z",
     "start_time": "2020-12-17T19:32:52.814277Z"
    }
   },
   "source": [
    "## ROC Curve Evaluator"
   ]
  },
  {
   "cell_type": "code",
   "execution_count": 130,
   "metadata": {
    "ExecuteTime": {
     "end_time": "2021-11-08T12:03:30.545790Z",
     "start_time": "2021-11-08T12:03:30.438248Z"
    }
   },
   "outputs": [],
   "source": [
    "from mofr.basic_evaluators.ROCCurve import ROCCurveEvaluator\n",
    "\n",
    "rce=ROCCurveEvaluator()"
   ]
  },
  {
   "cell_type": "code",
   "execution_count": 131,
   "metadata": {
    "ExecuteTime": {
     "end_time": "2021-11-08T12:03:30.641812Z",
     "start_time": "2021-11-08T12:03:30.547786Z"
    }
   },
   "outputs": [
    {
     "data": {
      "text/plain": []
     },
     "execution_count": 131,
     "metadata": {},
     "output_type": "execute_result"
    }
   ],
   "source": [
    "rce.d(df).t([('target','target_obs')]).s(['p_churn', 'semi_random_score','random_score'])"
   ]
  },
  {
   "cell_type": "code",
   "execution_count": 132,
   "metadata": {
    "ExecuteTime": {
     "end_time": "2021-11-08T12:03:31.047779Z",
     "start_time": "2021-11-08T12:03:30.643780Z"
    }
   },
   "outputs": [
    {
     "data": {
      "image/png": "[encoded data removed]",
      "text/plain": [
       "<Figure size 504x576 with 1 Axes>"
      ]
     },
     "metadata": {
      "needs_background": "light"
     },
     "output_type": "display_data"
    },
    {
     "data": {
      "text/plain": []
     },
     "execution_count": 132,
     "metadata": {},
     "output_type": "execute_result"
    }
   ],
   "source": [
    "rce.get_graph()"
   ]
  },
  {
   "cell_type": "markdown",
   "metadata": {},
   "source": [
    "## PR Curve Evaluator"
   ]
  },
  {
   "cell_type": "code",
   "execution_count": 133,
   "metadata": {
    "ExecuteTime": {
     "end_time": "2021-11-08T12:03:31.159775Z",
     "start_time": "2021-11-08T12:03:31.049775Z"
    }
   },
   "outputs": [],
   "source": [
    "from mofr.basic_evaluators.PRCurve import PRCurveEvaluator\n",
    "\n",
    "prce=PRCurveEvaluator()"
   ]
  },
  {
   "cell_type": "code",
   "execution_count": 134,
   "metadata": {
    "ExecuteTime": {
     "end_time": "2021-11-08T12:03:31.269447Z",
     "start_time": "2021-11-08T12:03:31.161778Z"
    }
   },
   "outputs": [
    {
     "data": {
      "text/plain": []
     },
     "execution_count": 134,
     "metadata": {},
     "output_type": "execute_result"
    }
   ],
   "source": [
    "prce.d(df).t([('target','target_obs')]).s(['p_churn', 'semi_random_score','random_score'])"
   ]
  },
  {
   "cell_type": "code",
   "execution_count": 135,
   "metadata": {
    "ExecuteTime": {
     "end_time": "2021-11-08T12:03:31.729413Z",
     "start_time": "2021-11-08T12:03:31.271419Z"
    }
   },
   "outputs": [
    {
     "data": {
      "image/png": "[encoded data removed]",
      "text/plain": [
       "<Figure size 504x576 with 1 Axes>"
      ]
     },
     "metadata": {
      "needs_background": "light"
     },
     "output_type": "display_data"
    },
    {
     "data": {
      "text/plain": []
     },
     "execution_count": 135,
     "metadata": {},
     "output_type": "execute_result"
    }
   ],
   "source": [
    "prce.get_graph()"
   ]
  },
  {
   "cell_type": "code",
   "execution_count": 136,
   "metadata": {
    "ExecuteTime": {
     "end_time": "2021-11-08T12:03:32.284133Z",
     "start_time": "2021-11-08T12:03:31.733414Z"
    }
   },
   "outputs": [
    {
     "data": {
      "image/png": "[encoded data removed]",
      "text/plain": [
       "<Figure size 504x576 with 1 Axes>"
      ]
     },
     "metadata": {
      "needs_background": "light"
     },
     "output_type": "display_data"
    },
    {
     "data": {
      "text/plain": []
     },
     "execution_count": 136,
     "metadata": {},
     "output_type": "execute_result"
    }
   ],
   "source": [
    "prce.get_graph(isocurves='on')"
   ]
  },
  {
   "cell_type": "markdown",
   "metadata": {
    "ExecuteTime": {
     "end_time": "2021-02-05T10:03:05.945149Z",
     "start_time": "2021-02-05T10:03:05.854099Z"
    }
   },
   "source": [
    "## Gini in Time Evaluator"
   ]
  },
  {
   "cell_type": "code",
   "execution_count": 137,
   "metadata": {
    "ExecuteTime": {
     "end_time": "2021-11-08T12:03:32.392902Z",
     "start_time": "2021-11-08T12:03:32.288108Z"
    }
   },
   "outputs": [],
   "source": [
    "from mofr.basic_evaluators.GiniInTime import GiniInTimeEvaluator\n",
    "\n",
    "gite=GiniInTimeEvaluator()"
   ]
  },
  {
   "cell_type": "code",
   "execution_count": 138,
   "metadata": {
    "ExecuteTime": {
     "end_time": "2021-11-08T12:03:32.514904Z",
     "start_time": "2021-11-08T12:03:32.394856Z"
    }
   },
   "outputs": [
    {
     "data": {
      "text/plain": []
     },
     "execution_count": 138,
     "metadata": {},
     "output_type": "execute_result"
    }
   ],
   "source": [
    "gite.d(df).t([('target','target_obs')]).s(['p_churn', 'semi_random_score','random_score']).tc('month')"
   ]
  },
  {
   "cell_type": "code",
   "execution_count": 139,
   "metadata": {
    "ExecuteTime": {
     "end_time": "2021-11-08T12:03:32.892882Z",
     "start_time": "2021-11-08T12:03:32.516856Z"
    }
   },
   "outputs": [
    {
     "data": {
      "image/png": "[encoded data removed]",
      "text/plain": [
       "<Figure size 504x576 with 1 Axes>"
      ]
     },
     "metadata": {
      "needs_background": "light"
     },
     "output_type": "display_data"
    },
    {
     "data": {
      "text/plain": []
     },
     "execution_count": 139,
     "metadata": {},
     "output_type": "execute_result"
    }
   ],
   "source": [
    "gite.get_graph()"
   ]
  },
  {
   "cell_type": "code",
   "execution_count": 140,
   "metadata": {
    "ExecuteTime": {
     "end_time": "2021-11-08T12:03:33.114426Z",
     "start_time": "2021-11-08T12:03:32.894855Z"
    }
   },
   "outputs": [
    {
     "data": {
      "text/html": [
       "<style  type=\"text/css\" >\n",
       "</style><table id=\"T_e529af6e_408b_11ec_ac88_5c879c826b52\" style='display:inline'><caption>GINI on target \"target\"</caption><thead>    <tr>        <th class=\"blank level0\" ></th>        <th class=\"col_heading level0 col0\" >p_churn</th>        <th class=\"col_heading level0 col1\" >semi_random_score</th>        <th class=\"col_heading level0 col2\" >random_score</th>    </tr>    <tr>        <th class=\"index_name level0\" >month</th>        <th class=\"blank\" ></th>        <th class=\"blank\" ></th>        <th class=\"blank\" ></th>    </tr></thead><tbody>\n",
       "                <tr>\n",
       "                        <th id=\"T_e529af6e_408b_11ec_ac88_5c879c826b52level0_row0\" class=\"row_heading level0 row0\" >202001</th>\n",
       "                        <td id=\"T_e529af6e_408b_11ec_ac88_5c879c826b52row0_col0\" class=\"data row0 col0\" >0.703962</td>\n",
       "                        <td id=\"T_e529af6e_408b_11ec_ac88_5c879c826b52row0_col1\" class=\"data row0 col1\" >0.269275</td>\n",
       "                        <td id=\"T_e529af6e_408b_11ec_ac88_5c879c826b52row0_col2\" class=\"data row0 col2\" >0.004352</td>\n",
       "            </tr>\n",
       "            <tr>\n",
       "                        <th id=\"T_e529af6e_408b_11ec_ac88_5c879c826b52level0_row1\" class=\"row_heading level0 row1\" >202002</th>\n",
       "                        <td id=\"T_e529af6e_408b_11ec_ac88_5c879c826b52row1_col0\" class=\"data row1 col0\" >0.718035</td>\n",
       "                        <td id=\"T_e529af6e_408b_11ec_ac88_5c879c826b52row1_col1\" class=\"data row1 col1\" >0.284146</td>\n",
       "                        <td id=\"T_e529af6e_408b_11ec_ac88_5c879c826b52row1_col2\" class=\"data row1 col2\" >-0.008422</td>\n",
       "            </tr>\n",
       "            <tr>\n",
       "                        <th id=\"T_e529af6e_408b_11ec_ac88_5c879c826b52level0_row2\" class=\"row_heading level0 row2\" >202003</th>\n",
       "                        <td id=\"T_e529af6e_408b_11ec_ac88_5c879c826b52row2_col0\" class=\"data row2 col0\" >0.713909</td>\n",
       "                        <td id=\"T_e529af6e_408b_11ec_ac88_5c879c826b52row2_col1\" class=\"data row2 col1\" >0.274708</td>\n",
       "                        <td id=\"T_e529af6e_408b_11ec_ac88_5c879c826b52row2_col2\" class=\"data row2 col2\" >-0.019820</td>\n",
       "            </tr>\n",
       "            <tr>\n",
       "                        <th id=\"T_e529af6e_408b_11ec_ac88_5c879c826b52level0_row3\" class=\"row_heading level0 row3\" >All</th>\n",
       "                        <td id=\"T_e529af6e_408b_11ec_ac88_5c879c826b52row3_col0\" class=\"data row3 col0\" >0.712179</td>\n",
       "                        <td id=\"T_e529af6e_408b_11ec_ac88_5c879c826b52row3_col1\" class=\"data row3 col1\" >0.276618</td>\n",
       "                        <td id=\"T_e529af6e_408b_11ec_ac88_5c879c826b52row3_col2\" class=\"data row3 col2\" >-0.009285</td>\n",
       "            </tr>\n",
       "    </tbody></table>"
      ],
      "text/plain": [
       "<pandas.io.formats.style.Styler at 0x10cc290>"
      ]
     },
     "execution_count": 140,
     "metadata": {},
     "output_type": "execute_result"
    }
   ],
   "source": [
    "gite.get_table()\n",
    "gite.table"
   ]
  },
  {
   "cell_type": "markdown",
   "metadata": {
    "ExecuteTime": {
     "end_time": "2021-02-05T10:03:05.945149Z",
     "start_time": "2021-02-05T10:03:05.854099Z"
    }
   },
   "source": [
    "## Lift in Time Evaluator"
   ]
  },
  {
   "cell_type": "code",
   "execution_count": 141,
   "metadata": {
    "ExecuteTime": {
     "end_time": "2021-11-08T12:03:33.224556Z",
     "start_time": "2021-11-08T12:03:33.117433Z"
    }
   },
   "outputs": [],
   "source": [
    "from mofr.basic_evaluators.LiftInTime import LiftInTimeEvaluator\n",
    "\n",
    "lite=LiftInTimeEvaluator()"
   ]
  },
  {
   "cell_type": "code",
   "execution_count": 142,
   "metadata": {
    "ExecuteTime": {
     "end_time": "2021-11-08T12:03:33.333336Z",
     "start_time": "2021-11-08T12:03:33.227151Z"
    }
   },
   "outputs": [
    {
     "data": {
      "text/plain": []
     },
     "execution_count": 142,
     "metadata": {},
     "output_type": "execute_result"
    }
   ],
   "source": [
    "lite.d(df).t([('target','target_obs')]).s(['p_churn', 'semi_random_score','random_score']).tc('month')"
   ]
  },
  {
   "cell_type": "code",
   "execution_count": 143,
   "metadata": {
    "ExecuteTime": {
     "end_time": "2021-11-08T12:03:33.718373Z",
     "start_time": "2021-11-08T12:03:33.335450Z"
    }
   },
   "outputs": [
    {
     "data": {
      "image/png": "[encoded data removed]",
      "text/plain": [
       "<Figure size 504x576 with 1 Axes>"
      ]
     },
     "metadata": {
      "needs_background": "light"
     },
     "output_type": "display_data"
    },
    {
     "data": {
      "text/plain": []
     },
     "execution_count": 143,
     "metadata": {},
     "output_type": "execute_result"
    }
   ],
   "source": [
    "lite.get_graph()"
   ]
  },
  {
   "cell_type": "code",
   "execution_count": 144,
   "metadata": {
    "ExecuteTime": {
     "end_time": "2021-11-08T12:03:33.969338Z",
     "start_time": "2021-11-08T12:03:33.720341Z"
    }
   },
   "outputs": [
    {
     "data": {
      "text/html": [
       "<style  type=\"text/css\" >\n",
       "</style><table id=\"T_e5adbf94_408b_11ec_9bd1_5c879c826b52\" style='display:inline'><caption>Lift on target \"target\"</caption><thead>    <tr>        <th class=\"blank level0\" ></th>        <th class=\"col_heading level0 col0\" >p_churn</th>        <th class=\"col_heading level0 col1\" >semi_random_score</th>        <th class=\"col_heading level0 col2\" >random_score</th>    </tr>    <tr>        <th class=\"index_name level0\" >month</th>        <th class=\"blank\" ></th>        <th class=\"blank\" ></th>        <th class=\"blank\" ></th>    </tr></thead><tbody>\n",
       "                <tr>\n",
       "                        <th id=\"T_e5adbf94_408b_11ec_9bd1_5c879c826b52level0_row0\" class=\"row_heading level0 row0\" >202001</th>\n",
       "                        <td id=\"T_e5adbf94_408b_11ec_9bd1_5c879c826b52row0_col0\" class=\"data row0 col0\" >2.226463</td>\n",
       "                        <td id=\"T_e5adbf94_408b_11ec_9bd1_5c879c826b52row0_col1\" class=\"data row0 col1\" >1.798982</td>\n",
       "                        <td id=\"T_e5adbf94_408b_11ec_9bd1_5c879c826b52row0_col2\" class=\"data row0 col2\" >0.854962</td>\n",
       "            </tr>\n",
       "            <tr>\n",
       "                        <th id=\"T_e5adbf94_408b_11ec_9bd1_5c879c826b52level0_row1\" class=\"row_heading level0 row1\" >202002</th>\n",
       "                        <td id=\"T_e5adbf94_408b_11ec_9bd1_5c879c826b52row1_col0\" class=\"data row1 col0\" >2.412092</td>\n",
       "                        <td id=\"T_e5adbf94_408b_11ec_9bd1_5c879c826b52row1_col1\" class=\"data row1 col1\" >1.888414</td>\n",
       "                        <td id=\"T_e5adbf94_408b_11ec_9bd1_5c879c826b52row1_col2\" class=\"data row1 col2\" >0.825189</td>\n",
       "            </tr>\n",
       "            <tr>\n",
       "                        <th id=\"T_e5adbf94_408b_11ec_9bd1_5c879c826b52level0_row2\" class=\"row_heading level0 row2\" >202003</th>\n",
       "                        <td id=\"T_e5adbf94_408b_11ec_9bd1_5c879c826b52row2_col0\" class=\"data row2 col0\" >2.214489</td>\n",
       "                        <td id=\"T_e5adbf94_408b_11ec_9bd1_5c879c826b52row2_col1\" class=\"data row2 col1\" >1.551759</td>\n",
       "                        <td id=\"T_e5adbf94_408b_11ec_9bd1_5c879c826b52row2_col2\" class=\"data row2 col2\" >0.775879</td>\n",
       "            </tr>\n",
       "            <tr>\n",
       "                        <th id=\"T_e5adbf94_408b_11ec_9bd1_5c879c826b52level0_row3\" class=\"row_heading level0 row3\" >All</th>\n",
       "                        <td id=\"T_e5adbf94_408b_11ec_9bd1_5c879c826b52row3_col0\" class=\"data row3 col0\" >2.306531</td>\n",
       "                        <td id=\"T_e5adbf94_408b_11ec_9bd1_5c879c826b52row3_col1\" class=\"data row3 col1\" >1.736812</td>\n",
       "                        <td id=\"T_e5adbf94_408b_11ec_9bd1_5c879c826b52row3_col2\" class=\"data row3 col2\" >0.824156</td>\n",
       "            </tr>\n",
       "    </tbody></table>"
      ],
      "text/plain": [
       "<pandas.io.formats.style.Styler at 0x1aea9170>"
      ]
     },
     "execution_count": 144,
     "metadata": {},
     "output_type": "execute_result"
    }
   ],
   "source": [
    "lite.get_table()\n",
    "lite.table"
   ]
  },
  {
   "cell_type": "markdown",
   "metadata": {
    "ExecuteTime": {
     "end_time": "2021-02-05T10:03:05.945149Z",
     "start_time": "2021-02-05T10:03:05.854099Z"
    }
   },
   "source": [
    "## KS in Time Evaluator"
   ]
  },
  {
   "cell_type": "code",
   "execution_count": 145,
   "metadata": {
    "ExecuteTime": {
     "end_time": "2021-11-08T12:03:34.078198Z",
     "start_time": "2021-11-08T12:03:33.971341Z"
    }
   },
   "outputs": [],
   "source": [
    "from mofr.basic_evaluators.KSInTime import KSInTimeEvaluator\n",
    "\n",
    "kite=KSInTimeEvaluator()"
   ]
  },
  {
   "cell_type": "code",
   "execution_count": 146,
   "metadata": {
    "ExecuteTime": {
     "end_time": "2021-11-08T12:03:34.173407Z",
     "start_time": "2021-11-08T12:03:34.080199Z"
    }
   },
   "outputs": [
    {
     "data": {
      "text/plain": []
     },
     "execution_count": 146,
     "metadata": {},
     "output_type": "execute_result"
    }
   ],
   "source": [
    "kite.d(df).t([('target','target_obs')]).s(['p_churn', 'semi_random_score','random_score']).tc('month')"
   ]
  },
  {
   "cell_type": "code",
   "execution_count": 147,
   "metadata": {
    "ExecuteTime": {
     "end_time": "2021-11-08T12:03:34.727189Z",
     "start_time": "2021-11-08T12:03:34.176201Z"
    }
   },
   "outputs": [
    {
     "data": {
      "image/png": "[encoded data removed]",
      "text/plain": [
       "<Figure size 504x576 with 1 Axes>"
      ]
     },
     "metadata": {
      "needs_background": "light"
     },
     "output_type": "display_data"
    },
    {
     "data": {
      "text/plain": []
     },
     "execution_count": 147,
     "metadata": {},
     "output_type": "execute_result"
    }
   ],
   "source": [
    "kite.get_graph()"
   ]
  },
  {
   "cell_type": "code",
   "execution_count": 148,
   "metadata": {
    "ExecuteTime": {
     "end_time": "2021-11-08T12:03:35.328183Z",
     "start_time": "2021-11-08T12:03:34.729191Z"
    }
   },
   "outputs": [
    {
     "data": {
      "text/html": [
       "<style  type=\"text/css\" >\n",
       "</style><table id=\"T_e67b1ba2_408b_11ec_8f73_5c879c826b52\" style='display:inline'><caption>KS on target \"target\"</caption><thead>    <tr>        <th class=\"blank level0\" ></th>        <th class=\"col_heading level0 col0\" >p_churn</th>        <th class=\"col_heading level0 col1\" >semi_random_score</th>        <th class=\"col_heading level0 col2\" >random_score</th>    </tr>    <tr>        <th class=\"index_name level0\" >month</th>        <th class=\"blank\" ></th>        <th class=\"blank\" ></th>        <th class=\"blank\" ></th>    </tr></thead><tbody>\n",
       "                <tr>\n",
       "                        <th id=\"T_e67b1ba2_408b_11ec_8f73_5c879c826b52level0_row0\" class=\"row_heading level0 row0\" >202001</th>\n",
       "                        <td id=\"T_e67b1ba2_408b_11ec_8f73_5c879c826b52row0_col0\" class=\"data row0 col0\" >0.580619</td>\n",
       "                        <td id=\"T_e67b1ba2_408b_11ec_8f73_5c879c826b52row0_col1\" class=\"data row0 col1\" >0.211311</td>\n",
       "                        <td id=\"T_e67b1ba2_408b_11ec_8f73_5c879c826b52row0_col2\" class=\"data row0 col2\" >0.025442</td>\n",
       "            </tr>\n",
       "            <tr>\n",
       "                        <th id=\"T_e67b1ba2_408b_11ec_8f73_5c879c826b52level0_row1\" class=\"row_heading level0 row1\" >202002</th>\n",
       "                        <td id=\"T_e67b1ba2_408b_11ec_8f73_5c879c826b52row1_col0\" class=\"data row1 col0\" >0.591761</td>\n",
       "                        <td id=\"T_e67b1ba2_408b_11ec_8f73_5c879c826b52row1_col1\" class=\"data row1 col1\" >0.230499</td>\n",
       "                        <td id=\"T_e67b1ba2_408b_11ec_8f73_5c879c826b52row1_col2\" class=\"data row1 col2\" >0.047503</td>\n",
       "            </tr>\n",
       "            <tr>\n",
       "                        <th id=\"T_e67b1ba2_408b_11ec_8f73_5c879c826b52level0_row2\" class=\"row_heading level0 row2\" >202003</th>\n",
       "                        <td id=\"T_e67b1ba2_408b_11ec_8f73_5c879c826b52row2_col0\" class=\"data row2 col0\" >0.596971</td>\n",
       "                        <td id=\"T_e67b1ba2_408b_11ec_8f73_5c879c826b52row2_col1\" class=\"data row2 col1\" >0.211690</td>\n",
       "                        <td id=\"T_e67b1ba2_408b_11ec_8f73_5c879c826b52row2_col2\" class=\"data row2 col2\" >0.037627</td>\n",
       "            </tr>\n",
       "            <tr>\n",
       "                        <th id=\"T_e67b1ba2_408b_11ec_8f73_5c879c826b52level0_row3\" class=\"row_heading level0 row3\" >All</th>\n",
       "                        <td id=\"T_e67b1ba2_408b_11ec_8f73_5c879c826b52row3_col0\" class=\"data row3 col0\" >0.588207</td>\n",
       "                        <td id=\"T_e67b1ba2_408b_11ec_8f73_5c879c826b52row3_col1\" class=\"data row3 col1\" >0.212166</td>\n",
       "                        <td id=\"T_e67b1ba2_408b_11ec_8f73_5c879c826b52row3_col2\" class=\"data row3 col2\" >0.028631</td>\n",
       "            </tr>\n",
       "    </tbody></table>"
      ],
      "text/plain": [
       "<pandas.io.formats.style.Styler at 0x1c9aa350>"
      ]
     },
     "execution_count": 148,
     "metadata": {},
     "output_type": "execute_result"
    }
   ],
   "source": [
    "kite.get_table()\n",
    "kite.table"
   ]
  },
  {
   "cell_type": "markdown",
   "metadata": {
    "ExecuteTime": {
     "end_time": "2021-02-05T10:03:05.945149Z",
     "start_time": "2021-02-05T10:03:05.854099Z"
    }
   },
   "source": [
    "## StabilityInTimeCategorical Evaluator"
   ]
  },
  {
   "cell_type": "code",
   "execution_count": 149,
   "metadata": {
    "ExecuteTime": {
     "end_time": "2021-11-08T12:03:35.437226Z",
     "start_time": "2021-11-08T12:03:35.331224Z"
    }
   },
   "outputs": [],
   "source": [
    "df['categorical_predictor']=df['target_obs'].apply(lambda x: random.choice(['A','B','C', 'D', 'F', 'G', 'H']))"
   ]
  },
  {
   "cell_type": "code",
   "execution_count": 150,
   "metadata": {
    "ExecuteTime": {
     "end_time": "2021-11-08T12:03:35.533180Z",
     "start_time": "2021-11-08T12:03:35.439180Z"
    }
   },
   "outputs": [],
   "source": [
    "from mofr.basic_evaluators.StabilityInTimeCategorical import StabilityInTimeCategoricalEvaluator\n",
    "\n",
    "sitcae=StabilityInTimeCategoricalEvaluator()"
   ]
  },
  {
   "cell_type": "code",
   "execution_count": 151,
   "metadata": {
    "ExecuteTime": {
     "end_time": "2021-11-08T12:03:35.642177Z",
     "start_time": "2021-11-08T12:03:35.536180Z"
    }
   },
   "outputs": [
    {
     "data": {
      "text/plain": []
     },
     "execution_count": 151,
     "metadata": {},
     "output_type": "execute_result"
    }
   ],
   "source": [
    "sitcae.d(df).pc('categorical_predictor').tc('month')"
   ]
  },
  {
   "cell_type": "code",
   "execution_count": 152,
   "metadata": {
    "ExecuteTime": {
     "end_time": "2021-11-08T12:03:36.069647Z",
     "start_time": "2021-11-08T12:03:35.645182Z"
    }
   },
   "outputs": [
    {
     "data": {
      "image/png": "[encoded data removed]",
      "text/plain": [
       "<Figure size 504x576 with 1 Axes>"
      ]
     },
     "metadata": {
      "needs_background": "light"
     },
     "output_type": "display_data"
    },
    {
     "data": {
      "text/plain": []
     },
     "execution_count": 152,
     "metadata": {},
     "output_type": "execute_result"
    }
   ],
   "source": [
    "sitcae.get_graph()"
   ]
  },
  {
   "cell_type": "code",
   "execution_count": 153,
   "metadata": {
    "ExecuteTime": {
     "end_time": "2021-11-08T12:03:36.197602Z",
     "start_time": "2021-11-08T12:03:36.071603Z"
    }
   },
   "outputs": [
    {
     "data": {
      "text/html": [
       "<style  type=\"text/css\" >\n",
       "</style><table id=\"T_e6ff9ca6_408b_11ec_94a2_5c879c826b52\" style='display:inline'><caption>Distribution of predictor \"categorical_predictor\" in time</caption><thead>    <tr>        <th class=\"index_name level0\" >categorical_predictor</th>        <th class=\"col_heading level0 col0\" >A</th>        <th class=\"col_heading level0 col1\" >B</th>        <th class=\"col_heading level0 col2\" >C</th>        <th class=\"col_heading level0 col3\" >D</th>        <th class=\"col_heading level0 col4\" >F</th>        <th class=\"col_heading level0 col5\" >G</th>        <th class=\"col_heading level0 col6\" >H</th>    </tr>    <tr>        <th class=\"index_name level0\" >month</th>        <th class=\"blank\" ></th>        <th class=\"blank\" ></th>        <th class=\"blank\" ></th>        <th class=\"blank\" ></th>        <th class=\"blank\" ></th>        <th class=\"blank\" ></th>        <th class=\"blank\" ></th>    </tr></thead><tbody>\n",
       "                <tr>\n",
       "                        <th id=\"T_e6ff9ca6_408b_11ec_94a2_5c879c826b52level0_row0\" class=\"row_heading level0 row0\" >202001</th>\n",
       "                        <td id=\"T_e6ff9ca6_408b_11ec_94a2_5c879c826b52row0_col0\" class=\"data row0 col0\" >0.147441</td>\n",
       "                        <td id=\"T_e6ff9ca6_408b_11ec_94a2_5c879c826b52row0_col1\" class=\"data row0 col1\" >0.133690</td>\n",
       "                        <td id=\"T_e6ff9ca6_408b_11ec_94a2_5c879c826b52row0_col2\" class=\"data row0 col2\" >0.133690</td>\n",
       "                        <td id=\"T_e6ff9ca6_408b_11ec_94a2_5c879c826b52row0_col3\" class=\"data row0 col3\" >0.127578</td>\n",
       "                        <td id=\"T_e6ff9ca6_408b_11ec_94a2_5c879c826b52row0_col4\" class=\"data row0 col4\" >0.145913</td>\n",
       "                        <td id=\"T_e6ff9ca6_408b_11ec_94a2_5c879c826b52row0_col5\" class=\"data row0 col5\" >0.164629</td>\n",
       "                        <td id=\"T_e6ff9ca6_408b_11ec_94a2_5c879c826b52row0_col6\" class=\"data row0 col6\" >0.147059</td>\n",
       "            </tr>\n",
       "            <tr>\n",
       "                        <th id=\"T_e6ff9ca6_408b_11ec_94a2_5c879c826b52level0_row1\" class=\"row_heading level0 row1\" >202002</th>\n",
       "                        <td id=\"T_e6ff9ca6_408b_11ec_94a2_5c879c826b52row1_col0\" class=\"data row1 col0\" >0.145488</td>\n",
       "                        <td id=\"T_e6ff9ca6_408b_11ec_94a2_5c879c826b52row1_col1\" class=\"data row1 col1\" >0.141436</td>\n",
       "                        <td id=\"T_e6ff9ca6_408b_11ec_94a2_5c879c826b52row1_col2\" class=\"data row1 col2\" >0.150276</td>\n",
       "                        <td id=\"T_e6ff9ca6_408b_11ec_94a2_5c879c826b52row1_col3\" class=\"data row1 col3\" >0.137385</td>\n",
       "                        <td id=\"T_e6ff9ca6_408b_11ec_94a2_5c879c826b52row1_col4\" class=\"data row1 col4\" >0.135912</td>\n",
       "                        <td id=\"T_e6ff9ca6_408b_11ec_94a2_5c879c826b52row1_col5\" class=\"data row1 col5\" >0.146225</td>\n",
       "                        <td id=\"T_e6ff9ca6_408b_11ec_94a2_5c879c826b52row1_col6\" class=\"data row1 col6\" >0.143278</td>\n",
       "            </tr>\n",
       "            <tr>\n",
       "                        <th id=\"T_e6ff9ca6_408b_11ec_94a2_5c879c826b52level0_row2\" class=\"row_heading level0 row2\" >202003</th>\n",
       "                        <td id=\"T_e6ff9ca6_408b_11ec_94a2_5c879c826b52row2_col0\" class=\"data row2 col0\" >0.140069</td>\n",
       "                        <td id=\"T_e6ff9ca6_408b_11ec_94a2_5c879c826b52row2_col1\" class=\"data row2 col1\" >0.144279</td>\n",
       "                        <td id=\"T_e6ff9ca6_408b_11ec_94a2_5c879c826b52row2_col2\" class=\"data row2 col2\" >0.135094</td>\n",
       "                        <td id=\"T_e6ff9ca6_408b_11ec_94a2_5c879c826b52row2_col3\" class=\"data row2 col3\" >0.140452</td>\n",
       "                        <td id=\"T_e6ff9ca6_408b_11ec_94a2_5c879c826b52row2_col4\" class=\"data row2 col4\" >0.143513</td>\n",
       "                        <td id=\"T_e6ff9ca6_408b_11ec_94a2_5c879c826b52row2_col5\" class=\"data row2 col5\" >0.151933</td>\n",
       "                        <td id=\"T_e6ff9ca6_408b_11ec_94a2_5c879c826b52row2_col6\" class=\"data row2 col6\" >0.144661</td>\n",
       "            </tr>\n",
       "    </tbody></table>"
      ],
      "text/plain": [
       "<pandas.io.formats.style.Styler at 0x1de3ad70>"
      ]
     },
     "execution_count": 153,
     "metadata": {},
     "output_type": "execute_result"
    }
   ],
   "source": [
    "sitcae.get_table()\n",
    "sitcae.table"
   ]
  },
  {
   "cell_type": "markdown",
   "metadata": {
    "ExecuteTime": {
     "end_time": "2021-02-05T10:03:05.945149Z",
     "start_time": "2021-02-05T10:03:05.854099Z"
    }
   },
   "source": [
    "## StabilityInTimeContinuous Evaluator"
   ]
  },
  {
   "cell_type": "code",
   "execution_count": 154,
   "metadata": {
    "ExecuteTime": {
     "end_time": "2021-11-08T12:03:36.309038Z",
     "start_time": "2021-11-08T12:03:36.200619Z"
    }
   },
   "outputs": [],
   "source": [
    "from mofr.basic_evaluators.StabilityInTimeContinuous import StabilityInTimeContinuousEvaluator\n",
    "\n",
    "sitcoe=StabilityInTimeContinuousEvaluator()"
   ]
  },
  {
   "cell_type": "code",
   "execution_count": 155,
   "metadata": {
    "ExecuteTime": {
     "end_time": "2021-11-08T12:03:36.405117Z",
     "start_time": "2021-11-08T12:03:36.311621Z"
    }
   },
   "outputs": [
    {
     "data": {
      "text/plain": []
     },
     "execution_count": 155,
     "metadata": {},
     "output_type": "execute_result"
    }
   ],
   "source": [
    "sitcoe.d(df).pc('p_churn').tc('month')"
   ]
  },
  {
   "cell_type": "code",
   "execution_count": 156,
   "metadata": {
    "ExecuteTime": {
     "end_time": "2021-11-08T12:03:36.832615Z",
     "start_time": "2021-11-08T12:03:36.406618Z"
    }
   },
   "outputs": [
    {
     "data": {
      "image/png": "[encoded data removed]",
      "text/plain": [
       "<Figure size 504x576 with 1 Axes>"
      ]
     },
     "metadata": {
      "needs_background": "light"
     },
     "output_type": "display_data"
    },
    {
     "data": {
      "text/plain": []
     },
     "execution_count": 156,
     "metadata": {},
     "output_type": "execute_result"
    }
   ],
   "source": [
    "sitcoe.get_graph()"
   ]
  },
  {
   "cell_type": "code",
   "execution_count": 157,
   "metadata": {
    "ExecuteTime": {
     "end_time": "2021-11-08T12:03:37.032628Z",
     "start_time": "2021-11-08T12:03:36.845614Z"
    }
   },
   "outputs": [
    {
     "data": {
      "text/html": [
       "<style  type=\"text/css\" >\n",
       "</style><table id=\"T_e77f2d2c_408b_11ec_9836_5c879c826b52\" style='display:inline'><caption>Distribution of predictor \"p_churn\" in time</caption><thead>    <tr>        <th class=\"blank level0\" ></th>        <th class=\"col_heading level0 col0\" >percentile_10</th>        <th class=\"col_heading level0 col1\" >percentile_25</th>        <th class=\"col_heading level0 col2\" >percentile_50</th>        <th class=\"col_heading level0 col3\" >percentile_75</th>        <th class=\"col_heading level0 col4\" >percentile_90</th>    </tr>    <tr>        <th class=\"index_name level0\" >month</th>        <th class=\"blank\" ></th>        <th class=\"blank\" ></th>        <th class=\"blank\" ></th>        <th class=\"blank\" ></th>        <th class=\"blank\" ></th>    </tr></thead><tbody>\n",
       "                <tr>\n",
       "                        <th id=\"T_e77f2d2c_408b_11ec_9836_5c879c826b52level0_row0\" class=\"row_heading level0 row0\" >202001</th>\n",
       "                        <td id=\"T_e77f2d2c_408b_11ec_9836_5c879c826b52row0_col0\" class=\"data row0 col0\" >0.001159</td>\n",
       "                        <td id=\"T_e77f2d2c_408b_11ec_9836_5c879c826b52row0_col1\" class=\"data row0 col1\" >0.002970</td>\n",
       "                        <td id=\"T_e77f2d2c_408b_11ec_9836_5c879c826b52row0_col2\" class=\"data row0 col2\" >0.019971</td>\n",
       "                        <td id=\"T_e77f2d2c_408b_11ec_9836_5c879c826b52row0_col3\" class=\"data row0 col3\" >0.242803</td>\n",
       "                        <td id=\"T_e77f2d2c_408b_11ec_9836_5c879c826b52row0_col4\" class=\"data row0 col4\" >0.390822</td>\n",
       "            </tr>\n",
       "            <tr>\n",
       "                        <th id=\"T_e77f2d2c_408b_11ec_9836_5c879c826b52level0_row1\" class=\"row_heading level0 row1\" >202002</th>\n",
       "                        <td id=\"T_e77f2d2c_408b_11ec_9836_5c879c826b52row1_col0\" class=\"data row1 col0\" >0.001107</td>\n",
       "                        <td id=\"T_e77f2d2c_408b_11ec_9836_5c879c826b52row1_col1\" class=\"data row1 col1\" >0.003297</td>\n",
       "                        <td id=\"T_e77f2d2c_408b_11ec_9836_5c879c826b52row1_col2\" class=\"data row1 col2\" >0.023415</td>\n",
       "                        <td id=\"T_e77f2d2c_408b_11ec_9836_5c879c826b52row1_col3\" class=\"data row1 col3\" >0.254620</td>\n",
       "                        <td id=\"T_e77f2d2c_408b_11ec_9836_5c879c826b52row1_col4\" class=\"data row1 col4\" >0.433018</td>\n",
       "            </tr>\n",
       "            <tr>\n",
       "                        <th id=\"T_e77f2d2c_408b_11ec_9836_5c879c826b52level0_row2\" class=\"row_heading level0 row2\" >202003</th>\n",
       "                        <td id=\"T_e77f2d2c_408b_11ec_9836_5c879c826b52row2_col0\" class=\"data row2 col0\" >0.001163</td>\n",
       "                        <td id=\"T_e77f2d2c_408b_11ec_9836_5c879c826b52row2_col1\" class=\"data row2 col1\" >0.003234</td>\n",
       "                        <td id=\"T_e77f2d2c_408b_11ec_9836_5c879c826b52row2_col2\" class=\"data row2 col2\" >0.023521</td>\n",
       "                        <td id=\"T_e77f2d2c_408b_11ec_9836_5c879c826b52row2_col3\" class=\"data row2 col3\" >0.249456</td>\n",
       "                        <td id=\"T_e77f2d2c_408b_11ec_9836_5c879c826b52row2_col4\" class=\"data row2 col4\" >0.398711</td>\n",
       "            </tr>\n",
       "    </tbody></table>"
      ],
      "text/plain": [
       "<pandas.io.formats.style.Styler at 0x1de6db50>"
      ]
     },
     "execution_count": 157,
     "metadata": {},
     "output_type": "execute_result"
    }
   ],
   "source": [
    "sitcoe.get_table()\n",
    "sitcoe.table"
   ]
  },
  {
   "cell_type": "markdown",
   "metadata": {
    "ExecuteTime": {
     "end_time": "2021-02-05T10:03:05.945149Z",
     "start_time": "2021-02-05T10:03:05.854099Z"
    }
   },
   "source": [
    "## HistogramCategorical Evaluator"
   ]
  },
  {
   "cell_type": "code",
   "execution_count": 158,
   "metadata": {
    "ExecuteTime": {
     "end_time": "2021-11-08T12:03:37.175647Z",
     "start_time": "2021-11-08T12:03:37.039606Z"
    }
   },
   "outputs": [],
   "source": [
    "df['categorical_predictor']=df['target_obs'].apply(lambda x: random.choice(['A','B','C', 'D', 'F', 'G', 'H']))"
   ]
  },
  {
   "cell_type": "code",
   "execution_count": 159,
   "metadata": {
    "ExecuteTime": {
     "end_time": "2021-11-08T12:03:37.283606Z",
     "start_time": "2021-11-08T12:03:37.177611Z"
    }
   },
   "outputs": [],
   "source": [
    "from mofr.basic_evaluators.HistogramCategorical import HistogramCategoricalEvaluator\n",
    "\n",
    "hcae=HistogramCategoricalEvaluator()"
   ]
  },
  {
   "cell_type": "code",
   "execution_count": 160,
   "metadata": {
    "ExecuteTime": {
     "end_time": "2021-11-08T12:03:37.379639Z",
     "start_time": "2021-11-08T12:03:37.285645Z"
    }
   },
   "outputs": [
    {
     "data": {
      "text/plain": []
     },
     "execution_count": 160,
     "metadata": {},
     "output_type": "execute_result"
    }
   ],
   "source": [
    "hcae.d(df).pc('categorical_predictor')"
   ]
  },
  {
   "cell_type": "code",
   "execution_count": 161,
   "metadata": {
    "ExecuteTime": {
     "end_time": "2021-11-08T12:03:37.752082Z",
     "start_time": "2021-11-08T12:03:37.383610Z"
    }
   },
   "outputs": [
    {
     "data": {
      "image/png": "[encoded data removed]",
      "text/plain": [
       "<Figure size 504x576 with 1 Axes>"
      ]
     },
     "metadata": {
      "needs_background": "light"
     },
     "output_type": "display_data"
    },
    {
     "data": {
      "text/plain": []
     },
     "execution_count": 161,
     "metadata": {},
     "output_type": "execute_result"
    }
   ],
   "source": [
    "hcae.get_graph()"
   ]
  },
  {
   "cell_type": "code",
   "execution_count": 162,
   "metadata": {
    "ExecuteTime": {
     "end_time": "2021-11-08T12:03:37.864037Z",
     "start_time": "2021-11-08T12:03:37.754040Z"
    }
   },
   "outputs": [
    {
     "data": {
      "text/html": [
       "<div>\n",
       "<style scoped>\n",
       "    .dataframe tbody tr th:only-of-type {\n",
       "        vertical-align: middle;\n",
       "    }\n",
       "\n",
       "    .dataframe tbody tr th {\n",
       "        vertical-align: top;\n",
       "    }\n",
       "\n",
       "    .dataframe thead th {\n",
       "        text-align: right;\n",
       "    }\n",
       "</style>\n",
       "<table border=\"1\" class=\"dataframe\">\n",
       "  <thead>\n",
       "    <tr style=\"text-align: right;\">\n",
       "      <th></th>\n",
       "      <th>categorical_predictor %</th>\n",
       "      <th>categorical_predictor</th>\n",
       "    </tr>\n",
       "  </thead>\n",
       "  <tbody>\n",
       "    <tr>\n",
       "      <th>D</th>\n",
       "      <td>0.152907</td>\n",
       "      <td>1215</td>\n",
       "    </tr>\n",
       "    <tr>\n",
       "      <th>H</th>\n",
       "      <td>0.143720</td>\n",
       "      <td>1142</td>\n",
       "    </tr>\n",
       "    <tr>\n",
       "      <th>C</th>\n",
       "      <td>0.143594</td>\n",
       "      <td>1141</td>\n",
       "    </tr>\n",
       "    <tr>\n",
       "      <th>G</th>\n",
       "      <td>0.142084</td>\n",
       "      <td>1129</td>\n",
       "    </tr>\n",
       "    <tr>\n",
       "      <th>B</th>\n",
       "      <td>0.140951</td>\n",
       "      <td>1120</td>\n",
       "    </tr>\n",
       "    <tr>\n",
       "      <th>F</th>\n",
       "      <td>0.139441</td>\n",
       "      <td>1108</td>\n",
       "    </tr>\n",
       "    <tr>\n",
       "      <th>A</th>\n",
       "      <td>0.137302</td>\n",
       "      <td>1091</td>\n",
       "    </tr>\n",
       "  </tbody>\n",
       "</table>\n",
       "</div>"
      ],
      "text/plain": [
       "   categorical_predictor %  categorical_predictor\n",
       "D                 0.152907                   1215\n",
       "H                 0.143720                   1142\n",
       "C                 0.143594                   1141\n",
       "G                 0.142084                   1129\n",
       "B                 0.140951                   1120\n",
       "F                 0.139441                   1108\n",
       "A                 0.137302                   1091"
      ]
     },
     "execution_count": 162,
     "metadata": {},
     "output_type": "execute_result"
    }
   ],
   "source": [
    "hcae.get_table()\n",
    "pd.DataFrame(hcae.table)"
   ]
  },
  {
   "cell_type": "markdown",
   "metadata": {
    "ExecuteTime": {
     "end_time": "2021-02-05T10:03:05.945149Z",
     "start_time": "2021-02-05T10:03:05.854099Z"
    }
   },
   "source": [
    "## HistogramContinuous Evaluator"
   ]
  },
  {
   "cell_type": "code",
   "execution_count": 163,
   "metadata": {
    "ExecuteTime": {
     "end_time": "2021-11-08T12:03:37.972370Z",
     "start_time": "2021-11-08T12:03:37.868040Z"
    }
   },
   "outputs": [],
   "source": [
    "from mofr.basic_evaluators.HistogramContinuous import HistogramContinuousEvaluator\n",
    "\n",
    "hcoe=HistogramContinuousEvaluator()"
   ]
  },
  {
   "cell_type": "code",
   "execution_count": 164,
   "metadata": {
    "ExecuteTime": {
     "end_time": "2021-11-08T12:03:38.066061Z",
     "start_time": "2021-11-08T12:03:37.974035Z"
    }
   },
   "outputs": [
    {
     "data": {
      "text/plain": []
     },
     "execution_count": 164,
     "metadata": {},
     "output_type": "execute_result"
    }
   ],
   "source": [
    "hcoe.d(df).pc('p_churn')"
   ]
  },
  {
   "cell_type": "code",
   "execution_count": 165,
   "metadata": {
    "ExecuteTime": {
     "end_time": "2021-11-08T12:03:38.395864Z",
     "start_time": "2021-11-08T12:03:38.069033Z"
    },
    "scrolled": false
   },
   "outputs": [
    {
     "data": {
      "image/png": "[encoded data removed]",
      "text/plain": [
       "<Figure size 504x576 with 1 Axes>"
      ]
     },
     "metadata": {
      "needs_background": "light"
     },
     "output_type": "display_data"
    },
    {
     "data": {
      "text/plain": []
     },
     "execution_count": 165,
     "metadata": {},
     "output_type": "execute_result"
    }
   ],
   "source": [
    "hcoe.get_graph()"
   ]
  },
  {
   "cell_type": "code",
   "execution_count": 166,
   "metadata": {
    "ExecuteTime": {
     "end_time": "2021-11-08T12:03:38.552495Z",
     "start_time": "2021-11-08T12:03:38.398455Z"
    },
    "scrolled": true
   },
   "outputs": [
    {
     "data": {
      "text/html": [
       "<style  type=\"text/css\" >\n",
       "</style><table id=\"T_e8673d18_408b_11ec_9c27_5c879c826b52\" style='display:inline'><caption>Percentiles of predictor \"p_churn\"</caption><thead>    <tr>        <th class=\"index_name level0\" ></th>        <th class=\"col_heading level0 col0\" >p_churn</th>    </tr></thead><tbody>\n",
       "                <tr>\n",
       "                        <th id=\"T_e8673d18_408b_11ec_9c27_5c879c826b52level0_row0\" class=\"row_heading level0 row0\" >percentile_10</th>\n",
       "                        <td id=\"T_e8673d18_408b_11ec_9c27_5c879c826b52row0_col0\" class=\"data row0 col0\" >0.001139</td>\n",
       "            </tr>\n",
       "            <tr>\n",
       "                        <th id=\"T_e8673d18_408b_11ec_9c27_5c879c826b52level0_row1\" class=\"row_heading level0 row1\" >percentile_25</th>\n",
       "                        <td id=\"T_e8673d18_408b_11ec_9c27_5c879c826b52row1_col0\" class=\"data row1 col0\" >0.003166</td>\n",
       "            </tr>\n",
       "            <tr>\n",
       "                        <th id=\"T_e8673d18_408b_11ec_9c27_5c879c826b52level0_row2\" class=\"row_heading level0 row2\" >percentile_50</th>\n",
       "                        <td id=\"T_e8673d18_408b_11ec_9c27_5c879c826b52row2_col0\" class=\"data row2 col0\" >0.021627</td>\n",
       "            </tr>\n",
       "            <tr>\n",
       "                        <th id=\"T_e8673d18_408b_11ec_9c27_5c879c826b52level0_row3\" class=\"row_heading level0 row3\" >percentile_75</th>\n",
       "                        <td id=\"T_e8673d18_408b_11ec_9c27_5c879c826b52row3_col0\" class=\"data row3 col0\" >0.247600</td>\n",
       "            </tr>\n",
       "            <tr>\n",
       "                        <th id=\"T_e8673d18_408b_11ec_9c27_5c879c826b52level0_row4\" class=\"row_heading level0 row4\" >percentile_90</th>\n",
       "                        <td id=\"T_e8673d18_408b_11ec_9c27_5c879c826b52row4_col0\" class=\"data row4 col0\" >0.401849</td>\n",
       "            </tr>\n",
       "    </tbody></table>"
      ],
      "text/plain": [
       "<pandas.io.formats.style.Styler at 0x1cbfab50>"
      ]
     },
     "execution_count": 166,
     "metadata": {},
     "output_type": "execute_result"
    }
   ],
   "source": [
    "hcoe.get_table()\n",
    "hcoe.table"
   ]
  },
  {
   "cell_type": "markdown",
   "metadata": {
    "ExecuteTime": {
     "end_time": "2021-02-05T10:03:05.945149Z",
     "start_time": "2021-02-05T10:03:05.854099Z"
    }
   },
   "source": [
    "## TargetAssociationCategorical Evaluator"
   ]
  },
  {
   "cell_type": "code",
   "execution_count": 183,
   "metadata": {
    "ExecuteTime": {
     "end_time": "2021-11-08T12:37:36.465052Z",
     "start_time": "2021-11-08T12:37:36.330820Z"
    }
   },
   "outputs": [],
   "source": [
    "df['categorical_predictor']=df['target_obs'].apply(lambda x: random.choice(['A','B','C', 'D', 'F', 'G', 'H', np.nan]))"
   ]
  },
  {
   "cell_type": "code",
   "execution_count": 177,
   "metadata": {
    "ExecuteTime": {
     "end_time": "2021-11-08T12:35:51.146564Z",
     "start_time": "2021-11-08T12:35:51.042468Z"
    }
   },
   "outputs": [],
   "source": [
    "from mofr.basic_evaluators.TargetAssociationCategorical import TargetAssociationCategoricalEvaluator\n",
    "\n",
    "tacae=TargetAssociationCategoricalEvaluator()"
   ]
  },
  {
   "cell_type": "code",
   "execution_count": 178,
   "metadata": {
    "ExecuteTime": {
     "end_time": "2021-11-08T12:35:51.537451Z",
     "start_time": "2021-11-08T12:35:51.428441Z"
    }
   },
   "outputs": [
    {
     "data": {
      "text/plain": []
     },
     "execution_count": 178,
     "metadata": {},
     "output_type": "execute_result"
    }
   ],
   "source": [
    "tacae.d(df).t([('target', 'target_obs')]).pc('categorical_predictor').tc('month')"
   ]
  },
  {
   "cell_type": "code",
   "execution_count": 180,
   "metadata": {
    "ExecuteTime": {
     "end_time": "2021-11-08T12:36:20.052497Z",
     "start_time": "2021-11-08T12:36:19.623142Z"
    }
   },
   "outputs": [
    {
     "data": {
      "image/png": "[encoded data removed]",
      "text/plain": [
       "<Figure size 504x576 with 1 Axes>"
      ]
     },
     "metadata": {
      "needs_background": "light"
     },
     "output_type": "display_data"
    },
    {
     "data": {
      "text/plain": []
     },
     "execution_count": 180,
     "metadata": {},
     "output_type": "execute_result"
    }
   ],
   "source": [
    "tacae.get_graph()"
   ]
  },
  {
   "cell_type": "code",
   "execution_count": 182,
   "metadata": {
    "ExecuteTime": {
     "end_time": "2021-11-08T12:37:04.166578Z",
     "start_time": "2021-11-08T12:37:04.010579Z"
    }
   },
   "outputs": [
    {
     "data": {
      "text/html": [
       "<style  type=\"text/css\" >\n",
       "</style><table id=\"T_93d93176_4090_11ec_a5bb_5c879c826b52\" style='display:inline'><caption>Target association (default rate) of predictor \"categorical_predictor\" in time</caption><thead>    <tr>        <th class=\"index_name level0\" >categorical_predictor</th>        <th class=\"col_heading level0 col0\" >A</th>        <th class=\"col_heading level0 col1\" >B</th>        <th class=\"col_heading level0 col2\" >C</th>        <th class=\"col_heading level0 col3\" >D</th>        <th class=\"col_heading level0 col4\" >F</th>        <th class=\"col_heading level0 col5\" >G</th>        <th class=\"col_heading level0 col6\" >H</th>    </tr>    <tr>        <th class=\"index_name level0\" >month</th>        <th class=\"blank\" ></th>        <th class=\"blank\" ></th>        <th class=\"blank\" ></th>        <th class=\"blank\" ></th>        <th class=\"blank\" ></th>        <th class=\"blank\" ></th>        <th class=\"blank\" ></th>    </tr></thead><tbody>\n",
       "                <tr>\n",
       "                        <th id=\"T_93d93176_4090_11ec_a5bb_5c879c826b52level0_row0\" class=\"row_heading level0 row0\" >202001</th>\n",
       "                        <td id=\"T_93d93176_4090_11ec_a5bb_5c879c826b52row0_col0\" class=\"data row0 col0\" >0.122995</td>\n",
       "                        <td id=\"T_93d93176_4090_11ec_a5bb_5c879c826b52row0_col1\" class=\"data row0 col1\" >0.137255</td>\n",
       "                        <td id=\"T_93d93176_4090_11ec_a5bb_5c879c826b52row0_col2\" class=\"data row0 col2\" >0.155080</td>\n",
       "                        <td id=\"T_93d93176_4090_11ec_a5bb_5c879c826b52row0_col3\" class=\"data row0 col3\" >0.146168</td>\n",
       "                        <td id=\"T_93d93176_4090_11ec_a5bb_5c879c826b52row0_col4\" class=\"data row0 col4\" >0.171123</td>\n",
       "                        <td id=\"T_93d93176_4090_11ec_a5bb_5c879c826b52row0_col5\" class=\"data row0 col5\" >0.122995</td>\n",
       "                        <td id=\"T_93d93176_4090_11ec_a5bb_5c879c826b52row0_col6\" class=\"data row0 col6\" >0.144385</td>\n",
       "            </tr>\n",
       "            <tr>\n",
       "                        <th id=\"T_93d93176_4090_11ec_a5bb_5c879c826b52level0_row1\" class=\"row_heading level0 row1\" >202002</th>\n",
       "                        <td id=\"T_93d93176_4090_11ec_a5bb_5c879c826b52row1_col0\" class=\"data row1 col0\" >0.147854</td>\n",
       "                        <td id=\"T_93d93176_4090_11ec_a5bb_5c879c826b52row1_col1\" class=\"data row1 col1\" >0.149444</td>\n",
       "                        <td id=\"T_93d93176_4090_11ec_a5bb_5c879c826b52row1_col2\" class=\"data row1 col2\" >0.127186</td>\n",
       "                        <td id=\"T_93d93176_4090_11ec_a5bb_5c879c826b52row1_col3\" class=\"data row1 col3\" >0.133545</td>\n",
       "                        <td id=\"T_93d93176_4090_11ec_a5bb_5c879c826b52row1_col4\" class=\"data row1 col4\" >0.131955</td>\n",
       "                        <td id=\"T_93d93176_4090_11ec_a5bb_5c879c826b52row1_col5\" class=\"data row1 col5\" >0.154213</td>\n",
       "                        <td id=\"T_93d93176_4090_11ec_a5bb_5c879c826b52row1_col6\" class=\"data row1 col6\" >0.155803</td>\n",
       "            </tr>\n",
       "            <tr>\n",
       "                        <th id=\"T_93d93176_4090_11ec_a5bb_5c879c826b52level0_row2\" class=\"row_heading level0 row2\" >202003</th>\n",
       "                        <td id=\"T_93d93176_4090_11ec_a5bb_5c879c826b52row2_col0\" class=\"data row2 col0\" >0.152350</td>\n",
       "                        <td id=\"T_93d93176_4090_11ec_a5bb_5c879c826b52row2_col1\" class=\"data row2 col1\" >0.139384</td>\n",
       "                        <td id=\"T_93d93176_4090_11ec_a5bb_5c879c826b52row2_col2\" class=\"data row2 col2\" >0.142626</td>\n",
       "                        <td id=\"T_93d93176_4090_11ec_a5bb_5c879c826b52row2_col3\" class=\"data row2 col3\" >0.152350</td>\n",
       "                        <td id=\"T_93d93176_4090_11ec_a5bb_5c879c826b52row2_col4\" class=\"data row2 col4\" >0.147488</td>\n",
       "                        <td id=\"T_93d93176_4090_11ec_a5bb_5c879c826b52row2_col5\" class=\"data row2 col5\" >0.134522</td>\n",
       "                        <td id=\"T_93d93176_4090_11ec_a5bb_5c879c826b52row2_col6\" class=\"data row2 col6\" >0.131280</td>\n",
       "            </tr>\n",
       "            <tr>\n",
       "                        <th id=\"T_93d93176_4090_11ec_a5bb_5c879c826b52level0_row3\" class=\"row_heading level0 row3\" >All</th>\n",
       "                        <td id=\"T_93d93176_4090_11ec_a5bb_5c879c826b52row3_col0\" class=\"data row3 col0\" >0.141671</td>\n",
       "                        <td id=\"T_93d93176_4090_11ec_a5bb_5c879c826b52row3_col1\" class=\"data row3 col1\" >0.142225</td>\n",
       "                        <td id=\"T_93d93176_4090_11ec_a5bb_5c879c826b52row3_col2\" class=\"data row3 col2\" >0.141118</td>\n",
       "                        <td id=\"T_93d93176_4090_11ec_a5bb_5c879c826b52row3_col3\" class=\"data row3 col3\" >0.143885</td>\n",
       "                        <td id=\"T_93d93176_4090_11ec_a5bb_5c879c826b52row3_col4\" class=\"data row3 col4\" >0.149419</td>\n",
       "                        <td id=\"T_93d93176_4090_11ec_a5bb_5c879c826b52row3_col5\" class=\"data row3 col5\" >0.137797</td>\n",
       "                        <td id=\"T_93d93176_4090_11ec_a5bb_5c879c826b52row3_col6\" class=\"data row3 col6\" >0.143885</td>\n",
       "            </tr>\n",
       "    </tbody></table>"
      ],
      "text/plain": [
       "<pandas.io.formats.style.Styler at 0x1dfdef50>"
      ]
     },
     "execution_count": 182,
     "metadata": {},
     "output_type": "execute_result"
    }
   ],
   "source": [
    "tacae.get_table()\n",
    "tacae.table"
   ]
  },
  {
   "cell_type": "markdown",
   "metadata": {
    "ExecuteTime": {
     "end_time": "2021-02-05T10:03:05.945149Z",
     "start_time": "2021-02-05T10:03:05.854099Z"
    }
   },
   "source": [
    "## TargetAssociationContinuous Evaluator"
   ]
  },
  {
   "cell_type": "code",
   "execution_count": null,
   "metadata": {},
   "outputs": [],
   "source": []
  },
  {
   "cell_type": "markdown",
   "metadata": {},
   "source": [
    "# Misc"
   ]
  },
  {
   "cell_type": "code",
   "execution_count": 167,
   "metadata": {
    "ExecuteTime": {
     "end_time": "2021-11-08T12:03:38.678012Z",
     "start_time": "2021-11-08T12:03:38.554454Z"
    }
   },
   "outputs": [],
   "source": [
    "df['categorical_predictor']=df['target_obs'].apply(lambda x: random.choice(['A','B','C', 'D', 'F', 'G', 'H']))"
   ]
  },
  {
   "cell_type": "code",
   "execution_count": 168,
   "metadata": {
    "ExecuteTime": {
     "end_time": "2021-11-08T12:03:38.854390Z",
     "start_time": "2021-11-08T12:03:38.679947Z"
    }
   },
   "outputs": [
    {
     "data": {
      "text/html": [
       "<div>\n",
       "<style scoped>\n",
       "    .dataframe tbody tr th:only-of-type {\n",
       "        vertical-align: middle;\n",
       "    }\n",
       "\n",
       "    .dataframe tbody tr th {\n",
       "        vertical-align: top;\n",
       "    }\n",
       "\n",
       "    .dataframe thead th {\n",
       "        text-align: right;\n",
       "    }\n",
       "</style>\n",
       "<table border=\"1\" class=\"dataframe\">\n",
       "  <thead>\n",
       "    <tr style=\"text-align: right;\">\n",
       "      <th>categorical_predictor</th>\n",
       "      <th>A</th>\n",
       "      <th>B</th>\n",
       "      <th>C</th>\n",
       "      <th>D</th>\n",
       "      <th>F</th>\n",
       "      <th>G</th>\n",
       "      <th>H</th>\n",
       "    </tr>\n",
       "    <tr>\n",
       "      <th>month</th>\n",
       "      <th></th>\n",
       "      <th></th>\n",
       "      <th></th>\n",
       "      <th></th>\n",
       "      <th></th>\n",
       "      <th></th>\n",
       "      <th></th>\n",
       "    </tr>\n",
       "  </thead>\n",
       "  <tbody>\n",
       "    <tr>\n",
       "      <th>202001</th>\n",
       "      <td>0.137255</td>\n",
       "      <td>0.115865</td>\n",
       "      <td>0.171123</td>\n",
       "      <td>0.139037</td>\n",
       "      <td>0.133690</td>\n",
       "      <td>0.155080</td>\n",
       "      <td>0.147950</td>\n",
       "    </tr>\n",
       "    <tr>\n",
       "      <th>202002</th>\n",
       "      <td>0.138315</td>\n",
       "      <td>0.157393</td>\n",
       "      <td>0.144674</td>\n",
       "      <td>0.149444</td>\n",
       "      <td>0.152623</td>\n",
       "      <td>0.147854</td>\n",
       "      <td>0.109698</td>\n",
       "    </tr>\n",
       "    <tr>\n",
       "      <th>202003</th>\n",
       "      <td>0.126418</td>\n",
       "      <td>0.126418</td>\n",
       "      <td>0.150729</td>\n",
       "      <td>0.116694</td>\n",
       "      <td>0.175041</td>\n",
       "      <td>0.142626</td>\n",
       "      <td>0.162075</td>\n",
       "    </tr>\n",
       "    <tr>\n",
       "      <th>All</th>\n",
       "      <td>0.133924</td>\n",
       "      <td>0.133924</td>\n",
       "      <td>0.154953</td>\n",
       "      <td>0.135030</td>\n",
       "      <td>0.154400</td>\n",
       "      <td>0.148312</td>\n",
       "      <td>0.139458</td>\n",
       "    </tr>\n",
       "  </tbody>\n",
       "</table>\n",
       "</div>"
      ],
      "text/plain": [
       "categorical_predictor         A         B         C         D         F  \\\n",
       "month                                                                     \n",
       "202001                 0.137255  0.115865  0.171123  0.139037  0.133690   \n",
       "202002                 0.138315  0.157393  0.144674  0.149444  0.152623   \n",
       "202003                 0.126418  0.126418  0.150729  0.116694  0.175041   \n",
       "All                    0.133924  0.133924  0.154953  0.135030  0.154400   \n",
       "\n",
       "categorical_predictor         G         H  \n",
       "month                                      \n",
       "202001                 0.155080  0.147950  \n",
       "202002                 0.147854  0.109698  \n",
       "202003                 0.142626  0.162075  \n",
       "All                    0.148312  0.139458  "
      ]
     },
     "execution_count": 168,
     "metadata": {},
     "output_type": "execute_result"
    }
   ],
   "source": [
    "pd.crosstab(index=df['categorical_predictor'], columns=df['month'], values=df['target'], rownames=None, colnames=None, aggfunc=sum, margins=True, margins_name='All', dropna=True, normalize='columns').transpose()"
   ]
  },
  {
   "cell_type": "code",
   "execution_count": 169,
   "metadata": {
    "ExecuteTime": {
     "end_time": "2021-11-08T12:03:39.133939Z",
     "start_time": "2021-11-08T12:03:38.855946Z"
    }
   },
   "outputs": [
    {
     "data": {
      "text/plain": [
       "<matplotlib.axes._subplots.AxesSubplot at 0x10a2410>"
      ]
     },
     "execution_count": 169,
     "metadata": {},
     "output_type": "execute_result"
    },
    {
     "data": {
      "image/png": "[encoded data removed]",
      "text/plain": [
       "<Figure size 432x288 with 1 Axes>"
      ]
     },
     "metadata": {
      "needs_background": "light"
     },
     "output_type": "display_data"
    }
   ],
   "source": [
    "df['categorical_predictor'].value_counts(dropna=False, normalize=True).plot.bar(color=['navy', 'turquoise', 'darkorange', 'cornflowerblue', 'teal'])"
   ]
  },
  {
   "cell_type": "code",
   "execution_count": 170,
   "metadata": {
    "ExecuteTime": {
     "end_time": "2021-11-08T12:03:39.241658Z",
     "start_time": "2021-11-08T12:03:39.135939Z"
    }
   },
   "outputs": [
    {
     "data": {
      "text/plain": [
       "G    0.150390\n",
       "A    0.148880\n",
       "B    0.141455\n",
       "F    0.141077\n",
       "H    0.140574\n",
       "C    0.139567\n",
       "D    0.138057\n",
       "Name: categorical_predictor, dtype: float64"
      ]
     },
     "execution_count": 170,
     "metadata": {},
     "output_type": "execute_result"
    }
   ],
   "source": [
    "a=df['categorical_predictor'].value_counts(dropna=False, normalize=True)\n",
    "a"
   ]
  },
  {
   "cell_type": "code",
   "execution_count": 171,
   "metadata": {
    "ExecuteTime": {
     "end_time": "2021-11-08T12:03:39.555040Z",
     "start_time": "2021-11-08T12:03:39.243272Z"
    }
   },
   "outputs": [
    {
     "data": {
      "image/png": "[encoded data removed]",
      "text/plain": [
       "<Figure size 504x576 with 1 Axes>"
      ]
     },
     "metadata": {
      "needs_background": "light"
     },
     "output_type": "display_data"
    }
   ],
   "source": [
    "import numpy as np\n",
    "import matplotlib.pyplot as plt\n",
    "\n",
    "plt.figure(figsize=(7, 8))\n",
    "\n",
    "# the histogram of the data\n",
    "n, bins, patches = plt.hist(df['p_churn'], bins='doane', density=False, facecolor='b', alpha=0.75)\n",
    "\n",
    "\n",
    "plt.xlabel('Smarts')\n",
    "plt.ylabel('Probability')\n",
    "plt.title('Histogram of IQ')\n",
    "#plt.xlim(40, 160)\n",
    "#plt.ylim(0, 0.03)\n",
    "plt.grid(True)\n",
    "plt.show()"
   ]
  },
  {
   "cell_type": "code",
   "execution_count": 172,
   "metadata": {
    "ExecuteTime": {
     "end_time": "2021-11-08T12:03:39.666994Z",
     "start_time": "2021-11-08T12:03:39.557000Z"
    }
   },
   "outputs": [
    {
     "data": {
      "text/plain": [
       "array([0.15039013, 0.14887994, 0.14145482, 0.14107727, 0.14057387,\n",
       "       0.13956708, 0.13805688])"
      ]
     },
     "execution_count": 172,
     "metadata": {},
     "output_type": "execute_result"
    }
   ],
   "source": [
    "a.values"
   ]
  },
  {
   "cell_type": "code",
   "execution_count": 173,
   "metadata": {
    "ExecuteTime": {
     "end_time": "2021-11-08T12:03:39.776993Z",
     "start_time": "2021-11-08T12:03:39.668995Z"
    }
   },
   "outputs": [
    {
     "ename": "NameError",
     "evalue": "name 'self' is not defined",
     "output_type": "error",
     "traceback": [
      "\u001b[1;31m---------------------------------------------------------------------------\u001b[0m",
      "\u001b[1;31mNameError\u001b[0m                                 Traceback (most recent call last)",
      "\u001b[1;32m<ipython-input-173-e6991c50b8ac>\u001b[0m in \u001b[0;36m<module>\u001b[1;34m\u001b[0m\n\u001b[1;32m----> 1\u001b[1;33m \u001b[0mlist\u001b[0m\u001b[1;33m(\u001b[0m\u001b[0mdf\u001b[0m\u001b[1;33m[\u001b[0m\u001b[0mself\u001b[0m\u001b[1;33m.\u001b[0m\u001b[0mpredictor_column\u001b[0m\u001b[1;33m]\u001b[0m\u001b[1;33m.\u001b[0m\u001b[0munique\u001b[0m\u001b[1;33m(\u001b[0m\u001b[1;33m)\u001b[0m\u001b[1;33m)\u001b[0m\u001b[1;33m\u001b[0m\u001b[1;33m\u001b[0m\u001b[0m\n\u001b[0m",
      "\u001b[1;31mNameError\u001b[0m: name 'self' is not defined"
     ]
    }
   ],
   "source": [
    "list(df[self.predictor_column].unique())"
   ]
  },
  {
   "cell_type": "code",
   "execution_count": null,
   "metadata": {
    "ExecuteTime": {
     "end_time": "2021-11-08T12:03:39.781992Z",
     "start_time": "2021-11-08T12:03:24.807Z"
    }
   },
   "outputs": [],
   "source": [
    "l, = plt.plot(a['A'])\n",
    "\n",
    "\n",
    "#set plotting parameters\n",
    "fig = plt.gcf()\n",
    "fig.subplots_adjust(bottom=0.25)\n",
    "plt.ticklabel_format(useOffset=False)\n",
    "plt.xticks(range(min(a.index), max(a.index)+1))\n",
    "#plt.xlim(min(_x)-0.1,max(_x)+0.1)\n",
    "#plt.ylim(-0.01,1.03)\n",
    "plt.xlabel('Month')\n",
    "plt.ylabel('GINI')\n",
    "\n",
    "\n",
    "plt.show()    "
   ]
  },
  {
   "cell_type": "code",
   "execution_count": null,
   "metadata": {
    "ExecuteTime": {
     "end_time": "2021-11-08T12:03:39.782992Z",
     "start_time": "2021-11-08T12:03:24.810Z"
    }
   },
   "outputs": [],
   "source": [
    "a['A']"
   ]
  }
 ],
 "metadata": {
  "hide_input": false,
  "kernelspec": {
   "display_name": "Python 3",
   "language": "python",
   "name": "python3"
  },
  "language_info": {
   "codemirror_mode": {
    "name": "ipython",
    "version": 3
   },
   "file_extension": ".py",
   "mimetype": "text/x-python",
   "name": "python",
   "nbconvert_exporter": "python",
   "pygments_lexer": "ipython3",
   "version": "3.7.8"
  },
  "toc": {
   "base_numbering": 1,
   "nav_menu": {},
   "number_sections": true,
   "sideBar": true,
   "skip_h1_title": false,
   "title_cell": "Table of Contents",
   "title_sidebar": "Contents",
   "toc_cell": false,
   "toc_position": {
    "height": "calc(100% - 180px)",
    "left": "10px",
    "top": "150px",
    "width": "341.317px"
   },
   "toc_section_display": true,
   "toc_window_display": true
  },
  "varInspector": {
   "cols": {
    "lenName": 16,
    "lenType": 16,
    "lenVar": 40
   },
   "kernels_config": {
    "python": {
     "delete_cmd_postfix": "",
     "delete_cmd_prefix": "del ",
     "library": "var_list.py",
     "varRefreshCmd": "print(var_dic_list())"
    },
    "r": {
     "delete_cmd_postfix": ") ",
     "delete_cmd_prefix": "rm(",
     "library": "var_list.r",
     "varRefreshCmd": "cat(var_dic_list()) "
    }
   },
   "types_to_exclude": [
    "module",
    "function",
    "builtin_function_or_method",
    "instance",
    "_Feature"
   ],
   "window_display": false
  }
 },
 "nbformat": 4,
 "nbformat_minor": 4
}
