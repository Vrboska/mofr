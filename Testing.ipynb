{
 "cells": [
  {
   "cell_type": "markdown",
   "metadata": {
    "ExecuteTime": {
     "end_time": "2020-12-14T20:53:36.838573Z",
     "start_time": "2020-12-14T20:53:36.835573Z"
    }
   },
   "source": [
    "# Testing packages"
   ]
  },
  {
   "cell_type": "code",
   "execution_count": 1,
   "metadata": {
    "ExecuteTime": {
     "end_time": "2021-11-09T13:10:20.794538Z",
     "start_time": "2021-11-09T13:10:20.279538Z"
    }
   },
   "outputs": [],
   "source": [
    "import pandas as pd\n",
    "import numpy as np\n",
    "import random"
   ]
  },
  {
   "cell_type": "code",
   "execution_count": 2,
   "metadata": {
    "ExecuteTime": {
     "end_time": "2021-11-09T13:10:20.903539Z",
     "start_time": "2021-11-09T13:10:20.798540Z"
    }
   },
   "outputs": [],
   "source": [
    "%load_ext autoreload\n",
    "%autoreload 2"
   ]
  },
  {
   "cell_type": "markdown",
   "metadata": {
    "ExecuteTime": {
     "end_time": "2020-12-14T20:54:47.225113Z",
     "start_time": "2020-12-14T20:54:47.161113Z"
    }
   },
   "source": [
    "# Metrics"
   ]
  },
  {
   "cell_type": "markdown",
   "metadata": {},
   "source": [
    "## Simple scores"
   ]
  },
  {
   "cell_type": "code",
   "execution_count": 3,
   "metadata": {
    "ExecuteTime": {
     "end_time": "2021-11-09T13:10:21.871825Z",
     "start_time": "2021-11-09T13:10:20.906538Z"
    }
   },
   "outputs": [],
   "source": [
    "from mofr import metrics"
   ]
  },
  {
   "cell_type": "code",
   "execution_count": 4,
   "metadata": {
    "ExecuteTime": {
     "end_time": "2021-11-09T13:10:22.011538Z",
     "start_time": "2021-11-09T13:10:21.874542Z"
    }
   },
   "outputs": [],
   "source": [
    "df=pd.read_csv(r'c:\\Users\\T862363F\\Projects\\DevOps_Repos\\PRG_TD_ModellingFramework\\data\\Model_Eval_Data_For_Andrej.csv')"
   ]
  },
  {
   "cell_type": "code",
   "execution_count": 5,
   "metadata": {
    "ExecuteTime": {
     "end_time": "2021-11-09T13:10:22.134255Z",
     "start_time": "2021-11-09T13:10:22.013540Z"
    }
   },
   "outputs": [],
   "source": [
    "df['p_churn']=df['p_alive']*-1+1\n",
    "df['target_obs']=1\n",
    "df['random_score']=np.random.randint(1, 1000000, df.shape[0])/1000000\n",
    "df['semi_random_score']=0.7*df['p_churn']+0.3*np.random.normal(0,1,df.shape[0])\n",
    "df['month']=df['target_obs'].apply(lambda x: random.choice([202001,202002,202003]))"
   ]
  },
  {
   "cell_type": "code",
   "execution_count": 6,
   "metadata": {
    "ExecuteTime": {
     "end_time": "2021-11-09T13:10:22.260287Z",
     "start_time": "2021-11-09T13:10:22.137258Z"
    }
   },
   "outputs": [
    {
     "data": {
      "text/plain": [
       "7946"
      ]
     },
     "execution_count": 6,
     "metadata": {},
     "output_type": "execute_result"
    }
   ],
   "source": [
    "len(df)"
   ]
  },
  {
   "cell_type": "code",
   "execution_count": 7,
   "metadata": {
    "ExecuteTime": {
     "end_time": "2021-11-09T13:10:22.416255Z",
     "start_time": "2021-11-09T13:10:22.263254Z"
    }
   },
   "outputs": [
    {
     "data": {
      "text/html": [
       "<div>\n",
       "<style scoped>\n",
       "    .dataframe tbody tr th:only-of-type {\n",
       "        vertical-align: middle;\n",
       "    }\n",
       "\n",
       "    .dataframe tbody tr th {\n",
       "        vertical-align: top;\n",
       "    }\n",
       "\n",
       "    .dataframe thead th {\n",
       "        text-align: right;\n",
       "    }\n",
       "</style>\n",
       "<table border=\"1\" class=\"dataframe\">\n",
       "  <thead>\n",
       "    <tr style=\"text-align: right;\">\n",
       "      <th></th>\n",
       "      <th>TECCOMPCE</th>\n",
       "      <th>TECSOLDTO</th>\n",
       "      <th>p_alive</th>\n",
       "      <th>CLV</th>\n",
       "      <th>p_alive_</th>\n",
       "      <th>PB_Churn_Flag</th>\n",
       "      <th>CLV_</th>\n",
       "      <th>ob</th>\n",
       "      <th>omx</th>\n",
       "      <th>omn</th>\n",
       "      <th>...</th>\n",
       "      <th>CreditBlock</th>\n",
       "      <th>Churn</th>\n",
       "      <th>a</th>\n",
       "      <th>b</th>\n",
       "      <th>target</th>\n",
       "      <th>target_obs</th>\n",
       "      <th>p_churn</th>\n",
       "      <th>random_score</th>\n",
       "      <th>semi_random_score</th>\n",
       "      <th>month</th>\n",
       "    </tr>\n",
       "  </thead>\n",
       "  <tbody>\n",
       "    <tr>\n",
       "      <th>0</th>\n",
       "      <td>40</td>\n",
       "      <td>636362</td>\n",
       "      <td>0.994196</td>\n",
       "      <td>2821.981425</td>\n",
       "      <td>0</td>\n",
       "      <td>994196067.0</td>\n",
       "      <td>0</td>\n",
       "      <td>2821</td>\n",
       "      <td>981425.0</td>\n",
       "      <td>11</td>\n",
       "      <td>...</td>\n",
       "      <td>2020-09-29 00:00:00.0000000</td>\n",
       "      <td>2019-10-01 00:00:00.0000000</td>\n",
       "      <td>NaN</td>\n",
       "      <td>0.0</td>\n",
       "      <td>0</td>\n",
       "      <td>1</td>\n",
       "      <td>0.005804</td>\n",
       "      <td>0.387848</td>\n",
       "      <td>0.306293</td>\n",
       "      <td>202002</td>\n",
       "    </tr>\n",
       "    <tr>\n",
       "      <th>1</th>\n",
       "      <td>40</td>\n",
       "      <td>441577</td>\n",
       "      <td>0.613307</td>\n",
       "      <td>0.000000</td>\n",
       "      <td>0</td>\n",
       "      <td>613306736.0</td>\n",
       "      <td>0</td>\n",
       "      <td>0</td>\n",
       "      <td>1.0</td>\n",
       "      <td>2018-10-01 00:00:00.0000000</td>\n",
       "      <td>...</td>\n",
       "      <td>NaN</td>\n",
       "      <td>NaN</td>\n",
       "      <td>1.0</td>\n",
       "      <td>NaN</td>\n",
       "      <td>1</td>\n",
       "      <td>1</td>\n",
       "      <td>0.386693</td>\n",
       "      <td>0.385296</td>\n",
       "      <td>0.310256</td>\n",
       "      <td>202001</td>\n",
       "    </tr>\n",
       "    <tr>\n",
       "      <th>2</th>\n",
       "      <td>40</td>\n",
       "      <td>422141</td>\n",
       "      <td>0.462324</td>\n",
       "      <td>3340.062341</td>\n",
       "      <td>0</td>\n",
       "      <td>462324357.0</td>\n",
       "      <td>1</td>\n",
       "      <td>3340</td>\n",
       "      <td>62341.0</td>\n",
       "      <td>7</td>\n",
       "      <td>...</td>\n",
       "      <td>2020-07-01 00:00:00.0000000</td>\n",
       "      <td>2020-02-19 00:00:00.0000000</td>\n",
       "      <td>NaN</td>\n",
       "      <td>0.0</td>\n",
       "      <td>0</td>\n",
       "      <td>1</td>\n",
       "      <td>0.537676</td>\n",
       "      <td>0.518333</td>\n",
       "      <td>0.361238</td>\n",
       "      <td>202002</td>\n",
       "    </tr>\n",
       "    <tr>\n",
       "      <th>3</th>\n",
       "      <td>40</td>\n",
       "      <td>706342</td>\n",
       "      <td>0.841013</td>\n",
       "      <td>5023.797898</td>\n",
       "      <td>0</td>\n",
       "      <td>841012858.0</td>\n",
       "      <td>0</td>\n",
       "      <td>5023</td>\n",
       "      <td>797898.0</td>\n",
       "      <td>17</td>\n",
       "      <td>...</td>\n",
       "      <td>2020-07-17 00:00:00.0000000</td>\n",
       "      <td>2019-10-03 00:00:00.0000000</td>\n",
       "      <td>NaN</td>\n",
       "      <td>0.0</td>\n",
       "      <td>0</td>\n",
       "      <td>1</td>\n",
       "      <td>0.158987</td>\n",
       "      <td>0.719583</td>\n",
       "      <td>0.305783</td>\n",
       "      <td>202001</td>\n",
       "    </tr>\n",
       "    <tr>\n",
       "      <th>4</th>\n",
       "      <td>40</td>\n",
       "      <td>718698</td>\n",
       "      <td>0.668060</td>\n",
       "      <td>0.000000</td>\n",
       "      <td>0</td>\n",
       "      <td>668060235.0</td>\n",
       "      <td>0</td>\n",
       "      <td>0</td>\n",
       "      <td>1.0</td>\n",
       "      <td>2019-02-06 00:00:00.0000000</td>\n",
       "      <td>...</td>\n",
       "      <td>2020-01-10 00:00:00.0000000</td>\n",
       "      <td>NaN</td>\n",
       "      <td>0.0</td>\n",
       "      <td>NaN</td>\n",
       "      <td>0</td>\n",
       "      <td>1</td>\n",
       "      <td>0.331940</td>\n",
       "      <td>0.640773</td>\n",
       "      <td>0.106892</td>\n",
       "      <td>202002</td>\n",
       "    </tr>\n",
       "  </tbody>\n",
       "</table>\n",
       "<p>5 rows × 23 columns</p>\n",
       "</div>"
      ],
      "text/plain": [
       "   TECCOMPCE  TECSOLDTO   p_alive          CLV  p_alive_  PB_Churn_Flag  CLV_  \\\n",
       "0         40     636362  0.994196  2821.981425         0    994196067.0     0   \n",
       "1         40     441577  0.613307     0.000000         0    613306736.0     0   \n",
       "2         40     422141  0.462324  3340.062341         0    462324357.0     1   \n",
       "3         40     706342  0.841013  5023.797898         0    841012858.0     0   \n",
       "4         40     718698  0.668060     0.000000         0    668060235.0     0   \n",
       "\n",
       "     ob       omx                          omn  ...  \\\n",
       "0  2821  981425.0                           11  ...   \n",
       "1     0       1.0  2018-10-01 00:00:00.0000000  ...   \n",
       "2  3340   62341.0                            7  ...   \n",
       "3  5023  797898.0                           17  ...   \n",
       "4     0       1.0  2019-02-06 00:00:00.0000000  ...   \n",
       "\n",
       "                   CreditBlock                        Churn    a    b target  \\\n",
       "0  2020-09-29 00:00:00.0000000  2019-10-01 00:00:00.0000000  NaN  0.0      0   \n",
       "1                          NaN                          NaN  1.0  NaN      1   \n",
       "2  2020-07-01 00:00:00.0000000  2020-02-19 00:00:00.0000000  NaN  0.0      0   \n",
       "3  2020-07-17 00:00:00.0000000  2019-10-03 00:00:00.0000000  NaN  0.0      0   \n",
       "4  2020-01-10 00:00:00.0000000                          NaN  0.0  NaN      0   \n",
       "\n",
       "   target_obs   p_churn  random_score  semi_random_score   month  \n",
       "0           1  0.005804      0.387848           0.306293  202002  \n",
       "1           1  0.386693      0.385296           0.310256  202001  \n",
       "2           1  0.537676      0.518333           0.361238  202002  \n",
       "3           1  0.158987      0.719583           0.305783  202001  \n",
       "4           1  0.331940      0.640773           0.106892  202002  \n",
       "\n",
       "[5 rows x 23 columns]"
      ]
     },
     "execution_count": 7,
     "metadata": {},
     "output_type": "execute_result"
    }
   ],
   "source": [
    "df.head()"
   ]
  },
  {
   "cell_type": "markdown",
   "metadata": {},
   "source": [
    "### Accuracy"
   ]
  },
  {
   "cell_type": "code",
   "execution_count": 8,
   "metadata": {
    "ExecuteTime": {
     "end_time": "2021-11-09T13:10:22.539252Z",
     "start_time": "2021-11-09T13:10:22.420253Z"
    }
   },
   "outputs": [
    {
     "data": {
      "text/plain": [
       "0.7793858545179965"
      ]
     },
     "execution_count": 8,
     "metadata": {},
     "output_type": "execute_result"
    }
   ],
   "source": [
    "metrics.accuracy_score(df['target'], df['p_churn']>0.5)"
   ]
  },
  {
   "cell_type": "code",
   "execution_count": 9,
   "metadata": {
    "ExecuteTime": {
     "end_time": "2021-11-09T13:10:22.697292Z",
     "start_time": "2021-11-09T13:10:22.543255Z"
    }
   },
   "outputs": [
    {
     "data": {
      "text/plain": [
       "[0.31059652655424114,\n",
       " 0.40057890762647874,\n",
       " 0.46967027435187514,\n",
       " 0.5117040020135918,\n",
       " 0.5485779008306066,\n",
       " 0.5690913667253964,\n",
       " 0.591492574880443,\n",
       " 0.6063428139944627,\n",
       " 0.618801912912157,\n",
       " 0.6303800654417316,\n",
       " 0.6401963251950668,\n",
       " 0.6477472942360937,\n",
       " 0.6552982632771206,\n",
       " 0.6614648879939592,\n",
       " 0.6676315127107979,\n",
       " 0.6720362446513969,\n",
       " 0.676566826076013,\n",
       " 0.6827334507928517,\n",
       " 0.6867606342813994,\n",
       " 0.6906619682859301]"
      ]
     },
     "execution_count": 9,
     "metadata": {},
     "output_type": "execute_result"
    }
   ],
   "source": [
    "[metrics.accuracy_score(df['target'], df['p_churn']>(x+1)/1000) for x in range(20)]"
   ]
  },
  {
   "cell_type": "code",
   "execution_count": 10,
   "metadata": {
    "ExecuteTime": {
     "end_time": "2021-11-09T13:10:22.823294Z",
     "start_time": "2021-11-09T13:10:22.700256Z"
    }
   },
   "outputs": [],
   "source": [
    "#metrics.accuracy_score?"
   ]
  },
  {
   "cell_type": "markdown",
   "metadata": {},
   "source": [
    "### Precision"
   ]
  },
  {
   "cell_type": "code",
   "execution_count": 11,
   "metadata": {
    "ExecuteTime": {
     "end_time": "2021-11-09T13:10:22.949262Z",
     "start_time": "2021-11-09T13:10:22.826253Z"
    }
   },
   "outputs": [
    {
     "data": {
      "text/plain": [
       "0.5398230088495575"
      ]
     },
     "execution_count": 11,
     "metadata": {},
     "output_type": "execute_result"
    }
   ],
   "source": [
    "metrics.precision_score(df['target'], df['p_churn']>0.5)"
   ]
  },
  {
   "cell_type": "code",
   "execution_count": 12,
   "metadata": {
    "ExecuteTime": {
     "end_time": "2021-11-09T13:10:23.165251Z",
     "start_time": "2021-11-09T13:10:22.952264Z"
    }
   },
   "outputs": [
    {
     "data": {
      "text/plain": [
       "[0.6588235294117647,\n",
       " 0.6239316239316239,\n",
       " 0.625,\n",
       " 0.618421052631579,\n",
       " 0.6073619631901841,\n",
       " 0.6123595505617978,\n",
       " 0.6096256684491979,\n",
       " 0.6062176165803109,\n",
       " 0.6019417475728155,\n",
       " 0.591304347826087,\n",
       " 0.5887096774193549,\n",
       " 0.5889328063241107,\n",
       " 0.5923076923076923,\n",
       " 0.6,\n",
       " 0.5949820788530465,\n",
       " 0.5929824561403508,\n",
       " 0.5932203389830508,\n",
       " 0.5907590759075908,\n",
       " 0.6006191950464397,\n",
       " 0.600609756097561]"
      ]
     },
     "execution_count": 12,
     "metadata": {},
     "output_type": "execute_result"
    }
   ],
   "source": [
    "[metrics.precision_score(df['target'], df['p_churn']>(99-x)/100) for x in range(20)]"
   ]
  },
  {
   "cell_type": "code",
   "execution_count": 13,
   "metadata": {
    "ExecuteTime": {
     "end_time": "2021-11-09T13:10:23.319253Z",
     "start_time": "2021-11-09T13:10:23.168253Z"
    }
   },
   "outputs": [],
   "source": [
    "#metrics.precision_score?"
   ]
  },
  {
   "cell_type": "markdown",
   "metadata": {},
   "source": [
    "### Recall"
   ]
  },
  {
   "cell_type": "code",
   "execution_count": 14,
   "metadata": {
    "ExecuteTime": {
     "end_time": "2021-11-09T13:10:23.443514Z",
     "start_time": "2021-11-09T13:10:23.321252Z"
    }
   },
   "outputs": [
    {
     "data": {
      "text/plain": [
       "0.20254565578306585"
      ]
     },
     "execution_count": 14,
     "metadata": {},
     "output_type": "execute_result"
    }
   ],
   "source": [
    "metrics.recall_score(df['target'], df['p_churn']>0.5)"
   ]
  },
  {
   "cell_type": "code",
   "execution_count": 15,
   "metadata": {
    "ExecuteTime": {
     "end_time": "2021-11-09T13:10:23.660513Z",
     "start_time": "2021-11-09T13:10:23.446254Z"
    }
   },
   "outputs": [
    {
     "data": {
      "text/plain": [
       "[0.03099059214167128,\n",
       " 0.040398450470392915,\n",
       " 0.04703929164360819,\n",
       " 0.05201992252351965,\n",
       " 0.05478693967902601,\n",
       " 0.06032097399003874,\n",
       " 0.0630879911455451,\n",
       " 0.06474820143884892,\n",
       " 0.06862202545655784,\n",
       " 0.0752628666297731,\n",
       " 0.08079690094078583,\n",
       " 0.08245711123408965,\n",
       " 0.08522412838959602,\n",
       " 0.0896513558384062,\n",
       " 0.09186496956281129,\n",
       " 0.09352517985611511,\n",
       " 0.09684560044272275,\n",
       " 0.09905921416712783,\n",
       " 0.10736026563364692,\n",
       " 0.10902047592695074]"
      ]
     },
     "execution_count": 15,
     "metadata": {},
     "output_type": "execute_result"
    }
   ],
   "source": [
    "[metrics.recall_score(df['target'], df['p_churn']>(99-x)/100) for x in range(20)]"
   ]
  },
  {
   "cell_type": "code",
   "execution_count": 16,
   "metadata": {
    "ExecuteTime": {
     "end_time": "2021-11-09T13:10:23.783256Z",
     "start_time": "2021-11-09T13:10:23.663252Z"
    }
   },
   "outputs": [],
   "source": [
    "#metrics.recall_score?"
   ]
  },
  {
   "cell_type": "markdown",
   "metadata": {},
   "source": [
    "### F1 score"
   ]
  },
  {
   "cell_type": "code",
   "execution_count": 17,
   "metadata": {
    "ExecuteTime": {
     "end_time": "2021-11-09T13:10:23.910252Z",
     "start_time": "2021-11-09T13:10:23.786253Z"
    }
   },
   "outputs": [
    {
     "data": {
      "text/plain": [
       "0.2945674044265594"
      ]
     },
     "execution_count": 17,
     "metadata": {},
     "output_type": "execute_result"
    }
   ],
   "source": [
    "metrics.f1_score(df['target'], df['p_churn']>0.5)"
   ]
  },
  {
   "cell_type": "code",
   "execution_count": 18,
   "metadata": {
    "ExecuteTime": {
     "end_time": "2021-11-09T13:10:24.126255Z",
     "start_time": "2021-11-09T13:10:23.913256Z"
    }
   },
   "outputs": [
    {
     "data": {
      "text/plain": [
       "[0.39749230092388915,\n",
       " 0.4314193625402889,\n",
       " 0.46057347670250887,\n",
       " 0.48072805139186287,\n",
       " 0.5000696864111499,\n",
       " 0.5107173478136611,\n",
       " 0.5233480176211454,\n",
       " 0.5313155528918191,\n",
       " 0.5383325712543819,\n",
       " 0.545144804088586,\n",
       " 0.5509659180147636,\n",
       " 0.5550786838340487,\n",
       " 0.5590082112381259,\n",
       " 0.5628859278518037,\n",
       " 0.5664094565752751,\n",
       " 0.5691137566137566,\n",
       " 0.5709515859766277,\n",
       " 0.5755177639333221,\n",
       " 0.5776344815883251,\n",
       " 0.5796853625170998]"
      ]
     },
     "execution_count": 18,
     "metadata": {},
     "output_type": "execute_result"
    }
   ],
   "source": [
    "[metrics.f1_score(df['target'], df['p_churn']>(x+1)/1000) for x in range(20)]"
   ]
  },
  {
   "cell_type": "code",
   "execution_count": 19,
   "metadata": {
    "ExecuteTime": {
     "end_time": "2021-11-09T13:10:24.251292Z",
     "start_time": "2021-11-09T13:10:24.129254Z"
    }
   },
   "outputs": [],
   "source": [
    "#metrics.f1_score?"
   ]
  },
  {
   "cell_type": "markdown",
   "metadata": {},
   "source": [
    "### Confusion matrix"
   ]
  },
  {
   "cell_type": "code",
   "execution_count": 20,
   "metadata": {
    "ExecuteTime": {
     "end_time": "2021-11-09T13:10:24.404258Z",
     "start_time": "2021-11-09T13:10:24.254252Z"
    }
   },
   "outputs": [
    {
     "data": {
      "text/plain": [
       "array([[5827,  312],\n",
       "       [1441,  366]], dtype=int64)"
      ]
     },
     "execution_count": 20,
     "metadata": {},
     "output_type": "execute_result"
    }
   ],
   "source": [
    "metrics.confusion_matrix(df['target'], df['p_churn']>0.5)"
   ]
  },
  {
   "cell_type": "markdown",
   "metadata": {
    "ExecuteTime": {
     "end_time": "2020-12-14T21:53:17.790901Z",
     "start_time": "2020-12-14T21:53:17.685943Z"
    }
   },
   "source": [
    "### ROC AUC "
   ]
  },
  {
   "cell_type": "code",
   "execution_count": 21,
   "metadata": {
    "ExecuteTime": {
     "end_time": "2021-11-09T13:10:24.547252Z",
     "start_time": "2021-11-09T13:10:24.408261Z"
    }
   },
   "outputs": [
    {
     "data": {
      "text/plain": [
       "0.8560895967276451"
      ]
     },
     "execution_count": 21,
     "metadata": {},
     "output_type": "execute_result"
    }
   ],
   "source": [
    "metrics.roc_auc_score(df['target'], df['p_churn'])"
   ]
  },
  {
   "cell_type": "code",
   "execution_count": 22,
   "metadata": {
    "ExecuteTime": {
     "end_time": "2021-11-09T13:10:24.671251Z",
     "start_time": "2021-11-09T13:10:24.550255Z"
    }
   },
   "outputs": [],
   "source": [
    "#metrics.roc_auc_score?"
   ]
  },
  {
   "cell_type": "markdown",
   "metadata": {},
   "source": [
    "### GINI"
   ]
  },
  {
   "cell_type": "code",
   "execution_count": 23,
   "metadata": {
    "ExecuteTime": {
     "end_time": "2021-11-09T13:10:24.809288Z",
     "start_time": "2021-11-09T13:10:24.677252Z"
    }
   },
   "outputs": [
    {
     "data": {
      "text/plain": [
       "0.7121791934552901"
      ]
     },
     "execution_count": 23,
     "metadata": {},
     "output_type": "execute_result"
    }
   ],
   "source": [
    "metrics.gini(df['target'], df['p_churn'])"
   ]
  },
  {
   "cell_type": "code",
   "execution_count": 24,
   "metadata": {
    "ExecuteTime": {
     "end_time": "2021-11-09T13:10:24.937292Z",
     "start_time": "2021-11-09T13:10:24.814253Z"
    }
   },
   "outputs": [
    {
     "data": {
      "text/plain": [
       "0.7121791934552901"
      ]
     },
     "execution_count": 24,
     "metadata": {},
     "output_type": "execute_result"
    }
   ],
   "source": [
    "metrics.gini(df['target'], df['p_churn'], average='samples')"
   ]
  },
  {
   "cell_type": "code",
   "execution_count": 25,
   "metadata": {
    "ExecuteTime": {
     "end_time": "2021-11-09T13:10:25.064483Z",
     "start_time": "2021-11-09T13:10:24.939257Z"
    }
   },
   "outputs": [],
   "source": [
    "#metrics.gini?"
   ]
  },
  {
   "cell_type": "markdown",
   "metadata": {},
   "source": [
    "### Lift"
   ]
  },
  {
   "cell_type": "code",
   "execution_count": 26,
   "metadata": {
    "ExecuteTime": {
     "end_time": "2021-11-09T13:10:25.186286Z",
     "start_time": "2021-11-09T13:10:25.067254Z"
    }
   },
   "outputs": [
    {
     "data": {
      "text/plain": [
       "2.306531204644412"
      ]
     },
     "execution_count": 26,
     "metadata": {},
     "output_type": "execute_result"
    }
   ],
   "source": [
    "metrics.lift(df['target'], df['p_churn'])"
   ]
  },
  {
   "cell_type": "code",
   "execution_count": 27,
   "metadata": {
    "ExecuteTime": {
     "end_time": "2021-11-09T13:10:25.309251Z",
     "start_time": "2021-11-09T13:10:25.188252Z"
    }
   },
   "outputs": [
    {
     "data": {
      "text/plain": [
       "2.519081294685937"
      ]
     },
     "execution_count": 27,
     "metadata": {},
     "output_type": "execute_result"
    }
   ],
   "source": [
    "metrics.liftN(df['target'], df['p_churn'], 0.05)"
   ]
  },
  {
   "cell_type": "code",
   "execution_count": 28,
   "metadata": {
    "ExecuteTime": {
     "end_time": "2021-11-09T13:10:25.466249Z",
     "start_time": "2021-11-09T13:10:25.312257Z"
    }
   },
   "outputs": [
    {
     "data": {
      "text/plain": [
       "[2.564655037052907,\n",
       " 2.418539014941893,\n",
       " 2.1267203306629034,\n",
       " 1.8638627559490868,\n",
       " 1.6290557813709337,\n",
       " 1.4191355404598403,\n",
       " 1.2480818075848659,\n",
       " 1.111484123653658,\n",
       " 1]"
      ]
     },
     "execution_count": 28,
     "metadata": {},
     "output_type": "execute_result"
    }
   ],
   "source": [
    "[metrics.liftN(df['target'], df['p_churn'],(x+1)/10) for x in range(1,10)]"
   ]
  },
  {
   "cell_type": "markdown",
   "metadata": {},
   "source": [
    "### KS score"
   ]
  },
  {
   "cell_type": "code",
   "execution_count": 29,
   "metadata": {
    "ExecuteTime": {
     "end_time": "2021-11-09T13:10:25.705498Z",
     "start_time": "2021-11-09T13:10:25.468250Z"
    }
   },
   "outputs": [
    {
     "data": {
      "text/plain": [
       "0.588206908879903"
      ]
     },
     "execution_count": 29,
     "metadata": {},
     "output_type": "execute_result"
    }
   ],
   "source": [
    "metrics.ks_score(df['target'], df['p_churn'])"
   ]
  },
  {
   "cell_type": "code",
   "execution_count": 30,
   "metadata": {
    "ExecuteTime": {
     "end_time": "2021-11-09T13:10:25.815252Z",
     "start_time": "2021-11-09T13:10:25.708252Z"
    }
   },
   "outputs": [],
   "source": [
    "#metrics.ks_score?"
   ]
  },
  {
   "cell_type": "markdown",
   "metadata": {},
   "source": [
    "## Curves and others"
   ]
  },
  {
   "cell_type": "markdown",
   "metadata": {},
   "source": [
    "### ROC curve"
   ]
  },
  {
   "cell_type": "code",
   "execution_count": 31,
   "metadata": {
    "ExecuteTime": {
     "end_time": "2021-11-09T13:10:25.923395Z",
     "start_time": "2021-11-09T13:10:25.817253Z"
    }
   },
   "outputs": [
    {
     "data": {
      "text/plain": [
       "(array([0.        , 0.        , 0.        , ..., 0.99788239, 0.99837107,\n",
       "        1.        ]),\n",
       " array([0.00000000e+00, 5.53403431e-04, 7.74764804e-03, ...,\n",
       "        1.00000000e+00, 1.00000000e+00, 1.00000000e+00]),\n",
       " array([2.0000000e+00, 1.0000000e+00, 9.9999814e-01, ..., 1.7253500e-04,\n",
       "        1.7186300e-04, 1.5661200e-04]))"
      ]
     },
     "execution_count": 31,
     "metadata": {},
     "output_type": "execute_result"
    }
   ],
   "source": [
    "metrics.roc_curve(df['target'], df['p_churn'])"
   ]
  },
  {
   "cell_type": "code",
   "execution_count": 32,
   "metadata": {
    "ExecuteTime": {
     "end_time": "2021-11-09T13:10:26.630432Z",
     "start_time": "2021-11-09T13:10:25.925394Z"
    }
   },
   "outputs": [
    {
     "data": {
      "image/png": "[encoded data removed]",
      "text/plain": [
       "<Figure size 432x288 with 1 Axes>"
      ]
     },
     "metadata": {
      "needs_background": "light"
     },
     "output_type": "display_data"
    }
   ],
   "source": [
    "from matplotlib import pyplot as plt\n",
    "_fpr, _tpr, _ = metrics.roc_curve(df['target'], df['p_churn'])\n",
    "\n",
    "# plot the roc curve for the model\n",
    "plt.plot(_fpr, _tpr, linestyle='-', color='red', label='Model 1')\n",
    "\n",
    "# axis labels\n",
    "plt.title('ROC curve')\n",
    "plt.xlim(-0.01,1.01)\n",
    "plt.ylim(-0.01,1.03)\n",
    "plt.xlabel('False Positive Rate')\n",
    "plt.ylabel('True Positive Rate')\n",
    "# show the legend\n",
    "plt.legend()\n",
    "# show the plot\n",
    "plt.show()"
   ]
  },
  {
   "cell_type": "code",
   "execution_count": 33,
   "metadata": {
    "ExecuteTime": {
     "end_time": "2021-11-09T13:10:26.742433Z",
     "start_time": "2021-11-09T13:10:26.633399Z"
    }
   },
   "outputs": [],
   "source": [
    "#metrics.roc_curve?"
   ]
  },
  {
   "cell_type": "markdown",
   "metadata": {},
   "source": [
    "### Lift curve"
   ]
  },
  {
   "cell_type": "code",
   "execution_count": 34,
   "metadata": {
    "ExecuteTime": {
     "end_time": "2021-11-09T13:10:26.897653Z",
     "start_time": "2021-11-09T13:10:26.744393Z"
    }
   },
   "outputs": [
    {
     "data": {
      "text/plain": [
       "[2.306531204644412,\n",
       " 2.564655037052907,\n",
       " 2.418539014941893,\n",
       " 2.1267203306629034,\n",
       " 1.8638627559490868,\n",
       " 1.6290557813709337,\n",
       " 1.4191355404598403,\n",
       " 1.2480818075848659,\n",
       " 1.111484123653658,\n",
       " 1]"
      ]
     },
     "execution_count": 34,
     "metadata": {},
     "output_type": "execute_result"
    }
   ],
   "source": [
    "[metrics.liftN(df['target'], df['p_churn'], x/10) for x in range (1,11)]"
   ]
  },
  {
   "cell_type": "code",
   "execution_count": 35,
   "metadata": {
    "ExecuteTime": {
     "end_time": "2021-11-09T13:10:27.313432Z",
     "start_time": "2021-11-09T13:10:26.900396Z"
    }
   },
   "outputs": [
    {
     "data": {
      "image/png": "[encoded data removed]",
      "text/plain": [
       "<Figure size 432x288 with 1 Axes>"
      ]
     },
     "metadata": {
      "needs_background": "light"
     },
     "output_type": "display_data"
    }
   ],
   "source": [
    "from matplotlib import pyplot as plt\n",
    "x= [(x/10) for x in range (1,11)]\n",
    "lift_curve = [metrics.liftN(df['target'], df['p_churn'], x/10) for x in range (1,11)]\n",
    "plt.plot(x, lift_curve, linestyle='-', color='red', label='Model 1')\n",
    "# axis labels\n",
    "plt.title('Lift curve')\n",
    "#plt.xlim(-0.01,1.01)\n",
    "#plt.ylim(-0.01,1.03)\n",
    "#plt.xlabel('False Positive Rate')\n",
    "#plt.ylabel('True Positive Rate')\n",
    "# show the legend\n",
    "plt.legend()\n",
    "# show the plot\n",
    "plt.show()"
   ]
  },
  {
   "cell_type": "markdown",
   "metadata": {},
   "source": [
    "### Precision-Recall curve"
   ]
  },
  {
   "cell_type": "code",
   "execution_count": 36,
   "metadata": {
    "ExecuteTime": {
     "end_time": "2021-11-09T13:10:27.452424Z",
     "start_time": "2021-11-09T13:10:27.317399Z"
    }
   },
   "outputs": [
    {
     "data": {
      "text/plain": [
       "(array([0.27778632, 0.27767528, 0.27771798, ..., 1.        , 1.        ,\n",
       "        1.        ]),\n",
       " array([1.00000000e+00, 9.99446597e-01, 9.99446597e-01, ...,\n",
       "        1.10680686e-03, 5.53403431e-04, 0.00000000e+00]),\n",
       " array([0.00209515, 0.00209674, 0.00209705, ..., 1.        , 1.        ,\n",
       "        1.        ]))"
      ]
     },
     "execution_count": 36,
     "metadata": {},
     "output_type": "execute_result"
    }
   ],
   "source": [
    "metrics.precision_recall_curve(df['target'], df['p_churn'])"
   ]
  },
  {
   "cell_type": "code",
   "execution_count": 37,
   "metadata": {
    "ExecuteTime": {
     "end_time": "2021-11-09T13:10:27.985095Z",
     "start_time": "2021-11-09T13:10:27.455418Z"
    }
   },
   "outputs": [
    {
     "data": {
      "image/png": "[encoded data removed]",
      "text/plain": [
       "<Figure size 432x288 with 1 Axes>"
      ]
     },
     "metadata": {
      "needs_background": "light"
     },
     "output_type": "display_data"
    }
   ],
   "source": [
    "from matplotlib import pyplot as plt\n",
    "\n",
    "\n",
    "f_scores = np.linspace(0.2, 0.8, num=4)\n",
    "lines = []\n",
    "labels = []\n",
    "for f_score in f_scores:\n",
    "    x = np.linspace(0.01, 1)\n",
    "    y = f_score * x / (2 * x - f_score)\n",
    "    l, = plt.plot(x[y >= 0], y[y >= 0], color='gray', alpha=0.2)\n",
    "    plt.annotate('f1={0:0.1f}'.format(f_score), xy=(0.9, y[45] + 0.02))\n",
    "lines.append(l)\n",
    "labels.append('iso-f1 curves')\n",
    "\n",
    "lr_precision, lr_recall, _ = metrics.precision_recall_curve(df['target'], df['p_churn'])\n",
    "# plot the precision-recall curves\n",
    "no_skill = len(df['target'][df['target']==1]) / len(df['target'])\n",
    "plt.plot([0, 1], [no_skill, no_skill], linestyle='--')\n",
    "l,=plt.plot(lr_recall, lr_precision,linestyle='-', color='red', label='Model 1')\n",
    "lines.append(l)\n",
    "labels.append('Model 1')\n",
    "# axis labels\n",
    "plt.title('Precision-Recall curve with iso-f1 curves')\n",
    "plt.xlabel('Recall')\n",
    "plt.ylabel('Precision')\n",
    "plt.xlim([0.0, 1.0])\n",
    "plt.ylim([0.0, 1.05])\n",
    "# show the legend\n",
    "plt.legend(lines,labels)\n",
    "# show the plot\n",
    "plt.show()\n"
   ]
  },
  {
   "cell_type": "markdown",
   "metadata": {},
   "source": [
    "# Basic Evaluators"
   ]
  },
  {
   "cell_type": "markdown",
   "metadata": {
    "ExecuteTime": {
     "end_time": "2020-12-17T19:31:46.233868Z",
     "start_time": "2020-12-17T19:31:45.976866Z"
    }
   },
   "source": [
    "## Lift Curve Evaluator"
   ]
  },
  {
   "cell_type": "code",
   "execution_count": 38,
   "metadata": {
    "ExecuteTime": {
     "end_time": "2021-11-09T13:10:28.127137Z",
     "start_time": "2021-11-09T13:10:27.988101Z"
    }
   },
   "outputs": [],
   "source": [
    "from mofr.basic_evaluators.LiftCurve import LiftCurveEvaluator\n",
    "\n",
    "lce=LiftCurveEvaluator()"
   ]
  },
  {
   "cell_type": "code",
   "execution_count": 39,
   "metadata": {
    "ExecuteTime": {
     "end_time": "2021-11-09T13:10:28.255133Z",
     "start_time": "2021-11-09T13:10:28.130099Z"
    }
   },
   "outputs": [
    {
     "data": {
      "text/plain": []
     },
     "execution_count": 39,
     "metadata": {},
     "output_type": "execute_result"
    }
   ],
   "source": [
    "lce.d(df).t([('target','target_obs')]).s(['p_churn', 'semi_random_score','random_score'])"
   ]
  },
  {
   "cell_type": "code",
   "execution_count": 40,
   "metadata": {
    "ExecuteTime": {
     "end_time": "2021-11-09T13:10:28.812133Z",
     "start_time": "2021-11-09T13:10:28.258098Z"
    }
   },
   "outputs": [
    {
     "data": {
      "image/png": "[encoded data removed]",
      "text/plain": [
       "<Figure size 504x576 with 1 Axes>"
      ]
     },
     "metadata": {
      "needs_background": "light"
     },
     "output_type": "display_data"
    },
    {
     "data": {
      "text/plain": []
     },
     "execution_count": 40,
     "metadata": {},
     "output_type": "execute_result"
    }
   ],
   "source": [
    "lce.get_graph()"
   ]
  },
  {
   "cell_type": "markdown",
   "metadata": {
    "ExecuteTime": {
     "end_time": "2020-12-17T19:32:52.905283Z",
     "start_time": "2020-12-17T19:32:52.814277Z"
    }
   },
   "source": [
    "## ROC Curve Evaluator"
   ]
  },
  {
   "cell_type": "code",
   "execution_count": 41,
   "metadata": {
    "ExecuteTime": {
     "end_time": "2021-11-09T13:10:28.940134Z",
     "start_time": "2021-11-09T13:10:28.814098Z"
    }
   },
   "outputs": [],
   "source": [
    "from mofr.basic_evaluators.ROCCurve import ROCCurveEvaluator\n",
    "\n",
    "rce=ROCCurveEvaluator()"
   ]
  },
  {
   "cell_type": "code",
   "execution_count": 42,
   "metadata": {
    "ExecuteTime": {
     "end_time": "2021-11-09T13:10:29.050097Z",
     "start_time": "2021-11-09T13:10:28.942097Z"
    }
   },
   "outputs": [
    {
     "data": {
      "text/plain": []
     },
     "execution_count": 42,
     "metadata": {},
     "output_type": "execute_result"
    }
   ],
   "source": [
    "rce.d(df).t([('target','target_obs')]).s(['p_churn', 'semi_random_score','random_score'])"
   ]
  },
  {
   "cell_type": "code",
   "execution_count": 43,
   "metadata": {
    "ExecuteTime": {
     "end_time": "2021-11-09T13:10:29.611133Z",
     "start_time": "2021-11-09T13:10:29.052095Z"
    }
   },
   "outputs": [
    {
     "data": {
      "image/png": "[encoded data removed]",
      "text/plain": [
       "<Figure size 504x576 with 1 Axes>"
      ]
     },
     "metadata": {
      "needs_background": "light"
     },
     "output_type": "display_data"
    },
    {
     "data": {
      "text/plain": []
     },
     "execution_count": 43,
     "metadata": {},
     "output_type": "execute_result"
    }
   ],
   "source": [
    "rce.get_graph()"
   ]
  },
  {
   "cell_type": "markdown",
   "metadata": {},
   "source": [
    "## PR Curve Evaluator"
   ]
  },
  {
   "cell_type": "code",
   "execution_count": 44,
   "metadata": {
    "ExecuteTime": {
     "end_time": "2021-11-09T13:10:29.737093Z",
     "start_time": "2021-11-09T13:10:29.614098Z"
    }
   },
   "outputs": [],
   "source": [
    "from mofr.basic_evaluators.PRCurve import PRCurveEvaluator\n",
    "\n",
    "prce=PRCurveEvaluator()"
   ]
  },
  {
   "cell_type": "code",
   "execution_count": 45,
   "metadata": {
    "ExecuteTime": {
     "end_time": "2021-11-09T13:10:29.863093Z",
     "start_time": "2021-11-09T13:10:29.740097Z"
    }
   },
   "outputs": [
    {
     "data": {
      "text/plain": []
     },
     "execution_count": 45,
     "metadata": {},
     "output_type": "execute_result"
    }
   ],
   "source": [
    "prce.d(df).t([('target','target_obs')]).s(['p_churn', 'semi_random_score','random_score'])"
   ]
  },
  {
   "cell_type": "code",
   "execution_count": 46,
   "metadata": {
    "ExecuteTime": {
     "end_time": "2021-11-09T13:10:30.441097Z",
     "start_time": "2021-11-09T13:10:29.866096Z"
    }
   },
   "outputs": [
    {
     "data": {
      "image/png": "[encoded data removed]",
      "text/plain": [
       "<Figure size 504x576 with 1 Axes>"
      ]
     },
     "metadata": {
      "needs_background": "light"
     },
     "output_type": "display_data"
    },
    {
     "data": {
      "text/plain": []
     },
     "execution_count": 46,
     "metadata": {},
     "output_type": "execute_result"
    }
   ],
   "source": [
    "prce.get_graph()"
   ]
  },
  {
   "cell_type": "code",
   "execution_count": 47,
   "metadata": {
    "ExecuteTime": {
     "end_time": "2021-11-09T13:10:31.284167Z",
     "start_time": "2021-11-09T13:10:30.444098Z"
    }
   },
   "outputs": [
    {
     "data": {
      "image/png": "[encoded data removed]",
      "text/plain": [
       "<Figure size 504x576 with 1 Axes>"
      ]
     },
     "metadata": {
      "needs_background": "light"
     },
     "output_type": "display_data"
    },
    {
     "data": {
      "text/plain": []
     },
     "execution_count": 47,
     "metadata": {},
     "output_type": "execute_result"
    }
   ],
   "source": [
    "prce.get_graph(isocurves='on')"
   ]
  },
  {
   "cell_type": "markdown",
   "metadata": {
    "ExecuteTime": {
     "end_time": "2021-02-05T10:03:05.945149Z",
     "start_time": "2021-02-05T10:03:05.854099Z"
    }
   },
   "source": [
    "## Gini in Time Evaluator"
   ]
  },
  {
   "cell_type": "code",
   "execution_count": 48,
   "metadata": {
    "ExecuteTime": {
     "end_time": "2021-11-09T13:10:31.425132Z",
     "start_time": "2021-11-09T13:10:31.287111Z"
    }
   },
   "outputs": [],
   "source": [
    "from mofr.basic_evaluators.GiniInTime import GiniInTimeEvaluator\n",
    "\n",
    "gite=GiniInTimeEvaluator()"
   ]
  },
  {
   "cell_type": "code",
   "execution_count": 49,
   "metadata": {
    "ExecuteTime": {
     "end_time": "2021-11-09T13:10:31.548113Z",
     "start_time": "2021-11-09T13:10:31.428097Z"
    }
   },
   "outputs": [
    {
     "data": {
      "text/plain": []
     },
     "execution_count": 49,
     "metadata": {},
     "output_type": "execute_result"
    }
   ],
   "source": [
    "gite.d(df).t([('target','target_obs')]).s(['p_churn', 'semi_random_score','random_score']).tc('month')"
   ]
  },
  {
   "cell_type": "code",
   "execution_count": 50,
   "metadata": {
    "ExecuteTime": {
     "end_time": "2021-11-09T13:10:32.174132Z",
     "start_time": "2021-11-09T13:10:31.551134Z"
    }
   },
   "outputs": [
    {
     "data": {
      "image/png": "[encoded data removed]",
      "text/plain": [
       "<Figure size 504x576 with 1 Axes>"
      ]
     },
     "metadata": {
      "needs_background": "light"
     },
     "output_type": "display_data"
    },
    {
     "data": {
      "text/plain": []
     },
     "execution_count": 50,
     "metadata": {},
     "output_type": "execute_result"
    }
   ],
   "source": [
    "gite.get_graph()"
   ]
  },
  {
   "cell_type": "code",
   "execution_count": 51,
   "metadata": {
    "ExecuteTime": {
     "end_time": "2021-11-09T13:10:32.874304Z",
     "start_time": "2021-11-09T13:10:32.177096Z"
    }
   },
   "outputs": [
    {
     "data": {
      "text/html": [
       "<style  type=\"text/css\" >\n",
       "</style><table id=\"T_6b8a8170_415e_11ec_a99b_5c879c826b52\" style='display:inline'><caption>GINI on target \"target\"</caption><thead>    <tr>        <th class=\"blank level0\" ></th>        <th class=\"col_heading level0 col0\" >p_churn</th>        <th class=\"col_heading level0 col1\" >semi_random_score</th>        <th class=\"col_heading level0 col2\" >random_score</th>    </tr>    <tr>        <th class=\"index_name level0\" >month</th>        <th class=\"blank\" ></th>        <th class=\"blank\" ></th>        <th class=\"blank\" ></th>    </tr></thead><tbody>\n",
       "                <tr>\n",
       "                        <th id=\"T_6b8a8170_415e_11ec_a99b_5c879c826b52level0_row0\" class=\"row_heading level0 row0\" >202001</th>\n",
       "                        <td id=\"T_6b8a8170_415e_11ec_a99b_5c879c826b52row0_col0\" class=\"data row0 col0\" >0.708616</td>\n",
       "                        <td id=\"T_6b8a8170_415e_11ec_a99b_5c879c826b52row0_col1\" class=\"data row0 col1\" >0.303552</td>\n",
       "                        <td id=\"T_6b8a8170_415e_11ec_a99b_5c879c826b52row0_col2\" class=\"data row0 col2\" >-0.005891</td>\n",
       "            </tr>\n",
       "            <tr>\n",
       "                        <th id=\"T_6b8a8170_415e_11ec_a99b_5c879c826b52level0_row1\" class=\"row_heading level0 row1\" >202002</th>\n",
       "                        <td id=\"T_6b8a8170_415e_11ec_a99b_5c879c826b52row1_col0\" class=\"data row1 col0\" >0.719931</td>\n",
       "                        <td id=\"T_6b8a8170_415e_11ec_a99b_5c879c826b52row1_col1\" class=\"data row1 col1\" >0.316929</td>\n",
       "                        <td id=\"T_6b8a8170_415e_11ec_a99b_5c879c826b52row1_col2\" class=\"data row1 col2\" >-0.021369</td>\n",
       "            </tr>\n",
       "            <tr>\n",
       "                        <th id=\"T_6b8a8170_415e_11ec_a99b_5c879c826b52level0_row2\" class=\"row_heading level0 row2\" >202003</th>\n",
       "                        <td id=\"T_6b8a8170_415e_11ec_a99b_5c879c826b52row2_col0\" class=\"data row2 col0\" >0.708732</td>\n",
       "                        <td id=\"T_6b8a8170_415e_11ec_a99b_5c879c826b52row2_col1\" class=\"data row2 col1\" >0.281826</td>\n",
       "                        <td id=\"T_6b8a8170_415e_11ec_a99b_5c879c826b52row2_col2\" class=\"data row2 col2\" >-0.032117</td>\n",
       "            </tr>\n",
       "            <tr>\n",
       "                        <th id=\"T_6b8a8170_415e_11ec_a99b_5c879c826b52level0_row3\" class=\"row_heading level0 row3\" >All</th>\n",
       "                        <td id=\"T_6b8a8170_415e_11ec_a99b_5c879c826b52row3_col0\" class=\"data row3 col0\" >0.712179</td>\n",
       "                        <td id=\"T_6b8a8170_415e_11ec_a99b_5c879c826b52row3_col1\" class=\"data row3 col1\" >0.300179</td>\n",
       "                        <td id=\"T_6b8a8170_415e_11ec_a99b_5c879c826b52row3_col2\" class=\"data row3 col2\" >-0.019973</td>\n",
       "            </tr>\n",
       "    </tbody></table>"
      ],
      "text/plain": [
       "<pandas.io.formats.style.Styler at 0x1d3543d0>"
      ]
     },
     "execution_count": 51,
     "metadata": {},
     "output_type": "execute_result"
    }
   ],
   "source": [
    "gite.get_table()\n",
    "gite.table"
   ]
  },
  {
   "cell_type": "markdown",
   "metadata": {
    "ExecuteTime": {
     "end_time": "2021-02-05T10:03:05.945149Z",
     "start_time": "2021-02-05T10:03:05.854099Z"
    }
   },
   "source": [
    "## Lift in Time Evaluator"
   ]
  },
  {
   "cell_type": "code",
   "execution_count": 52,
   "metadata": {
    "ExecuteTime": {
     "end_time": "2021-11-09T13:10:33.015333Z",
     "start_time": "2021-11-09T13:10:32.877295Z"
    }
   },
   "outputs": [],
   "source": [
    "from mofr.basic_evaluators.LiftInTime import LiftInTimeEvaluator\n",
    "\n",
    "lite=LiftInTimeEvaluator()"
   ]
  },
  {
   "cell_type": "code",
   "execution_count": 53,
   "metadata": {
    "ExecuteTime": {
     "end_time": "2021-11-09T13:10:33.140295Z",
     "start_time": "2021-11-09T13:10:33.018300Z"
    }
   },
   "outputs": [
    {
     "data": {
      "text/plain": []
     },
     "execution_count": 53,
     "metadata": {},
     "output_type": "execute_result"
    }
   ],
   "source": [
    "lite.d(df).t([('target','target_obs')]).s(['p_churn', 'semi_random_score','random_score']).tc('month')"
   ]
  },
  {
   "cell_type": "code",
   "execution_count": 54,
   "metadata": {
    "ExecuteTime": {
     "end_time": "2021-11-09T13:10:33.832296Z",
     "start_time": "2021-11-09T13:10:33.142318Z"
    }
   },
   "outputs": [
    {
     "data": {
      "image/png": "[encoded data removed]",
      "text/plain": [
       "<Figure size 504x576 with 1 Axes>"
      ]
     },
     "metadata": {
      "needs_background": "light"
     },
     "output_type": "display_data"
    },
    {
     "data": {
      "text/plain": []
     },
     "execution_count": 54,
     "metadata": {},
     "output_type": "execute_result"
    }
   ],
   "source": [
    "lite.get_graph()"
   ]
  },
  {
   "cell_type": "code",
   "execution_count": 55,
   "metadata": {
    "ExecuteTime": {
     "end_time": "2021-11-09T13:10:34.238293Z",
     "start_time": "2021-11-09T13:10:33.834297Z"
    }
   },
   "outputs": [
    {
     "data": {
      "text/html": [
       "<style  type=\"text/css\" >\n",
       "</style><table id=\"T_6c59de7a_415e_11ec_bb75_5c879c826b52\" style='display:inline'><caption>Lift on target \"target\"</caption><thead>    <tr>        <th class=\"blank level0\" ></th>        <th class=\"col_heading level0 col0\" >p_churn</th>        <th class=\"col_heading level0 col1\" >semi_random_score</th>        <th class=\"col_heading level0 col2\" >random_score</th>    </tr>    <tr>        <th class=\"index_name level0\" >month</th>        <th class=\"blank\" ></th>        <th class=\"blank\" ></th>        <th class=\"blank\" ></th>    </tr></thead><tbody>\n",
       "                <tr>\n",
       "                        <th id=\"T_6c59de7a_415e_11ec_bb75_5c879c826b52level0_row0\" class=\"row_heading level0 row0\" >202001</th>\n",
       "                        <td id=\"T_6c59de7a_415e_11ec_bb75_5c879c826b52row0_col0\" class=\"data row0 col0\" >2.372336</td>\n",
       "                        <td id=\"T_6c59de7a_415e_11ec_bb75_5c879c826b52row0_col1\" class=\"data row0 col1\" >2.069485</td>\n",
       "                        <td id=\"T_6c59de7a_415e_11ec_bb75_5c879c826b52row0_col2\" class=\"data row0 col2\" >1.009505</td>\n",
       "            </tr>\n",
       "            <tr>\n",
       "                        <th id=\"T_6c59de7a_415e_11ec_bb75_5c879c826b52level0_row1\" class=\"row_heading level0 row1\" >202002</th>\n",
       "                        <td id=\"T_6c59de7a_415e_11ec_bb75_5c879c826b52row1_col0\" class=\"data row1 col0\" >2.289724</td>\n",
       "                        <td id=\"T_6c59de7a_415e_11ec_bb75_5c879c826b52row1_col1\" class=\"data row1 col1\" >2.007656</td>\n",
       "                        <td id=\"T_6c59de7a_415e_11ec_bb75_5c879c826b52row1_col2\" class=\"data row1 col2\" >0.945756</td>\n",
       "            </tr>\n",
       "            <tr>\n",
       "                        <th id=\"T_6c59de7a_415e_11ec_bb75_5c879c826b52level0_row2\" class=\"row_heading level0 row2\" >202003</th>\n",
       "                        <td id=\"T_6c59de7a_415e_11ec_bb75_5c879c826b52row2_col0\" class=\"data row2 col0\" >2.250742</td>\n",
       "                        <td id=\"T_6c59de7a_415e_11ec_bb75_5c879c826b52row2_col1\" class=\"data row2 col1\" >2.038715</td>\n",
       "                        <td id=\"T_6c59de7a_415e_11ec_bb75_5c879c826b52row2_col2\" class=\"data row2 col2\" >0.848106</td>\n",
       "            </tr>\n",
       "            <tr>\n",
       "                        <th id=\"T_6c59de7a_415e_11ec_bb75_5c879c826b52level0_row3\" class=\"row_heading level0 row3\" >All</th>\n",
       "                        <td id=\"T_6c59de7a_415e_11ec_bb75_5c879c826b52row3_col0\" class=\"data row3 col0\" >2.306531</td>\n",
       "                        <td id=\"T_6c59de7a_415e_11ec_bb75_5c879c826b52row3_col1\" class=\"data row3 col1\" >2.013375</td>\n",
       "                        <td id=\"T_6c59de7a_415e_11ec_bb75_5c879c826b52row3_col2\" class=\"data row3 col2\" >0.940312</td>\n",
       "            </tr>\n",
       "    </tbody></table>"
      ],
      "text/plain": [
       "<pandas.io.formats.style.Styler at 0x1d307490>"
      ]
     },
     "execution_count": 55,
     "metadata": {},
     "output_type": "execute_result"
    }
   ],
   "source": [
    "lite.get_table()\n",
    "lite.table"
   ]
  },
  {
   "cell_type": "markdown",
   "metadata": {
    "ExecuteTime": {
     "end_time": "2021-02-05T10:03:05.945149Z",
     "start_time": "2021-02-05T10:03:05.854099Z"
    }
   },
   "source": [
    "## KS in Time Evaluator"
   ]
  },
  {
   "cell_type": "code",
   "execution_count": 56,
   "metadata": {
    "ExecuteTime": {
     "end_time": "2021-11-09T13:10:34.394297Z",
     "start_time": "2021-11-09T13:10:34.241296Z"
    }
   },
   "outputs": [],
   "source": [
    "from mofr.basic_evaluators.KSInTime import KSInTimeEvaluator\n",
    "\n",
    "kite=KSInTimeEvaluator()"
   ]
  },
  {
   "cell_type": "code",
   "execution_count": 57,
   "metadata": {
    "ExecuteTime": {
     "end_time": "2021-11-09T13:10:34.535299Z",
     "start_time": "2021-11-09T13:10:34.397296Z"
    }
   },
   "outputs": [
    {
     "data": {
      "text/plain": []
     },
     "execution_count": 57,
     "metadata": {},
     "output_type": "execute_result"
    }
   ],
   "source": [
    "kite.d(df).t([('target','target_obs')]).s(['p_churn', 'semi_random_score','random_score']).tc('month')"
   ]
  },
  {
   "cell_type": "code",
   "execution_count": 58,
   "metadata": {
    "ExecuteTime": {
     "end_time": "2021-11-09T13:10:35.435332Z",
     "start_time": "2021-11-09T13:10:34.538307Z"
    }
   },
   "outputs": [
    {
     "data": {
      "image/png": "[encoded data removed]",
      "text/plain": [
       "<Figure size 504x576 with 1 Axes>"
      ]
     },
     "metadata": {
      "needs_background": "light"
     },
     "output_type": "display_data"
    },
    {
     "data": {
      "text/plain": []
     },
     "execution_count": 58,
     "metadata": {},
     "output_type": "execute_result"
    }
   ],
   "source": [
    "kite.get_graph()"
   ]
  },
  {
   "cell_type": "code",
   "execution_count": 59,
   "metadata": {
    "ExecuteTime": {
     "end_time": "2021-11-09T13:10:36.378293Z",
     "start_time": "2021-11-09T13:10:35.438302Z"
    }
   },
   "outputs": [
    {
     "data": {
      "text/html": [
       "<style  type=\"text/css\" >\n",
       "</style><table id=\"T_6da1a07a_415e_11ec_9ca1_5c879c826b52\" style='display:inline'><caption>KS on target \"target\"</caption><thead>    <tr>        <th class=\"blank level0\" ></th>        <th class=\"col_heading level0 col0\" >p_churn</th>        <th class=\"col_heading level0 col1\" >semi_random_score</th>        <th class=\"col_heading level0 col2\" >random_score</th>    </tr>    <tr>        <th class=\"index_name level0\" >month</th>        <th class=\"blank\" ></th>        <th class=\"blank\" ></th>        <th class=\"blank\" ></th>    </tr></thead><tbody>\n",
       "                <tr>\n",
       "                        <th id=\"T_6da1a07a_415e_11ec_9ca1_5c879c826b52level0_row0\" class=\"row_heading level0 row0\" >202001</th>\n",
       "                        <td id=\"T_6da1a07a_415e_11ec_9ca1_5c879c826b52row0_col0\" class=\"data row0 col0\" >0.573261</td>\n",
       "                        <td id=\"T_6da1a07a_415e_11ec_9ca1_5c879c826b52row0_col1\" class=\"data row0 col1\" >0.224086</td>\n",
       "                        <td id=\"T_6da1a07a_415e_11ec_9ca1_5c879c826b52row0_col2\" class=\"data row0 col2\" >0.025943</td>\n",
       "            </tr>\n",
       "            <tr>\n",
       "                        <th id=\"T_6da1a07a_415e_11ec_9ca1_5c879c826b52level0_row1\" class=\"row_heading level0 row1\" >202002</th>\n",
       "                        <td id=\"T_6da1a07a_415e_11ec_9ca1_5c879c826b52row1_col0\" class=\"data row1 col0\" >0.598480</td>\n",
       "                        <td id=\"T_6da1a07a_415e_11ec_9ca1_5c879c826b52row1_col1\" class=\"data row1 col1\" >0.239580</td>\n",
       "                        <td id=\"T_6da1a07a_415e_11ec_9ca1_5c879c826b52row1_col2\" class=\"data row1 col2\" >0.033624</td>\n",
       "            </tr>\n",
       "            <tr>\n",
       "                        <th id=\"T_6da1a07a_415e_11ec_9ca1_5c879c826b52level0_row2\" class=\"row_heading level0 row2\" >202003</th>\n",
       "                        <td id=\"T_6da1a07a_415e_11ec_9ca1_5c879c826b52row2_col0\" class=\"data row2 col0\" >0.597021</td>\n",
       "                        <td id=\"T_6da1a07a_415e_11ec_9ca1_5c879c826b52row2_col1\" class=\"data row2 col1\" >0.221555</td>\n",
       "                        <td id=\"T_6da1a07a_415e_11ec_9ca1_5c879c826b52row2_col2\" class=\"data row2 col2\" >0.041743</td>\n",
       "            </tr>\n",
       "            <tr>\n",
       "                        <th id=\"T_6da1a07a_415e_11ec_9ca1_5c879c826b52level0_row3\" class=\"row_heading level0 row3\" >All</th>\n",
       "                        <td id=\"T_6da1a07a_415e_11ec_9ca1_5c879c826b52row3_col0\" class=\"data row3 col0\" >0.588207</td>\n",
       "                        <td id=\"T_6da1a07a_415e_11ec_9ca1_5c879c826b52row3_col1\" class=\"data row3 col1\" >0.224651</td>\n",
       "                        <td id=\"T_6da1a07a_415e_11ec_9ca1_5c879c826b52row3_col2\" class=\"data row3 col2\" >0.022081</td>\n",
       "            </tr>\n",
       "    </tbody></table>"
      ],
      "text/plain": [
       "<pandas.io.formats.style.Styler at 0x1d335ed0>"
      ]
     },
     "execution_count": 59,
     "metadata": {},
     "output_type": "execute_result"
    }
   ],
   "source": [
    "kite.get_table()\n",
    "kite.table"
   ]
  },
  {
   "cell_type": "markdown",
   "metadata": {
    "ExecuteTime": {
     "end_time": "2021-02-05T10:03:05.945149Z",
     "start_time": "2021-02-05T10:03:05.854099Z"
    }
   },
   "source": [
    "## StabilityInTimeCategorical Evaluator"
   ]
  },
  {
   "cell_type": "code",
   "execution_count": 60,
   "metadata": {
    "ExecuteTime": {
     "end_time": "2021-11-09T13:10:36.548315Z",
     "start_time": "2021-11-09T13:10:36.382296Z"
    }
   },
   "outputs": [],
   "source": [
    "df['categorical_predictor']=df['target_obs'].apply(lambda x: random.choice(['A','B','C', 'D', 'F', 'G', 'H']))"
   ]
  },
  {
   "cell_type": "code",
   "execution_count": 61,
   "metadata": {
    "ExecuteTime": {
     "end_time": "2021-11-09T13:10:36.752298Z",
     "start_time": "2021-11-09T13:10:36.552296Z"
    }
   },
   "outputs": [],
   "source": [
    "from mofr.basic_evaluators.StabilityInTimeCategorical import StabilityInTimeCategoricalEvaluator\n",
    "\n",
    "sitcae=StabilityInTimeCategoricalEvaluator()"
   ]
  },
  {
   "cell_type": "code",
   "execution_count": 62,
   "metadata": {
    "ExecuteTime": {
     "end_time": "2021-11-09T13:10:36.985296Z",
     "start_time": "2021-11-09T13:10:36.758307Z"
    }
   },
   "outputs": [
    {
     "data": {
      "text/plain": []
     },
     "execution_count": 62,
     "metadata": {},
     "output_type": "execute_result"
    }
   ],
   "source": [
    "sitcae.d(df).pc('categorical_predictor').tc('month')"
   ]
  },
  {
   "cell_type": "code",
   "execution_count": 63,
   "metadata": {
    "ExecuteTime": {
     "end_time": "2021-11-09T13:10:37.640497Z",
     "start_time": "2021-11-09T13:10:36.991300Z"
    }
   },
   "outputs": [
    {
     "data": {
      "image/png": "[encoded data removed]",
      "text/plain": [
       "<Figure size 504x576 with 1 Axes>"
      ]
     },
     "metadata": {
      "needs_background": "light"
     },
     "output_type": "display_data"
    },
    {
     "data": {
      "text/plain": []
     },
     "execution_count": 63,
     "metadata": {},
     "output_type": "execute_result"
    }
   ],
   "source": [
    "sitcae.get_graph()"
   ]
  },
  {
   "cell_type": "code",
   "execution_count": 64,
   "metadata": {
    "ExecuteTime": {
     "end_time": "2021-11-09T13:10:37.810842Z",
     "start_time": "2021-11-09T13:10:37.642457Z"
    }
   },
   "outputs": [
    {
     "data": {
      "text/html": [
       "<style  type=\"text/css\" >\n",
       "</style><table id=\"T_6e7ac8d0_415e_11ec_b0e3_5c879c826b52\" style='display:inline'><caption>Distribution of predictor \"categorical_predictor\" in time</caption><thead>    <tr>        <th class=\"index_name level0\" >categorical_predictor</th>        <th class=\"col_heading level0 col0\" >A</th>        <th class=\"col_heading level0 col1\" >B</th>        <th class=\"col_heading level0 col2\" >C</th>        <th class=\"col_heading level0 col3\" >D</th>        <th class=\"col_heading level0 col4\" >F</th>        <th class=\"col_heading level0 col5\" >G</th>        <th class=\"col_heading level0 col6\" >H</th>    </tr>    <tr>        <th class=\"index_name level0\" >month</th>        <th class=\"blank\" ></th>        <th class=\"blank\" ></th>        <th class=\"blank\" ></th>        <th class=\"blank\" ></th>        <th class=\"blank\" ></th>        <th class=\"blank\" ></th>        <th class=\"blank\" ></th>    </tr></thead><tbody>\n",
       "                <tr>\n",
       "                        <th id=\"T_6e7ac8d0_415e_11ec_b0e3_5c879c826b52level0_row0\" class=\"row_heading level0 row0\" >202001</th>\n",
       "                        <td id=\"T_6e7ac8d0_415e_11ec_b0e3_5c879c826b52row0_col0\" class=\"data row0 col0\" >0.142749</td>\n",
       "                        <td id=\"T_6e7ac8d0_415e_11ec_b0e3_5c879c826b52row0_col1\" class=\"data row0 col1\" >0.143128</td>\n",
       "                        <td id=\"T_6e7ac8d0_415e_11ec_b0e3_5c879c826b52row0_col2\" class=\"data row0 col2\" >0.132498</td>\n",
       "                        <td id=\"T_6e7ac8d0_415e_11ec_b0e3_5c879c826b52row0_col3\" class=\"data row0 col3\" >0.146545</td>\n",
       "                        <td id=\"T_6e7ac8d0_415e_11ec_b0e3_5c879c826b52row0_col4\" class=\"data row0 col4\" >0.137054</td>\n",
       "                        <td id=\"T_6e7ac8d0_415e_11ec_b0e3_5c879c826b52row0_col5\" class=\"data row0 col5\" >0.143888</td>\n",
       "                        <td id=\"T_6e7ac8d0_415e_11ec_b0e3_5c879c826b52row0_col6\" class=\"data row0 col6\" >0.154138</td>\n",
       "            </tr>\n",
       "            <tr>\n",
       "                        <th id=\"T_6e7ac8d0_415e_11ec_b0e3_5c879c826b52level0_row1\" class=\"row_heading level0 row1\" >202002</th>\n",
       "                        <td id=\"T_6e7ac8d0_415e_11ec_b0e3_5c879c826b52row1_col0\" class=\"data row1 col0\" >0.144994</td>\n",
       "                        <td id=\"T_6e7ac8d0_415e_11ec_b0e3_5c879c826b52row1_col1\" class=\"data row1 col1\" >0.138473</td>\n",
       "                        <td id=\"T_6e7ac8d0_415e_11ec_b0e3_5c879c826b52row1_col2\" class=\"data row1 col2\" >0.142693</td>\n",
       "                        <td id=\"T_6e7ac8d0_415e_11ec_b0e3_5c879c826b52row1_col3\" class=\"data row1 col3\" >0.137706</td>\n",
       "                        <td id=\"T_6e7ac8d0_415e_11ec_b0e3_5c879c826b52row1_col4\" class=\"data row1 col4\" >0.135788</td>\n",
       "                        <td id=\"T_6e7ac8d0_415e_11ec_b0e3_5c879c826b52row1_col5\" class=\"data row1 col5\" >0.139624</td>\n",
       "                        <td id=\"T_6e7ac8d0_415e_11ec_b0e3_5c879c826b52row1_col6\" class=\"data row1 col6\" >0.160721</td>\n",
       "            </tr>\n",
       "            <tr>\n",
       "                        <th id=\"T_6e7ac8d0_415e_11ec_b0e3_5c879c826b52level0_row2\" class=\"row_heading level0 row2\" >202003</th>\n",
       "                        <td id=\"T_6e7ac8d0_415e_11ec_b0e3_5c879c826b52row2_col0\" class=\"data row2 col0\" >0.150092</td>\n",
       "                        <td id=\"T_6e7ac8d0_415e_11ec_b0e3_5c879c826b52row2_col1\" class=\"data row2 col1\" >0.137153</td>\n",
       "                        <td id=\"T_6e7ac8d0_415e_11ec_b0e3_5c879c826b52row2_col2\" class=\"data row2 col2\" >0.156747</td>\n",
       "                        <td id=\"T_6e7ac8d0_415e_11ec_b0e3_5c879c826b52row2_col3\" class=\"data row2 col3\" >0.145656</td>\n",
       "                        <td id=\"T_6e7ac8d0_415e_11ec_b0e3_5c879c826b52row2_col4\" class=\"data row2 col4\" >0.141590</td>\n",
       "                        <td id=\"T_6e7ac8d0_415e_11ec_b0e3_5c879c826b52row2_col5\" class=\"data row2 col5\" >0.139741</td>\n",
       "                        <td id=\"T_6e7ac8d0_415e_11ec_b0e3_5c879c826b52row2_col6\" class=\"data row2 col6\" >0.129020</td>\n",
       "            </tr>\n",
       "    </tbody></table>"
      ],
      "text/plain": [
       "<pandas.io.formats.style.Styler at 0x1d5b4a10>"
      ]
     },
     "execution_count": 64,
     "metadata": {},
     "output_type": "execute_result"
    }
   ],
   "source": [
    "sitcae.get_table()\n",
    "sitcae.table"
   ]
  },
  {
   "cell_type": "markdown",
   "metadata": {
    "ExecuteTime": {
     "end_time": "2021-02-05T10:03:05.945149Z",
     "start_time": "2021-02-05T10:03:05.854099Z"
    }
   },
   "source": [
    "## StabilityInTimeContinuous Evaluator"
   ]
  },
  {
   "cell_type": "code",
   "execution_count": 65,
   "metadata": {
    "ExecuteTime": {
     "end_time": "2021-11-09T13:10:37.952862Z",
     "start_time": "2021-11-09T13:10:37.814854Z"
    }
   },
   "outputs": [],
   "source": [
    "from mofr.basic_evaluators.StabilityInTimeContinuous import StabilityInTimeContinuousEvaluator\n",
    "\n",
    "sitcoe=StabilityInTimeContinuousEvaluator()"
   ]
  },
  {
   "cell_type": "code",
   "execution_count": 66,
   "metadata": {
    "ExecuteTime": {
     "end_time": "2021-11-09T13:10:38.125852Z",
     "start_time": "2021-11-09T13:10:37.956853Z"
    }
   },
   "outputs": [
    {
     "data": {
      "text/plain": []
     },
     "execution_count": 66,
     "metadata": {},
     "output_type": "execute_result"
    }
   ],
   "source": [
    "sitcoe.d(df).pc('p_churn').tc('month')"
   ]
  },
  {
   "cell_type": "code",
   "execution_count": 67,
   "metadata": {
    "ExecuteTime": {
     "end_time": "2021-11-09T13:10:38.807119Z",
     "start_time": "2021-11-09T13:10:38.128856Z"
    }
   },
   "outputs": [
    {
     "data": {
      "image/png": "[encoded data removed]",
      "text/plain": [
       "<Figure size 504x576 with 1 Axes>"
      ]
     },
     "metadata": {
      "needs_background": "light"
     },
     "output_type": "display_data"
    },
    {
     "data": {
      "text/plain": []
     },
     "execution_count": 67,
     "metadata": {},
     "output_type": "execute_result"
    }
   ],
   "source": [
    "sitcoe.get_graph()"
   ]
  },
  {
   "cell_type": "code",
   "execution_count": 68,
   "metadata": {
    "ExecuteTime": {
     "end_time": "2021-11-09T13:10:39.029864Z",
     "start_time": "2021-11-09T13:10:38.819883Z"
    }
   },
   "outputs": [
    {
     "data": {
      "text/html": [
       "<style  type=\"text/css\" >\n",
       "</style><table id=\"T_6f35011e_415e_11ec_abff_5c879c826b52\" style='display:inline'><caption>Distribution of predictor \"p_churn\" in time</caption><thead>    <tr>        <th class=\"blank level0\" ></th>        <th class=\"col_heading level0 col0\" >percentile_10</th>        <th class=\"col_heading level0 col1\" >percentile_25</th>        <th class=\"col_heading level0 col2\" >percentile_50</th>        <th class=\"col_heading level0 col3\" >percentile_75</th>        <th class=\"col_heading level0 col4\" >percentile_90</th>    </tr>    <tr>        <th class=\"index_name level0\" >month</th>        <th class=\"blank\" ></th>        <th class=\"blank\" ></th>        <th class=\"blank\" ></th>        <th class=\"blank\" ></th>        <th class=\"blank\" ></th>    </tr></thead><tbody>\n",
       "                <tr>\n",
       "                        <th id=\"T_6f35011e_415e_11ec_abff_5c879c826b52level0_row0\" class=\"row_heading level0 row0\" >202001</th>\n",
       "                        <td id=\"T_6f35011e_415e_11ec_abff_5c879c826b52row0_col0\" class=\"data row0 col0\" >0.001133</td>\n",
       "                        <td id=\"T_6f35011e_415e_11ec_abff_5c879c826b52row0_col1\" class=\"data row0 col1\" >0.003139</td>\n",
       "                        <td id=\"T_6f35011e_415e_11ec_abff_5c879c826b52row0_col2\" class=\"data row0 col2\" >0.020383</td>\n",
       "                        <td id=\"T_6f35011e_415e_11ec_abff_5c879c826b52row0_col3\" class=\"data row0 col3\" >0.249012</td>\n",
       "                        <td id=\"T_6f35011e_415e_11ec_abff_5c879c826b52row0_col4\" class=\"data row0 col4\" >0.394370</td>\n",
       "            </tr>\n",
       "            <tr>\n",
       "                        <th id=\"T_6f35011e_415e_11ec_abff_5c879c826b52level0_row1\" class=\"row_heading level0 row1\" >202002</th>\n",
       "                        <td id=\"T_6f35011e_415e_11ec_abff_5c879c826b52row1_col0\" class=\"data row1 col0\" >0.001113</td>\n",
       "                        <td id=\"T_6f35011e_415e_11ec_abff_5c879c826b52row1_col1\" class=\"data row1 col1\" >0.003052</td>\n",
       "                        <td id=\"T_6f35011e_415e_11ec_abff_5c879c826b52row1_col2\" class=\"data row1 col2\" >0.020998</td>\n",
       "                        <td id=\"T_6f35011e_415e_11ec_abff_5c879c826b52row1_col3\" class=\"data row1 col3\" >0.240226</td>\n",
       "                        <td id=\"T_6f35011e_415e_11ec_abff_5c879c826b52row1_col4\" class=\"data row1 col4\" >0.415378</td>\n",
       "            </tr>\n",
       "            <tr>\n",
       "                        <th id=\"T_6f35011e_415e_11ec_abff_5c879c826b52level0_row2\" class=\"row_heading level0 row2\" >202003</th>\n",
       "                        <td id=\"T_6f35011e_415e_11ec_abff_5c879c826b52row2_col0\" class=\"data row2 col0\" >0.001170</td>\n",
       "                        <td id=\"T_6f35011e_415e_11ec_abff_5c879c826b52row2_col1\" class=\"data row2 col1\" >0.003276</td>\n",
       "                        <td id=\"T_6f35011e_415e_11ec_abff_5c879c826b52row2_col2\" class=\"data row2 col2\" >0.024183</td>\n",
       "                        <td id=\"T_6f35011e_415e_11ec_abff_5c879c826b52row2_col3\" class=\"data row2 col3\" >0.254620</td>\n",
       "                        <td id=\"T_6f35011e_415e_11ec_abff_5c879c826b52row2_col4\" class=\"data row2 col4\" >0.400737</td>\n",
       "            </tr>\n",
       "    </tbody></table>"
      ],
      "text/plain": [
       "<pandas.io.formats.style.Styler at 0x1d7241b0>"
      ]
     },
     "execution_count": 68,
     "metadata": {},
     "output_type": "execute_result"
    }
   ],
   "source": [
    "sitcoe.get_table()\n",
    "sitcoe.table"
   ]
  },
  {
   "cell_type": "markdown",
   "metadata": {
    "ExecuteTime": {
     "end_time": "2021-02-05T10:03:05.945149Z",
     "start_time": "2021-02-05T10:03:05.854099Z"
    }
   },
   "source": [
    "## HistogramCategorical Evaluator"
   ]
  },
  {
   "cell_type": "code",
   "execution_count": 69,
   "metadata": {
    "ExecuteTime": {
     "end_time": "2021-11-09T13:10:39.204888Z",
     "start_time": "2021-11-09T13:10:39.037862Z"
    }
   },
   "outputs": [],
   "source": [
    "df['categorical_predictor']=df['target_obs'].apply(lambda x: random.choice(['A','B','C', 'D', 'F', 'G', 'H']))"
   ]
  },
  {
   "cell_type": "code",
   "execution_count": 70,
   "metadata": {
    "ExecuteTime": {
     "end_time": "2021-11-09T13:10:39.360853Z",
     "start_time": "2021-11-09T13:10:39.208853Z"
    }
   },
   "outputs": [],
   "source": [
    "from mofr.basic_evaluators.HistogramCategorical import HistogramCategoricalEvaluator\n",
    "\n",
    "hcae=HistogramCategoricalEvaluator()"
   ]
  },
  {
   "cell_type": "code",
   "execution_count": 71,
   "metadata": {
    "ExecuteTime": {
     "end_time": "2021-11-09T13:10:39.514855Z",
     "start_time": "2021-11-09T13:10:39.364855Z"
    }
   },
   "outputs": [
    {
     "data": {
      "text/plain": []
     },
     "execution_count": 71,
     "metadata": {},
     "output_type": "execute_result"
    }
   ],
   "source": [
    "hcae.d(df).pc('categorical_predictor')"
   ]
  },
  {
   "cell_type": "code",
   "execution_count": 72,
   "metadata": {
    "ExecuteTime": {
     "end_time": "2021-11-09T13:10:40.073852Z",
     "start_time": "2021-11-09T13:10:39.517854Z"
    }
   },
   "outputs": [
    {
     "data": {
      "image/png": "[encoded data removed]",
      "text/plain": [
       "<Figure size 504x576 with 1 Axes>"
      ]
     },
     "metadata": {
      "needs_background": "light"
     },
     "output_type": "display_data"
    },
    {
     "data": {
      "text/plain": []
     },
     "execution_count": 72,
     "metadata": {},
     "output_type": "execute_result"
    }
   ],
   "source": [
    "hcae.get_graph()"
   ]
  },
  {
   "cell_type": "code",
   "execution_count": 73,
   "metadata": {
    "ExecuteTime": {
     "end_time": "2021-11-09T13:10:40.245854Z",
     "start_time": "2021-11-09T13:10:40.076856Z"
    }
   },
   "outputs": [
    {
     "data": {
      "text/html": [
       "<div>\n",
       "<style scoped>\n",
       "    .dataframe tbody tr th:only-of-type {\n",
       "        vertical-align: middle;\n",
       "    }\n",
       "\n",
       "    .dataframe tbody tr th {\n",
       "        vertical-align: top;\n",
       "    }\n",
       "\n",
       "    .dataframe thead th {\n",
       "        text-align: right;\n",
       "    }\n",
       "</style>\n",
       "<table border=\"1\" class=\"dataframe\">\n",
       "  <thead>\n",
       "    <tr style=\"text-align: right;\">\n",
       "      <th></th>\n",
       "      <th>categorical_predictor %</th>\n",
       "      <th>categorical_predictor</th>\n",
       "    </tr>\n",
       "  </thead>\n",
       "  <tbody>\n",
       "    <tr>\n",
       "      <th>F</th>\n",
       "      <td>0.147496</td>\n",
       "      <td>1172</td>\n",
       "    </tr>\n",
       "    <tr>\n",
       "      <th>C</th>\n",
       "      <td>0.144727</td>\n",
       "      <td>1150</td>\n",
       "    </tr>\n",
       "    <tr>\n",
       "      <th>B</th>\n",
       "      <td>0.144475</td>\n",
       "      <td>1148</td>\n",
       "    </tr>\n",
       "    <tr>\n",
       "      <th>D</th>\n",
       "      <td>0.141203</td>\n",
       "      <td>1122</td>\n",
       "    </tr>\n",
       "    <tr>\n",
       "      <th>H</th>\n",
       "      <td>0.140826</td>\n",
       "      <td>1119</td>\n",
       "    </tr>\n",
       "    <tr>\n",
       "      <th>G</th>\n",
       "      <td>0.140826</td>\n",
       "      <td>1119</td>\n",
       "    </tr>\n",
       "    <tr>\n",
       "      <th>A</th>\n",
       "      <td>0.140448</td>\n",
       "      <td>1116</td>\n",
       "    </tr>\n",
       "  </tbody>\n",
       "</table>\n",
       "</div>"
      ],
      "text/plain": [
       "   categorical_predictor %  categorical_predictor\n",
       "F                 0.147496                   1172\n",
       "C                 0.144727                   1150\n",
       "B                 0.144475                   1148\n",
       "D                 0.141203                   1122\n",
       "H                 0.140826                   1119\n",
       "G                 0.140826                   1119\n",
       "A                 0.140448                   1116"
      ]
     },
     "execution_count": 73,
     "metadata": {},
     "output_type": "execute_result"
    }
   ],
   "source": [
    "hcae.get_table()\n",
    "pd.DataFrame(hcae.table)"
   ]
  },
  {
   "cell_type": "markdown",
   "metadata": {
    "ExecuteTime": {
     "end_time": "2021-02-05T10:03:05.945149Z",
     "start_time": "2021-02-05T10:03:05.854099Z"
    }
   },
   "source": [
    "## HistogramContinuous Evaluator"
   ]
  },
  {
   "cell_type": "code",
   "execution_count": 74,
   "metadata": {
    "ExecuteTime": {
     "end_time": "2021-11-09T13:10:40.403956Z",
     "start_time": "2021-11-09T13:10:40.249857Z"
    }
   },
   "outputs": [],
   "source": [
    "from mofr.basic_evaluators.HistogramContinuous import HistogramContinuousEvaluator\n",
    "\n",
    "hcoe=HistogramContinuousEvaluator()"
   ]
  },
  {
   "cell_type": "code",
   "execution_count": 75,
   "metadata": {
    "ExecuteTime": {
     "end_time": "2021-11-09T13:10:40.531889Z",
     "start_time": "2021-11-09T13:10:40.405890Z"
    }
   },
   "outputs": [
    {
     "data": {
      "text/plain": []
     },
     "execution_count": 75,
     "metadata": {},
     "output_type": "execute_result"
    }
   ],
   "source": [
    "hcoe.d(df).pc('p_churn')"
   ]
  },
  {
   "cell_type": "code",
   "execution_count": 76,
   "metadata": {
    "ExecuteTime": {
     "end_time": "2021-11-09T13:10:40.975850Z",
     "start_time": "2021-11-09T13:10:40.533853Z"
    },
    "scrolled": false
   },
   "outputs": [
    {
     "data": {
      "image/png": "[encoded data removed]",
      "text/plain": [
       "<Figure size 504x576 with 1 Axes>"
      ]
     },
     "metadata": {
      "needs_background": "light"
     },
     "output_type": "display_data"
    },
    {
     "data": {
      "text/plain": []
     },
     "execution_count": 76,
     "metadata": {},
     "output_type": "execute_result"
    }
   ],
   "source": [
    "hcoe.get_graph()"
   ]
  },
  {
   "cell_type": "code",
   "execution_count": 77,
   "metadata": {
    "ExecuteTime": {
     "end_time": "2021-11-09T13:10:41.163890Z",
     "start_time": "2021-11-09T13:10:40.978886Z"
    },
    "scrolled": true
   },
   "outputs": [
    {
     "data": {
      "text/html": [
       "<style  type=\"text/css\" >\n",
       "</style><table id=\"T_707ac6f6_415e_11ec_b402_5c879c826b52\" style='display:inline'><caption>Percentiles of predictor \"p_churn\"</caption><thead>    <tr>        <th class=\"index_name level0\" ></th>        <th class=\"col_heading level0 col0\" >p_churn</th>    </tr></thead><tbody>\n",
       "                <tr>\n",
       "                        <th id=\"T_707ac6f6_415e_11ec_b402_5c879c826b52level0_row0\" class=\"row_heading level0 row0\" >percentile_10</th>\n",
       "                        <td id=\"T_707ac6f6_415e_11ec_b402_5c879c826b52row0_col0\" class=\"data row0 col0\" >0.001139</td>\n",
       "            </tr>\n",
       "            <tr>\n",
       "                        <th id=\"T_707ac6f6_415e_11ec_b402_5c879c826b52level0_row1\" class=\"row_heading level0 row1\" >percentile_25</th>\n",
       "                        <td id=\"T_707ac6f6_415e_11ec_b402_5c879c826b52row1_col0\" class=\"data row1 col0\" >0.003166</td>\n",
       "            </tr>\n",
       "            <tr>\n",
       "                        <th id=\"T_707ac6f6_415e_11ec_b402_5c879c826b52level0_row2\" class=\"row_heading level0 row2\" >percentile_50</th>\n",
       "                        <td id=\"T_707ac6f6_415e_11ec_b402_5c879c826b52row2_col0\" class=\"data row2 col0\" >0.021627</td>\n",
       "            </tr>\n",
       "            <tr>\n",
       "                        <th id=\"T_707ac6f6_415e_11ec_b402_5c879c826b52level0_row3\" class=\"row_heading level0 row3\" >percentile_75</th>\n",
       "                        <td id=\"T_707ac6f6_415e_11ec_b402_5c879c826b52row3_col0\" class=\"data row3 col0\" >0.247600</td>\n",
       "            </tr>\n",
       "            <tr>\n",
       "                        <th id=\"T_707ac6f6_415e_11ec_b402_5c879c826b52level0_row4\" class=\"row_heading level0 row4\" >percentile_90</th>\n",
       "                        <td id=\"T_707ac6f6_415e_11ec_b402_5c879c826b52row4_col0\" class=\"data row4 col0\" >0.401849</td>\n",
       "            </tr>\n",
       "    </tbody></table>"
      ],
      "text/plain": [
       "<pandas.io.formats.style.Styler at 0x1d488a10>"
      ]
     },
     "execution_count": 77,
     "metadata": {},
     "output_type": "execute_result"
    }
   ],
   "source": [
    "hcoe.get_table()\n",
    "hcoe.table"
   ]
  },
  {
   "cell_type": "markdown",
   "metadata": {
    "ExecuteTime": {
     "end_time": "2021-02-05T10:03:05.945149Z",
     "start_time": "2021-02-05T10:03:05.854099Z"
    }
   },
   "source": [
    "## TargetAssociationCategorical Evaluator"
   ]
  },
  {
   "cell_type": "code",
   "execution_count": 78,
   "metadata": {
    "ExecuteTime": {
     "end_time": "2021-11-09T13:10:41.306853Z",
     "start_time": "2021-11-09T13:10:41.165855Z"
    }
   },
   "outputs": [],
   "source": [
    "df['categorical_predictor']=df['target_obs'].apply(lambda x: random.choice(['A','B','C', 'D', 'F', 'G', 'H']))"
   ]
  },
  {
   "cell_type": "code",
   "execution_count": 79,
   "metadata": {
    "ExecuteTime": {
     "end_time": "2021-11-09T13:10:41.432881Z",
     "start_time": "2021-11-09T13:10:41.308853Z"
    }
   },
   "outputs": [],
   "source": [
    "from mofr.basic_evaluators.TargetAssociationCategorical import TargetAssociationCategoricalEvaluator\n",
    "\n",
    "tacae=TargetAssociationCategoricalEvaluator()"
   ]
  },
  {
   "cell_type": "code",
   "execution_count": 80,
   "metadata": {
    "ExecuteTime": {
     "end_time": "2021-11-09T13:10:41.559108Z",
     "start_time": "2021-11-09T13:10:41.434856Z"
    }
   },
   "outputs": [
    {
     "data": {
      "text/plain": []
     },
     "execution_count": 80,
     "metadata": {},
     "output_type": "execute_result"
    }
   ],
   "source": [
    "tacae.d(df).t([('target', 'target_obs')]).pc('categorical_predictor').tc('month')"
   ]
  },
  {
   "cell_type": "code",
   "execution_count": 81,
   "metadata": {
    "ExecuteTime": {
     "end_time": "2021-11-09T13:10:42.136880Z",
     "start_time": "2021-11-09T13:10:41.561856Z"
    }
   },
   "outputs": [
    {
     "data": {
      "image/png": "[encoded data removed]",
      "text/plain": [
       "<Figure size 504x576 with 1 Axes>"
      ]
     },
     "metadata": {
      "needs_background": "light"
     },
     "output_type": "display_data"
    },
    {
     "data": {
      "text/plain": []
     },
     "execution_count": 81,
     "metadata": {},
     "output_type": "execute_result"
    }
   ],
   "source": [
    "tacae.get_graph()"
   ]
  },
  {
   "cell_type": "code",
   "execution_count": 82,
   "metadata": {
    "ExecuteTime": {
     "end_time": "2021-11-09T13:10:42.367891Z",
     "start_time": "2021-11-09T13:10:42.139851Z"
    }
   },
   "outputs": [
    {
     "data": {
      "text/html": [
       "<style  type=\"text/css\" >\n",
       "</style><table id=\"T_713369e4_415e_11ec_aab5_5c879c826b52\" style='display:inline'><caption>Target association (default rate) of predictor \"categorical_predictor\" in time</caption><thead>    <tr>        <th class=\"index_name level0\" >categorical_predictor</th>        <th class=\"col_heading level0 col0\" >A</th>        <th class=\"col_heading level0 col1\" >B</th>        <th class=\"col_heading level0 col2\" >C</th>        <th class=\"col_heading level0 col3\" >D</th>        <th class=\"col_heading level0 col4\" >F</th>        <th class=\"col_heading level0 col5\" >G</th>        <th class=\"col_heading level0 col6\" >H</th>    </tr>    <tr>        <th class=\"index_name level0\" >month</th>        <th class=\"blank\" ></th>        <th class=\"blank\" ></th>        <th class=\"blank\" ></th>        <th class=\"blank\" ></th>        <th class=\"blank\" ></th>        <th class=\"blank\" ></th>        <th class=\"blank\" ></th>    </tr></thead><tbody>\n",
       "                <tr>\n",
       "                        <th id=\"T_713369e4_415e_11ec_aab5_5c879c826b52level0_row0\" class=\"row_heading level0 row0\" >202001</th>\n",
       "                        <td id=\"T_713369e4_415e_11ec_aab5_5c879c826b52row0_col0\" class=\"data row0 col0\" >0.145025</td>\n",
       "                        <td id=\"T_713369e4_415e_11ec_aab5_5c879c826b52row0_col1\" class=\"data row0 col1\" >0.161889</td>\n",
       "                        <td id=\"T_713369e4_415e_11ec_aab5_5c879c826b52row0_col2\" class=\"data row0 col2\" >0.143339</td>\n",
       "                        <td id=\"T_713369e4_415e_11ec_aab5_5c879c826b52row0_col3\" class=\"data row0 col3\" >0.160202</td>\n",
       "                        <td id=\"T_713369e4_415e_11ec_aab5_5c879c826b52row0_col4\" class=\"data row0 col4\" >0.158516</td>\n",
       "                        <td id=\"T_713369e4_415e_11ec_aab5_5c879c826b52row0_col5\" class=\"data row0 col5\" >0.112985</td>\n",
       "                        <td id=\"T_713369e4_415e_11ec_aab5_5c879c826b52row0_col6\" class=\"data row0 col6\" >0.118044</td>\n",
       "            </tr>\n",
       "            <tr>\n",
       "                        <th id=\"T_713369e4_415e_11ec_aab5_5c879c826b52level0_row1\" class=\"row_heading level0 row1\" >202002</th>\n",
       "                        <td id=\"T_713369e4_415e_11ec_aab5_5c879c826b52row1_col0\" class=\"data row1 col0\" >0.152824</td>\n",
       "                        <td id=\"T_713369e4_415e_11ec_aab5_5c879c826b52row1_col1\" class=\"data row1 col1\" >0.134551</td>\n",
       "                        <td id=\"T_713369e4_415e_11ec_aab5_5c879c826b52row1_col2\" class=\"data row1 col2\" >0.134551</td>\n",
       "                        <td id=\"T_713369e4_415e_11ec_aab5_5c879c826b52row1_col3\" class=\"data row1 col3\" >0.134551</td>\n",
       "                        <td id=\"T_713369e4_415e_11ec_aab5_5c879c826b52row1_col4\" class=\"data row1 col4\" >0.146179</td>\n",
       "                        <td id=\"T_713369e4_415e_11ec_aab5_5c879c826b52row1_col5\" class=\"data row1 col5\" >0.152824</td>\n",
       "                        <td id=\"T_713369e4_415e_11ec_aab5_5c879c826b52row1_col6\" class=\"data row1 col6\" >0.144518</td>\n",
       "            </tr>\n",
       "            <tr>\n",
       "                        <th id=\"T_713369e4_415e_11ec_aab5_5c879c826b52level0_row2\" class=\"row_heading level0 row2\" >202003</th>\n",
       "                        <td id=\"T_713369e4_415e_11ec_aab5_5c879c826b52row2_col0\" class=\"data row2 col0\" >0.125817</td>\n",
       "                        <td id=\"T_713369e4_415e_11ec_aab5_5c879c826b52row2_col1\" class=\"data row2 col1\" >0.145425</td>\n",
       "                        <td id=\"T_713369e4_415e_11ec_aab5_5c879c826b52row2_col2\" class=\"data row2 col2\" >0.163399</td>\n",
       "                        <td id=\"T_713369e4_415e_11ec_aab5_5c879c826b52row2_col3\" class=\"data row2 col3\" >0.129085</td>\n",
       "                        <td id=\"T_713369e4_415e_11ec_aab5_5c879c826b52row2_col4\" class=\"data row2 col4\" >0.143791</td>\n",
       "                        <td id=\"T_713369e4_415e_11ec_aab5_5c879c826b52row2_col5\" class=\"data row2 col5\" >0.127451</td>\n",
       "                        <td id=\"T_713369e4_415e_11ec_aab5_5c879c826b52row2_col6\" class=\"data row2 col6\" >0.165033</td>\n",
       "            </tr>\n",
       "            <tr>\n",
       "                        <th id=\"T_713369e4_415e_11ec_aab5_5c879c826b52level0_row3\" class=\"row_heading level0 row3\" >All</th>\n",
       "                        <td id=\"T_713369e4_415e_11ec_aab5_5c879c826b52row3_col0\" class=\"data row3 col0\" >0.141118</td>\n",
       "                        <td id=\"T_713369e4_415e_11ec_aab5_5c879c826b52row3_col1\" class=\"data row3 col1\" >0.147205</td>\n",
       "                        <td id=\"T_713369e4_415e_11ec_aab5_5c879c826b52row3_col2\" class=\"data row3 col2\" >0.147205</td>\n",
       "                        <td id=\"T_713369e4_415e_11ec_aab5_5c879c826b52row3_col3\" class=\"data row3 col3\" >0.141118</td>\n",
       "                        <td id=\"T_713369e4_415e_11ec_aab5_5c879c826b52row3_col4\" class=\"data row3 col4\" >0.149419</td>\n",
       "                        <td id=\"T_713369e4_415e_11ec_aab5_5c879c826b52row3_col5\" class=\"data row3 col5\" >0.131157</td>\n",
       "                        <td id=\"T_713369e4_415e_11ec_aab5_5c879c826b52row3_col6\" class=\"data row3 col6\" >0.142778</td>\n",
       "            </tr>\n",
       "    </tbody></table>"
      ],
      "text/plain": [
       "<pandas.io.formats.style.Styler at 0x1d5c4b30>"
      ]
     },
     "execution_count": 82,
     "metadata": {},
     "output_type": "execute_result"
    }
   ],
   "source": [
    "tacae.get_table()\n",
    "tacae.table"
   ]
  },
  {
   "cell_type": "markdown",
   "metadata": {
    "ExecuteTime": {
     "end_time": "2021-02-05T10:03:05.945149Z",
     "start_time": "2021-02-05T10:03:05.854099Z"
    }
   },
   "source": [
    "## TargetAssociationContinuous Evaluator"
   ]
  },
  {
   "cell_type": "code",
   "execution_count": 117,
   "metadata": {
    "ExecuteTime": {
     "end_time": "2021-11-09T13:28:19.162421Z",
     "start_time": "2021-11-09T13:28:19.044046Z"
    }
   },
   "outputs": [],
   "source": [
    "from mofr.basic_evaluators.TargetAssociationContinuous import TargetAssociationContinuousEvaluator\n",
    "\n",
    "tacoe=TargetAssociationContinuousEvaluator()"
   ]
  },
  {
   "cell_type": "code",
   "execution_count": 118,
   "metadata": {
    "ExecuteTime": {
     "end_time": "2021-11-09T13:28:20.473601Z",
     "start_time": "2021-11-09T13:28:20.354330Z"
    }
   },
   "outputs": [
    {
     "data": {
      "text/plain": []
     },
     "execution_count": 118,
     "metadata": {},
     "output_type": "execute_result"
    }
   ],
   "source": [
    "tacoe.d(df).t([('target', 'target_obs')]).pc('p_churn').tc('month')"
   ]
  },
  {
   "cell_type": "code",
   "execution_count": 119,
   "metadata": {
    "ExecuteTime": {
     "end_time": "2021-11-09T13:28:22.292473Z",
     "start_time": "2021-11-09T13:28:21.743671Z"
    }
   },
   "outputs": [
    {
     "data": {
      "image/png": "[encoded data removed]",
      "text/plain": [
       "<Figure size 504x576 with 1 Axes>"
      ]
     },
     "metadata": {
      "needs_background": "light"
     },
     "output_type": "display_data"
    },
    {
     "data": {
      "text/plain": []
     },
     "execution_count": 119,
     "metadata": {},
     "output_type": "execute_result"
    }
   ],
   "source": [
    "tacoe.get_graph()"
   ]
  },
  {
   "cell_type": "code",
   "execution_count": 120,
   "metadata": {
    "ExecuteTime": {
     "end_time": "2021-11-09T13:28:23.895221Z",
     "start_time": "2021-11-09T13:28:23.583236Z"
    }
   },
   "outputs": [
    {
     "data": {
      "text/html": [
       "<style  type=\"text/css\" >\n",
       "</style><table id=\"T_e9e9f500_4160_11ec_9ada_5c879c826b52\" style='display:inline'><caption>Different aggregations of target variable \"target\" vs. the predictor \"p_churn\" values</caption><thead>    <tr>        <th class=\"blank level0\" ></th>        <th class=\"col_heading level0 col0\" colspan=4>count</th>        <th class=\"col_heading level0 col4\" colspan=4>sum</th>        <th class=\"col_heading level0 col8\" colspan=4>mean</th>        <th class=\"col_heading level0 col12\" colspan=4>logodds_</th>    </tr>    <tr>        <th class=\"index_name level1\" >month</th>        <th class=\"col_heading level1 col0\" >202001</th>        <th class=\"col_heading level1 col1\" >202002</th>        <th class=\"col_heading level1 col2\" >202003</th>        <th class=\"col_heading level1 col3\" >All</th>        <th class=\"col_heading level1 col4\" >202001</th>        <th class=\"col_heading level1 col5\" >202002</th>        <th class=\"col_heading level1 col6\" >202003</th>        <th class=\"col_heading level1 col7\" >All</th>        <th class=\"col_heading level1 col8\" >202001</th>        <th class=\"col_heading level1 col9\" >202002</th>        <th class=\"col_heading level1 col10\" >202003</th>        <th class=\"col_heading level1 col11\" >All</th>        <th class=\"col_heading level1 col12\" >202001</th>        <th class=\"col_heading level1 col13\" >202002</th>        <th class=\"col_heading level1 col14\" >202003</th>        <th class=\"col_heading level1 col15\" >All</th>    </tr>    <tr>        <th class=\"index_name level0\" >p_churn_binned</th>        <th class=\"blank\" ></th>        <th class=\"blank\" ></th>        <th class=\"blank\" ></th>        <th class=\"blank\" ></th>        <th class=\"blank\" ></th>        <th class=\"blank\" ></th>        <th class=\"blank\" ></th>        <th class=\"blank\" ></th>        <th class=\"blank\" ></th>        <th class=\"blank\" ></th>        <th class=\"blank\" ></th>        <th class=\"blank\" ></th>        <th class=\"blank\" ></th>        <th class=\"blank\" ></th>        <th class=\"blank\" ></th>        <th class=\"blank\" ></th>    </tr></thead><tbody>\n",
       "                <tr>\n",
       "                        <th id=\"T_e9e9f500_4160_11ec_9ada_5c879c826b52level0_row0\" class=\"row_heading level0 row0\" >(-0.000843, 0.2]</th>\n",
       "                        <td id=\"T_e9e9f500_4160_11ec_9ada_5c879c826b52row0_col0\" class=\"data row0 col0\" >1891</td>\n",
       "                        <td id=\"T_e9e9f500_4160_11ec_9ada_5c879c826b52row0_col1\" class=\"data row0 col1\" >1889</td>\n",
       "                        <td id=\"T_e9e9f500_4160_11ec_9ada_5c879c826b52row0_col2\" class=\"data row0 col2\" >1930</td>\n",
       "                        <td id=\"T_e9e9f500_4160_11ec_9ada_5c879c826b52row0_col3\" class=\"data row0 col3\" >5710</td>\n",
       "                        <td id=\"T_e9e9f500_4160_11ec_9ada_5c879c826b52row0_col4\" class=\"data row0 col4\" >177</td>\n",
       "                        <td id=\"T_e9e9f500_4160_11ec_9ada_5c879c826b52row0_col5\" class=\"data row0 col5\" >190</td>\n",
       "                        <td id=\"T_e9e9f500_4160_11ec_9ada_5c879c826b52row0_col6\" class=\"data row0 col6\" >180</td>\n",
       "                        <td id=\"T_e9e9f500_4160_11ec_9ada_5c879c826b52row0_col7\" class=\"data row0 col7\" >547</td>\n",
       "                        <td id=\"T_e9e9f500_4160_11ec_9ada_5c879c826b52row0_col8\" class=\"data row0 col8\" >0.093601</td>\n",
       "                        <td id=\"T_e9e9f500_4160_11ec_9ada_5c879c826b52row0_col9\" class=\"data row0 col9\" >0.100582</td>\n",
       "                        <td id=\"T_e9e9f500_4160_11ec_9ada_5c879c826b52row0_col10\" class=\"data row0 col10\" >0.093264</td>\n",
       "                        <td id=\"T_e9e9f500_4160_11ec_9ada_5c879c826b52row0_col11\" class=\"data row0 col11\" >0.095797</td>\n",
       "                        <td id=\"T_e9e9f500_4160_11ec_9ada_5c879c826b52row0_col12\" class=\"data row0 col12\" >-2.270435</td>\n",
       "                        <td id=\"T_e9e9f500_4160_11ec_9ada_5c879c826b52row0_col13\" class=\"data row0 col13\" >-2.190771</td>\n",
       "                        <td id=\"T_e9e9f500_4160_11ec_9ada_5c879c826b52row0_col14\" class=\"data row0 col14\" >-2.274414</td>\n",
       "                        <td id=\"T_e9e9f500_4160_11ec_9ada_5c879c826b52row0_col15\" class=\"data row0 col15\" >-2.244824</td>\n",
       "            </tr>\n",
       "            <tr>\n",
       "                        <th id=\"T_e9e9f500_4160_11ec_9ada_5c879c826b52level0_row1\" class=\"row_heading level0 row1\" >(0.2, 0.4]</th>\n",
       "                        <td id=\"T_e9e9f500_4160_11ec_9ada_5c879c826b52row1_col0\" class=\"data row1 col0\" >482</td>\n",
       "                        <td id=\"T_e9e9f500_4160_11ec_9ada_5c879c826b52row1_col1\" class=\"data row1 col1\" >454</td>\n",
       "                        <td id=\"T_e9e9f500_4160_11ec_9ada_5c879c826b52row1_col2\" class=\"data row1 col2\" >504</td>\n",
       "                        <td id=\"T_e9e9f500_4160_11ec_9ada_5c879c826b52row1_col3\" class=\"data row1 col3\" >1440</td>\n",
       "                        <td id=\"T_e9e9f500_4160_11ec_9ada_5c879c826b52row1_col4\" class=\"data row1 col4\" >277</td>\n",
       "                        <td id=\"T_e9e9f500_4160_11ec_9ada_5c879c826b52row1_col5\" class=\"data row1 col5\" >272</td>\n",
       "                        <td id=\"T_e9e9f500_4160_11ec_9ada_5c879c826b52row1_col6\" class=\"data row1 col6\" >294</td>\n",
       "                        <td id=\"T_e9e9f500_4160_11ec_9ada_5c879c826b52row1_col7\" class=\"data row1 col7\" >843</td>\n",
       "                        <td id=\"T_e9e9f500_4160_11ec_9ada_5c879c826b52row1_col8\" class=\"data row1 col8\" >0.574689</td>\n",
       "                        <td id=\"T_e9e9f500_4160_11ec_9ada_5c879c826b52row1_col9\" class=\"data row1 col9\" >0.599119</td>\n",
       "                        <td id=\"T_e9e9f500_4160_11ec_9ada_5c879c826b52row1_col10\" class=\"data row1 col10\" >0.583333</td>\n",
       "                        <td id=\"T_e9e9f500_4160_11ec_9ada_5c879c826b52row1_col11\" class=\"data row1 col11\" >0.585417</td>\n",
       "                        <td id=\"T_e9e9f500_4160_11ec_9ada_5c879c826b52row1_col12\" class=\"data row1 col12\" >0.301008</td>\n",
       "                        <td id=\"T_e9e9f500_4160_11ec_9ada_5c879c826b52row1_col13\" class=\"data row1 col13\" >0.401795</td>\n",
       "                        <td id=\"T_e9e9f500_4160_11ec_9ada_5c879c826b52row1_col14\" class=\"data row1 col14\" >0.336472</td>\n",
       "                        <td id=\"T_e9e9f500_4160_11ec_9ada_5c879c826b52row1_col15\" class=\"data row1 col15\" >0.345050</td>\n",
       "            </tr>\n",
       "            <tr>\n",
       "                        <th id=\"T_e9e9f500_4160_11ec_9ada_5c879c826b52level0_row2\" class=\"row_heading level0 row2\" >(0.4, 0.6]</th>\n",
       "                        <td id=\"T_e9e9f500_4160_11ec_9ada_5c879c826b52row2_col0\" class=\"data row2 col0\" >70</td>\n",
       "                        <td id=\"T_e9e9f500_4160_11ec_9ada_5c879c826b52row2_col1\" class=\"data row2 col1\" >92</td>\n",
       "                        <td id=\"T_e9e9f500_4160_11ec_9ada_5c879c826b52row2_col2\" class=\"data row2 col2\" >74</td>\n",
       "                        <td id=\"T_e9e9f500_4160_11ec_9ada_5c879c826b52row2_col3\" class=\"data row2 col3\" >236</td>\n",
       "                        <td id=\"T_e9e9f500_4160_11ec_9ada_5c879c826b52row2_col4\" class=\"data row2 col4\" >28</td>\n",
       "                        <td id=\"T_e9e9f500_4160_11ec_9ada_5c879c826b52row2_col5\" class=\"data row2 col5\" >35</td>\n",
       "                        <td id=\"T_e9e9f500_4160_11ec_9ada_5c879c826b52row2_col6\" class=\"data row2 col6\" >41</td>\n",
       "                        <td id=\"T_e9e9f500_4160_11ec_9ada_5c879c826b52row2_col7\" class=\"data row2 col7\" >104</td>\n",
       "                        <td id=\"T_e9e9f500_4160_11ec_9ada_5c879c826b52row2_col8\" class=\"data row2 col8\" >0.400000</td>\n",
       "                        <td id=\"T_e9e9f500_4160_11ec_9ada_5c879c826b52row2_col9\" class=\"data row2 col9\" >0.380435</td>\n",
       "                        <td id=\"T_e9e9f500_4160_11ec_9ada_5c879c826b52row2_col10\" class=\"data row2 col10\" >0.554054</td>\n",
       "                        <td id=\"T_e9e9f500_4160_11ec_9ada_5c879c826b52row2_col11\" class=\"data row2 col11\" >0.440678</td>\n",
       "                        <td id=\"T_e9e9f500_4160_11ec_9ada_5c879c826b52row2_col12\" class=\"data row2 col12\" >-0.405465</td>\n",
       "                        <td id=\"T_e9e9f500_4160_11ec_9ada_5c879c826b52row2_col13\" class=\"data row2 col13\" >-0.487703</td>\n",
       "                        <td id=\"T_e9e9f500_4160_11ec_9ada_5c879c826b52row2_col14\" class=\"data row2 col14\" >0.217065</td>\n",
       "                        <td id=\"T_e9e9f500_4160_11ec_9ada_5c879c826b52row2_col15\" class=\"data row2 col15\" >-0.238411</td>\n",
       "            </tr>\n",
       "            <tr>\n",
       "                        <th id=\"T_e9e9f500_4160_11ec_9ada_5c879c826b52level0_row3\" class=\"row_heading level0 row3\" >(0.6, 0.8]</th>\n",
       "                        <td id=\"T_e9e9f500_4160_11ec_9ada_5c879c826b52row3_col0\" class=\"data row3 col0\" >73</td>\n",
       "                        <td id=\"T_e9e9f500_4160_11ec_9ada_5c879c826b52row3_col1\" class=\"data row3 col1\" >72</td>\n",
       "                        <td id=\"T_e9e9f500_4160_11ec_9ada_5c879c826b52row3_col2\" class=\"data row3 col2\" >87</td>\n",
       "                        <td id=\"T_e9e9f500_4160_11ec_9ada_5c879c826b52row3_col3\" class=\"data row3 col3\" >232</td>\n",
       "                        <td id=\"T_e9e9f500_4160_11ec_9ada_5c879c826b52row3_col4\" class=\"data row3 col4\" >40</td>\n",
       "                        <td id=\"T_e9e9f500_4160_11ec_9ada_5c879c826b52row3_col5\" class=\"data row3 col5\" >40</td>\n",
       "                        <td id=\"T_e9e9f500_4160_11ec_9ada_5c879c826b52row3_col6\" class=\"data row3 col6\" >36</td>\n",
       "                        <td id=\"T_e9e9f500_4160_11ec_9ada_5c879c826b52row3_col7\" class=\"data row3 col7\" >116</td>\n",
       "                        <td id=\"T_e9e9f500_4160_11ec_9ada_5c879c826b52row3_col8\" class=\"data row3 col8\" >0.547945</td>\n",
       "                        <td id=\"T_e9e9f500_4160_11ec_9ada_5c879c826b52row3_col9\" class=\"data row3 col9\" >0.555556</td>\n",
       "                        <td id=\"T_e9e9f500_4160_11ec_9ada_5c879c826b52row3_col10\" class=\"data row3 col10\" >0.413793</td>\n",
       "                        <td id=\"T_e9e9f500_4160_11ec_9ada_5c879c826b52row3_col11\" class=\"data row3 col11\" >0.500000</td>\n",
       "                        <td id=\"T_e9e9f500_4160_11ec_9ada_5c879c826b52row3_col12\" class=\"data row3 col12\" >0.192372</td>\n",
       "                        <td id=\"T_e9e9f500_4160_11ec_9ada_5c879c826b52row3_col13\" class=\"data row3 col13\" >0.223144</td>\n",
       "                        <td id=\"T_e9e9f500_4160_11ec_9ada_5c879c826b52row3_col14\" class=\"data row3 col14\" >-0.348307</td>\n",
       "                        <td id=\"T_e9e9f500_4160_11ec_9ada_5c879c826b52row3_col15\" class=\"data row3 col15\" >0.000000</td>\n",
       "            </tr>\n",
       "            <tr>\n",
       "                        <th id=\"T_e9e9f500_4160_11ec_9ada_5c879c826b52level0_row4\" class=\"row_heading level0 row4\" >(0.8, 1.0]</th>\n",
       "                        <td id=\"T_e9e9f500_4160_11ec_9ada_5c879c826b52row4_col0\" class=\"data row4 col0\" >118</td>\n",
       "                        <td id=\"T_e9e9f500_4160_11ec_9ada_5c879c826b52row4_col1\" class=\"data row4 col1\" >100</td>\n",
       "                        <td id=\"T_e9e9f500_4160_11ec_9ada_5c879c826b52row4_col2\" class=\"data row4 col2\" >110</td>\n",
       "                        <td id=\"T_e9e9f500_4160_11ec_9ada_5c879c826b52row4_col3\" class=\"data row4 col3\" >328</td>\n",
       "                        <td id=\"T_e9e9f500_4160_11ec_9ada_5c879c826b52row4_col4\" class=\"data row4 col4\" >71</td>\n",
       "                        <td id=\"T_e9e9f500_4160_11ec_9ada_5c879c826b52row4_col5\" class=\"data row4 col5\" >65</td>\n",
       "                        <td id=\"T_e9e9f500_4160_11ec_9ada_5c879c826b52row4_col6\" class=\"data row4 col6\" >61</td>\n",
       "                        <td id=\"T_e9e9f500_4160_11ec_9ada_5c879c826b52row4_col7\" class=\"data row4 col7\" >197</td>\n",
       "                        <td id=\"T_e9e9f500_4160_11ec_9ada_5c879c826b52row4_col8\" class=\"data row4 col8\" >0.601695</td>\n",
       "                        <td id=\"T_e9e9f500_4160_11ec_9ada_5c879c826b52row4_col9\" class=\"data row4 col9\" >0.650000</td>\n",
       "                        <td id=\"T_e9e9f500_4160_11ec_9ada_5c879c826b52row4_col10\" class=\"data row4 col10\" >0.554545</td>\n",
       "                        <td id=\"T_e9e9f500_4160_11ec_9ada_5c879c826b52row4_col11\" class=\"data row4 col11\" >0.600610</td>\n",
       "                        <td id=\"T_e9e9f500_4160_11ec_9ada_5c879c826b52row4_col12\" class=\"data row4 col12\" >0.412532</td>\n",
       "                        <td id=\"T_e9e9f500_4160_11ec_9ada_5c879c826b52row4_col13\" class=\"data row4 col13\" >0.619039</td>\n",
       "                        <td id=\"T_e9e9f500_4160_11ec_9ada_5c879c826b52row4_col14\" class=\"data row4 col14\" >0.219054</td>\n",
       "                        <td id=\"T_e9e9f500_4160_11ec_9ada_5c879c826b52row4_col15\" class=\"data row4 col15\" >0.408006</td>\n",
       "            </tr>\n",
       "            <tr>\n",
       "                        <th id=\"T_e9e9f500_4160_11ec_9ada_5c879c826b52level0_row5\" class=\"row_heading level0 row5\" >All</th>\n",
       "                        <td id=\"T_e9e9f500_4160_11ec_9ada_5c879c826b52row5_col0\" class=\"data row5 col0\" >2634</td>\n",
       "                        <td id=\"T_e9e9f500_4160_11ec_9ada_5c879c826b52row5_col1\" class=\"data row5 col1\" >2607</td>\n",
       "                        <td id=\"T_e9e9f500_4160_11ec_9ada_5c879c826b52row5_col2\" class=\"data row5 col2\" >2705</td>\n",
       "                        <td id=\"T_e9e9f500_4160_11ec_9ada_5c879c826b52row5_col3\" class=\"data row5 col3\" >7946</td>\n",
       "                        <td id=\"T_e9e9f500_4160_11ec_9ada_5c879c826b52row5_col4\" class=\"data row5 col4\" >593</td>\n",
       "                        <td id=\"T_e9e9f500_4160_11ec_9ada_5c879c826b52row5_col5\" class=\"data row5 col5\" >602</td>\n",
       "                        <td id=\"T_e9e9f500_4160_11ec_9ada_5c879c826b52row5_col6\" class=\"data row5 col6\" >612</td>\n",
       "                        <td id=\"T_e9e9f500_4160_11ec_9ada_5c879c826b52row5_col7\" class=\"data row5 col7\" >1807</td>\n",
       "                        <td id=\"T_e9e9f500_4160_11ec_9ada_5c879c826b52row5_col8\" class=\"data row5 col8\" >0.225133</td>\n",
       "                        <td id=\"T_e9e9f500_4160_11ec_9ada_5c879c826b52row5_col9\" class=\"data row5 col9\" >0.230917</td>\n",
       "                        <td id=\"T_e9e9f500_4160_11ec_9ada_5c879c826b52row5_col10\" class=\"data row5 col10\" >0.226248</td>\n",
       "                        <td id=\"T_e9e9f500_4160_11ec_9ada_5c879c826b52row5_col11\" class=\"data row5 col11\" >0.227410</td>\n",
       "                        <td id=\"T_e9e9f500_4160_11ec_9ada_5c879c826b52row5_col12\" class=\"data row5 col12\" >-1.236001</td>\n",
       "                        <td id=\"T_e9e9f500_4160_11ec_9ada_5c879c826b52row5_col13\" class=\"data row5 col13\" >-1.203142</td>\n",
       "                        <td id=\"T_e9e9f500_4160_11ec_9ada_5c879c826b52row5_col14\" class=\"data row5 col14\" >-1.229621</td>\n",
       "                        <td id=\"T_e9e9f500_4160_11ec_9ada_5c879c826b52row5_col15\" class=\"data row5 col15\" >-1.222994</td>\n",
       "            </tr>\n",
       "    </tbody></table>"
      ],
      "text/plain": [
       "<pandas.io.formats.style.Styler at 0x1d378a50>"
      ]
     },
     "execution_count": 120,
     "metadata": {},
     "output_type": "execute_result"
    }
   ],
   "source": [
    "tacoe.get_table()\n",
    "tacoe.table"
   ]
  },
  {
   "cell_type": "markdown",
   "metadata": {},
   "source": [
    "# Misc"
   ]
  },
  {
   "cell_type": "code",
   "execution_count": 87,
   "metadata": {
    "ExecuteTime": {
     "end_time": "2021-11-09T13:11:47.079042Z",
     "start_time": "2021-11-09T13:11:46.961051Z"
    }
   },
   "outputs": [
    {
     "data": {
      "text/plain": [
       "0       (-0.001, 0.2]\n",
       "1          (0.8, 1.0]\n",
       "2       (-0.001, 0.2]\n",
       "3       (-0.001, 0.2]\n",
       "4       (-0.001, 0.2]\n",
       "            ...      \n",
       "7941    (-0.001, 0.2]\n",
       "7942    (-0.001, 0.2]\n",
       "7943       (0.8, 1.0]\n",
       "7944    (-0.001, 0.2]\n",
       "7945    (-0.001, 0.2]\n",
       "Name: target, Length: 7946, dtype: category\n",
       "Categories (5, interval[float64]): [(-0.001, 0.2] < (0.2, 0.4] < (0.4, 0.6] < (0.6, 0.8] < (0.8, 1.0]]"
      ]
     },
     "execution_count": 87,
     "metadata": {},
     "output_type": "execute_result"
    }
   ],
   "source": [
    "pd.cut(df['target'], bins=5)"
   ]
  },
  {
   "cell_type": "code",
   "execution_count": 111,
   "metadata": {
    "ExecuteTime": {
     "end_time": "2021-11-09T13:18:57.545156Z",
     "start_time": "2021-11-09T13:18:57.406140Z"
    }
   },
   "outputs": [],
   "source": [
    "df['p_churn_binned']=pd.cut(df['p_churn'], bins=5)"
   ]
  },
  {
   "cell_type": "code",
   "execution_count": 116,
   "metadata": {
    "ExecuteTime": {
     "end_time": "2021-11-09T13:25:31.361714Z",
     "start_time": "2021-11-09T13:25:31.056714Z"
    }
   },
   "outputs": [
    {
     "data": {
      "text/html": [
       "<div>\n",
       "<style scoped>\n",
       "    .dataframe tbody tr th:only-of-type {\n",
       "        vertical-align: middle;\n",
       "    }\n",
       "\n",
       "    .dataframe tbody tr th {\n",
       "        vertical-align: top;\n",
       "    }\n",
       "\n",
       "    .dataframe thead tr th {\n",
       "        text-align: left;\n",
       "    }\n",
       "\n",
       "    .dataframe thead tr:last-of-type th {\n",
       "        text-align: right;\n",
       "    }\n",
       "</style>\n",
       "<table border=\"1\" class=\"dataframe\">\n",
       "  <thead>\n",
       "    <tr>\n",
       "      <th></th>\n",
       "      <th colspan=\"4\" halign=\"left\">count</th>\n",
       "      <th colspan=\"4\" halign=\"left\">sum</th>\n",
       "      <th colspan=\"4\" halign=\"left\">mean</th>\n",
       "      <th colspan=\"4\" halign=\"left\">logodds_</th>\n",
       "    </tr>\n",
       "    <tr>\n",
       "      <th>month</th>\n",
       "      <th>202001</th>\n",
       "      <th>202002</th>\n",
       "      <th>202003</th>\n",
       "      <th>All</th>\n",
       "      <th>202001</th>\n",
       "      <th>202002</th>\n",
       "      <th>202003</th>\n",
       "      <th>All</th>\n",
       "      <th>202001</th>\n",
       "      <th>202002</th>\n",
       "      <th>202003</th>\n",
       "      <th>All</th>\n",
       "      <th>202001</th>\n",
       "      <th>202002</th>\n",
       "      <th>202003</th>\n",
       "      <th>All</th>\n",
       "    </tr>\n",
       "    <tr>\n",
       "      <th>p_churn_binned</th>\n",
       "      <th></th>\n",
       "      <th></th>\n",
       "      <th></th>\n",
       "      <th></th>\n",
       "      <th></th>\n",
       "      <th></th>\n",
       "      <th></th>\n",
       "      <th></th>\n",
       "      <th></th>\n",
       "      <th></th>\n",
       "      <th></th>\n",
       "      <th></th>\n",
       "      <th></th>\n",
       "      <th></th>\n",
       "      <th></th>\n",
       "      <th></th>\n",
       "    </tr>\n",
       "  </thead>\n",
       "  <tbody>\n",
       "    <tr>\n",
       "      <th>(-0.000843, 0.2]</th>\n",
       "      <td>1891</td>\n",
       "      <td>1889</td>\n",
       "      <td>1930</td>\n",
       "      <td>5710</td>\n",
       "      <td>177</td>\n",
       "      <td>190</td>\n",
       "      <td>180</td>\n",
       "      <td>547</td>\n",
       "      <td>0.093601</td>\n",
       "      <td>0.100582</td>\n",
       "      <td>0.093264</td>\n",
       "      <td>0.095797</td>\n",
       "      <td>-2.270435</td>\n",
       "      <td>-2.190771</td>\n",
       "      <td>-2.274414</td>\n",
       "      <td>-2.244824</td>\n",
       "    </tr>\n",
       "    <tr>\n",
       "      <th>(0.2, 0.4]</th>\n",
       "      <td>482</td>\n",
       "      <td>454</td>\n",
       "      <td>504</td>\n",
       "      <td>1440</td>\n",
       "      <td>277</td>\n",
       "      <td>272</td>\n",
       "      <td>294</td>\n",
       "      <td>843</td>\n",
       "      <td>0.574689</td>\n",
       "      <td>0.599119</td>\n",
       "      <td>0.583333</td>\n",
       "      <td>0.585417</td>\n",
       "      <td>0.301008</td>\n",
       "      <td>0.401795</td>\n",
       "      <td>0.336472</td>\n",
       "      <td>0.345050</td>\n",
       "    </tr>\n",
       "    <tr>\n",
       "      <th>(0.4, 0.6]</th>\n",
       "      <td>70</td>\n",
       "      <td>92</td>\n",
       "      <td>74</td>\n",
       "      <td>236</td>\n",
       "      <td>28</td>\n",
       "      <td>35</td>\n",
       "      <td>41</td>\n",
       "      <td>104</td>\n",
       "      <td>0.400000</td>\n",
       "      <td>0.380435</td>\n",
       "      <td>0.554054</td>\n",
       "      <td>0.440678</td>\n",
       "      <td>-0.405465</td>\n",
       "      <td>-0.487703</td>\n",
       "      <td>0.217065</td>\n",
       "      <td>-0.238411</td>\n",
       "    </tr>\n",
       "    <tr>\n",
       "      <th>(0.6, 0.8]</th>\n",
       "      <td>73</td>\n",
       "      <td>72</td>\n",
       "      <td>87</td>\n",
       "      <td>232</td>\n",
       "      <td>40</td>\n",
       "      <td>40</td>\n",
       "      <td>36</td>\n",
       "      <td>116</td>\n",
       "      <td>0.547945</td>\n",
       "      <td>0.555556</td>\n",
       "      <td>0.413793</td>\n",
       "      <td>0.500000</td>\n",
       "      <td>0.192372</td>\n",
       "      <td>0.223144</td>\n",
       "      <td>-0.348307</td>\n",
       "      <td>0.000000</td>\n",
       "    </tr>\n",
       "    <tr>\n",
       "      <th>(0.8, 1.0]</th>\n",
       "      <td>118</td>\n",
       "      <td>100</td>\n",
       "      <td>110</td>\n",
       "      <td>328</td>\n",
       "      <td>71</td>\n",
       "      <td>65</td>\n",
       "      <td>61</td>\n",
       "      <td>197</td>\n",
       "      <td>0.601695</td>\n",
       "      <td>0.650000</td>\n",
       "      <td>0.554545</td>\n",
       "      <td>0.600610</td>\n",
       "      <td>0.412532</td>\n",
       "      <td>0.619039</td>\n",
       "      <td>0.219054</td>\n",
       "      <td>0.408006</td>\n",
       "    </tr>\n",
       "    <tr>\n",
       "      <th>All</th>\n",
       "      <td>2634</td>\n",
       "      <td>2607</td>\n",
       "      <td>2705</td>\n",
       "      <td>7946</td>\n",
       "      <td>593</td>\n",
       "      <td>602</td>\n",
       "      <td>612</td>\n",
       "      <td>1807</td>\n",
       "      <td>0.225133</td>\n",
       "      <td>0.230917</td>\n",
       "      <td>0.226248</td>\n",
       "      <td>0.227410</td>\n",
       "      <td>-1.236001</td>\n",
       "      <td>-1.203142</td>\n",
       "      <td>-1.229621</td>\n",
       "      <td>-1.222994</td>\n",
       "    </tr>\n",
       "  </tbody>\n",
       "</table>\n",
       "</div>"
      ],
      "text/plain": [
       "                  count                        sum                      \\\n",
       "month            202001 202002 202003   All 202001 202002 202003   All   \n",
       "p_churn_binned                                                           \n",
       "(-0.000843, 0.2]   1891   1889   1930  5710    177    190    180   547   \n",
       "(0.2, 0.4]          482    454    504  1440    277    272    294   843   \n",
       "(0.4, 0.6]           70     92     74   236     28     35     41   104   \n",
       "(0.6, 0.8]           73     72     87   232     40     40     36   116   \n",
       "(0.8, 1.0]          118    100    110   328     71     65     61   197   \n",
       "All                2634   2607   2705  7946    593    602    612  1807   \n",
       "\n",
       "                      mean                                logodds_            \\\n",
       "month               202001    202002    202003       All    202001    202002   \n",
       "p_churn_binned                                                                 \n",
       "(-0.000843, 0.2]  0.093601  0.100582  0.093264  0.095797 -2.270435 -2.190771   \n",
       "(0.2, 0.4]        0.574689  0.599119  0.583333  0.585417  0.301008  0.401795   \n",
       "(0.4, 0.6]        0.400000  0.380435  0.554054  0.440678 -0.405465 -0.487703   \n",
       "(0.6, 0.8]        0.547945  0.555556  0.413793  0.500000  0.192372  0.223144   \n",
       "(0.8, 1.0]        0.601695  0.650000  0.554545  0.600610  0.412532  0.619039   \n",
       "All               0.225133  0.230917  0.226248  0.227410 -1.236001 -1.203142   \n",
       "\n",
       "                                      \n",
       "month               202003       All  \n",
       "p_churn_binned                        \n",
       "(-0.000843, 0.2] -2.274414 -2.244824  \n",
       "(0.2, 0.4]        0.336472  0.345050  \n",
       "(0.4, 0.6]        0.217065 -0.238411  \n",
       "(0.6, 0.8]       -0.348307  0.000000  \n",
       "(0.8, 1.0]        0.219054  0.408006  \n",
       "All              -1.229621 -1.222994  "
      ]
     },
     "execution_count": 116,
     "metadata": {},
     "output_type": "execute_result"
    }
   ],
   "source": [
    "def logodds_(x):\n",
    "    mean_=np.mean(x)\n",
    "    if mean_==1.0:\n",
    "        return -10.0\n",
    "    if mean_==0.0:\n",
    "        return 10.0\n",
    "    else:\n",
    "        a=np.log(mean_/(1-mean_))\n",
    "        return a\n",
    "    \n",
    "\n",
    "pd.crosstab(index=df['p_churn_binned'], columns=df['month'], values=df['target'], rownames=None, colnames=None, aggfunc=['count','sum','mean',logodds_], margins=True, margins_name='All', dropna=True, normalize=False)"
   ]
  },
  {
   "cell_type": "code",
   "execution_count": 90,
   "metadata": {
    "ExecuteTime": {
     "end_time": "2021-11-09T13:11:51.786496Z",
     "start_time": "2021-11-09T13:11:51.632494Z"
    }
   },
   "outputs": [
    {
     "data": {
      "text/plain": [
       "Index([(-0.001, 0.2], (0.8, 1.0]], dtype='object', name='p_churn_binned')"
      ]
     },
     "execution_count": 90,
     "metadata": {},
     "output_type": "execute_result"
    }
   ],
   "source": [
    "a[a.columns[0]].index"
   ]
  },
  {
   "cell_type": "code",
   "execution_count": null,
   "metadata": {
    "ExecuteTime": {
     "end_time": "2021-11-09T13:10:43.890858Z",
     "start_time": "2021-11-09T13:10:20.591Z"
    }
   },
   "outputs": [],
   "source": [
    "df['categorical_predictor']=df['target_obs'].apply(lambda x: random.choice(['A','B','C', 'D', 'F', 'G', 'H']))"
   ]
  },
  {
   "cell_type": "code",
   "execution_count": null,
   "metadata": {
    "ExecuteTime": {
     "end_time": "2021-11-09T13:10:43.892867Z",
     "start_time": "2021-11-09T13:10:20.595Z"
    }
   },
   "outputs": [],
   "source": [
    "pd.crosstab(index=df['categorical_predictor'], columns=df['month'], values=df['target'], rownames=None, colnames=None, aggfunc=sum, margins=True, margins_name='All', dropna=True, normalize='columns').transpose()"
   ]
  },
  {
   "cell_type": "code",
   "execution_count": null,
   "metadata": {
    "ExecuteTime": {
     "end_time": "2021-11-09T13:10:43.895859Z",
     "start_time": "2021-11-09T13:10:20.598Z"
    }
   },
   "outputs": [],
   "source": [
    "df['categorical_predictor'].value_counts(dropna=False, normalize=True).plot.bar(color=['navy', 'turquoise', 'darkorange', 'cornflowerblue', 'teal'])"
   ]
  },
  {
   "cell_type": "code",
   "execution_count": null,
   "metadata": {
    "ExecuteTime": {
     "end_time": "2021-11-09T13:10:43.896857Z",
     "start_time": "2021-11-09T13:10:20.603Z"
    }
   },
   "outputs": [],
   "source": [
    "a=df['categorical_predictor'].value_counts(dropna=False, normalize=True)\n",
    "a"
   ]
  },
  {
   "cell_type": "code",
   "execution_count": null,
   "metadata": {
    "ExecuteTime": {
     "end_time": "2021-11-09T13:10:43.897857Z",
     "start_time": "2021-11-09T13:10:20.608Z"
    }
   },
   "outputs": [],
   "source": [
    "import numpy as np\n",
    "import matplotlib.pyplot as plt\n",
    "\n",
    "plt.figure(figsize=(7, 8))\n",
    "\n",
    "# the histogram of the data\n",
    "n, bins, patches = plt.hist(df['p_churn'], bins='doane', density=False, facecolor='b', alpha=0.75)\n",
    "\n",
    "\n",
    "plt.xlabel('Smarts')\n",
    "plt.ylabel('Probability')\n",
    "plt.title('Histogram of IQ')\n",
    "#plt.xlim(40, 160)\n",
    "#plt.ylim(0, 0.03)\n",
    "plt.grid(True)\n",
    "plt.show()"
   ]
  },
  {
   "cell_type": "code",
   "execution_count": null,
   "metadata": {
    "ExecuteTime": {
     "end_time": "2021-11-09T13:10:43.899856Z",
     "start_time": "2021-11-09T13:10:20.612Z"
    }
   },
   "outputs": [],
   "source": [
    "a.values"
   ]
  },
  {
   "cell_type": "code",
   "execution_count": null,
   "metadata": {
    "ExecuteTime": {
     "end_time": "2021-11-09T13:10:43.900856Z",
     "start_time": "2021-11-09T13:10:20.615Z"
    }
   },
   "outputs": [],
   "source": [
    "list(df[self.predictor_column].unique())"
   ]
  },
  {
   "cell_type": "code",
   "execution_count": null,
   "metadata": {
    "ExecuteTime": {
     "end_time": "2021-11-09T13:10:43.901855Z",
     "start_time": "2021-11-09T13:10:20.619Z"
    }
   },
   "outputs": [],
   "source": [
    "l, = plt.plot(a['A'])\n",
    "\n",
    "\n",
    "#set plotting parameters\n",
    "fig = plt.gcf()\n",
    "fig.subplots_adjust(bottom=0.25)\n",
    "plt.ticklabel_format(useOffset=False)\n",
    "plt.xticks(range(min(a.index), max(a.index)+1))\n",
    "#plt.xlim(min(_x)-0.1,max(_x)+0.1)\n",
    "#plt.ylim(-0.01,1.03)\n",
    "plt.xlabel('Month')\n",
    "plt.ylabel('GINI')\n",
    "\n",
    "\n",
    "plt.show()    "
   ]
  },
  {
   "cell_type": "code",
   "execution_count": null,
   "metadata": {
    "ExecuteTime": {
     "end_time": "2021-11-09T13:10:43.902855Z",
     "start_time": "2021-11-09T13:10:20.622Z"
    }
   },
   "outputs": [],
   "source": [
    "a['A']"
   ]
  }
 ],
 "metadata": {
  "hide_input": false,
  "kernelspec": {
   "display_name": "Python 3",
   "language": "python",
   "name": "python3"
  },
  "language_info": {
   "codemirror_mode": {
    "name": "ipython",
    "version": 3
   },
   "file_extension": ".py",
   "mimetype": "text/x-python",
   "name": "python",
   "nbconvert_exporter": "python",
   "pygments_lexer": "ipython3",
   "version": "3.7.8"
  },
  "toc": {
   "base_numbering": 1,
   "nav_menu": {},
   "number_sections": true,
   "sideBar": true,
   "skip_h1_title": false,
   "title_cell": "Table of Contents",
   "title_sidebar": "Contents",
   "toc_cell": false,
   "toc_position": {
    "height": "calc(100% - 180px)",
    "left": "10px",
    "top": "150px",
    "width": "341.317px"
   },
   "toc_section_display": true,
   "toc_window_display": true
  },
  "varInspector": {
   "cols": {
    "lenName": 16,
    "lenType": 16,
    "lenVar": 40
   },
   "kernels_config": {
    "python": {
     "delete_cmd_postfix": "",
     "delete_cmd_prefix": "del ",
     "library": "var_list.py",
     "varRefreshCmd": "print(var_dic_list())"
    },
    "r": {
     "delete_cmd_postfix": ") ",
     "delete_cmd_prefix": "rm(",
     "library": "var_list.r",
     "varRefreshCmd": "cat(var_dic_list()) "
    }
   },
   "types_to_exclude": [
    "module",
    "function",
    "builtin_function_or_method",
    "instance",
    "_Feature"
   ],
   "window_display": false
  }
 },
 "nbformat": 4,
 "nbformat_minor": 4
}
