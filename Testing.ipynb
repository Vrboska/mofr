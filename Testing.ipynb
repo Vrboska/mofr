{
 "cells": [
  {
   "cell_type": "markdown",
   "metadata": {
    "ExecuteTime": {
     "end_time": "2020-12-14T20:53:36.838573Z",
     "start_time": "2020-12-14T20:53:36.835573Z"
    }
   },
   "source": [
    "# Testing packages"
   ]
  },
  {
   "cell_type": "code",
   "execution_count": 1,
   "metadata": {
    "ExecuteTime": {
     "end_time": "2021-11-22T14:52:15.364273Z",
     "start_time": "2021-11-22T14:52:14.648280Z"
    }
   },
   "outputs": [],
   "source": [
    "import pandas as pd\n",
    "import numpy as np\n",
    "import random"
   ]
  },
  {
   "cell_type": "code",
   "execution_count": 2,
   "metadata": {
    "ExecuteTime": {
     "end_time": "2021-11-22T14:52:15.488273Z",
     "start_time": "2021-11-22T14:52:15.367273Z"
    }
   },
   "outputs": [],
   "source": [
    "%load_ext autoreload\n",
    "%autoreload 2"
   ]
  },
  {
   "cell_type": "markdown",
   "metadata": {
    "ExecuteTime": {
     "end_time": "2020-12-14T20:54:47.225113Z",
     "start_time": "2020-12-14T20:54:47.161113Z"
    }
   },
   "source": [
    "# Metrics"
   ]
  },
  {
   "cell_type": "markdown",
   "metadata": {},
   "source": [
    "## Simple scores"
   ]
  },
  {
   "cell_type": "code",
   "execution_count": 3,
   "metadata": {
    "ExecuteTime": {
     "end_time": "2021-11-22T14:52:16.338075Z",
     "start_time": "2021-11-22T14:52:15.493275Z"
    }
   },
   "outputs": [],
   "source": [
    "from mofr import metrics"
   ]
  },
  {
   "cell_type": "code",
   "execution_count": 4,
   "metadata": {
    "ExecuteTime": {
     "end_time": "2021-11-22T14:52:16.461237Z",
     "start_time": "2021-11-22T14:52:16.340197Z"
    }
   },
   "outputs": [],
   "source": [
    "df=pd.read_csv(r'c:\\Users\\T862363F\\Projects\\DevOps_Repos\\PRG_TD_ModellingFramework\\data\\Model_Eval_Data_For_Andrej.csv')"
   ]
  },
  {
   "cell_type": "code",
   "execution_count": 5,
   "metadata": {
    "ExecuteTime": {
     "end_time": "2021-11-22T14:52:16.600234Z",
     "start_time": "2021-11-22T14:52:16.463196Z"
    }
   },
   "outputs": [],
   "source": [
    "df['p_churn']=df['p_alive']*-1+1\n",
    "df['target_obs']=1\n",
    "df['random_score']=np.random.randint(1, 1000000, df.shape[0])/1000000\n",
    "df['semi_random_score']=0.7*df['p_churn']+0.3*np.random.normal(0,1,df.shape[0])\n",
    "df['month']=df['target_obs'].apply(lambda x: random.choice([202001,202002,202003]))"
   ]
  },
  {
   "cell_type": "code",
   "execution_count": 6,
   "metadata": {
    "ExecuteTime": {
     "end_time": "2021-11-22T14:52:16.722218Z",
     "start_time": "2021-11-22T14:52:16.602206Z"
    }
   },
   "outputs": [
    {
     "data": {
      "text/plain": [
       "7946"
      ]
     },
     "execution_count": 6,
     "metadata": {},
     "output_type": "execute_result"
    }
   ],
   "source": [
    "len(df)"
   ]
  },
  {
   "cell_type": "code",
   "execution_count": 7,
   "metadata": {
    "ExecuteTime": {
     "end_time": "2021-11-22T14:52:16.876195Z",
     "start_time": "2021-11-22T14:52:16.724209Z"
    }
   },
   "outputs": [
    {
     "data": {
      "text/html": [
       "<div>\n",
       "<style scoped>\n",
       "    .dataframe tbody tr th:only-of-type {\n",
       "        vertical-align: middle;\n",
       "    }\n",
       "\n",
       "    .dataframe tbody tr th {\n",
       "        vertical-align: top;\n",
       "    }\n",
       "\n",
       "    .dataframe thead th {\n",
       "        text-align: right;\n",
       "    }\n",
       "</style>\n",
       "<table border=\"1\" class=\"dataframe\">\n",
       "  <thead>\n",
       "    <tr style=\"text-align: right;\">\n",
       "      <th></th>\n",
       "      <th>TECCOMPCE</th>\n",
       "      <th>TECSOLDTO</th>\n",
       "      <th>p_alive</th>\n",
       "      <th>CLV</th>\n",
       "      <th>p_alive_</th>\n",
       "      <th>PB_Churn_Flag</th>\n",
       "      <th>CLV_</th>\n",
       "      <th>ob</th>\n",
       "      <th>omx</th>\n",
       "      <th>omn</th>\n",
       "      <th>...</th>\n",
       "      <th>CreditBlock</th>\n",
       "      <th>Churn</th>\n",
       "      <th>a</th>\n",
       "      <th>b</th>\n",
       "      <th>target</th>\n",
       "      <th>target_obs</th>\n",
       "      <th>p_churn</th>\n",
       "      <th>random_score</th>\n",
       "      <th>semi_random_score</th>\n",
       "      <th>month</th>\n",
       "    </tr>\n",
       "  </thead>\n",
       "  <tbody>\n",
       "    <tr>\n",
       "      <th>0</th>\n",
       "      <td>40</td>\n",
       "      <td>636362</td>\n",
       "      <td>0.994196</td>\n",
       "      <td>2821.981425</td>\n",
       "      <td>0</td>\n",
       "      <td>994196067.0</td>\n",
       "      <td>0</td>\n",
       "      <td>2821</td>\n",
       "      <td>981425.0</td>\n",
       "      <td>11</td>\n",
       "      <td>...</td>\n",
       "      <td>2020-09-29 00:00:00.0000000</td>\n",
       "      <td>2019-10-01 00:00:00.0000000</td>\n",
       "      <td>NaN</td>\n",
       "      <td>0.0</td>\n",
       "      <td>0</td>\n",
       "      <td>1</td>\n",
       "      <td>0.005804</td>\n",
       "      <td>0.028992</td>\n",
       "      <td>0.073880</td>\n",
       "      <td>202003</td>\n",
       "    </tr>\n",
       "    <tr>\n",
       "      <th>1</th>\n",
       "      <td>40</td>\n",
       "      <td>441577</td>\n",
       "      <td>0.613307</td>\n",
       "      <td>0.000000</td>\n",
       "      <td>0</td>\n",
       "      <td>613306736.0</td>\n",
       "      <td>0</td>\n",
       "      <td>0</td>\n",
       "      <td>1.0</td>\n",
       "      <td>2018-10-01 00:00:00.0000000</td>\n",
       "      <td>...</td>\n",
       "      <td>NaN</td>\n",
       "      <td>NaN</td>\n",
       "      <td>1.0</td>\n",
       "      <td>NaN</td>\n",
       "      <td>1</td>\n",
       "      <td>1</td>\n",
       "      <td>0.386693</td>\n",
       "      <td>0.824496</td>\n",
       "      <td>0.158252</td>\n",
       "      <td>202001</td>\n",
       "    </tr>\n",
       "    <tr>\n",
       "      <th>2</th>\n",
       "      <td>40</td>\n",
       "      <td>422141</td>\n",
       "      <td>0.462324</td>\n",
       "      <td>3340.062341</td>\n",
       "      <td>0</td>\n",
       "      <td>462324357.0</td>\n",
       "      <td>1</td>\n",
       "      <td>3340</td>\n",
       "      <td>62341.0</td>\n",
       "      <td>7</td>\n",
       "      <td>...</td>\n",
       "      <td>2020-07-01 00:00:00.0000000</td>\n",
       "      <td>2020-02-19 00:00:00.0000000</td>\n",
       "      <td>NaN</td>\n",
       "      <td>0.0</td>\n",
       "      <td>0</td>\n",
       "      <td>1</td>\n",
       "      <td>0.537676</td>\n",
       "      <td>0.412900</td>\n",
       "      <td>0.310775</td>\n",
       "      <td>202002</td>\n",
       "    </tr>\n",
       "    <tr>\n",
       "      <th>3</th>\n",
       "      <td>40</td>\n",
       "      <td>706342</td>\n",
       "      <td>0.841013</td>\n",
       "      <td>5023.797898</td>\n",
       "      <td>0</td>\n",
       "      <td>841012858.0</td>\n",
       "      <td>0</td>\n",
       "      <td>5023</td>\n",
       "      <td>797898.0</td>\n",
       "      <td>17</td>\n",
       "      <td>...</td>\n",
       "      <td>2020-07-17 00:00:00.0000000</td>\n",
       "      <td>2019-10-03 00:00:00.0000000</td>\n",
       "      <td>NaN</td>\n",
       "      <td>0.0</td>\n",
       "      <td>0</td>\n",
       "      <td>1</td>\n",
       "      <td>0.158987</td>\n",
       "      <td>0.726861</td>\n",
       "      <td>0.366779</td>\n",
       "      <td>202001</td>\n",
       "    </tr>\n",
       "    <tr>\n",
       "      <th>4</th>\n",
       "      <td>40</td>\n",
       "      <td>718698</td>\n",
       "      <td>0.668060</td>\n",
       "      <td>0.000000</td>\n",
       "      <td>0</td>\n",
       "      <td>668060235.0</td>\n",
       "      <td>0</td>\n",
       "      <td>0</td>\n",
       "      <td>1.0</td>\n",
       "      <td>2019-02-06 00:00:00.0000000</td>\n",
       "      <td>...</td>\n",
       "      <td>2020-01-10 00:00:00.0000000</td>\n",
       "      <td>NaN</td>\n",
       "      <td>0.0</td>\n",
       "      <td>NaN</td>\n",
       "      <td>0</td>\n",
       "      <td>1</td>\n",
       "      <td>0.331940</td>\n",
       "      <td>0.462278</td>\n",
       "      <td>0.557262</td>\n",
       "      <td>202002</td>\n",
       "    </tr>\n",
       "  </tbody>\n",
       "</table>\n",
       "<p>5 rows × 23 columns</p>\n",
       "</div>"
      ],
      "text/plain": [
       "   TECCOMPCE  TECSOLDTO   p_alive          CLV  p_alive_  PB_Churn_Flag  CLV_  \\\n",
       "0         40     636362  0.994196  2821.981425         0    994196067.0     0   \n",
       "1         40     441577  0.613307     0.000000         0    613306736.0     0   \n",
       "2         40     422141  0.462324  3340.062341         0    462324357.0     1   \n",
       "3         40     706342  0.841013  5023.797898         0    841012858.0     0   \n",
       "4         40     718698  0.668060     0.000000         0    668060235.0     0   \n",
       "\n",
       "     ob       omx                          omn  ...  \\\n",
       "0  2821  981425.0                           11  ...   \n",
       "1     0       1.0  2018-10-01 00:00:00.0000000  ...   \n",
       "2  3340   62341.0                            7  ...   \n",
       "3  5023  797898.0                           17  ...   \n",
       "4     0       1.0  2019-02-06 00:00:00.0000000  ...   \n",
       "\n",
       "                   CreditBlock                        Churn    a    b target  \\\n",
       "0  2020-09-29 00:00:00.0000000  2019-10-01 00:00:00.0000000  NaN  0.0      0   \n",
       "1                          NaN                          NaN  1.0  NaN      1   \n",
       "2  2020-07-01 00:00:00.0000000  2020-02-19 00:00:00.0000000  NaN  0.0      0   \n",
       "3  2020-07-17 00:00:00.0000000  2019-10-03 00:00:00.0000000  NaN  0.0      0   \n",
       "4  2020-01-10 00:00:00.0000000                          NaN  0.0  NaN      0   \n",
       "\n",
       "   target_obs   p_churn  random_score  semi_random_score   month  \n",
       "0           1  0.005804      0.028992           0.073880  202003  \n",
       "1           1  0.386693      0.824496           0.158252  202001  \n",
       "2           1  0.537676      0.412900           0.310775  202002  \n",
       "3           1  0.158987      0.726861           0.366779  202001  \n",
       "4           1  0.331940      0.462278           0.557262  202002  \n",
       "\n",
       "[5 rows x 23 columns]"
      ]
     },
     "execution_count": 7,
     "metadata": {},
     "output_type": "execute_result"
    }
   ],
   "source": [
    "df.head()"
   ]
  },
  {
   "cell_type": "markdown",
   "metadata": {},
   "source": [
    "### Accuracy"
   ]
  },
  {
   "cell_type": "code",
   "execution_count": 8,
   "metadata": {
    "ExecuteTime": {
     "end_time": "2021-11-22T14:52:17.001195Z",
     "start_time": "2021-11-22T14:52:16.880197Z"
    }
   },
   "outputs": [
    {
     "data": {
      "text/plain": [
       "0.7793858545179965"
      ]
     },
     "execution_count": 8,
     "metadata": {},
     "output_type": "execute_result"
    }
   ],
   "source": [
    "metrics.accuracy_score(df['target'], df['p_churn']>0.5)"
   ]
  },
  {
   "cell_type": "code",
   "execution_count": 9,
   "metadata": {
    "ExecuteTime": {
     "end_time": "2021-11-22T14:52:17.157199Z",
     "start_time": "2021-11-22T14:52:17.005198Z"
    }
   },
   "outputs": [
    {
     "data": {
      "text/plain": [
       "[0.31059652655424114,\n",
       " 0.40057890762647874,\n",
       " 0.46967027435187514,\n",
       " 0.5117040020135918,\n",
       " 0.5485779008306066,\n",
       " 0.5690913667253964,\n",
       " 0.591492574880443,\n",
       " 0.6063428139944627,\n",
       " 0.618801912912157,\n",
       " 0.6303800654417316,\n",
       " 0.6401963251950668,\n",
       " 0.6477472942360937,\n",
       " 0.6552982632771206,\n",
       " 0.6614648879939592,\n",
       " 0.6676315127107979,\n",
       " 0.6720362446513969,\n",
       " 0.676566826076013,\n",
       " 0.6827334507928517,\n",
       " 0.6867606342813994,\n",
       " 0.6906619682859301]"
      ]
     },
     "execution_count": 9,
     "metadata": {},
     "output_type": "execute_result"
    }
   ],
   "source": [
    "[metrics.accuracy_score(df['target'], df['p_churn']>(x+1)/1000) for x in range(20)]"
   ]
  },
  {
   "cell_type": "code",
   "execution_count": 10,
   "metadata": {
    "ExecuteTime": {
     "end_time": "2021-11-22T14:52:17.277298Z",
     "start_time": "2021-11-22T14:52:17.159195Z"
    }
   },
   "outputs": [],
   "source": [
    "#metrics.accuracy_score?"
   ]
  },
  {
   "cell_type": "markdown",
   "metadata": {},
   "source": [
    "### Precision"
   ]
  },
  {
   "cell_type": "code",
   "execution_count": 11,
   "metadata": {
    "ExecuteTime": {
     "end_time": "2021-11-22T14:52:17.418230Z",
     "start_time": "2021-11-22T14:52:17.279193Z"
    }
   },
   "outputs": [
    {
     "data": {
      "text/plain": [
       "0.5398230088495575"
      ]
     },
     "execution_count": 11,
     "metadata": {},
     "output_type": "execute_result"
    }
   ],
   "source": [
    "metrics.precision_score(df['target'], df['p_churn']>0.5)"
   ]
  },
  {
   "cell_type": "code",
   "execution_count": 12,
   "metadata": {
    "ExecuteTime": {
     "end_time": "2021-11-22T14:52:17.624234Z",
     "start_time": "2021-11-22T14:52:17.421196Z"
    }
   },
   "outputs": [
    {
     "data": {
      "text/plain": [
       "[0.6588235294117647,\n",
       " 0.6239316239316239,\n",
       " 0.625,\n",
       " 0.618421052631579,\n",
       " 0.6073619631901841,\n",
       " 0.6123595505617978,\n",
       " 0.6096256684491979,\n",
       " 0.6062176165803109,\n",
       " 0.6019417475728155,\n",
       " 0.591304347826087,\n",
       " 0.5887096774193549,\n",
       " 0.5889328063241107,\n",
       " 0.5923076923076923,\n",
       " 0.6,\n",
       " 0.5949820788530465,\n",
       " 0.5929824561403508,\n",
       " 0.5932203389830508,\n",
       " 0.5907590759075908,\n",
       " 0.6006191950464397,\n",
       " 0.600609756097561]"
      ]
     },
     "execution_count": 12,
     "metadata": {},
     "output_type": "execute_result"
    }
   ],
   "source": [
    "[metrics.precision_score(df['target'], df['p_churn']>(99-x)/100) for x in range(20)]"
   ]
  },
  {
   "cell_type": "code",
   "execution_count": 13,
   "metadata": {
    "ExecuteTime": {
     "end_time": "2021-11-22T14:52:17.748447Z",
     "start_time": "2021-11-22T14:52:17.626196Z"
    }
   },
   "outputs": [],
   "source": [
    "#metrics.precision_score?"
   ]
  },
  {
   "cell_type": "markdown",
   "metadata": {},
   "source": [
    "### Recall"
   ]
  },
  {
   "cell_type": "code",
   "execution_count": 14,
   "metadata": {
    "ExecuteTime": {
     "end_time": "2021-11-22T14:52:17.873192Z",
     "start_time": "2021-11-22T14:52:17.750195Z"
    }
   },
   "outputs": [
    {
     "data": {
      "text/plain": [
       "0.20254565578306585"
      ]
     },
     "execution_count": 14,
     "metadata": {},
     "output_type": "execute_result"
    }
   ],
   "source": [
    "metrics.recall_score(df['target'], df['p_churn']>0.5)"
   ]
  },
  {
   "cell_type": "code",
   "execution_count": 15,
   "metadata": {
    "ExecuteTime": {
     "end_time": "2021-11-22T14:52:18.077230Z",
     "start_time": "2021-11-22T14:52:17.875196Z"
    }
   },
   "outputs": [
    {
     "data": {
      "text/plain": [
       "[0.03099059214167128,\n",
       " 0.040398450470392915,\n",
       " 0.04703929164360819,\n",
       " 0.05201992252351965,\n",
       " 0.05478693967902601,\n",
       " 0.06032097399003874,\n",
       " 0.0630879911455451,\n",
       " 0.06474820143884892,\n",
       " 0.06862202545655784,\n",
       " 0.0752628666297731,\n",
       " 0.08079690094078583,\n",
       " 0.08245711123408965,\n",
       " 0.08522412838959602,\n",
       " 0.0896513558384062,\n",
       " 0.09186496956281129,\n",
       " 0.09352517985611511,\n",
       " 0.09684560044272275,\n",
       " 0.09905921416712783,\n",
       " 0.10736026563364692,\n",
       " 0.10902047592695074]"
      ]
     },
     "execution_count": 15,
     "metadata": {},
     "output_type": "execute_result"
    }
   ],
   "source": [
    "[metrics.recall_score(df['target'], df['p_churn']>(99-x)/100) for x in range(20)]"
   ]
  },
  {
   "cell_type": "code",
   "execution_count": 16,
   "metadata": {
    "ExecuteTime": {
     "end_time": "2021-11-22T14:52:18.187191Z",
     "start_time": "2021-11-22T14:52:18.079203Z"
    }
   },
   "outputs": [],
   "source": [
    "#metrics.recall_score?"
   ]
  },
  {
   "cell_type": "markdown",
   "metadata": {},
   "source": [
    "### F1 score"
   ]
  },
  {
   "cell_type": "code",
   "execution_count": 17,
   "metadata": {
    "ExecuteTime": {
     "end_time": "2021-11-22T14:52:18.311229Z",
     "start_time": "2021-11-22T14:52:18.189190Z"
    }
   },
   "outputs": [
    {
     "data": {
      "text/plain": [
       "0.2945674044265594"
      ]
     },
     "execution_count": 17,
     "metadata": {},
     "output_type": "execute_result"
    }
   ],
   "source": [
    "metrics.f1_score(df['target'], df['p_churn']>0.5)"
   ]
  },
  {
   "cell_type": "code",
   "execution_count": 18,
   "metadata": {
    "ExecuteTime": {
     "end_time": "2021-11-22T14:52:18.516298Z",
     "start_time": "2021-11-22T14:52:18.314192Z"
    }
   },
   "outputs": [
    {
     "data": {
      "text/plain": [
       "[0.39749230092388915,\n",
       " 0.4314193625402889,\n",
       " 0.46057347670250887,\n",
       " 0.48072805139186287,\n",
       " 0.5000696864111499,\n",
       " 0.5107173478136611,\n",
       " 0.5233480176211454,\n",
       " 0.5313155528918191,\n",
       " 0.5383325712543819,\n",
       " 0.545144804088586,\n",
       " 0.5509659180147636,\n",
       " 0.5550786838340487,\n",
       " 0.5590082112381259,\n",
       " 0.5628859278518037,\n",
       " 0.5664094565752751,\n",
       " 0.5691137566137566,\n",
       " 0.5709515859766277,\n",
       " 0.5755177639333221,\n",
       " 0.5776344815883251,\n",
       " 0.5796853625170998]"
      ]
     },
     "execution_count": 18,
     "metadata": {},
     "output_type": "execute_result"
    }
   ],
   "source": [
    "[metrics.f1_score(df['target'], df['p_churn']>(x+1)/1000) for x in range(20)]"
   ]
  },
  {
   "cell_type": "code",
   "execution_count": 19,
   "metadata": {
    "ExecuteTime": {
     "end_time": "2021-11-22T14:52:18.643191Z",
     "start_time": "2021-11-22T14:52:18.518189Z"
    }
   },
   "outputs": [],
   "source": [
    "#metrics.f1_score?"
   ]
  },
  {
   "cell_type": "markdown",
   "metadata": {},
   "source": [
    "### Confusion matrix"
   ]
  },
  {
   "cell_type": "code",
   "execution_count": 20,
   "metadata": {
    "ExecuteTime": {
     "end_time": "2021-11-22T14:52:18.784185Z",
     "start_time": "2021-11-22T14:52:18.645188Z"
    }
   },
   "outputs": [
    {
     "data": {
      "text/plain": [
       "array([[5827,  312],\n",
       "       [1441,  366]], dtype=int64)"
      ]
     },
     "execution_count": 20,
     "metadata": {},
     "output_type": "execute_result"
    }
   ],
   "source": [
    "metrics.confusion_matrix(df['target'], df['p_churn']>0.5)"
   ]
  },
  {
   "cell_type": "markdown",
   "metadata": {
    "ExecuteTime": {
     "end_time": "2020-12-14T21:53:17.790901Z",
     "start_time": "2020-12-14T21:53:17.685943Z"
    }
   },
   "source": [
    "### ROC AUC "
   ]
  },
  {
   "cell_type": "code",
   "execution_count": 21,
   "metadata": {
    "ExecuteTime": {
     "end_time": "2021-11-22T14:52:18.911188Z",
     "start_time": "2021-11-22T14:52:18.787191Z"
    }
   },
   "outputs": [
    {
     "data": {
      "text/plain": [
       "0.8560895967276451"
      ]
     },
     "execution_count": 21,
     "metadata": {},
     "output_type": "execute_result"
    }
   ],
   "source": [
    "metrics.roc_auc_score(df['target'], df['p_churn'])"
   ]
  },
  {
   "cell_type": "code",
   "execution_count": 22,
   "metadata": {
    "ExecuteTime": {
     "end_time": "2021-11-22T14:52:19.021189Z",
     "start_time": "2021-11-22T14:52:18.913188Z"
    }
   },
   "outputs": [],
   "source": [
    "#metrics.roc_auc_score?"
   ]
  },
  {
   "cell_type": "markdown",
   "metadata": {},
   "source": [
    "### GINI"
   ]
  },
  {
   "cell_type": "code",
   "execution_count": 23,
   "metadata": {
    "ExecuteTime": {
     "end_time": "2021-11-22T14:52:19.131193Z",
     "start_time": "2021-11-22T14:52:19.027192Z"
    }
   },
   "outputs": [
    {
     "data": {
      "text/plain": [
       "0.7121791934552901"
      ]
     },
     "execution_count": 23,
     "metadata": {},
     "output_type": "execute_result"
    }
   ],
   "source": [
    "metrics.gini(df['target'], df['p_churn'])"
   ]
  },
  {
   "cell_type": "code",
   "execution_count": 24,
   "metadata": {
    "ExecuteTime": {
     "end_time": "2021-11-22T14:52:19.256188Z",
     "start_time": "2021-11-22T14:52:19.135188Z"
    }
   },
   "outputs": [
    {
     "data": {
      "text/plain": [
       "0.7121791934552901"
      ]
     },
     "execution_count": 24,
     "metadata": {},
     "output_type": "execute_result"
    }
   ],
   "source": [
    "metrics.gini(df['target'], df['p_churn'], average='samples')"
   ]
  },
  {
   "cell_type": "code",
   "execution_count": 25,
   "metadata": {
    "ExecuteTime": {
     "end_time": "2021-11-22T14:52:19.380187Z",
     "start_time": "2021-11-22T14:52:19.258186Z"
    }
   },
   "outputs": [],
   "source": [
    "#metrics.gini?"
   ]
  },
  {
   "cell_type": "markdown",
   "metadata": {},
   "source": [
    "### Lift"
   ]
  },
  {
   "cell_type": "code",
   "execution_count": 26,
   "metadata": {
    "ExecuteTime": {
     "end_time": "2021-11-22T14:52:19.523187Z",
     "start_time": "2021-11-22T14:52:19.382189Z"
    }
   },
   "outputs": [
    {
     "data": {
      "text/plain": [
       "2.306531204644412"
      ]
     },
     "execution_count": 26,
     "metadata": {},
     "output_type": "execute_result"
    }
   ],
   "source": [
    "metrics.lift(df['target'], df['p_churn'])"
   ]
  },
  {
   "cell_type": "code",
   "execution_count": 27,
   "metadata": {
    "ExecuteTime": {
     "end_time": "2021-11-22T14:52:19.666187Z",
     "start_time": "2021-11-22T14:52:19.526187Z"
    }
   },
   "outputs": [
    {
     "data": {
      "text/plain": [
       "2.519081294685937"
      ]
     },
     "execution_count": 27,
     "metadata": {},
     "output_type": "execute_result"
    }
   ],
   "source": [
    "metrics.liftN(df['target'], df['p_churn'], 0.05)"
   ]
  },
  {
   "cell_type": "code",
   "execution_count": 28,
   "metadata": {
    "ExecuteTime": {
     "end_time": "2021-11-22T14:52:19.872186Z",
     "start_time": "2021-11-22T14:52:19.669191Z"
    }
   },
   "outputs": [
    {
     "data": {
      "text/plain": [
       "[2.564655037052907,\n",
       " 2.418539014941893,\n",
       " 2.1267203306629034,\n",
       " 1.8638627559490868,\n",
       " 1.6290557813709337,\n",
       " 1.4191355404598403,\n",
       " 1.2480818075848659,\n",
       " 1.111484123653658,\n",
       " 1]"
      ]
     },
     "execution_count": 28,
     "metadata": {},
     "output_type": "execute_result"
    }
   ],
   "source": [
    "[metrics.liftN(df['target'], df['p_churn'],(x+1)/10) for x in range(1,10)]"
   ]
  },
  {
   "cell_type": "markdown",
   "metadata": {},
   "source": [
    "### KS score"
   ]
  },
  {
   "cell_type": "code",
   "execution_count": 29,
   "metadata": {
    "ExecuteTime": {
     "end_time": "2021-11-22T14:52:20.152223Z",
     "start_time": "2021-11-22T14:52:19.874185Z"
    }
   },
   "outputs": [
    {
     "data": {
      "text/plain": [
       "0.588206908879903"
      ]
     },
     "execution_count": 29,
     "metadata": {},
     "output_type": "execute_result"
    }
   ],
   "source": [
    "metrics.ks_score(df['target'], df['p_churn'])"
   ]
  },
  {
   "cell_type": "code",
   "execution_count": 30,
   "metadata": {
    "ExecuteTime": {
     "end_time": "2021-11-22T14:52:20.278188Z",
     "start_time": "2021-11-22T14:52:20.154187Z"
    }
   },
   "outputs": [],
   "source": [
    "#metrics.ks_score?"
   ]
  },
  {
   "cell_type": "markdown",
   "metadata": {},
   "source": [
    "## Curves and others"
   ]
  },
  {
   "cell_type": "markdown",
   "metadata": {},
   "source": [
    "### ROC curve"
   ]
  },
  {
   "cell_type": "code",
   "execution_count": 31,
   "metadata": {
    "ExecuteTime": {
     "end_time": "2021-11-22T14:52:20.404184Z",
     "start_time": "2021-11-22T14:52:20.281188Z"
    }
   },
   "outputs": [
    {
     "data": {
      "text/plain": [
       "(array([0.        , 0.        , 0.        , ..., 0.99788239, 0.99837107,\n",
       "        1.        ]),\n",
       " array([0.00000000e+00, 5.53403431e-04, 7.74764804e-03, ...,\n",
       "        1.00000000e+00, 1.00000000e+00, 1.00000000e+00]),\n",
       " array([2.0000000e+00, 1.0000000e+00, 9.9999814e-01, ..., 1.7253500e-04,\n",
       "        1.7186300e-04, 1.5661200e-04]))"
      ]
     },
     "execution_count": 31,
     "metadata": {},
     "output_type": "execute_result"
    }
   ],
   "source": [
    "metrics.roc_curve(df['target'], df['p_churn'])"
   ]
  },
  {
   "cell_type": "code",
   "execution_count": 32,
   "metadata": {
    "ExecuteTime": {
     "end_time": "2021-11-22T14:52:21.292181Z",
     "start_time": "2021-11-22T14:52:20.406187Z"
    }
   },
   "outputs": [
    {
     "data": {
      "image/png": "[encoded data removed]",
      "text/plain": [
       "<Figure size 432x288 with 1 Axes>"
      ]
     },
     "metadata": {
      "needs_background": "light"
     },
     "output_type": "display_data"
    }
   ],
   "source": [
    "from matplotlib import pyplot as plt\n",
    "_fpr, _tpr, _ = metrics.roc_curve(df['target'], df['p_churn'])\n",
    "\n",
    "# plot the roc curve for the model\n",
    "plt.plot(_fpr, _tpr, linestyle='-', color='red', label='Model 1')\n",
    "\n",
    "# axis labels\n",
    "plt.title('ROC curve')\n",
    "plt.xlim(-0.01,1.01)\n",
    "plt.ylim(-0.01,1.03)\n",
    "plt.xlabel('False Positive Rate')\n",
    "plt.ylabel('True Positive Rate')\n",
    "# show the legend\n",
    "plt.legend()\n",
    "# show the plot\n",
    "plt.show()"
   ]
  },
  {
   "cell_type": "code",
   "execution_count": 33,
   "metadata": {
    "ExecuteTime": {
     "end_time": "2021-11-22T14:52:21.416181Z",
     "start_time": "2021-11-22T14:52:21.295179Z"
    }
   },
   "outputs": [],
   "source": [
    "#metrics.roc_curve?"
   ]
  },
  {
   "cell_type": "markdown",
   "metadata": {},
   "source": [
    "### Lift curve"
   ]
  },
  {
   "cell_type": "code",
   "execution_count": 34,
   "metadata": {
    "ExecuteTime": {
     "end_time": "2021-11-22T14:52:21.599176Z",
     "start_time": "2021-11-22T14:52:21.420182Z"
    }
   },
   "outputs": [
    {
     "data": {
      "text/plain": [
       "[2.306531204644412,\n",
       " 2.564655037052907,\n",
       " 2.418539014941893,\n",
       " 2.1267203306629034,\n",
       " 1.8638627559490868,\n",
       " 1.6290557813709337,\n",
       " 1.4191355404598403,\n",
       " 1.2480818075848659,\n",
       " 1.111484123653658,\n",
       " 1]"
      ]
     },
     "execution_count": 34,
     "metadata": {},
     "output_type": "execute_result"
    }
   ],
   "source": [
    "[metrics.liftN(df['target'], df['p_churn'], x/10) for x in range (1,11)]"
   ]
  },
  {
   "cell_type": "code",
   "execution_count": 35,
   "metadata": {
    "ExecuteTime": {
     "end_time": "2021-11-22T14:52:22.100178Z",
     "start_time": "2021-11-22T14:52:21.601179Z"
    }
   },
   "outputs": [
    {
     "data": {
      "image/png": "[encoded data removed]",
      "text/plain": [
       "<Figure size 432x288 with 1 Axes>"
      ]
     },
     "metadata": {
      "needs_background": "light"
     },
     "output_type": "display_data"
    }
   ],
   "source": [
    "from matplotlib import pyplot as plt\n",
    "x= [(x/10) for x in range (1,11)]\n",
    "lift_curve = [metrics.liftN(df['target'], df['p_churn'], x/10) for x in range (1,11)]\n",
    "plt.plot(x, lift_curve, linestyle='-', color='red', label='Model 1')\n",
    "# axis labels\n",
    "plt.title('Lift curve')\n",
    "#plt.xlim(-0.01,1.01)\n",
    "#plt.ylim(-0.01,1.03)\n",
    "#plt.xlabel('False Positive Rate')\n",
    "#plt.ylabel('True Positive Rate')\n",
    "# show the legend\n",
    "plt.legend()\n",
    "# show the plot\n",
    "plt.show()"
   ]
  },
  {
   "cell_type": "markdown",
   "metadata": {},
   "source": [
    "### Precision-Recall curve"
   ]
  },
  {
   "cell_type": "code",
   "execution_count": 36,
   "metadata": {
    "ExecuteTime": {
     "end_time": "2021-11-22T14:52:22.275178Z",
     "start_time": "2021-11-22T14:52:22.105187Z"
    }
   },
   "outputs": [
    {
     "data": {
      "text/plain": [
       "(array([0.27778632, 0.27767528, 0.27771798, ..., 1.        , 1.        ,\n",
       "        1.        ]),\n",
       " array([1.00000000e+00, 9.99446597e-01, 9.99446597e-01, ...,\n",
       "        1.10680686e-03, 5.53403431e-04, 0.00000000e+00]),\n",
       " array([0.00209515, 0.00209674, 0.00209705, ..., 1.        , 1.        ,\n",
       "        1.        ]))"
      ]
     },
     "execution_count": 36,
     "metadata": {},
     "output_type": "execute_result"
    }
   ],
   "source": [
    "metrics.precision_recall_curve(df['target'], df['p_churn'])"
   ]
  },
  {
   "cell_type": "code",
   "execution_count": 37,
   "metadata": {
    "ExecuteTime": {
     "end_time": "2021-11-22T14:52:23.013176Z",
     "start_time": "2021-11-22T14:52:22.278178Z"
    }
   },
   "outputs": [
    {
     "data": {
      "image/png": "[encoded data removed]",
      "text/plain": [
       "<Figure size 432x288 with 1 Axes>"
      ]
     },
     "metadata": {
      "needs_background": "light"
     },
     "output_type": "display_data"
    }
   ],
   "source": [
    "from matplotlib import pyplot as plt\n",
    "\n",
    "\n",
    "f_scores = np.linspace(0.2, 0.8, num=4)\n",
    "lines = []\n",
    "labels = []\n",
    "for f_score in f_scores:\n",
    "    x = np.linspace(0.01, 1)\n",
    "    y = f_score * x / (2 * x - f_score)\n",
    "    l, = plt.plot(x[y >= 0], y[y >= 0], color='gray', alpha=0.2)\n",
    "    plt.annotate('f1={0:0.1f}'.format(f_score), xy=(0.9, y[45] + 0.02))\n",
    "lines.append(l)\n",
    "labels.append('iso-f1 curves')\n",
    "\n",
    "lr_precision, lr_recall, _ = metrics.precision_recall_curve(df['target'], df['p_churn'])\n",
    "# plot the precision-recall curves\n",
    "no_skill = len(df['target'][df['target']==1]) / len(df['target'])\n",
    "plt.plot([0, 1], [no_skill, no_skill], linestyle='--')\n",
    "l,=plt.plot(lr_recall, lr_precision,linestyle='-', color='red', label='Model 1')\n",
    "lines.append(l)\n",
    "labels.append('Model 1')\n",
    "# axis labels\n",
    "plt.title('Precision-Recall curve with iso-f1 curves')\n",
    "plt.xlabel('Recall')\n",
    "plt.ylabel('Precision')\n",
    "plt.xlim([0.0, 1.0])\n",
    "plt.ylim([0.0, 1.05])\n",
    "# show the legend\n",
    "plt.legend(lines,labels)\n",
    "# show the plot\n",
    "plt.show()\n"
   ]
  },
  {
   "cell_type": "markdown",
   "metadata": {},
   "source": [
    "# Basic Evaluators"
   ]
  },
  {
   "cell_type": "markdown",
   "metadata": {
    "ExecuteTime": {
     "end_time": "2020-12-17T19:31:46.233868Z",
     "start_time": "2020-12-17T19:31:45.976866Z"
    }
   },
   "source": [
    "## Lift Curve Evaluator"
   ]
  },
  {
   "cell_type": "code",
   "execution_count": 140,
   "metadata": {
    "ExecuteTime": {
     "end_time": "2021-11-22T15:14:49.338760Z",
     "start_time": "2021-11-22T15:14:49.135380Z"
    }
   },
   "outputs": [],
   "source": [
    "from mofr.basic_evaluators.LiftCurve import LiftCurveEvaluator\n",
    "\n",
    "lce=LiftCurveEvaluator()"
   ]
  },
  {
   "cell_type": "code",
   "execution_count": 141,
   "metadata": {
    "ExecuteTime": {
     "end_time": "2021-11-22T15:14:51.519117Z",
     "start_time": "2021-11-22T15:14:51.413070Z"
    }
   },
   "outputs": [
    {
     "data": {
      "text/plain": []
     },
     "execution_count": 141,
     "metadata": {},
     "output_type": "execute_result"
    }
   ],
   "source": [
    "lce.d(df).t([('target','target_obs')]).s(['p_churn', 'semi_random_score','random_score'])"
   ]
  },
  {
   "cell_type": "code",
   "execution_count": 142,
   "metadata": {
    "ExecuteTime": {
     "end_time": "2021-11-22T15:14:54.248387Z",
     "start_time": "2021-11-22T15:14:53.766292Z"
    }
   },
   "outputs": [
    {
     "data": {
      "image/png": "[encoded data removed]",
      "text/plain": [
       "<Figure size 504x576 with 1 Axes>"
      ]
     },
     "metadata": {
      "needs_background": "light"
     },
     "output_type": "display_data"
    },
    {
     "data": {
      "text/plain": []
     },
     "execution_count": 142,
     "metadata": {},
     "output_type": "execute_result"
    }
   ],
   "source": [
    "lce.get_graph()"
   ]
  },
  {
   "cell_type": "markdown",
   "metadata": {
    "ExecuteTime": {
     "end_time": "2020-12-17T19:32:52.905283Z",
     "start_time": "2020-12-17T19:32:52.814277Z"
    }
   },
   "source": [
    "## ROC Curve Evaluator"
   ]
  },
  {
   "cell_type": "code",
   "execution_count": 143,
   "metadata": {
    "ExecuteTime": {
     "end_time": "2021-11-22T15:19:21.277785Z",
     "start_time": "2021-11-22T15:19:21.139340Z"
    }
   },
   "outputs": [],
   "source": [
    "from mofr.basic_evaluators.ROCCurve import ROCCurveEvaluator\n",
    "\n",
    "rce=ROCCurveEvaluator()"
   ]
  },
  {
   "cell_type": "code",
   "execution_count": 144,
   "metadata": {
    "ExecuteTime": {
     "end_time": "2021-11-22T15:19:23.427706Z",
     "start_time": "2021-11-22T15:19:23.335694Z"
    }
   },
   "outputs": [
    {
     "data": {
      "text/plain": []
     },
     "execution_count": 144,
     "metadata": {},
     "output_type": "execute_result"
    }
   ],
   "source": [
    "rce.d(df).t([('target','target_obs')]).s(['p_churn', 'semi_random_score','random_score'])"
   ]
  },
  {
   "cell_type": "code",
   "execution_count": 145,
   "metadata": {
    "ExecuteTime": {
     "end_time": "2021-11-22T15:19:25.939524Z",
     "start_time": "2021-11-22T15:19:25.552514Z"
    }
   },
   "outputs": [
    {
     "data": {
      "image/png": "[encoded data removed]",
      "text/plain": [
       "<Figure size 504x576 with 1 Axes>"
      ]
     },
     "metadata": {
      "needs_background": "light"
     },
     "output_type": "display_data"
    },
    {
     "data": {
      "text/plain": []
     },
     "execution_count": 145,
     "metadata": {},
     "output_type": "execute_result"
    }
   ],
   "source": [
    "rce.get_graph()"
   ]
  },
  {
   "cell_type": "markdown",
   "metadata": {},
   "source": [
    "## PR Curve Evaluator"
   ]
  },
  {
   "cell_type": "code",
   "execution_count": 148,
   "metadata": {
    "ExecuteTime": {
     "end_time": "2021-11-22T15:21:35.136396Z",
     "start_time": "2021-11-22T15:21:34.978394Z"
    }
   },
   "outputs": [],
   "source": [
    "from mofr.basic_evaluators.PRCurve import PRCurveEvaluator\n",
    "\n",
    "prce=PRCurveEvaluator()"
   ]
  },
  {
   "cell_type": "code",
   "execution_count": 149,
   "metadata": {
    "ExecuteTime": {
     "end_time": "2021-11-22T15:21:37.438785Z",
     "start_time": "2021-11-22T15:21:37.314772Z"
    }
   },
   "outputs": [
    {
     "data": {
      "text/plain": []
     },
     "execution_count": 149,
     "metadata": {},
     "output_type": "execute_result"
    }
   ],
   "source": [
    "prce.d(df).t([('target','target_obs')]).s(['p_churn', 'semi_random_score','random_score'])"
   ]
  },
  {
   "cell_type": "code",
   "execution_count": 150,
   "metadata": {
    "ExecuteTime": {
     "end_time": "2021-11-22T15:21:39.876395Z",
     "start_time": "2021-11-22T15:21:39.513384Z"
    }
   },
   "outputs": [
    {
     "data": {
      "image/png": "[encoded data removed]",
      "text/plain": [
       "<Figure size 504x576 with 1 Axes>"
      ]
     },
     "metadata": {
      "needs_background": "light"
     },
     "output_type": "display_data"
    },
    {
     "data": {
      "text/plain": []
     },
     "execution_count": 150,
     "metadata": {},
     "output_type": "execute_result"
    }
   ],
   "source": [
    "prce.get_graph()"
   ]
  },
  {
   "cell_type": "code",
   "execution_count": 151,
   "metadata": {
    "ExecuteTime": {
     "end_time": "2021-11-22T15:21:42.521595Z",
     "start_time": "2021-11-22T15:21:42.020531Z"
    }
   },
   "outputs": [
    {
     "data": {
      "image/png": "[encoded data removed]",
      "text/plain": [
       "<Figure size 504x576 with 1 Axes>"
      ]
     },
     "metadata": {
      "needs_background": "light"
     },
     "output_type": "display_data"
    },
    {
     "data": {
      "text/plain": []
     },
     "execution_count": 151,
     "metadata": {},
     "output_type": "execute_result"
    }
   ],
   "source": [
    "prce.get_graph(isocurves='on')"
   ]
  },
  {
   "cell_type": "markdown",
   "metadata": {
    "ExecuteTime": {
     "end_time": "2021-02-05T10:03:05.945149Z",
     "start_time": "2021-02-05T10:03:05.854099Z"
    }
   },
   "source": [
    "## Gini in Time Evaluator"
   ]
  },
  {
   "cell_type": "code",
   "execution_count": 164,
   "metadata": {
    "ExecuteTime": {
     "end_time": "2021-11-22T15:51:46.547419Z",
     "start_time": "2021-11-22T15:51:46.412050Z"
    }
   },
   "outputs": [],
   "source": [
    "from mofr.basic_evaluators.GiniInTime import GiniInTimeEvaluator\n",
    "\n",
    "gite=GiniInTimeEvaluator()"
   ]
  },
  {
   "cell_type": "code",
   "execution_count": 165,
   "metadata": {
    "ExecuteTime": {
     "end_time": "2021-11-22T15:51:48.738680Z",
     "start_time": "2021-11-22T15:51:48.617682Z"
    }
   },
   "outputs": [
    {
     "data": {
      "text/plain": []
     },
     "execution_count": 165,
     "metadata": {},
     "output_type": "execute_result"
    }
   ],
   "source": [
    "gite.d(df).t([('target','target_obs')]).s(['p_churn', 'semi_random_score','random_score']).tc('month')"
   ]
  },
  {
   "cell_type": "code",
   "execution_count": 166,
   "metadata": {
    "ExecuteTime": {
     "end_time": "2021-11-22T15:51:51.392754Z",
     "start_time": "2021-11-22T15:51:50.988752Z"
    }
   },
   "outputs": [
    {
     "data": {
      "image/png": "[encoded data removed]",
      "text/plain": [
       "<Figure size 504x576 with 1 Axes>"
      ]
     },
     "metadata": {
      "needs_background": "light"
     },
     "output_type": "display_data"
    },
    {
     "data": {
      "text/plain": []
     },
     "execution_count": 166,
     "metadata": {},
     "output_type": "execute_result"
    }
   ],
   "source": [
    "gite.get_graph()"
   ]
  },
  {
   "cell_type": "code",
   "execution_count": 51,
   "metadata": {
    "ExecuteTime": {
     "end_time": "2021-11-22T14:52:27.298502Z",
     "start_time": "2021-11-22T14:52:26.669457Z"
    }
   },
   "outputs": [
    {
     "data": {
      "text/html": [
       "<style  type=\"text/css\" >\n",
       "</style><table id=\"T_cf634492_4ba3_11ec_a971_5c879c826b52\" style='display:inline'><caption>GINI on target \"target\"</caption><thead>    <tr>        <th class=\"blank level0\" ></th>        <th class=\"col_heading level0 col0\" >p_churn</th>        <th class=\"col_heading level0 col1\" >semi_random_score</th>        <th class=\"col_heading level0 col2\" >random_score</th>    </tr>    <tr>        <th class=\"index_name level0\" >month</th>        <th class=\"blank\" ></th>        <th class=\"blank\" ></th>        <th class=\"blank\" ></th>    </tr></thead><tbody>\n",
       "                <tr>\n",
       "                        <th id=\"T_cf634492_4ba3_11ec_a971_5c879c826b52level0_row0\" class=\"row_heading level0 row0\" >202001</th>\n",
       "                        <td id=\"T_cf634492_4ba3_11ec_a971_5c879c826b52row0_col0\" class=\"data row0 col0\" >0.712370</td>\n",
       "                        <td id=\"T_cf634492_4ba3_11ec_a971_5c879c826b52row0_col1\" class=\"data row0 col1\" >0.286666</td>\n",
       "                        <td id=\"T_cf634492_4ba3_11ec_a971_5c879c826b52row0_col2\" class=\"data row0 col2\" >-0.005748</td>\n",
       "            </tr>\n",
       "            <tr>\n",
       "                        <th id=\"T_cf634492_4ba3_11ec_a971_5c879c826b52level0_row1\" class=\"row_heading level0 row1\" >202002</th>\n",
       "                        <td id=\"T_cf634492_4ba3_11ec_a971_5c879c826b52row1_col0\" class=\"data row1 col0\" >0.725765</td>\n",
       "                        <td id=\"T_cf634492_4ba3_11ec_a971_5c879c826b52row1_col1\" class=\"data row1 col1\" >0.320843</td>\n",
       "                        <td id=\"T_cf634492_4ba3_11ec_a971_5c879c826b52row1_col2\" class=\"data row1 col2\" >0.014542</td>\n",
       "            </tr>\n",
       "            <tr>\n",
       "                        <th id=\"T_cf634492_4ba3_11ec_a971_5c879c826b52level0_row2\" class=\"row_heading level0 row2\" >202003</th>\n",
       "                        <td id=\"T_cf634492_4ba3_11ec_a971_5c879c826b52row2_col0\" class=\"data row2 col0\" >0.696554</td>\n",
       "                        <td id=\"T_cf634492_4ba3_11ec_a971_5c879c826b52row2_col1\" class=\"data row2 col1\" >0.245156</td>\n",
       "                        <td id=\"T_cf634492_4ba3_11ec_a971_5c879c826b52row2_col2\" class=\"data row2 col2\" >-0.007077</td>\n",
       "            </tr>\n",
       "            <tr>\n",
       "                        <th id=\"T_cf634492_4ba3_11ec_a971_5c879c826b52level0_row3\" class=\"row_heading level0 row3\" >All</th>\n",
       "                        <td id=\"T_cf634492_4ba3_11ec_a971_5c879c826b52row3_col0\" class=\"data row3 col0\" >0.712179</td>\n",
       "                        <td id=\"T_cf634492_4ba3_11ec_a971_5c879c826b52row3_col1\" class=\"data row3 col1\" >0.284221</td>\n",
       "                        <td id=\"T_cf634492_4ba3_11ec_a971_5c879c826b52row3_col2\" class=\"data row3 col2\" >0.000714</td>\n",
       "            </tr>\n",
       "    </tbody></table>"
      ],
      "text/plain": [
       "<pandas.io.formats.style.Styler at 0x1bcc0610>"
      ]
     },
     "execution_count": 51,
     "metadata": {},
     "output_type": "execute_result"
    }
   ],
   "source": [
    "gite.get_table()\n",
    "gite.table"
   ]
  },
  {
   "cell_type": "markdown",
   "metadata": {
    "ExecuteTime": {
     "end_time": "2021-02-05T10:03:05.945149Z",
     "start_time": "2021-02-05T10:03:05.854099Z"
    }
   },
   "source": [
    "## Lift in Time Evaluator"
   ]
  },
  {
   "cell_type": "code",
   "execution_count": 171,
   "metadata": {
    "ExecuteTime": {
     "end_time": "2021-11-22T16:08:06.445870Z",
     "start_time": "2021-11-22T16:08:06.266860Z"
    }
   },
   "outputs": [],
   "source": [
    "from mofr.basic_evaluators.LiftInTime import LiftInTimeEvaluator\n",
    "\n",
    "lite=LiftInTimeEvaluator()"
   ]
  },
  {
   "cell_type": "code",
   "execution_count": 172,
   "metadata": {
    "ExecuteTime": {
     "end_time": "2021-11-22T16:08:09.020425Z",
     "start_time": "2021-11-22T16:08:08.914435Z"
    }
   },
   "outputs": [
    {
     "data": {
      "text/plain": []
     },
     "execution_count": 172,
     "metadata": {},
     "output_type": "execute_result"
    }
   ],
   "source": [
    "lite.d(df).t([('target','target_obs')]).s(['p_churn', 'semi_random_score','random_score']).tc('month')"
   ]
  },
  {
   "cell_type": "code",
   "execution_count": 173,
   "metadata": {
    "ExecuteTime": {
     "end_time": "2021-11-22T16:08:11.774612Z",
     "start_time": "2021-11-22T16:08:11.320584Z"
    }
   },
   "outputs": [
    {
     "data": {
      "image/png": "[encoded data removed]",
      "text/plain": [
       "<Figure size 504x576 with 1 Axes>"
      ]
     },
     "metadata": {
      "needs_background": "light"
     },
     "output_type": "display_data"
    },
    {
     "data": {
      "text/plain": []
     },
     "execution_count": 173,
     "metadata": {},
     "output_type": "execute_result"
    }
   ],
   "source": [
    "lite.get_graph()"
   ]
  },
  {
   "cell_type": "code",
   "execution_count": 55,
   "metadata": {
    "ExecuteTime": {
     "end_time": "2021-11-22T14:52:28.280451Z",
     "start_time": "2021-11-22T14:52:28.032451Z"
    }
   },
   "outputs": [
    {
     "data": {
      "text/html": [
       "<style  type=\"text/css\" >\n",
       "</style><table id=\"T_cff990fa_4ba3_11ec_8016_5c879c826b52\" style='display:inline'><caption>Lift on target \"target\"</caption><thead>    <tr>        <th class=\"blank level0\" ></th>        <th class=\"col_heading level0 col0\" >p_churn</th>        <th class=\"col_heading level0 col1\" >semi_random_score</th>        <th class=\"col_heading level0 col2\" >random_score</th>    </tr>    <tr>        <th class=\"index_name level0\" >month</th>        <th class=\"blank\" ></th>        <th class=\"blank\" ></th>        <th class=\"blank\" ></th>    </tr></thead><tbody>\n",
       "                <tr>\n",
       "                        <th id=\"T_cff990fa_4ba3_11ec_8016_5c879c826b52level0_row0\" class=\"row_heading level0 row0\" >202001</th>\n",
       "                        <td id=\"T_cff990fa_4ba3_11ec_8016_5c879c826b52row0_col0\" class=\"data row0 col0\" >2.352371</td>\n",
       "                        <td id=\"T_cff990fa_4ba3_11ec_8016_5c879c826b52row0_col1\" class=\"data row0 col1\" >1.924667</td>\n",
       "                        <td id=\"T_cff990fa_4ba3_11ec_8016_5c879c826b52row0_col2\" class=\"data row0 col2\" >1.019909</td>\n",
       "            </tr>\n",
       "            <tr>\n",
       "                        <th id=\"T_cff990fa_4ba3_11ec_8016_5c879c826b52level0_row1\" class=\"row_heading level0 row1\" >202002</th>\n",
       "                        <td id=\"T_cff990fa_4ba3_11ec_8016_5c879c826b52row1_col0\" class=\"data row1 col0\" >2.318502</td>\n",
       "                        <td id=\"T_cff990fa_4ba3_11ec_8016_5c879c826b52row1_col1\" class=\"data row1 col1\" >2.081575</td>\n",
       "                        <td id=\"T_cff990fa_4ba3_11ec_8016_5c879c826b52row1_col2\" class=\"data row1 col2\" >0.964632</td>\n",
       "            </tr>\n",
       "            <tr>\n",
       "                        <th id=\"T_cff990fa_4ba3_11ec_8016_5c879c826b52level0_row2\" class=\"row_heading level0 row2\" >202003</th>\n",
       "                        <td id=\"T_cff990fa_4ba3_11ec_8016_5c879c826b52row2_col0\" class=\"data row2 col0\" >2.257114</td>\n",
       "                        <td id=\"T_cff990fa_4ba3_11ec_8016_5c879c826b52row2_col1\" class=\"data row2 col1\" >1.750081</td>\n",
       "                        <td id=\"T_cff990fa_4ba3_11ec_8016_5c879c826b52row2_col2\" class=\"data row2 col2\" >0.948642</td>\n",
       "            </tr>\n",
       "            <tr>\n",
       "                        <th id=\"T_cff990fa_4ba3_11ec_8016_5c879c826b52level0_row3\" class=\"row_heading level0 row3\" >All</th>\n",
       "                        <td id=\"T_cff990fa_4ba3_11ec_8016_5c879c826b52row3_col0\" class=\"data row3 col0\" >2.306531</td>\n",
       "                        <td id=\"T_cff990fa_4ba3_11ec_8016_5c879c826b52row3_col1\" class=\"data row3 col1\" >1.908281</td>\n",
       "                        <td id=\"T_cff990fa_4ba3_11ec_8016_5c879c826b52row3_col2\" class=\"data row3 col2\" >0.984562</td>\n",
       "            </tr>\n",
       "    </tbody></table>"
      ],
      "text/plain": [
       "<pandas.io.formats.style.Styler at 0x1e0fb970>"
      ]
     },
     "execution_count": 55,
     "metadata": {},
     "output_type": "execute_result"
    }
   ],
   "source": [
    "lite.get_table()\n",
    "lite.table"
   ]
  },
  {
   "cell_type": "markdown",
   "metadata": {
    "ExecuteTime": {
     "end_time": "2021-02-05T10:03:05.945149Z",
     "start_time": "2021-02-05T10:03:05.854099Z"
    }
   },
   "source": [
    "## KS in Time Evaluator"
   ]
  },
  {
   "cell_type": "code",
   "execution_count": 178,
   "metadata": {
    "ExecuteTime": {
     "end_time": "2021-11-22T16:11:56.004319Z",
     "start_time": "2021-11-22T16:11:55.885323Z"
    }
   },
   "outputs": [],
   "source": [
    "from mofr.basic_evaluators.KSInTime import KSInTimeEvaluator\n",
    "\n",
    "kite=KSInTimeEvaluator()"
   ]
  },
  {
   "cell_type": "code",
   "execution_count": 179,
   "metadata": {
    "ExecuteTime": {
     "end_time": "2021-11-22T16:11:58.239667Z",
     "start_time": "2021-11-22T16:11:58.131622Z"
    }
   },
   "outputs": [
    {
     "data": {
      "text/plain": []
     },
     "execution_count": 179,
     "metadata": {},
     "output_type": "execute_result"
    }
   ],
   "source": [
    "kite.d(df).t([('target','target_obs')]).s(['p_churn', 'semi_random_score','random_score']).tc('month')"
   ]
  },
  {
   "cell_type": "code",
   "execution_count": 180,
   "metadata": {
    "ExecuteTime": {
     "end_time": "2021-11-22T16:12:00.951362Z",
     "start_time": "2021-11-22T16:12:00.375298Z"
    }
   },
   "outputs": [
    {
     "data": {
      "image/png": "[encoded data removed]",
      "text/plain": [
       "<Figure size 504x576 with 1 Axes>"
      ]
     },
     "metadata": {
      "needs_background": "light"
     },
     "output_type": "display_data"
    },
    {
     "data": {
      "text/plain": []
     },
     "execution_count": 180,
     "metadata": {},
     "output_type": "execute_result"
    }
   ],
   "source": [
    "kite.get_graph()"
   ]
  },
  {
   "cell_type": "code",
   "execution_count": 59,
   "metadata": {
    "ExecuteTime": {
     "end_time": "2021-11-22T14:52:29.961443Z",
     "start_time": "2021-11-22T14:52:29.245446Z"
    }
   },
   "outputs": [
    {
     "data": {
      "text/html": [
       "<style  type=\"text/css\" >\n",
       "</style><table id=\"T_d0fa10d4_4ba3_11ec_a86a_5c879c826b52\" style='display:inline'><caption>KS on target \"target\"</caption><thead>    <tr>        <th class=\"blank level0\" ></th>        <th class=\"col_heading level0 col0\" >p_churn</th>        <th class=\"col_heading level0 col1\" >semi_random_score</th>        <th class=\"col_heading level0 col2\" >random_score</th>    </tr>    <tr>        <th class=\"index_name level0\" >month</th>        <th class=\"blank\" ></th>        <th class=\"blank\" ></th>        <th class=\"blank\" ></th>    </tr></thead><tbody>\n",
       "                <tr>\n",
       "                        <th id=\"T_d0fa10d4_4ba3_11ec_a86a_5c879c826b52level0_row0\" class=\"row_heading level0 row0\" >202001</th>\n",
       "                        <td id=\"T_d0fa10d4_4ba3_11ec_a86a_5c879c826b52row0_col0\" class=\"data row0 col0\" >0.596632</td>\n",
       "                        <td id=\"T_d0fa10d4_4ba3_11ec_a86a_5c879c826b52row0_col1\" class=\"data row0 col1\" >0.217900</td>\n",
       "                        <td id=\"T_d0fa10d4_4ba3_11ec_a86a_5c879c826b52row0_col2\" class=\"data row0 col2\" >0.029813</td>\n",
       "            </tr>\n",
       "            <tr>\n",
       "                        <th id=\"T_d0fa10d4_4ba3_11ec_a86a_5c879c826b52level0_row1\" class=\"row_heading level0 row1\" >202002</th>\n",
       "                        <td id=\"T_d0fa10d4_4ba3_11ec_a86a_5c879c826b52row1_col0\" class=\"data row1 col0\" >0.607993</td>\n",
       "                        <td id=\"T_d0fa10d4_4ba3_11ec_a86a_5c879c826b52row1_col1\" class=\"data row1 col1\" >0.244860</td>\n",
       "                        <td id=\"T_d0fa10d4_4ba3_11ec_a86a_5c879c826b52row1_col2\" class=\"data row1 col2\" >0.037773</td>\n",
       "            </tr>\n",
       "            <tr>\n",
       "                        <th id=\"T_d0fa10d4_4ba3_11ec_a86a_5c879c826b52level0_row2\" class=\"row_heading level0 row2\" >202003</th>\n",
       "                        <td id=\"T_d0fa10d4_4ba3_11ec_a86a_5c879c826b52row2_col0\" class=\"data row2 col0\" >0.568813</td>\n",
       "                        <td id=\"T_d0fa10d4_4ba3_11ec_a86a_5c879c826b52row2_col1\" class=\"data row2 col1\" >0.203891</td>\n",
       "                        <td id=\"T_d0fa10d4_4ba3_11ec_a86a_5c879c826b52row2_col2\" class=\"data row2 col2\" >0.029325</td>\n",
       "            </tr>\n",
       "            <tr>\n",
       "                        <th id=\"T_d0fa10d4_4ba3_11ec_a86a_5c879c826b52level0_row3\" class=\"row_heading level0 row3\" >All</th>\n",
       "                        <td id=\"T_d0fa10d4_4ba3_11ec_a86a_5c879c826b52row3_col0\" class=\"data row3 col0\" >0.588207</td>\n",
       "                        <td id=\"T_d0fa10d4_4ba3_11ec_a86a_5c879c826b52row3_col1\" class=\"data row3 col1\" >0.212686</td>\n",
       "                        <td id=\"T_d0fa10d4_4ba3_11ec_a86a_5c879c826b52row3_col2\" class=\"data row3 col2\" >0.014385</td>\n",
       "            </tr>\n",
       "    </tbody></table>"
      ],
      "text/plain": [
       "<pandas.io.formats.style.Styler at 0x1b9c7310>"
      ]
     },
     "execution_count": 59,
     "metadata": {},
     "output_type": "execute_result"
    }
   ],
   "source": [
    "kite.get_table()\n",
    "kite.table"
   ]
  },
  {
   "cell_type": "markdown",
   "metadata": {
    "ExecuteTime": {
     "end_time": "2021-02-05T10:03:05.945149Z",
     "start_time": "2021-02-05T10:03:05.854099Z"
    }
   },
   "source": [
    "## StabilityInTimeCategorical Evaluator"
   ]
  },
  {
   "cell_type": "code",
   "execution_count": 183,
   "metadata": {
    "ExecuteTime": {
     "end_time": "2021-11-22T16:14:25.557676Z",
     "start_time": "2021-11-22T16:14:25.406380Z"
    }
   },
   "outputs": [],
   "source": [
    "df['categorical_predictor']=df['target_obs'].apply(lambda x: random.choice(['A','B','C', 'D', 'F', 'G', 'H']))"
   ]
  },
  {
   "cell_type": "code",
   "execution_count": 184,
   "metadata": {
    "ExecuteTime": {
     "end_time": "2021-11-22T16:14:27.827153Z",
     "start_time": "2021-11-22T16:14:27.735791Z"
    }
   },
   "outputs": [],
   "source": [
    "from mofr.basic_evaluators.StabilityInTimeCategorical import StabilityInTimeCategoricalEvaluator\n",
    "\n",
    "sitcae=StabilityInTimeCategoricalEvaluator()"
   ]
  },
  {
   "cell_type": "code",
   "execution_count": 185,
   "metadata": {
    "ExecuteTime": {
     "end_time": "2021-11-22T16:14:30.048490Z",
     "start_time": "2021-11-22T16:14:29.941440Z"
    }
   },
   "outputs": [
    {
     "data": {
      "text/plain": []
     },
     "execution_count": 185,
     "metadata": {},
     "output_type": "execute_result"
    }
   ],
   "source": [
    "sitcae.d(df).pc('categorical_predictor').tc('month')"
   ]
  },
  {
   "cell_type": "code",
   "execution_count": 186,
   "metadata": {
    "ExecuteTime": {
     "end_time": "2021-11-22T16:14:32.871976Z",
     "start_time": "2021-11-22T16:14:32.344950Z"
    }
   },
   "outputs": [
    {
     "data": {
      "image/png": "[encoded data removed]",
      "text/plain": [
       "<Figure size 504x576 with 1 Axes>"
      ]
     },
     "metadata": {
      "needs_background": "light"
     },
     "output_type": "display_data"
    },
    {
     "data": {
      "text/plain": []
     },
     "execution_count": 186,
     "metadata": {},
     "output_type": "execute_result"
    }
   ],
   "source": [
    "sitcae.get_graph()"
   ]
  },
  {
   "cell_type": "code",
   "execution_count": 187,
   "metadata": {
    "ExecuteTime": {
     "end_time": "2021-11-22T16:14:35.411211Z",
     "start_time": "2021-11-22T16:14:35.273206Z"
    }
   },
   "outputs": [
    {
     "data": {
      "text/html": [
       "<style  type=\"text/css\" >\n",
       "</style><table id=\"T_48c5e75e_4baf_11ec_94ce_5c879c826b52\" style='display:inline'><caption>Distribution of predictor \"categorical_predictor\" in time</caption><thead>    <tr>        <th class=\"index_name level0\" >categorical_predictor</th>        <th class=\"col_heading level0 col0\" >A</th>        <th class=\"col_heading level0 col1\" >B</th>        <th class=\"col_heading level0 col2\" >C</th>        <th class=\"col_heading level0 col3\" >D</th>        <th class=\"col_heading level0 col4\" >F</th>        <th class=\"col_heading level0 col5\" >G</th>        <th class=\"col_heading level0 col6\" >H</th>    </tr>    <tr>        <th class=\"index_name level0\" >month</th>        <th class=\"blank\" ></th>        <th class=\"blank\" ></th>        <th class=\"blank\" ></th>        <th class=\"blank\" ></th>        <th class=\"blank\" ></th>        <th class=\"blank\" ></th>        <th class=\"blank\" ></th>    </tr></thead><tbody>\n",
       "                <tr>\n",
       "                        <th id=\"T_48c5e75e_4baf_11ec_94ce_5c879c826b52level0_row0\" class=\"row_heading level0 row0\" >202001</th>\n",
       "                        <td id=\"T_48c5e75e_4baf_11ec_94ce_5c879c826b52row0_col0\" class=\"data row0 col0\" >0.138581</td>\n",
       "                        <td id=\"T_48c5e75e_4baf_11ec_94ce_5c879c826b52row0_col1\" class=\"data row0 col1\" >0.140059</td>\n",
       "                        <td id=\"T_48c5e75e_4baf_11ec_94ce_5c879c826b52row0_col2\" class=\"data row0 col2\" >0.143016</td>\n",
       "                        <td id=\"T_48c5e75e_4baf_11ec_94ce_5c879c826b52row0_col3\" class=\"data row0 col3\" >0.144124</td>\n",
       "                        <td id=\"T_48c5e75e_4baf_11ec_94ce_5c879c826b52row0_col4\" class=\"data row0 col4\" >0.135625</td>\n",
       "                        <td id=\"T_48c5e75e_4baf_11ec_94ce_5c879c826b52row0_col5\" class=\"data row0 col5\" >0.150407</td>\n",
       "                        <td id=\"T_48c5e75e_4baf_11ec_94ce_5c879c826b52row0_col6\" class=\"data row0 col6\" >0.148189</td>\n",
       "            </tr>\n",
       "            <tr>\n",
       "                        <th id=\"T_48c5e75e_4baf_11ec_94ce_5c879c826b52level0_row1\" class=\"row_heading level0 row1\" >202002</th>\n",
       "                        <td id=\"T_48c5e75e_4baf_11ec_94ce_5c879c826b52row1_col0\" class=\"data row1 col0\" >0.148134</td>\n",
       "                        <td id=\"T_48c5e75e_4baf_11ec_94ce_5c879c826b52row1_col1\" class=\"data row1 col1\" >0.142803</td>\n",
       "                        <td id=\"T_48c5e75e_4baf_11ec_94ce_5c879c826b52row1_col2\" class=\"data row1 col2\" >0.134806</td>\n",
       "                        <td id=\"T_48c5e75e_4baf_11ec_94ce_5c879c826b52row1_col3\" class=\"data row1 col3\" >0.142041</td>\n",
       "                        <td id=\"T_48c5e75e_4baf_11ec_94ce_5c879c826b52row1_col4\" class=\"data row1 col4\" >0.145849</td>\n",
       "                        <td id=\"T_48c5e75e_4baf_11ec_94ce_5c879c826b52row1_col5\" class=\"data row1 col5\" >0.144707</td>\n",
       "                        <td id=\"T_48c5e75e_4baf_11ec_94ce_5c879c826b52row1_col6\" class=\"data row1 col6\" >0.141660</td>\n",
       "            </tr>\n",
       "            <tr>\n",
       "                        <th id=\"T_48c5e75e_4baf_11ec_94ce_5c879c826b52level0_row2\" class=\"row_heading level0 row2\" >202003</th>\n",
       "                        <td id=\"T_48c5e75e_4baf_11ec_94ce_5c879c826b52row2_col0\" class=\"data row2 col0\" >0.143076</td>\n",
       "                        <td id=\"T_48c5e75e_4baf_11ec_94ce_5c879c826b52row2_col1\" class=\"data row2 col1\" >0.140398</td>\n",
       "                        <td id=\"T_48c5e75e_4baf_11ec_94ce_5c879c826b52row2_col2\" class=\"data row2 col2\" >0.140015</td>\n",
       "                        <td id=\"T_48c5e75e_4baf_11ec_94ce_5c879c826b52row2_col3\" class=\"data row2 col3\" >0.140780</td>\n",
       "                        <td id=\"T_48c5e75e_4baf_11ec_94ce_5c879c826b52row2_col4\" class=\"data row2 col4\" >0.144989</td>\n",
       "                        <td id=\"T_48c5e75e_4baf_11ec_94ce_5c879c826b52row2_col5\" class=\"data row2 col5\" >0.148049</td>\n",
       "                        <td id=\"T_48c5e75e_4baf_11ec_94ce_5c879c826b52row2_col6\" class=\"data row2 col6\" >0.142693</td>\n",
       "            </tr>\n",
       "    </tbody></table>"
      ],
      "text/plain": [
       "<pandas.io.formats.style.Styler at 0x1fa24650>"
      ]
     },
     "execution_count": 187,
     "metadata": {},
     "output_type": "execute_result"
    }
   ],
   "source": [
    "sitcae.get_table()\n",
    "sitcae.table"
   ]
  },
  {
   "cell_type": "markdown",
   "metadata": {
    "ExecuteTime": {
     "end_time": "2021-02-05T10:03:05.945149Z",
     "start_time": "2021-02-05T10:03:05.854099Z"
    }
   },
   "source": [
    "## StabilityInTimeContinuous Evaluator"
   ]
  },
  {
   "cell_type": "code",
   "execution_count": 193,
   "metadata": {
    "ExecuteTime": {
     "end_time": "2021-11-22T16:18:00.977333Z",
     "start_time": "2021-11-22T16:18:00.824946Z"
    }
   },
   "outputs": [],
   "source": [
    "from mofr.basic_evaluators.StabilityInTimeContinuous import StabilityInTimeContinuousEvaluator\n",
    "\n",
    "sitcoe=StabilityInTimeContinuousEvaluator()"
   ]
  },
  {
   "cell_type": "code",
   "execution_count": 194,
   "metadata": {
    "ExecuteTime": {
     "end_time": "2021-11-22T16:18:03.292088Z",
     "start_time": "2021-11-22T16:18:03.185048Z"
    }
   },
   "outputs": [
    {
     "data": {
      "text/plain": []
     },
     "execution_count": 194,
     "metadata": {},
     "output_type": "execute_result"
    }
   ],
   "source": [
    "sitcoe.d(df).pc('p_churn').tc('month')"
   ]
  },
  {
   "cell_type": "code",
   "execution_count": 195,
   "metadata": {
    "ExecuteTime": {
     "end_time": "2021-11-22T16:18:06.006173Z",
     "start_time": "2021-11-22T16:18:05.569113Z"
    }
   },
   "outputs": [
    {
     "data": {
      "image/png": "[encoded data removed]",
      "text/plain": [
       "<Figure size 504x576 with 1 Axes>"
      ]
     },
     "metadata": {
      "needs_background": "light"
     },
     "output_type": "display_data"
    },
    {
     "data": {
      "text/plain": []
     },
     "execution_count": 195,
     "metadata": {},
     "output_type": "execute_result"
    }
   ],
   "source": [
    "sitcoe.get_graph()"
   ]
  },
  {
   "cell_type": "code",
   "execution_count": 68,
   "metadata": {
    "ExecuteTime": {
     "end_time": "2021-11-22T14:52:31.980437Z",
     "start_time": "2021-11-22T14:52:31.803438Z"
    }
   },
   "outputs": [
    {
     "data": {
      "text/html": [
       "<style  type=\"text/css\" >\n",
       "</style><table id=\"T_d22e71f0_4ba3_11ec_9051_5c879c826b52\" style='display:inline'><caption>Distribution of predictor \"p_churn\" in time</caption><thead>    <tr>        <th class=\"blank level0\" ></th>        <th class=\"col_heading level0 col0\" >percentile_10</th>        <th class=\"col_heading level0 col1\" >percentile_25</th>        <th class=\"col_heading level0 col2\" >percentile_50</th>        <th class=\"col_heading level0 col3\" >percentile_75</th>        <th class=\"col_heading level0 col4\" >percentile_90</th>    </tr>    <tr>        <th class=\"index_name level0\" >month</th>        <th class=\"blank\" ></th>        <th class=\"blank\" ></th>        <th class=\"blank\" ></th>        <th class=\"blank\" ></th>        <th class=\"blank\" ></th>    </tr></thead><tbody>\n",
       "                <tr>\n",
       "                        <th id=\"T_d22e71f0_4ba3_11ec_9051_5c879c826b52level0_row0\" class=\"row_heading level0 row0\" >202001</th>\n",
       "                        <td id=\"T_d22e71f0_4ba3_11ec_9051_5c879c826b52row0_col0\" class=\"data row0 col0\" >0.001145</td>\n",
       "                        <td id=\"T_d22e71f0_4ba3_11ec_9051_5c879c826b52row0_col1\" class=\"data row0 col1\" >0.003282</td>\n",
       "                        <td id=\"T_d22e71f0_4ba3_11ec_9051_5c879c826b52row0_col2\" class=\"data row0 col2\" >0.020074</td>\n",
       "                        <td id=\"T_d22e71f0_4ba3_11ec_9051_5c879c826b52row0_col3\" class=\"data row0 col3\" >0.239278</td>\n",
       "                        <td id=\"T_d22e71f0_4ba3_11ec_9051_5c879c826b52row0_col4\" class=\"data row0 col4\" >0.386153</td>\n",
       "            </tr>\n",
       "            <tr>\n",
       "                        <th id=\"T_d22e71f0_4ba3_11ec_9051_5c879c826b52level0_row1\" class=\"row_heading level0 row1\" >202002</th>\n",
       "                        <td id=\"T_d22e71f0_4ba3_11ec_9051_5c879c826b52row1_col0\" class=\"data row1 col0\" >0.001105</td>\n",
       "                        <td id=\"T_d22e71f0_4ba3_11ec_9051_5c879c826b52row1_col1\" class=\"data row1 col1\" >0.002993</td>\n",
       "                        <td id=\"T_d22e71f0_4ba3_11ec_9051_5c879c826b52row1_col2\" class=\"data row1 col2\" >0.020747</td>\n",
       "                        <td id=\"T_d22e71f0_4ba3_11ec_9051_5c879c826b52row1_col3\" class=\"data row1 col3\" >0.248344</td>\n",
       "                        <td id=\"T_d22e71f0_4ba3_11ec_9051_5c879c826b52row1_col4\" class=\"data row1 col4\" >0.387129</td>\n",
       "            </tr>\n",
       "            <tr>\n",
       "                        <th id=\"T_d22e71f0_4ba3_11ec_9051_5c879c826b52level0_row2\" class=\"row_heading level0 row2\" >202003</th>\n",
       "                        <td id=\"T_d22e71f0_4ba3_11ec_9051_5c879c826b52row2_col0\" class=\"data row2 col0\" >0.001199</td>\n",
       "                        <td id=\"T_d22e71f0_4ba3_11ec_9051_5c879c826b52row2_col1\" class=\"data row2 col1\" >0.003159</td>\n",
       "                        <td id=\"T_d22e71f0_4ba3_11ec_9051_5c879c826b52row2_col2\" class=\"data row2 col2\" >0.025832</td>\n",
       "                        <td id=\"T_d22e71f0_4ba3_11ec_9051_5c879c826b52row2_col3\" class=\"data row2 col3\" >0.257423</td>\n",
       "                        <td id=\"T_d22e71f0_4ba3_11ec_9051_5c879c826b52row2_col4\" class=\"data row2 col4\" >0.445959</td>\n",
       "            </tr>\n",
       "    </tbody></table>"
      ],
      "text/plain": [
       "<pandas.io.formats.style.Styler at 0x1bb6f1d0>"
      ]
     },
     "execution_count": 68,
     "metadata": {},
     "output_type": "execute_result"
    }
   ],
   "source": [
    "sitcoe.get_table()\n",
    "sitcoe.table"
   ]
  },
  {
   "cell_type": "markdown",
   "metadata": {
    "ExecuteTime": {
     "end_time": "2021-02-05T10:03:05.945149Z",
     "start_time": "2021-02-05T10:03:05.854099Z"
    }
   },
   "source": [
    "## HistogramCategorical Evaluator"
   ]
  },
  {
   "cell_type": "code",
   "execution_count": 198,
   "metadata": {
    "ExecuteTime": {
     "end_time": "2021-11-22T16:20:15.326289Z",
     "start_time": "2021-11-22T16:20:15.162287Z"
    }
   },
   "outputs": [],
   "source": [
    "df['categorical_predictor']=df['target_obs'].apply(lambda x: random.choice(['A','B','C', 'D', 'F', 'G', 'H']))"
   ]
  },
  {
   "cell_type": "code",
   "execution_count": 199,
   "metadata": {
    "ExecuteTime": {
     "end_time": "2021-11-22T16:20:17.603129Z",
     "start_time": "2021-11-22T16:20:17.512083Z"
    }
   },
   "outputs": [],
   "source": [
    "from mofr.basic_evaluators.HistogramCategorical import HistogramCategoricalEvaluator\n",
    "hcae=HistogramCategoricalEvaluator()"
   ]
  },
  {
   "cell_type": "code",
   "execution_count": 200,
   "metadata": {
    "ExecuteTime": {
     "end_time": "2021-11-22T16:20:19.781155Z",
     "start_time": "2021-11-22T16:20:19.671149Z"
    }
   },
   "outputs": [
    {
     "data": {
      "text/plain": []
     },
     "execution_count": 200,
     "metadata": {},
     "output_type": "execute_result"
    }
   ],
   "source": [
    "hcae.d(df).pc('categorical_predictor')"
   ]
  },
  {
   "cell_type": "code",
   "execution_count": 201,
   "metadata": {
    "ExecuteTime": {
     "end_time": "2021-11-22T16:20:22.410692Z",
     "start_time": "2021-11-22T16:20:22.024748Z"
    },
    "scrolled": false
   },
   "outputs": [
    {
     "data": {
      "image/png": "[encoded data removed]",
      "text/plain": [
       "<Figure size 504x576 with 1 Axes>"
      ]
     },
     "metadata": {
      "needs_background": "light"
     },
     "output_type": "display_data"
    },
    {
     "data": {
      "text/plain": []
     },
     "execution_count": 201,
     "metadata": {},
     "output_type": "execute_result"
    }
   ],
   "source": [
    "hcae.get_graph()"
   ]
  },
  {
   "cell_type": "code",
   "execution_count": 110,
   "metadata": {
    "ExecuteTime": {
     "end_time": "2021-11-22T14:58:51.854209Z",
     "start_time": "2021-11-22T14:58:51.738099Z"
    }
   },
   "outputs": [
    {
     "data": {
      "text/html": [
       "<div>\n",
       "<style scoped>\n",
       "    .dataframe tbody tr th:only-of-type {\n",
       "        vertical-align: middle;\n",
       "    }\n",
       "\n",
       "    .dataframe tbody tr th {\n",
       "        vertical-align: top;\n",
       "    }\n",
       "\n",
       "    .dataframe thead th {\n",
       "        text-align: right;\n",
       "    }\n",
       "</style>\n",
       "<table border=\"1\" class=\"dataframe\">\n",
       "  <thead>\n",
       "    <tr style=\"text-align: right;\">\n",
       "      <th></th>\n",
       "      <th>categorical_predictor %</th>\n",
       "      <th>categorical_predictor</th>\n",
       "    </tr>\n",
       "  </thead>\n",
       "  <tbody>\n",
       "    <tr>\n",
       "      <th>G</th>\n",
       "      <td>0.152781</td>\n",
       "      <td>1214</td>\n",
       "    </tr>\n",
       "    <tr>\n",
       "      <th>D</th>\n",
       "      <td>0.144224</td>\n",
       "      <td>1146</td>\n",
       "    </tr>\n",
       "    <tr>\n",
       "      <th>H</th>\n",
       "      <td>0.142336</td>\n",
       "      <td>1131</td>\n",
       "    </tr>\n",
       "    <tr>\n",
       "      <th>C</th>\n",
       "      <td>0.141455</td>\n",
       "      <td>1124</td>\n",
       "    </tr>\n",
       "    <tr>\n",
       "      <th>F</th>\n",
       "      <td>0.140070</td>\n",
       "      <td>1113</td>\n",
       "    </tr>\n",
       "    <tr>\n",
       "      <th>B</th>\n",
       "      <td>0.139819</td>\n",
       "      <td>1111</td>\n",
       "    </tr>\n",
       "    <tr>\n",
       "      <th>A</th>\n",
       "      <td>0.139315</td>\n",
       "      <td>1107</td>\n",
       "    </tr>\n",
       "  </tbody>\n",
       "</table>\n",
       "</div>"
      ],
      "text/plain": [
       "   categorical_predictor %  categorical_predictor\n",
       "G                 0.152781                   1214\n",
       "D                 0.144224                   1146\n",
       "H                 0.142336                   1131\n",
       "C                 0.141455                   1124\n",
       "F                 0.140070                   1113\n",
       "B                 0.139819                   1111\n",
       "A                 0.139315                   1107"
      ]
     },
     "execution_count": 110,
     "metadata": {},
     "output_type": "execute_result"
    }
   ],
   "source": [
    "hcae.get_table()\n",
    "pd.DataFrame(hcae.table)"
   ]
  },
  {
   "cell_type": "markdown",
   "metadata": {
    "ExecuteTime": {
     "end_time": "2021-02-05T10:03:05.945149Z",
     "start_time": "2021-02-05T10:03:05.854099Z"
    }
   },
   "source": [
    "## HistogramContinuous Evaluator"
   ]
  },
  {
   "cell_type": "code",
   "execution_count": 204,
   "metadata": {
    "ExecuteTime": {
     "end_time": "2021-11-22T16:20:45.957103Z",
     "start_time": "2021-11-22T16:20:45.853098Z"
    }
   },
   "outputs": [],
   "source": [
    "from mofr.basic_evaluators.HistogramContinuous import HistogramContinuousEvaluator\n",
    "\n",
    "hcoe=HistogramContinuousEvaluator()"
   ]
  },
  {
   "cell_type": "code",
   "execution_count": 205,
   "metadata": {
    "ExecuteTime": {
     "end_time": "2021-11-22T16:20:48.214401Z",
     "start_time": "2021-11-22T16:20:48.108397Z"
    }
   },
   "outputs": [
    {
     "data": {
      "text/plain": []
     },
     "execution_count": 205,
     "metadata": {},
     "output_type": "execute_result"
    }
   ],
   "source": [
    "hcoe.d(df).pc('p_churn')"
   ]
  },
  {
   "cell_type": "code",
   "execution_count": 206,
   "metadata": {
    "ExecuteTime": {
     "end_time": "2021-11-22T16:20:50.748520Z",
     "start_time": "2021-11-22T16:20:50.404507Z"
    },
    "scrolled": false
   },
   "outputs": [
    {
     "data": {
      "image/png": "[encoded data removed]",
      "text/plain": [
       "<Figure size 504x576 with 1 Axes>"
      ]
     },
     "metadata": {
      "needs_background": "light"
     },
     "output_type": "display_data"
    },
    {
     "data": {
      "text/plain": []
     },
     "execution_count": 206,
     "metadata": {},
     "output_type": "execute_result"
    }
   ],
   "source": [
    "hcoe.get_graph()"
   ]
  },
  {
   "cell_type": "code",
   "execution_count": 77,
   "metadata": {
    "ExecuteTime": {
     "end_time": "2021-11-22T14:52:33.886432Z",
     "start_time": "2021-11-22T14:52:33.715431Z"
    },
    "scrolled": true
   },
   "outputs": [
    {
     "data": {
      "text/html": [
       "<style  type=\"text/css\" >\n",
       "</style><table id=\"T_d3508392_4ba3_11ec_8117_5c879c826b52\" style='display:inline'><caption>Percentiles of predictor \"p_churn\"</caption><thead>    <tr>        <th class=\"index_name level0\" ></th>        <th class=\"col_heading level0 col0\" >p_churn</th>    </tr></thead><tbody>\n",
       "                <tr>\n",
       "                        <th id=\"T_d3508392_4ba3_11ec_8117_5c879c826b52level0_row0\" class=\"row_heading level0 row0\" >percentile_10</th>\n",
       "                        <td id=\"T_d3508392_4ba3_11ec_8117_5c879c826b52row0_col0\" class=\"data row0 col0\" >0.001139</td>\n",
       "            </tr>\n",
       "            <tr>\n",
       "                        <th id=\"T_d3508392_4ba3_11ec_8117_5c879c826b52level0_row1\" class=\"row_heading level0 row1\" >percentile_25</th>\n",
       "                        <td id=\"T_d3508392_4ba3_11ec_8117_5c879c826b52row1_col0\" class=\"data row1 col0\" >0.003166</td>\n",
       "            </tr>\n",
       "            <tr>\n",
       "                        <th id=\"T_d3508392_4ba3_11ec_8117_5c879c826b52level0_row2\" class=\"row_heading level0 row2\" >percentile_50</th>\n",
       "                        <td id=\"T_d3508392_4ba3_11ec_8117_5c879c826b52row2_col0\" class=\"data row2 col0\" >0.021627</td>\n",
       "            </tr>\n",
       "            <tr>\n",
       "                        <th id=\"T_d3508392_4ba3_11ec_8117_5c879c826b52level0_row3\" class=\"row_heading level0 row3\" >percentile_75</th>\n",
       "                        <td id=\"T_d3508392_4ba3_11ec_8117_5c879c826b52row3_col0\" class=\"data row3 col0\" >0.247600</td>\n",
       "            </tr>\n",
       "            <tr>\n",
       "                        <th id=\"T_d3508392_4ba3_11ec_8117_5c879c826b52level0_row4\" class=\"row_heading level0 row4\" >percentile_90</th>\n",
       "                        <td id=\"T_d3508392_4ba3_11ec_8117_5c879c826b52row4_col0\" class=\"data row4 col0\" >0.401849</td>\n",
       "            </tr>\n",
       "    </tbody></table>"
      ],
      "text/plain": [
       "<pandas.io.formats.style.Styler at 0x1bdb8230>"
      ]
     },
     "execution_count": 77,
     "metadata": {},
     "output_type": "execute_result"
    }
   ],
   "source": [
    "hcoe.get_table()\n",
    "hcoe.table"
   ]
  },
  {
   "cell_type": "markdown",
   "metadata": {
    "ExecuteTime": {
     "end_time": "2021-02-05T10:03:05.945149Z",
     "start_time": "2021-02-05T10:03:05.854099Z"
    }
   },
   "source": [
    "## TargetAssociationCategorical Evaluator"
   ]
  },
  {
   "cell_type": "code",
   "execution_count": 209,
   "metadata": {
    "ExecuteTime": {
     "end_time": "2021-11-22T16:24:14.824690Z",
     "start_time": "2021-11-22T16:24:14.666437Z"
    }
   },
   "outputs": [],
   "source": [
    "df['categorical_predictor']=df['target_obs'].apply(lambda x: random.choice(['A','B','C', 'D', 'F', 'G', 'H']))"
   ]
  },
  {
   "cell_type": "code",
   "execution_count": 210,
   "metadata": {
    "ExecuteTime": {
     "end_time": "2021-11-22T16:24:17.076004Z",
     "start_time": "2021-11-22T16:24:16.968002Z"
    }
   },
   "outputs": [],
   "source": [
    "from mofr.basic_evaluators.TargetAssociationCategorical import TargetAssociationCategoricalEvaluator\n",
    "\n",
    "tacae=TargetAssociationCategoricalEvaluator()"
   ]
  },
  {
   "cell_type": "code",
   "execution_count": 211,
   "metadata": {
    "ExecuteTime": {
     "end_time": "2021-11-22T16:24:19.504453Z",
     "start_time": "2021-11-22T16:24:19.394450Z"
    }
   },
   "outputs": [
    {
     "data": {
      "text/plain": []
     },
     "execution_count": 211,
     "metadata": {},
     "output_type": "execute_result"
    }
   ],
   "source": [
    "tacae.d(df).t([('target', 'target_obs')]).pc('categorical_predictor').tc('month')"
   ]
  },
  {
   "cell_type": "code",
   "execution_count": 212,
   "metadata": {
    "ExecuteTime": {
     "end_time": "2021-11-22T16:24:22.228910Z",
     "start_time": "2021-11-22T16:24:21.775893Z"
    }
   },
   "outputs": [
    {
     "data": {
      "image/png": "[encoded data removed]",
      "text/plain": [
       "<Figure size 504x576 with 1 Axes>"
      ]
     },
     "metadata": {
      "needs_background": "light"
     },
     "output_type": "display_data"
    },
    {
     "data": {
      "text/plain": []
     },
     "execution_count": 212,
     "metadata": {},
     "output_type": "execute_result"
    }
   ],
   "source": [
    "tacae.get_graph()"
   ]
  },
  {
   "cell_type": "code",
   "execution_count": 82,
   "metadata": {
    "ExecuteTime": {
     "end_time": "2021-11-22T14:52:35.023429Z",
     "start_time": "2021-11-22T14:52:34.826430Z"
    }
   },
   "outputs": [
    {
     "data": {
      "text/html": [
       "<style  type=\"text/css\" >\n",
       "</style><table id=\"T_d3ffd6be_4ba3_11ec_93ef_5c879c826b52\" style='display:inline'><caption>Target association (default rate) of predictor \"categorical_predictor\" in time</caption><thead>    <tr>        <th class=\"index_name level0\" >categorical_predictor</th>        <th class=\"col_heading level0 col0\" >A</th>        <th class=\"col_heading level0 col1\" >B</th>        <th class=\"col_heading level0 col2\" >C</th>        <th class=\"col_heading level0 col3\" >D</th>        <th class=\"col_heading level0 col4\" >F</th>        <th class=\"col_heading level0 col5\" >G</th>        <th class=\"col_heading level0 col6\" >H</th>    </tr>    <tr>        <th class=\"index_name level0\" >month</th>        <th class=\"blank\" ></th>        <th class=\"blank\" ></th>        <th class=\"blank\" ></th>        <th class=\"blank\" ></th>        <th class=\"blank\" ></th>        <th class=\"blank\" ></th>        <th class=\"blank\" ></th>    </tr></thead><tbody>\n",
       "                <tr>\n",
       "                        <th id=\"T_d3ffd6be_4ba3_11ec_93ef_5c879c826b52level0_row0\" class=\"row_heading level0 row0\" >202001</th>\n",
       "                        <td id=\"T_d3ffd6be_4ba3_11ec_93ef_5c879c826b52row0_col0\" class=\"data row0 col0\" >0.130148</td>\n",
       "                        <td id=\"T_d3ffd6be_4ba3_11ec_93ef_5c879c826b52row0_col1\" class=\"data row0 col1\" >0.140033</td>\n",
       "                        <td id=\"T_d3ffd6be_4ba3_11ec_93ef_5c879c826b52row0_col2\" class=\"data row0 col2\" >0.148270</td>\n",
       "                        <td id=\"T_d3ffd6be_4ba3_11ec_93ef_5c879c826b52row0_col3\" class=\"data row0 col3\" >0.148270</td>\n",
       "                        <td id=\"T_d3ffd6be_4ba3_11ec_93ef_5c879c826b52row0_col4\" class=\"data row0 col4\" >0.125206</td>\n",
       "                        <td id=\"T_d3ffd6be_4ba3_11ec_93ef_5c879c826b52row0_col5\" class=\"data row0 col5\" >0.164745</td>\n",
       "                        <td id=\"T_d3ffd6be_4ba3_11ec_93ef_5c879c826b52row0_col6\" class=\"data row0 col6\" >0.143328</td>\n",
       "            </tr>\n",
       "            <tr>\n",
       "                        <th id=\"T_d3ffd6be_4ba3_11ec_93ef_5c879c826b52level0_row1\" class=\"row_heading level0 row1\" >202002</th>\n",
       "                        <td id=\"T_d3ffd6be_4ba3_11ec_93ef_5c879c826b52row1_col0\" class=\"data row1 col0\" >0.161017</td>\n",
       "                        <td id=\"T_d3ffd6be_4ba3_11ec_93ef_5c879c826b52row1_col1\" class=\"data row1 col1\" >0.132203</td>\n",
       "                        <td id=\"T_d3ffd6be_4ba3_11ec_93ef_5c879c826b52row1_col2\" class=\"data row1 col2\" >0.147458</td>\n",
       "                        <td id=\"T_d3ffd6be_4ba3_11ec_93ef_5c879c826b52row1_col3\" class=\"data row1 col3\" >0.137288</td>\n",
       "                        <td id=\"T_d3ffd6be_4ba3_11ec_93ef_5c879c826b52row1_col4\" class=\"data row1 col4\" >0.137288</td>\n",
       "                        <td id=\"T_d3ffd6be_4ba3_11ec_93ef_5c879c826b52row1_col5\" class=\"data row1 col5\" >0.127119</td>\n",
       "                        <td id=\"T_d3ffd6be_4ba3_11ec_93ef_5c879c826b52row1_col6\" class=\"data row1 col6\" >0.157627</td>\n",
       "            </tr>\n",
       "            <tr>\n",
       "                        <th id=\"T_d3ffd6be_4ba3_11ec_93ef_5c879c826b52level0_row2\" class=\"row_heading level0 row2\" >202003</th>\n",
       "                        <td id=\"T_d3ffd6be_4ba3_11ec_93ef_5c879c826b52row2_col0\" class=\"data row2 col0\" >0.116393</td>\n",
       "                        <td id=\"T_d3ffd6be_4ba3_11ec_93ef_5c879c826b52row2_col1\" class=\"data row2 col1\" >0.124590</td>\n",
       "                        <td id=\"T_d3ffd6be_4ba3_11ec_93ef_5c879c826b52row2_col2\" class=\"data row2 col2\" >0.155738</td>\n",
       "                        <td id=\"T_d3ffd6be_4ba3_11ec_93ef_5c879c826b52row2_col3\" class=\"data row2 col3\" >0.142623</td>\n",
       "                        <td id=\"T_d3ffd6be_4ba3_11ec_93ef_5c879c826b52row2_col4\" class=\"data row2 col4\" >0.163934</td>\n",
       "                        <td id=\"T_d3ffd6be_4ba3_11ec_93ef_5c879c826b52row2_col5\" class=\"data row2 col5\" >0.147541</td>\n",
       "                        <td id=\"T_d3ffd6be_4ba3_11ec_93ef_5c879c826b52row2_col6\" class=\"data row2 col6\" >0.149180</td>\n",
       "            </tr>\n",
       "            <tr>\n",
       "                        <th id=\"T_d3ffd6be_4ba3_11ec_93ef_5c879c826b52level0_row3\" class=\"row_heading level0 row3\" >All</th>\n",
       "                        <td id=\"T_d3ffd6be_4ba3_11ec_93ef_5c879c826b52row3_col0\" class=\"data row3 col0\" >0.135584</td>\n",
       "                        <td id=\"T_d3ffd6be_4ba3_11ec_93ef_5c879c826b52row3_col1\" class=\"data row3 col1\" >0.132263</td>\n",
       "                        <td id=\"T_d3ffd6be_4ba3_11ec_93ef_5c879c826b52row3_col2\" class=\"data row3 col2\" >0.150526</td>\n",
       "                        <td id=\"T_d3ffd6be_4ba3_11ec_93ef_5c879c826b52row3_col3\" class=\"data row3 col3\" >0.142778</td>\n",
       "                        <td id=\"T_d3ffd6be_4ba3_11ec_93ef_5c879c826b52row3_col4\" class=\"data row3 col4\" >0.142225</td>\n",
       "                        <td id=\"T_d3ffd6be_4ba3_11ec_93ef_5c879c826b52row3_col5\" class=\"data row3 col5\" >0.146652</td>\n",
       "                        <td id=\"T_d3ffd6be_4ba3_11ec_93ef_5c879c826b52row3_col6\" class=\"data row3 col6\" >0.149972</td>\n",
       "            </tr>\n",
       "    </tbody></table>"
      ],
      "text/plain": [
       "<pandas.io.formats.style.Styler at 0x1e2bb7d0>"
      ]
     },
     "execution_count": 82,
     "metadata": {},
     "output_type": "execute_result"
    }
   ],
   "source": [
    "tacae.get_table()\n",
    "tacae.table"
   ]
  },
  {
   "cell_type": "markdown",
   "metadata": {
    "ExecuteTime": {
     "end_time": "2021-02-05T10:03:05.945149Z",
     "start_time": "2021-02-05T10:03:05.854099Z"
    }
   },
   "source": [
    "## TargetAssociationContinuous Evaluator"
   ]
  },
  {
   "cell_type": "code",
   "execution_count": 83,
   "metadata": {
    "ExecuteTime": {
     "end_time": "2021-11-22T14:52:35.162679Z",
     "start_time": "2021-11-22T14:52:35.026472Z"
    }
   },
   "outputs": [],
   "source": [
    "from mofr.basic_evaluators.TargetAssociationContinuous import TargetAssociationContinuousEvaluator\n",
    "\n",
    "tacoe=TargetAssociationContinuousEvaluator()"
   ]
  },
  {
   "cell_type": "code",
   "execution_count": 84,
   "metadata": {
    "ExecuteTime": {
     "end_time": "2021-11-22T14:52:35.302746Z",
     "start_time": "2021-11-22T14:52:35.165432Z"
    }
   },
   "outputs": [
    {
     "data": {
      "text/plain": []
     },
     "execution_count": 84,
     "metadata": {},
     "output_type": "execute_result"
    }
   ],
   "source": [
    "tacoe.d(df).t([('target', 'target_obs')]).pc('p_churn').tc('month')"
   ]
  },
  {
   "cell_type": "code",
   "execution_count": 85,
   "metadata": {
    "ExecuteTime": {
     "end_time": "2021-11-22T14:52:35.887711Z",
     "start_time": "2021-11-22T14:52:35.304709Z"
    }
   },
   "outputs": [
    {
     "data": {
      "image/png": "[encoded data removed]",
      "text/plain": [
       "<Figure size 504x576 with 1 Axes>"
      ]
     },
     "metadata": {
      "needs_background": "light"
     },
     "output_type": "display_data"
    },
    {
     "data": {
      "text/plain": []
     },
     "execution_count": 85,
     "metadata": {},
     "output_type": "execute_result"
    }
   ],
   "source": [
    "tacoe.get_graph()"
   ]
  },
  {
   "cell_type": "code",
   "execution_count": 86,
   "metadata": {
    "ExecuteTime": {
     "end_time": "2021-11-22T14:52:36.280703Z",
     "start_time": "2021-11-22T14:52:35.889706Z"
    },
    "scrolled": true
   },
   "outputs": [
    {
     "data": {
      "text/html": [
       "<style  type=\"text/css\" >\n",
       "</style><table id=\"T_d4bd64cc_4ba3_11ec_a89c_5c879c826b52\" style='display:inline'><caption>Different aggregations of target variable \"target\" vs. the predictor \"p_churn\" values</caption><thead>    <tr>        <th class=\"blank level0\" ></th>        <th class=\"col_heading level0 col0\" colspan=4>count</th>        <th class=\"col_heading level0 col4\" colspan=4>sum</th>        <th class=\"col_heading level0 col8\" colspan=4>mean</th>        <th class=\"col_heading level0 col12\" colspan=4>logodds_</th>    </tr>    <tr>        <th class=\"index_name level1\" >month</th>        <th class=\"col_heading level1 col0\" >202001</th>        <th class=\"col_heading level1 col1\" >202002</th>        <th class=\"col_heading level1 col2\" >202003</th>        <th class=\"col_heading level1 col3\" >All</th>        <th class=\"col_heading level1 col4\" >202001</th>        <th class=\"col_heading level1 col5\" >202002</th>        <th class=\"col_heading level1 col6\" >202003</th>        <th class=\"col_heading level1 col7\" >All</th>        <th class=\"col_heading level1 col8\" >202001</th>        <th class=\"col_heading level1 col9\" >202002</th>        <th class=\"col_heading level1 col10\" >202003</th>        <th class=\"col_heading level1 col11\" >All</th>        <th class=\"col_heading level1 col12\" >202001</th>        <th class=\"col_heading level1 col13\" >202002</th>        <th class=\"col_heading level1 col14\" >202003</th>        <th class=\"col_heading level1 col15\" >All</th>    </tr>    <tr>        <th class=\"index_name level0\" >p_churn_binned</th>        <th class=\"blank\" ></th>        <th class=\"blank\" ></th>        <th class=\"blank\" ></th>        <th class=\"blank\" ></th>        <th class=\"blank\" ></th>        <th class=\"blank\" ></th>        <th class=\"blank\" ></th>        <th class=\"blank\" ></th>        <th class=\"blank\" ></th>        <th class=\"blank\" ></th>        <th class=\"blank\" ></th>        <th class=\"blank\" ></th>        <th class=\"blank\" ></th>        <th class=\"blank\" ></th>        <th class=\"blank\" ></th>        <th class=\"blank\" ></th>    </tr></thead><tbody>\n",
       "                <tr>\n",
       "                        <th id=\"T_d4bd64cc_4ba3_11ec_a89c_5c879c826b52level0_row0\" class=\"row_heading level0 row0\" >(-0.000843, 0.2]</th>\n",
       "                        <td id=\"T_d4bd64cc_4ba3_11ec_a89c_5c879c826b52row0_col0\" class=\"data row0 col0\" >1957</td>\n",
       "                        <td id=\"T_d4bd64cc_4ba3_11ec_a89c_5c879c826b52row0_col1\" class=\"data row0 col1\" >1882</td>\n",
       "                        <td id=\"T_d4bd64cc_4ba3_11ec_a89c_5c879c826b52row0_col2\" class=\"data row0 col2\" >1871</td>\n",
       "                        <td id=\"T_d4bd64cc_4ba3_11ec_a89c_5c879c826b52row0_col3\" class=\"data row0 col3\" >5710</td>\n",
       "                        <td id=\"T_d4bd64cc_4ba3_11ec_a89c_5c879c826b52row0_col4\" class=\"data row0 col4\" >173</td>\n",
       "                        <td id=\"T_d4bd64cc_4ba3_11ec_a89c_5c879c826b52row0_col5\" class=\"data row0 col5\" >168</td>\n",
       "                        <td id=\"T_d4bd64cc_4ba3_11ec_a89c_5c879c826b52row0_col6\" class=\"data row0 col6\" >206</td>\n",
       "                        <td id=\"T_d4bd64cc_4ba3_11ec_a89c_5c879c826b52row0_col7\" class=\"data row0 col7\" >547</td>\n",
       "                        <td id=\"T_d4bd64cc_4ba3_11ec_a89c_5c879c826b52row0_col8\" class=\"data row0 col8\" >0.088401</td>\n",
       "                        <td id=\"T_d4bd64cc_4ba3_11ec_a89c_5c879c826b52row0_col9\" class=\"data row0 col9\" >0.089267</td>\n",
       "                        <td id=\"T_d4bd64cc_4ba3_11ec_a89c_5c879c826b52row0_col10\" class=\"data row0 col10\" >0.110102</td>\n",
       "                        <td id=\"T_d4bd64cc_4ba3_11ec_a89c_5c879c826b52row0_col11\" class=\"data row0 col11\" >0.095797</td>\n",
       "                        <td id=\"T_d4bd64cc_4ba3_11ec_a89c_5c879c826b52row0_col12\" class=\"data row0 col12\" >-2.333322</td>\n",
       "                        <td id=\"T_d4bd64cc_4ba3_11ec_a89c_5c879c826b52row0_col13\" class=\"data row0 col13\" >-2.322621</td>\n",
       "                        <td id=\"T_d4bd64cc_4ba3_11ec_a89c_5c879c826b52row0_col14\" class=\"data row0 col14\" >-2.089704</td>\n",
       "                        <td id=\"T_d4bd64cc_4ba3_11ec_a89c_5c879c826b52row0_col15\" class=\"data row0 col15\" >-2.244824</td>\n",
       "            </tr>\n",
       "            <tr>\n",
       "                        <th id=\"T_d4bd64cc_4ba3_11ec_a89c_5c879c826b52level0_row1\" class=\"row_heading level0 row1\" >(0.2, 0.4]</th>\n",
       "                        <td id=\"T_d4bd64cc_4ba3_11ec_a89c_5c879c826b52row1_col0\" class=\"data row1 col0\" >488</td>\n",
       "                        <td id=\"T_d4bd64cc_4ba3_11ec_a89c_5c879c826b52row1_col1\" class=\"data row1 col1\" >488</td>\n",
       "                        <td id=\"T_d4bd64cc_4ba3_11ec_a89c_5c879c826b52row1_col2\" class=\"data row1 col2\" >464</td>\n",
       "                        <td id=\"T_d4bd64cc_4ba3_11ec_a89c_5c879c826b52row1_col3\" class=\"data row1 col3\" >1440</td>\n",
       "                        <td id=\"T_d4bd64cc_4ba3_11ec_a89c_5c879c826b52row1_col4\" class=\"data row1 col4\" >297</td>\n",
       "                        <td id=\"T_d4bd64cc_4ba3_11ec_a89c_5c879c826b52row1_col5\" class=\"data row1 col5\" >288</td>\n",
       "                        <td id=\"T_d4bd64cc_4ba3_11ec_a89c_5c879c826b52row1_col6\" class=\"data row1 col6\" >258</td>\n",
       "                        <td id=\"T_d4bd64cc_4ba3_11ec_a89c_5c879c826b52row1_col7\" class=\"data row1 col7\" >843</td>\n",
       "                        <td id=\"T_d4bd64cc_4ba3_11ec_a89c_5c879c826b52row1_col8\" class=\"data row1 col8\" >0.608607</td>\n",
       "                        <td id=\"T_d4bd64cc_4ba3_11ec_a89c_5c879c826b52row1_col9\" class=\"data row1 col9\" >0.590164</td>\n",
       "                        <td id=\"T_d4bd64cc_4ba3_11ec_a89c_5c879c826b52row1_col10\" class=\"data row1 col10\" >0.556034</td>\n",
       "                        <td id=\"T_d4bd64cc_4ba3_11ec_a89c_5c879c826b52row1_col11\" class=\"data row1 col11\" >0.585417</td>\n",
       "                        <td id=\"T_d4bd64cc_4ba3_11ec_a89c_5c879c826b52row1_col12\" class=\"data row1 col12\" >0.441459</td>\n",
       "                        <td id=\"T_d4bd64cc_4ba3_11ec_a89c_5c879c826b52row1_col13\" class=\"data row1 col13\" >0.364643</td>\n",
       "                        <td id=\"T_d4bd64cc_4ba3_11ec_a89c_5c879c826b52row1_col14\" class=\"data row1 col14\" >0.225083</td>\n",
       "                        <td id=\"T_d4bd64cc_4ba3_11ec_a89c_5c879c826b52row1_col15\" class=\"data row1 col15\" >0.345050</td>\n",
       "            </tr>\n",
       "            <tr>\n",
       "                        <th id=\"T_d4bd64cc_4ba3_11ec_a89c_5c879c826b52level0_row2\" class=\"row_heading level0 row2\" >(0.4, 0.6]</th>\n",
       "                        <td id=\"T_d4bd64cc_4ba3_11ec_a89c_5c879c826b52row2_col0\" class=\"data row2 col0\" >78</td>\n",
       "                        <td id=\"T_d4bd64cc_4ba3_11ec_a89c_5c879c826b52row2_col1\" class=\"data row2 col1\" >70</td>\n",
       "                        <td id=\"T_d4bd64cc_4ba3_11ec_a89c_5c879c826b52row2_col2\" class=\"data row2 col2\" >88</td>\n",
       "                        <td id=\"T_d4bd64cc_4ba3_11ec_a89c_5c879c826b52row2_col3\" class=\"data row2 col3\" >236</td>\n",
       "                        <td id=\"T_d4bd64cc_4ba3_11ec_a89c_5c879c826b52row2_col4\" class=\"data row2 col4\" >36</td>\n",
       "                        <td id=\"T_d4bd64cc_4ba3_11ec_a89c_5c879c826b52row2_col5\" class=\"data row2 col5\" >29</td>\n",
       "                        <td id=\"T_d4bd64cc_4ba3_11ec_a89c_5c879c826b52row2_col6\" class=\"data row2 col6\" >39</td>\n",
       "                        <td id=\"T_d4bd64cc_4ba3_11ec_a89c_5c879c826b52row2_col7\" class=\"data row2 col7\" >104</td>\n",
       "                        <td id=\"T_d4bd64cc_4ba3_11ec_a89c_5c879c826b52row2_col8\" class=\"data row2 col8\" >0.461538</td>\n",
       "                        <td id=\"T_d4bd64cc_4ba3_11ec_a89c_5c879c826b52row2_col9\" class=\"data row2 col9\" >0.414286</td>\n",
       "                        <td id=\"T_d4bd64cc_4ba3_11ec_a89c_5c879c826b52row2_col10\" class=\"data row2 col10\" >0.443182</td>\n",
       "                        <td id=\"T_d4bd64cc_4ba3_11ec_a89c_5c879c826b52row2_col11\" class=\"data row2 col11\" >0.440678</td>\n",
       "                        <td id=\"T_d4bd64cc_4ba3_11ec_a89c_5c879c826b52row2_col12\" class=\"data row2 col12\" >-0.154151</td>\n",
       "                        <td id=\"T_d4bd64cc_4ba3_11ec_a89c_5c879c826b52row2_col13\" class=\"data row2 col13\" >-0.346276</td>\n",
       "                        <td id=\"T_d4bd64cc_4ba3_11ec_a89c_5c879c826b52row2_col14\" class=\"data row2 col14\" >-0.228259</td>\n",
       "                        <td id=\"T_d4bd64cc_4ba3_11ec_a89c_5c879c826b52row2_col15\" class=\"data row2 col15\" >-0.238411</td>\n",
       "            </tr>\n",
       "            <tr>\n",
       "                        <th id=\"T_d4bd64cc_4ba3_11ec_a89c_5c879c826b52level0_row3\" class=\"row_heading level0 row3\" >(0.6, 0.8]</th>\n",
       "                        <td id=\"T_d4bd64cc_4ba3_11ec_a89c_5c879c826b52row3_col0\" class=\"data row3 col0\" >84</td>\n",
       "                        <td id=\"T_d4bd64cc_4ba3_11ec_a89c_5c879c826b52row3_col1\" class=\"data row3 col1\" >71</td>\n",
       "                        <td id=\"T_d4bd64cc_4ba3_11ec_a89c_5c879c826b52row3_col2\" class=\"data row3 col2\" >77</td>\n",
       "                        <td id=\"T_d4bd64cc_4ba3_11ec_a89c_5c879c826b52row3_col3\" class=\"data row3 col3\" >232</td>\n",
       "                        <td id=\"T_d4bd64cc_4ba3_11ec_a89c_5c879c826b52row3_col4\" class=\"data row3 col4\" >41</td>\n",
       "                        <td id=\"T_d4bd64cc_4ba3_11ec_a89c_5c879c826b52row3_col5\" class=\"data row3 col5\" >37</td>\n",
       "                        <td id=\"T_d4bd64cc_4ba3_11ec_a89c_5c879c826b52row3_col6\" class=\"data row3 col6\" >38</td>\n",
       "                        <td id=\"T_d4bd64cc_4ba3_11ec_a89c_5c879c826b52row3_col7\" class=\"data row3 col7\" >116</td>\n",
       "                        <td id=\"T_d4bd64cc_4ba3_11ec_a89c_5c879c826b52row3_col8\" class=\"data row3 col8\" >0.488095</td>\n",
       "                        <td id=\"T_d4bd64cc_4ba3_11ec_a89c_5c879c826b52row3_col9\" class=\"data row3 col9\" >0.521127</td>\n",
       "                        <td id=\"T_d4bd64cc_4ba3_11ec_a89c_5c879c826b52row3_col10\" class=\"data row3 col10\" >0.493506</td>\n",
       "                        <td id=\"T_d4bd64cc_4ba3_11ec_a89c_5c879c826b52row3_col11\" class=\"data row3 col11\" >0.500000</td>\n",
       "                        <td id=\"T_d4bd64cc_4ba3_11ec_a89c_5c879c826b52row3_col12\" class=\"data row3 col12\" >-0.047628</td>\n",
       "                        <td id=\"T_d4bd64cc_4ba3_11ec_a89c_5c879c826b52row3_col13\" class=\"data row3 col13\" >0.084557</td>\n",
       "                        <td id=\"T_d4bd64cc_4ba3_11ec_a89c_5c879c826b52row3_col14\" class=\"data row3 col14\" >-0.025975</td>\n",
       "                        <td id=\"T_d4bd64cc_4ba3_11ec_a89c_5c879c826b52row3_col15\" class=\"data row3 col15\" >0.000000</td>\n",
       "            </tr>\n",
       "            <tr>\n",
       "                        <th id=\"T_d4bd64cc_4ba3_11ec_a89c_5c879c826b52level0_row4\" class=\"row_heading level0 row4\" >(0.8, 1.0]</th>\n",
       "                        <td id=\"T_d4bd64cc_4ba3_11ec_a89c_5c879c826b52row4_col0\" class=\"data row4 col0\" >99</td>\n",
       "                        <td id=\"T_d4bd64cc_4ba3_11ec_a89c_5c879c826b52row4_col1\" class=\"data row4 col1\" >115</td>\n",
       "                        <td id=\"T_d4bd64cc_4ba3_11ec_a89c_5c879c826b52row4_col2\" class=\"data row4 col2\" >114</td>\n",
       "                        <td id=\"T_d4bd64cc_4ba3_11ec_a89c_5c879c826b52row4_col3\" class=\"data row4 col3\" >328</td>\n",
       "                        <td id=\"T_d4bd64cc_4ba3_11ec_a89c_5c879c826b52row4_col4\" class=\"data row4 col4\" >60</td>\n",
       "                        <td id=\"T_d4bd64cc_4ba3_11ec_a89c_5c879c826b52row4_col5\" class=\"data row4 col5\" >68</td>\n",
       "                        <td id=\"T_d4bd64cc_4ba3_11ec_a89c_5c879c826b52row4_col6\" class=\"data row4 col6\" >69</td>\n",
       "                        <td id=\"T_d4bd64cc_4ba3_11ec_a89c_5c879c826b52row4_col7\" class=\"data row4 col7\" >197</td>\n",
       "                        <td id=\"T_d4bd64cc_4ba3_11ec_a89c_5c879c826b52row4_col8\" class=\"data row4 col8\" >0.606061</td>\n",
       "                        <td id=\"T_d4bd64cc_4ba3_11ec_a89c_5c879c826b52row4_col9\" class=\"data row4 col9\" >0.591304</td>\n",
       "                        <td id=\"T_d4bd64cc_4ba3_11ec_a89c_5c879c826b52row4_col10\" class=\"data row4 col10\" >0.605263</td>\n",
       "                        <td id=\"T_d4bd64cc_4ba3_11ec_a89c_5c879c826b52row4_col11\" class=\"data row4 col11\" >0.600610</td>\n",
       "                        <td id=\"T_d4bd64cc_4ba3_11ec_a89c_5c879c826b52row4_col12\" class=\"data row4 col12\" >0.430783</td>\n",
       "                        <td id=\"T_d4bd64cc_4ba3_11ec_a89c_5c879c826b52row4_col13\" class=\"data row4 col13\" >0.369360</td>\n",
       "                        <td id=\"T_d4bd64cc_4ba3_11ec_a89c_5c879c826b52row4_col14\" class=\"data row4 col14\" >0.427444</td>\n",
       "                        <td id=\"T_d4bd64cc_4ba3_11ec_a89c_5c879c826b52row4_col15\" class=\"data row4 col15\" >0.408006</td>\n",
       "            </tr>\n",
       "            <tr>\n",
       "                        <th id=\"T_d4bd64cc_4ba3_11ec_a89c_5c879c826b52level0_row5\" class=\"row_heading level0 row5\" >All</th>\n",
       "                        <td id=\"T_d4bd64cc_4ba3_11ec_a89c_5c879c826b52row5_col0\" class=\"data row5 col0\" >2706</td>\n",
       "                        <td id=\"T_d4bd64cc_4ba3_11ec_a89c_5c879c826b52row5_col1\" class=\"data row5 col1\" >2626</td>\n",
       "                        <td id=\"T_d4bd64cc_4ba3_11ec_a89c_5c879c826b52row5_col2\" class=\"data row5 col2\" >2614</td>\n",
       "                        <td id=\"T_d4bd64cc_4ba3_11ec_a89c_5c879c826b52row5_col3\" class=\"data row5 col3\" >7946</td>\n",
       "                        <td id=\"T_d4bd64cc_4ba3_11ec_a89c_5c879c826b52row5_col4\" class=\"data row5 col4\" >607</td>\n",
       "                        <td id=\"T_d4bd64cc_4ba3_11ec_a89c_5c879c826b52row5_col5\" class=\"data row5 col5\" >590</td>\n",
       "                        <td id=\"T_d4bd64cc_4ba3_11ec_a89c_5c879c826b52row5_col6\" class=\"data row5 col6\" >610</td>\n",
       "                        <td id=\"T_d4bd64cc_4ba3_11ec_a89c_5c879c826b52row5_col7\" class=\"data row5 col7\" >1807</td>\n",
       "                        <td id=\"T_d4bd64cc_4ba3_11ec_a89c_5c879c826b52row5_col8\" class=\"data row5 col8\" >0.224316</td>\n",
       "                        <td id=\"T_d4bd64cc_4ba3_11ec_a89c_5c879c826b52row5_col9\" class=\"data row5 col9\" >0.224676</td>\n",
       "                        <td id=\"T_d4bd64cc_4ba3_11ec_a89c_5c879c826b52row5_col10\" class=\"data row5 col10\" >0.233359</td>\n",
       "                        <td id=\"T_d4bd64cc_4ba3_11ec_a89c_5c879c826b52row5_col11\" class=\"data row5 col11\" >0.227410</td>\n",
       "                        <td id=\"T_d4bd64cc_4ba3_11ec_a89c_5c879c826b52row5_col12\" class=\"data row5 col12\" >-1.240688</td>\n",
       "                        <td id=\"T_d4bd64cc_4ba3_11ec_a89c_5c879c826b52row5_col13\" class=\"data row5 col13\" >-1.238620</td>\n",
       "                        <td id=\"T_d4bd64cc_4ba3_11ec_a89c_5c879c826b52row5_col14\" class=\"data row5 col14\" >-1.189442</td>\n",
       "                        <td id=\"T_d4bd64cc_4ba3_11ec_a89c_5c879c826b52row5_col15\" class=\"data row5 col15\" >-1.222994</td>\n",
       "            </tr>\n",
       "    </tbody></table>"
      ],
      "text/plain": [
       "<pandas.io.formats.style.Styler at 0x1e590510>"
      ]
     },
     "execution_count": 86,
     "metadata": {},
     "output_type": "execute_result"
    }
   ],
   "source": [
    "tacoe.get_table()\n",
    "tacoe.table"
   ]
  },
  {
   "cell_type": "markdown",
   "metadata": {},
   "source": [
    "# Complex Evaluators"
   ]
  },
  {
   "cell_type": "code",
   "execution_count": null,
   "metadata": {},
   "outputs": [],
   "source": []
  },
  {
   "cell_type": "markdown",
   "metadata": {},
   "source": [
    "# Misc"
   ]
  },
  {
   "cell_type": "code",
   "execution_count": 87,
   "metadata": {
    "ExecuteTime": {
     "end_time": "2021-11-22T14:52:36.693744Z",
     "start_time": "2021-11-22T14:52:36.283709Z"
    }
   },
   "outputs": [
    {
     "data": {
      "image/png": "[encoded data removed]",
      "text/plain": [
       "<Figure size 504x576 with 1 Axes>"
      ]
     },
     "metadata": {
      "needs_background": "light"
     },
     "output_type": "display_data"
    }
   ],
   "source": [
    "# setup plot details\n",
    "plt.figure(figsize=(7, 8))\n",
    "\n",
    "#set up data details\n",
    "df_=df\n",
    "df_['categorical_predictor']=df_['categorical_predictor'].apply(str)\n",
    "df_['one']=1\n",
    "categories=list(df_['categorical_predictor'].unique())\n",
    "n_categories=len(categories)\n",
    "#assert the correct number of categories\n",
    "assert n_categories>=2,  f'The predictor column specified has less than 2 unique categories!'\n",
    "assert n_categories<=20, f'The predictor column specified has more than {max_categories_} unique categories.'\n",
    "#  produce table of distribution/share of each category in time\n",
    "table=df_['categorical_predictor'].value_counts(dropna=False, normalize=True)\n",
    "#set plotting parameters\n",
    "plt.bar(table.index,table.values)\n",
    "plt.xlabel('Categories')\n",
    "plt.ylabel('Share of the given category')\n",
    "plt.title(f'Distribution of predictor \"categorical_predictor\"')\n",
    "plt.grid()\n",
    "plt.show()       "
   ]
  },
  {
   "cell_type": "code",
   "execution_count": 88,
   "metadata": {
    "ExecuteTime": {
     "end_time": "2021-11-22T14:52:36.958976Z",
     "start_time": "2021-11-22T14:52:36.695748Z"
    }
   },
   "outputs": [
    {
     "ename": "NameError",
     "evalue": "name 'fig_size' is not defined",
     "output_type": "error",
     "traceback": [
      "\u001b[1;31m---------------------------------------------------------------------------\u001b[0m",
      "\u001b[1;31mNameError\u001b[0m                                 Traceback (most recent call last)",
      "\u001b[1;32m<ipython-input-88-f8e34481368d>\u001b[0m in \u001b[0;36m<module>\u001b[1;34m\u001b[0m\n\u001b[0;32m      1\u001b[0m \u001b[1;31m# Skipping a lot of other complexity her\u001b[0m\u001b[1;33m\u001b[0m\u001b[1;33m\u001b[0m\u001b[1;33m\u001b[0m\u001b[0m\n\u001b[1;32m----> 2\u001b[1;33m \u001b[0mf\u001b[0m\u001b[1;33m,\u001b[0m \u001b[0max\u001b[0m \u001b[1;33m=\u001b[0m \u001b[0mplt\u001b[0m\u001b[1;33m.\u001b[0m\u001b[0msubplots\u001b[0m\u001b[1;33m(\u001b[0m\u001b[0mfigsize\u001b[0m\u001b[1;33m=\u001b[0m\u001b[0mfig_size\u001b[0m\u001b[1;33m)\u001b[0m\u001b[1;33m\u001b[0m\u001b[1;33m\u001b[0m\u001b[0m\n\u001b[0m\u001b[0;32m      3\u001b[0m \u001b[0max\u001b[0m\u001b[1;33m.\u001b[0m\u001b[0mplot\u001b[0m\u001b[1;33m(\u001b[0m\u001b[0mx\u001b[0m\u001b[1;33m,\u001b[0m\u001b[0my\u001b[0m\u001b[1;33m,\u001b[0m \u001b[1;33m...\u001b[0m\u001b[1;33m)\u001b[0m\u001b[1;33m\u001b[0m\u001b[1;33m\u001b[0m\u001b[0m\n\u001b[0;32m      4\u001b[0m \u001b[1;31m# further stuff\u001b[0m\u001b[1;33m\u001b[0m\u001b[1;33m\u001b[0m\u001b[1;33m\u001b[0m\u001b[0m\n\u001b[0;32m      5\u001b[0m \u001b[1;32mreturn\u001b[0m \u001b[0max\u001b[0m\u001b[1;33m\u001b[0m\u001b[1;33m\u001b[0m\u001b[0m\n",
      "\u001b[1;31mNameError\u001b[0m: name 'fig_size' is not defined"
     ]
    }
   ],
   "source": [
    "# Skipping a lot of other complexity her\n",
    "f, ax = plt.subplots(figsize=fig_size)\n",
    "ax.plot(x,y, ...)\n",
    "# further stuff\n",
    "return ax\n",
    "\n",
    "ax.plot(x2, y2, ...)\n",
    "plt.show()"
   ]
  },
  {
   "cell_type": "code",
   "execution_count": null,
   "metadata": {
    "ExecuteTime": {
     "end_time": "2021-11-22T14:52:37.010703Z",
     "start_time": "2021-11-22T14:52:14.971Z"
    }
   },
   "outputs": [],
   "source": [
    "# setup plot details\n",
    "f, ax = plt.subplots(figsize=(7,8))\n",
    "\n",
    "#set up data details\n",
    "df_=df\n",
    "df_['categorical_predictor']=df_['categorical_predictor'].apply(str)\n",
    "df_['one']=1\n",
    "categories=list(df_['categorical_predictor'].unique())\n",
    "n_categories=len(categories)\n",
    "#assert the correct number of categories\n",
    "assert n_categories>=2,  f'The predictor column specified has less than 2 unique categories!'\n",
    "assert n_categories<=20, f'The predictor column specified has more than {max_categories_} unique categories.'\n",
    "#  produce table of distribution/share of each category in time\n",
    "table=df_['categorical_predictor'].value_counts(dropna=False, normalize=True)\n",
    "#set plotting parameters\n",
    "plt.bar(table.index,table.values, axes=ax)\n",
    "plt.xlabel('Categories', axes=ax)\n",
    "plt.ylabel('Share of the given category', axes=ax)\n",
    "plt.title(f'Distribution of predictor \"categorical_predictor\"', axes=ax)\n",
    "ax.grid()\n",
    "plt.show()       "
   ]
  },
  {
   "cell_type": "code",
   "execution_count": null,
   "metadata": {
    "ExecuteTime": {
     "end_time": "2021-11-22T14:52:37.011739Z",
     "start_time": "2021-11-22T14:52:14.976Z"
    }
   },
   "outputs": [],
   "source": [
    "f"
   ]
  },
  {
   "cell_type": "code",
   "execution_count": null,
   "metadata": {
    "ExecuteTime": {
     "end_time": "2021-11-22T14:52:37.012702Z",
     "start_time": "2021-11-22T14:52:14.981Z"
    }
   },
   "outputs": [],
   "source": [
    "xs = np.linspace(0,100,100)\n",
    "fig, axs = plt.subplots(nrows=1, ncols=2)\n",
    "axs[0].plot(xs, xs * xs)\n",
    "axs[1].plot(xs, np.sqrt(xs))"
   ]
  },
  {
   "cell_type": "code",
   "execution_count": null,
   "metadata": {
    "ExecuteTime": {
     "end_time": "2021-11-22T14:52:37.014705Z",
     "start_time": "2021-11-22T14:52:14.985Z"
    }
   },
   "outputs": [],
   "source": [
    "from matplotlib import pyplot as plt\n",
    "\n",
    "hcae.get_graph()\n",
    "\n",
    "sitcae.get_graph()\n"
   ]
  },
  {
   "cell_type": "code",
   "execution_count": null,
   "metadata": {
    "ExecuteTime": {
     "end_time": "2021-11-22T14:52:37.015702Z",
     "start_time": "2021-11-22T14:52:14.989Z"
    }
   },
   "outputs": [],
   "source": [
    "pd.cut(df['target'], bins=5)"
   ]
  },
  {
   "cell_type": "code",
   "execution_count": null,
   "metadata": {
    "ExecuteTime": {
     "end_time": "2021-11-22T14:52:37.016710Z",
     "start_time": "2021-11-22T14:52:14.992Z"
    }
   },
   "outputs": [],
   "source": [
    "df['p_churn_binned']=pd.cut(df['p_churn'], bins=5)"
   ]
  },
  {
   "cell_type": "code",
   "execution_count": null,
   "metadata": {
    "ExecuteTime": {
     "end_time": "2021-11-22T14:52:37.018702Z",
     "start_time": "2021-11-22T14:52:14.997Z"
    }
   },
   "outputs": [],
   "source": [
    "def logodds_(x):\n",
    "    mean_=np.mean(x)\n",
    "    if mean_==1.0:\n",
    "        return -10.0\n",
    "    if mean_==0.0:\n",
    "        return 10.0\n",
    "    else:\n",
    "        a=np.log(mean_/(1-mean_))\n",
    "        return a\n",
    "    \n",
    "\n",
    "pd.crosstab(index=df['p_churn_binned'], columns=df['month'], values=df['target'], rownames=None, colnames=None, aggfunc=['count','sum','mean',logodds_], margins=True, margins_name='All', dropna=True, normalize=False)"
   ]
  },
  {
   "cell_type": "code",
   "execution_count": null,
   "metadata": {
    "ExecuteTime": {
     "end_time": "2021-11-22T14:52:37.019701Z",
     "start_time": "2021-11-22T14:52:15.000Z"
    }
   },
   "outputs": [],
   "source": [
    "a[a.columns[0]].index"
   ]
  },
  {
   "cell_type": "code",
   "execution_count": null,
   "metadata": {
    "ExecuteTime": {
     "end_time": "2021-11-22T14:52:37.020703Z",
     "start_time": "2021-11-22T14:52:15.002Z"
    }
   },
   "outputs": [],
   "source": [
    "df['categorical_predictor']=df['target_obs'].apply(lambda x: random.choice(['A','B','C', 'D', 'F', 'G', 'H']))"
   ]
  },
  {
   "cell_type": "code",
   "execution_count": null,
   "metadata": {
    "ExecuteTime": {
     "end_time": "2021-11-22T14:52:37.022702Z",
     "start_time": "2021-11-22T14:52:15.006Z"
    }
   },
   "outputs": [],
   "source": [
    "pd.crosstab(index=df['categorical_predictor'], columns=df['month'], values=df['target'], rownames=None, colnames=None, aggfunc=sum, margins=True, margins_name='All', dropna=True, normalize='columns').transpose()"
   ]
  },
  {
   "cell_type": "code",
   "execution_count": null,
   "metadata": {
    "ExecuteTime": {
     "end_time": "2021-11-22T14:52:37.023703Z",
     "start_time": "2021-11-22T14:52:15.009Z"
    }
   },
   "outputs": [],
   "source": [
    "df['categorical_predictor'].value_counts(dropna=False, normalize=True).plot.bar(color=['navy', 'turquoise', 'darkorange', 'cornflowerblue', 'teal'])"
   ]
  },
  {
   "cell_type": "code",
   "execution_count": null,
   "metadata": {
    "ExecuteTime": {
     "end_time": "2021-11-22T14:52:37.024701Z",
     "start_time": "2021-11-22T14:52:15.013Z"
    }
   },
   "outputs": [],
   "source": [
    "a=df['categorical_predictor'].value_counts(dropna=False, normalize=True)\n",
    "a"
   ]
  },
  {
   "cell_type": "code",
   "execution_count": null,
   "metadata": {
    "ExecuteTime": {
     "end_time": "2021-11-22T14:52:37.026703Z",
     "start_time": "2021-11-22T14:52:15.016Z"
    }
   },
   "outputs": [],
   "source": [
    "import numpy as np\n",
    "import matplotlib.pyplot as plt\n",
    "\n",
    "plt.figure(figsize=(7, 8))\n",
    "\n",
    "# the histogram of the data\n",
    "n, bins, patches = plt.hist(df['p_churn'], bins='doane', density=False, facecolor='b', alpha=0.75)\n",
    "\n",
    "\n",
    "plt.xlabel('Smarts')\n",
    "plt.ylabel('Probability')\n",
    "plt.title('Histogram of IQ')\n",
    "#plt.xlim(40, 160)\n",
    "#plt.ylim(0, 0.03)\n",
    "plt.grid(True)\n",
    "plt.show()"
   ]
  },
  {
   "cell_type": "code",
   "execution_count": null,
   "metadata": {
    "ExecuteTime": {
     "end_time": "2021-11-22T14:52:37.027704Z",
     "start_time": "2021-11-22T14:52:15.019Z"
    }
   },
   "outputs": [],
   "source": [
    "a.values"
   ]
  },
  {
   "cell_type": "code",
   "execution_count": null,
   "metadata": {
    "ExecuteTime": {
     "end_time": "2021-11-22T14:52:37.028703Z",
     "start_time": "2021-11-22T14:52:15.022Z"
    }
   },
   "outputs": [],
   "source": [
    "list(df[self.predictor_column].unique())"
   ]
  },
  {
   "cell_type": "code",
   "execution_count": null,
   "metadata": {
    "ExecuteTime": {
     "end_time": "2021-11-22T14:52:37.029703Z",
     "start_time": "2021-11-22T14:52:15.025Z"
    }
   },
   "outputs": [],
   "source": [
    "l, = plt.plot(a['A'])\n",
    "\n",
    "\n",
    "#set plotting parameters\n",
    "fig = plt.gcf()\n",
    "fig.subplots_adjust(bottom=0.25)\n",
    "plt.ticklabel_format(useOffset=False)\n",
    "plt.xticks(range(min(a.index), max(a.index)+1))\n",
    "#plt.xlim(min(_x)-0.1,max(_x)+0.1)\n",
    "#plt.ylim(-0.01,1.03)\n",
    "plt.xlabel('Month')\n",
    "plt.ylabel('GINI')\n",
    "\n",
    "\n",
    "plt.show()    "
   ]
  },
  {
   "cell_type": "code",
   "execution_count": null,
   "metadata": {
    "ExecuteTime": {
     "end_time": "2021-11-22T14:52:37.030702Z",
     "start_time": "2021-11-22T14:52:15.028Z"
    }
   },
   "outputs": [],
   "source": [
    "a['A']"
   ]
  }
 ],
 "metadata": {
  "hide_input": false,
  "kernelspec": {
   "display_name": "Python 3",
   "language": "python",
   "name": "python3"
  },
  "language_info": {
   "codemirror_mode": {
    "name": "ipython",
    "version": 3
   },
   "file_extension": ".py",
   "mimetype": "text/x-python",
   "name": "python",
   "nbconvert_exporter": "python",
   "pygments_lexer": "ipython3",
   "version": "3.7.8"
  },
  "toc": {
   "base_numbering": 1,
   "nav_menu": {},
   "number_sections": true,
   "sideBar": true,
   "skip_h1_title": false,
   "title_cell": "Table of Contents",
   "title_sidebar": "Contents",
   "toc_cell": false,
   "toc_position": {
    "height": "calc(100% - 180px)",
    "left": "10px",
    "top": "150px",
    "width": "341.317px"
   },
   "toc_section_display": true,
   "toc_window_display": true
  },
  "varInspector": {
   "cols": {
    "lenName": 16,
    "lenType": 16,
    "lenVar": 40
   },
   "kernels_config": {
    "python": {
     "delete_cmd_postfix": "",
     "delete_cmd_prefix": "del ",
     "library": "var_list.py",
     "varRefreshCmd": "print(var_dic_list())"
    },
    "r": {
     "delete_cmd_postfix": ") ",
     "delete_cmd_prefix": "rm(",
     "library": "var_list.r",
     "varRefreshCmd": "cat(var_dic_list()) "
    }
   },
   "types_to_exclude": [
    "module",
    "function",
    "builtin_function_or_method",
    "instance",
    "_Feature"
   ],
   "window_display": false
  }
 },
 "nbformat": 4,
 "nbformat_minor": 4
}
