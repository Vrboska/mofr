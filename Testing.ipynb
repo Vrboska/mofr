{
 "cells": [
  {
   "cell_type": "markdown",
   "metadata": {
    "ExecuteTime": {
     "end_time": "2020-12-14T20:53:36.838573Z",
     "start_time": "2020-12-14T20:53:36.835573Z"
    }
   },
   "source": [
    "# Testing packages"
   ]
  },
  {
   "cell_type": "code",
   "execution_count": 90,
   "metadata": {
    "ExecuteTime": {
     "end_time": "2021-02-05T10:46:40.927629Z",
     "start_time": "2021-02-05T10:46:40.829621Z"
    }
   },
   "outputs": [],
   "source": [
    "import pandas as pd\n",
    "import numpy as np\n",
    "import random"
   ]
  },
  {
   "cell_type": "code",
   "execution_count": 36,
   "metadata": {
    "ExecuteTime": {
     "end_time": "2021-02-05T09:39:34.871948Z",
     "start_time": "2021-02-05T09:39:34.790948Z"
    }
   },
   "outputs": [
    {
     "name": "stdout",
     "output_type": "stream",
     "text": [
      "The autoreload extension is already loaded. To reload it, use:\n",
      "  %reload_ext autoreload\n"
     ]
    }
   ],
   "source": [
    "%load_ext autoreload\n",
    "%autoreload 2"
   ]
  },
  {
   "cell_type": "markdown",
   "metadata": {
    "ExecuteTime": {
     "end_time": "2020-12-14T20:54:47.225113Z",
     "start_time": "2020-12-14T20:54:47.161113Z"
    }
   },
   "source": [
    "# Metrics"
   ]
  },
  {
   "cell_type": "markdown",
   "metadata": {},
   "source": [
    "## Simple scores"
   ]
  },
  {
   "cell_type": "code",
   "execution_count": 97,
   "metadata": {
    "ExecuteTime": {
     "end_time": "2021-02-05T10:47:03.753519Z",
     "start_time": "2021-02-05T10:47:03.665226Z"
    }
   },
   "outputs": [],
   "source": [
    "from mofr import metrics"
   ]
  },
  {
   "cell_type": "code",
   "execution_count": 98,
   "metadata": {
    "ExecuteTime": {
     "end_time": "2021-02-05T10:47:04.941569Z",
     "start_time": "2021-02-05T10:47:04.835221Z"
    }
   },
   "outputs": [],
   "source": [
    "df=pd.read_csv(r'c:\\Users\\T862363F\\Projects\\DevOps_Repos\\PRG_TD_ModellingFramework\\data\\Model_Eval_Data_For_Andrej.csv')"
   ]
  },
  {
   "cell_type": "code",
   "execution_count": 102,
   "metadata": {
    "ExecuteTime": {
     "end_time": "2021-02-05T10:47:55.311660Z",
     "start_time": "2021-02-05T10:47:55.204616Z"
    }
   },
   "outputs": [],
   "source": [
    "df['p_churn']=df['p_alive']*-1+1\n",
    "df['target_obs']=1\n",
    "df['random_score']=np.random.randint(1, 1000000, df.shape[0])/1000000\n",
    "df['semi_random_score']=0.7*df['p_churn']+0.3*np.random.normal(0,1,df.shape[0])\n",
    "df['month']=df['target_obs'].apply(lambda x: random.choice([202001,202002,202003]))"
   ]
  },
  {
   "cell_type": "code",
   "execution_count": 103,
   "metadata": {
    "ExecuteTime": {
     "end_time": "2021-02-05T10:47:58.951080Z",
     "start_time": "2021-02-05T10:47:58.858699Z"
    }
   },
   "outputs": [
    {
     "data": {
      "text/plain": [
       "7946"
      ]
     },
     "execution_count": 103,
     "metadata": {},
     "output_type": "execute_result"
    }
   ],
   "source": [
    "len(df)"
   ]
  },
  {
   "cell_type": "code",
   "execution_count": 104,
   "metadata": {
    "ExecuteTime": {
     "end_time": "2021-02-05T10:48:00.150415Z",
     "start_time": "2021-02-05T10:48:00.043341Z"
    }
   },
   "outputs": [
    {
     "data": {
      "text/html": [
       "<div>\n",
       "<style scoped>\n",
       "    .dataframe tbody tr th:only-of-type {\n",
       "        vertical-align: middle;\n",
       "    }\n",
       "\n",
       "    .dataframe tbody tr th {\n",
       "        vertical-align: top;\n",
       "    }\n",
       "\n",
       "    .dataframe thead th {\n",
       "        text-align: right;\n",
       "    }\n",
       "</style>\n",
       "<table border=\"1\" class=\"dataframe\">\n",
       "  <thead>\n",
       "    <tr style=\"text-align: right;\">\n",
       "      <th></th>\n",
       "      <th>TECCOMPCE</th>\n",
       "      <th>TECSOLDTO</th>\n",
       "      <th>p_alive</th>\n",
       "      <th>CLV</th>\n",
       "      <th>p_alive_</th>\n",
       "      <th>PB_Churn_Flag</th>\n",
       "      <th>CLV_</th>\n",
       "      <th>ob</th>\n",
       "      <th>omx</th>\n",
       "      <th>omn</th>\n",
       "      <th>...</th>\n",
       "      <th>CreditBlock</th>\n",
       "      <th>Churn</th>\n",
       "      <th>a</th>\n",
       "      <th>b</th>\n",
       "      <th>target</th>\n",
       "      <th>target_obs</th>\n",
       "      <th>p_churn</th>\n",
       "      <th>random_score</th>\n",
       "      <th>semi_random_score</th>\n",
       "      <th>month</th>\n",
       "    </tr>\n",
       "  </thead>\n",
       "  <tbody>\n",
       "    <tr>\n",
       "      <th>0</th>\n",
       "      <td>40</td>\n",
       "      <td>636362</td>\n",
       "      <td>0.994196</td>\n",
       "      <td>2821.981425</td>\n",
       "      <td>0</td>\n",
       "      <td>994196067.0</td>\n",
       "      <td>0</td>\n",
       "      <td>2821</td>\n",
       "      <td>981425.0</td>\n",
       "      <td>11</td>\n",
       "      <td>...</td>\n",
       "      <td>2020-09-29 00:00:00.0000000</td>\n",
       "      <td>2019-10-01 00:00:00.0000000</td>\n",
       "      <td>NaN</td>\n",
       "      <td>0.0</td>\n",
       "      <td>0</td>\n",
       "      <td>1</td>\n",
       "      <td>0.005804</td>\n",
       "      <td>0.928603</td>\n",
       "      <td>0.597955</td>\n",
       "      <td>202003</td>\n",
       "    </tr>\n",
       "    <tr>\n",
       "      <th>1</th>\n",
       "      <td>40</td>\n",
       "      <td>441577</td>\n",
       "      <td>0.613307</td>\n",
       "      <td>0.000000</td>\n",
       "      <td>0</td>\n",
       "      <td>613306736.0</td>\n",
       "      <td>0</td>\n",
       "      <td>0</td>\n",
       "      <td>1.0</td>\n",
       "      <td>2018-10-01 00:00:00.0000000</td>\n",
       "      <td>...</td>\n",
       "      <td>NaN</td>\n",
       "      <td>NaN</td>\n",
       "      <td>1.0</td>\n",
       "      <td>NaN</td>\n",
       "      <td>1</td>\n",
       "      <td>1</td>\n",
       "      <td>0.386693</td>\n",
       "      <td>0.234214</td>\n",
       "      <td>0.762402</td>\n",
       "      <td>202003</td>\n",
       "    </tr>\n",
       "    <tr>\n",
       "      <th>2</th>\n",
       "      <td>40</td>\n",
       "      <td>422141</td>\n",
       "      <td>0.462324</td>\n",
       "      <td>3340.062341</td>\n",
       "      <td>0</td>\n",
       "      <td>462324357.0</td>\n",
       "      <td>1</td>\n",
       "      <td>3340</td>\n",
       "      <td>62341.0</td>\n",
       "      <td>7</td>\n",
       "      <td>...</td>\n",
       "      <td>2020-07-01 00:00:00.0000000</td>\n",
       "      <td>2020-02-19 00:00:00.0000000</td>\n",
       "      <td>NaN</td>\n",
       "      <td>0.0</td>\n",
       "      <td>0</td>\n",
       "      <td>1</td>\n",
       "      <td>0.537676</td>\n",
       "      <td>0.978506</td>\n",
       "      <td>0.565474</td>\n",
       "      <td>202003</td>\n",
       "    </tr>\n",
       "    <tr>\n",
       "      <th>3</th>\n",
       "      <td>40</td>\n",
       "      <td>706342</td>\n",
       "      <td>0.841013</td>\n",
       "      <td>5023.797898</td>\n",
       "      <td>0</td>\n",
       "      <td>841012858.0</td>\n",
       "      <td>0</td>\n",
       "      <td>5023</td>\n",
       "      <td>797898.0</td>\n",
       "      <td>17</td>\n",
       "      <td>...</td>\n",
       "      <td>2020-07-17 00:00:00.0000000</td>\n",
       "      <td>2019-10-03 00:00:00.0000000</td>\n",
       "      <td>NaN</td>\n",
       "      <td>0.0</td>\n",
       "      <td>0</td>\n",
       "      <td>1</td>\n",
       "      <td>0.158987</td>\n",
       "      <td>0.340480</td>\n",
       "      <td>0.089600</td>\n",
       "      <td>202001</td>\n",
       "    </tr>\n",
       "    <tr>\n",
       "      <th>4</th>\n",
       "      <td>40</td>\n",
       "      <td>718698</td>\n",
       "      <td>0.668060</td>\n",
       "      <td>0.000000</td>\n",
       "      <td>0</td>\n",
       "      <td>668060235.0</td>\n",
       "      <td>0</td>\n",
       "      <td>0</td>\n",
       "      <td>1.0</td>\n",
       "      <td>2019-02-06 00:00:00.0000000</td>\n",
       "      <td>...</td>\n",
       "      <td>2020-01-10 00:00:00.0000000</td>\n",
       "      <td>NaN</td>\n",
       "      <td>0.0</td>\n",
       "      <td>NaN</td>\n",
       "      <td>0</td>\n",
       "      <td>1</td>\n",
       "      <td>0.331940</td>\n",
       "      <td>0.897568</td>\n",
       "      <td>0.439124</td>\n",
       "      <td>202002</td>\n",
       "    </tr>\n",
       "  </tbody>\n",
       "</table>\n",
       "<p>5 rows × 23 columns</p>\n",
       "</div>"
      ],
      "text/plain": [
       "   TECCOMPCE  TECSOLDTO   p_alive          CLV  p_alive_  PB_Churn_Flag  CLV_  \\\n",
       "0         40     636362  0.994196  2821.981425         0    994196067.0     0   \n",
       "1         40     441577  0.613307     0.000000         0    613306736.0     0   \n",
       "2         40     422141  0.462324  3340.062341         0    462324357.0     1   \n",
       "3         40     706342  0.841013  5023.797898         0    841012858.0     0   \n",
       "4         40     718698  0.668060     0.000000         0    668060235.0     0   \n",
       "\n",
       "     ob       omx                          omn  ...  \\\n",
       "0  2821  981425.0                           11  ...   \n",
       "1     0       1.0  2018-10-01 00:00:00.0000000  ...   \n",
       "2  3340   62341.0                            7  ...   \n",
       "3  5023  797898.0                           17  ...   \n",
       "4     0       1.0  2019-02-06 00:00:00.0000000  ...   \n",
       "\n",
       "                   CreditBlock                        Churn    a    b target  \\\n",
       "0  2020-09-29 00:00:00.0000000  2019-10-01 00:00:00.0000000  NaN  0.0      0   \n",
       "1                          NaN                          NaN  1.0  NaN      1   \n",
       "2  2020-07-01 00:00:00.0000000  2020-02-19 00:00:00.0000000  NaN  0.0      0   \n",
       "3  2020-07-17 00:00:00.0000000  2019-10-03 00:00:00.0000000  NaN  0.0      0   \n",
       "4  2020-01-10 00:00:00.0000000                          NaN  0.0  NaN      0   \n",
       "\n",
       "   target_obs   p_churn  random_score  semi_random_score   month  \n",
       "0           1  0.005804      0.928603           0.597955  202003  \n",
       "1           1  0.386693      0.234214           0.762402  202003  \n",
       "2           1  0.537676      0.978506           0.565474  202003  \n",
       "3           1  0.158987      0.340480           0.089600  202001  \n",
       "4           1  0.331940      0.897568           0.439124  202002  \n",
       "\n",
       "[5 rows x 23 columns]"
      ]
     },
     "execution_count": 104,
     "metadata": {},
     "output_type": "execute_result"
    }
   ],
   "source": [
    "df.head()"
   ]
  },
  {
   "cell_type": "markdown",
   "metadata": {},
   "source": [
    "### Accuracy"
   ]
  },
  {
   "cell_type": "code",
   "execution_count": 41,
   "metadata": {
    "ExecuteTime": {
     "end_time": "2021-02-05T09:39:40.990755Z",
     "start_time": "2021-02-05T09:39:40.903758Z"
    }
   },
   "outputs": [
    {
     "data": {
      "text/plain": [
       "0.7793858545179965"
      ]
     },
     "execution_count": 41,
     "metadata": {},
     "output_type": "execute_result"
    }
   ],
   "source": [
    "metrics.accuracy_score(df['target'], df['p_churn']>0.5)"
   ]
  },
  {
   "cell_type": "code",
   "execution_count": 42,
   "metadata": {
    "ExecuteTime": {
     "end_time": "2021-02-05T09:39:42.108748Z",
     "start_time": "2021-02-05T09:39:42.007203Z"
    }
   },
   "outputs": [
    {
     "data": {
      "text/plain": [
       "[0.31059652655424114,\n",
       " 0.40057890762647874,\n",
       " 0.46967027435187514,\n",
       " 0.5117040020135918,\n",
       " 0.5485779008306066,\n",
       " 0.5690913667253964,\n",
       " 0.591492574880443,\n",
       " 0.6063428139944627,\n",
       " 0.618801912912157,\n",
       " 0.6303800654417316,\n",
       " 0.6401963251950668,\n",
       " 0.6477472942360937,\n",
       " 0.6552982632771206,\n",
       " 0.6614648879939592,\n",
       " 0.6676315127107979,\n",
       " 0.6720362446513969,\n",
       " 0.676566826076013,\n",
       " 0.6827334507928517,\n",
       " 0.6867606342813994,\n",
       " 0.6906619682859301]"
      ]
     },
     "execution_count": 42,
     "metadata": {},
     "output_type": "execute_result"
    }
   ],
   "source": [
    "[metrics.accuracy_score(df['target'], df['p_churn']>(x+1)/1000) for x in range(20)]"
   ]
  },
  {
   "cell_type": "code",
   "execution_count": 43,
   "metadata": {
    "ExecuteTime": {
     "end_time": "2021-02-05T09:39:43.199893Z",
     "start_time": "2021-02-05T09:39:43.121749Z"
    }
   },
   "outputs": [],
   "source": [
    "#metrics.accuracy_score?"
   ]
  },
  {
   "cell_type": "markdown",
   "metadata": {},
   "source": [
    "### Precision"
   ]
  },
  {
   "cell_type": "code",
   "execution_count": 44,
   "metadata": {
    "ExecuteTime": {
     "end_time": "2021-02-05T09:39:44.333773Z",
     "start_time": "2021-02-05T09:39:44.246750Z"
    }
   },
   "outputs": [
    {
     "data": {
      "text/plain": [
       "0.5398230088495575"
      ]
     },
     "execution_count": 44,
     "metadata": {},
     "output_type": "execute_result"
    }
   ],
   "source": [
    "metrics.precision_score(df['target'], df['p_churn']>0.5)"
   ]
  },
  {
   "cell_type": "code",
   "execution_count": 45,
   "metadata": {
    "ExecuteTime": {
     "end_time": "2021-02-05T09:39:45.507753Z",
     "start_time": "2021-02-05T09:39:45.367747Z"
    }
   },
   "outputs": [
    {
     "data": {
      "text/plain": [
       "[0.6588235294117647,\n",
       " 0.6239316239316239,\n",
       " 0.625,\n",
       " 0.618421052631579,\n",
       " 0.6073619631901841,\n",
       " 0.6123595505617978,\n",
       " 0.6096256684491979,\n",
       " 0.6062176165803109,\n",
       " 0.6019417475728155,\n",
       " 0.591304347826087,\n",
       " 0.5887096774193549,\n",
       " 0.5889328063241107,\n",
       " 0.5923076923076923,\n",
       " 0.6,\n",
       " 0.5949820788530465,\n",
       " 0.5929824561403508,\n",
       " 0.5932203389830508,\n",
       " 0.5907590759075908,\n",
       " 0.6006191950464397,\n",
       " 0.600609756097561]"
      ]
     },
     "execution_count": 45,
     "metadata": {},
     "output_type": "execute_result"
    }
   ],
   "source": [
    "[metrics.precision_score(df['target'], df['p_churn']>(99-x)/100) for x in range(20)]"
   ]
  },
  {
   "cell_type": "code",
   "execution_count": 46,
   "metadata": {
    "ExecuteTime": {
     "end_time": "2021-02-05T09:39:46.612751Z",
     "start_time": "2021-02-05T09:39:46.533752Z"
    }
   },
   "outputs": [],
   "source": [
    "#metrics.precision_score?"
   ]
  },
  {
   "cell_type": "markdown",
   "metadata": {},
   "source": [
    "### Recall"
   ]
  },
  {
   "cell_type": "code",
   "execution_count": 47,
   "metadata": {
    "ExecuteTime": {
     "end_time": "2021-02-05T09:39:47.845751Z",
     "start_time": "2021-02-05T09:39:47.750767Z"
    }
   },
   "outputs": [
    {
     "data": {
      "text/plain": [
       "0.20254565578306585"
      ]
     },
     "execution_count": 47,
     "metadata": {},
     "output_type": "execute_result"
    }
   ],
   "source": [
    "metrics.recall_score(df['target'], df['p_churn']>0.5)"
   ]
  },
  {
   "cell_type": "code",
   "execution_count": 48,
   "metadata": {
    "ExecuteTime": {
     "end_time": "2021-02-05T09:39:49.180775Z",
     "start_time": "2021-02-05T09:39:49.027751Z"
    }
   },
   "outputs": [
    {
     "data": {
      "text/plain": [
       "[0.03099059214167128,\n",
       " 0.040398450470392915,\n",
       " 0.04703929164360819,\n",
       " 0.05201992252351965,\n",
       " 0.05478693967902601,\n",
       " 0.06032097399003874,\n",
       " 0.0630879911455451,\n",
       " 0.06474820143884892,\n",
       " 0.06862202545655784,\n",
       " 0.0752628666297731,\n",
       " 0.08079690094078583,\n",
       " 0.08245711123408965,\n",
       " 0.08522412838959602,\n",
       " 0.0896513558384062,\n",
       " 0.09186496956281129,\n",
       " 0.09352517985611511,\n",
       " 0.09684560044272275,\n",
       " 0.09905921416712783,\n",
       " 0.10736026563364692,\n",
       " 0.10902047592695074]"
      ]
     },
     "execution_count": 48,
     "metadata": {},
     "output_type": "execute_result"
    }
   ],
   "source": [
    "[metrics.recall_score(df['target'], df['p_churn']>(99-x)/100) for x in range(20)]"
   ]
  },
  {
   "cell_type": "code",
   "execution_count": 49,
   "metadata": {
    "ExecuteTime": {
     "end_time": "2021-02-05T09:39:50.431751Z",
     "start_time": "2021-02-05T09:39:50.337750Z"
    }
   },
   "outputs": [],
   "source": [
    "#metrics.recall_score?"
   ]
  },
  {
   "cell_type": "markdown",
   "metadata": {},
   "source": [
    "### F1 score"
   ]
  },
  {
   "cell_type": "code",
   "execution_count": 50,
   "metadata": {
    "ExecuteTime": {
     "end_time": "2021-02-05T09:39:51.651754Z",
     "start_time": "2021-02-05T09:39:51.553752Z"
    }
   },
   "outputs": [
    {
     "data": {
      "text/plain": [
       "0.2945674044265594"
      ]
     },
     "execution_count": 50,
     "metadata": {},
     "output_type": "execute_result"
    }
   ],
   "source": [
    "metrics.f1_score(df['target'], df['p_churn']>0.5)"
   ]
  },
  {
   "cell_type": "code",
   "execution_count": 51,
   "metadata": {
    "ExecuteTime": {
     "end_time": "2021-02-05T09:39:52.860770Z",
     "start_time": "2021-02-05T09:39:52.697750Z"
    }
   },
   "outputs": [
    {
     "data": {
      "text/plain": [
       "[0.39749230092388915,\n",
       " 0.4314193625402889,\n",
       " 0.46057347670250887,\n",
       " 0.48072805139186287,\n",
       " 0.5000696864111499,\n",
       " 0.5107173478136611,\n",
       " 0.5233480176211454,\n",
       " 0.5313155528918191,\n",
       " 0.5383325712543819,\n",
       " 0.545144804088586,\n",
       " 0.5509659180147636,\n",
       " 0.5550786838340487,\n",
       " 0.5590082112381259,\n",
       " 0.5628859278518037,\n",
       " 0.5664094565752751,\n",
       " 0.5691137566137566,\n",
       " 0.5709515859766277,\n",
       " 0.5755177639333221,\n",
       " 0.5776344815883251,\n",
       " 0.5796853625170998]"
      ]
     },
     "execution_count": 51,
     "metadata": {},
     "output_type": "execute_result"
    }
   ],
   "source": [
    "[metrics.f1_score(df['target'], df['p_churn']>(x+1)/1000) for x in range(20)]"
   ]
  },
  {
   "cell_type": "code",
   "execution_count": 52,
   "metadata": {
    "ExecuteTime": {
     "end_time": "2021-02-05T09:39:54.000752Z",
     "start_time": "2021-02-05T09:39:53.913748Z"
    }
   },
   "outputs": [],
   "source": [
    "#metrics.f1_score?"
   ]
  },
  {
   "cell_type": "markdown",
   "metadata": {},
   "source": [
    "### Confusion matrix"
   ]
  },
  {
   "cell_type": "code",
   "execution_count": 53,
   "metadata": {
    "ExecuteTime": {
     "end_time": "2021-02-05T09:39:55.169752Z",
     "start_time": "2021-02-05T09:39:55.063749Z"
    }
   },
   "outputs": [
    {
     "data": {
      "text/plain": [
       "array([[5827,  312],\n",
       "       [1441,  366]], dtype=int64)"
      ]
     },
     "execution_count": 53,
     "metadata": {},
     "output_type": "execute_result"
    }
   ],
   "source": [
    "metrics.confusion_matrix(df['target'], df['p_churn']>0.5)"
   ]
  },
  {
   "cell_type": "markdown",
   "metadata": {
    "ExecuteTime": {
     "end_time": "2020-12-14T21:53:17.790901Z",
     "start_time": "2020-12-14T21:53:17.685943Z"
    }
   },
   "source": [
    "### ROC AUC "
   ]
  },
  {
   "cell_type": "code",
   "execution_count": 54,
   "metadata": {
    "ExecuteTime": {
     "end_time": "2021-02-05T09:39:56.314789Z",
     "start_time": "2021-02-05T09:39:56.227749Z"
    }
   },
   "outputs": [
    {
     "data": {
      "text/plain": [
       "0.8560895967276451"
      ]
     },
     "execution_count": 54,
     "metadata": {},
     "output_type": "execute_result"
    }
   ],
   "source": [
    "metrics.roc_auc_score(df['target'], df['p_churn'])"
   ]
  },
  {
   "cell_type": "code",
   "execution_count": 55,
   "metadata": {
    "ExecuteTime": {
     "end_time": "2021-02-05T09:39:57.460783Z",
     "start_time": "2021-02-05T09:39:57.377749Z"
    }
   },
   "outputs": [],
   "source": [
    "#metrics.roc_auc_score?"
   ]
  },
  {
   "cell_type": "markdown",
   "metadata": {},
   "source": [
    "### GINI"
   ]
  },
  {
   "cell_type": "code",
   "execution_count": 56,
   "metadata": {
    "ExecuteTime": {
     "end_time": "2021-02-05T09:39:58.671749Z",
     "start_time": "2021-02-05T09:39:58.575754Z"
    }
   },
   "outputs": [
    {
     "data": {
      "text/plain": [
       "0.7121791934552901"
      ]
     },
     "execution_count": 56,
     "metadata": {},
     "output_type": "execute_result"
    }
   ],
   "source": [
    "metrics.gini(df['target'], df['p_churn'])"
   ]
  },
  {
   "cell_type": "code",
   "execution_count": 57,
   "metadata": {
    "ExecuteTime": {
     "end_time": "2021-02-05T09:39:59.863750Z",
     "start_time": "2021-02-05T09:39:59.769749Z"
    }
   },
   "outputs": [
    {
     "data": {
      "text/plain": [
       "0.7121791934552901"
      ]
     },
     "execution_count": 57,
     "metadata": {},
     "output_type": "execute_result"
    }
   ],
   "source": [
    "metrics.gini(df['target'], df['p_churn'], average='samples')"
   ]
  },
  {
   "cell_type": "code",
   "execution_count": 58,
   "metadata": {
    "ExecuteTime": {
     "end_time": "2021-02-05T09:40:01.998985Z",
     "start_time": "2021-02-05T09:40:01.915584Z"
    }
   },
   "outputs": [],
   "source": [
    "#metrics.gini?"
   ]
  },
  {
   "cell_type": "markdown",
   "metadata": {},
   "source": [
    "### Lift"
   ]
  },
  {
   "cell_type": "code",
   "execution_count": 59,
   "metadata": {
    "ExecuteTime": {
     "end_time": "2021-02-05T09:40:03.116663Z",
     "start_time": "2021-02-05T09:40:03.031662Z"
    }
   },
   "outputs": [
    {
     "data": {
      "text/plain": [
       "2.306531204644412"
      ]
     },
     "execution_count": 59,
     "metadata": {},
     "output_type": "execute_result"
    }
   ],
   "source": [
    "metrics.lift(df['target'], df['p_churn'])"
   ]
  },
  {
   "cell_type": "code",
   "execution_count": 60,
   "metadata": {
    "ExecuteTime": {
     "end_time": "2021-02-05T09:40:04.285705Z",
     "start_time": "2021-02-05T09:40:04.182729Z"
    }
   },
   "outputs": [
    {
     "data": {
      "text/plain": [
       "2.519081294685937"
      ]
     },
     "execution_count": 60,
     "metadata": {},
     "output_type": "execute_result"
    }
   ],
   "source": [
    "metrics.liftN(df['target'], df['p_churn'], 0.05)"
   ]
  },
  {
   "cell_type": "code",
   "execution_count": 61,
   "metadata": {
    "ExecuteTime": {
     "end_time": "2021-02-05T09:40:05.559666Z",
     "start_time": "2021-02-05T09:40:05.447719Z"
    }
   },
   "outputs": [
    {
     "data": {
      "text/plain": [
       "[2.564655037052907,\n",
       " 2.418539014941893,\n",
       " 2.1267203306629034,\n",
       " 1.8638627559490868,\n",
       " 1.6290557813709337,\n",
       " 1.4191355404598403,\n",
       " 1.2480818075848659,\n",
       " 1.111484123653658,\n",
       " 1]"
      ]
     },
     "execution_count": 61,
     "metadata": {},
     "output_type": "execute_result"
    }
   ],
   "source": [
    "[metrics.liftN(df['target'], df['p_churn'],(x+1)/10) for x in range(1,10)]"
   ]
  },
  {
   "cell_type": "markdown",
   "metadata": {},
   "source": [
    "### KS score"
   ]
  },
  {
   "cell_type": "code",
   "execution_count": 62,
   "metadata": {
    "ExecuteTime": {
     "end_time": "2021-02-05T09:40:06.867917Z",
     "start_time": "2021-02-05T09:40:06.683950Z"
    }
   },
   "outputs": [
    {
     "data": {
      "text/plain": [
       "0.588206908879903"
      ]
     },
     "execution_count": 62,
     "metadata": {},
     "output_type": "execute_result"
    }
   ],
   "source": [
    "metrics.ks_score(df['target'], df['p_churn'])"
   ]
  },
  {
   "cell_type": "code",
   "execution_count": 63,
   "metadata": {
    "ExecuteTime": {
     "end_time": "2021-02-05T09:40:09.061657Z",
     "start_time": "2021-02-05T09:40:08.979657Z"
    }
   },
   "outputs": [],
   "source": [
    "#metrics.ks_score?"
   ]
  },
  {
   "cell_type": "markdown",
   "metadata": {},
   "source": [
    "## Curves and others"
   ]
  },
  {
   "cell_type": "markdown",
   "metadata": {},
   "source": [
    "### ROC curve"
   ]
  },
  {
   "cell_type": "code",
   "execution_count": 64,
   "metadata": {
    "ExecuteTime": {
     "end_time": "2021-02-05T09:40:18.750701Z",
     "start_time": "2021-02-05T09:40:18.659734Z"
    }
   },
   "outputs": [
    {
     "data": {
      "text/plain": [
       "(array([0.        , 0.        , 0.        , ..., 0.99788239, 0.99837107,\n",
       "        1.        ]),\n",
       " array([0.00000000e+00, 5.53403431e-04, 7.74764804e-03, ...,\n",
       "        1.00000000e+00, 1.00000000e+00, 1.00000000e+00]),\n",
       " array([2.0000000e+00, 1.0000000e+00, 9.9999814e-01, ..., 1.7253500e-04,\n",
       "        1.7186300e-04, 1.5661200e-04]))"
      ]
     },
     "execution_count": 64,
     "metadata": {},
     "output_type": "execute_result"
    }
   ],
   "source": [
    "metrics.roc_curve(df['target'], df['p_churn'])"
   ]
  },
  {
   "cell_type": "code",
   "execution_count": 65,
   "metadata": {
    "ExecuteTime": {
     "end_time": "2021-02-05T09:40:21.903966Z",
     "start_time": "2021-02-05T09:40:21.273372Z"
    }
   },
   "outputs": [
    {
     "data": {
      "image/png": "[encoded data removed]",
      "text/plain": [
       "<Figure size 432x288 with 1 Axes>"
      ]
     },
     "metadata": {
      "needs_background": "light"
     },
     "output_type": "display_data"
    }
   ],
   "source": [
    "from matplotlib import pyplot as plt\n",
    "_fpr, _tpr, _ = metrics.roc_curve(df['target'], df['p_churn'])\n",
    "\n",
    "# plot the roc curve for the model\n",
    "plt.plot(_fpr, _tpr, linestyle='-', color='red', label='Model 1')\n",
    "\n",
    "# axis labels\n",
    "plt.title('ROC curve')\n",
    "plt.xlim(-0.01,1.01)\n",
    "plt.ylim(-0.01,1.03)\n",
    "plt.xlabel('False Positive Rate')\n",
    "plt.ylabel('True Positive Rate')\n",
    "# show the legend\n",
    "plt.legend()\n",
    "# show the plot\n",
    "plt.show()"
   ]
  },
  {
   "cell_type": "code",
   "execution_count": 66,
   "metadata": {
    "ExecuteTime": {
     "end_time": "2021-02-05T09:40:31.359643Z",
     "start_time": "2021-02-05T09:40:31.271484Z"
    }
   },
   "outputs": [],
   "source": [
    "#metrics.roc_curve?"
   ]
  },
  {
   "cell_type": "markdown",
   "metadata": {},
   "source": [
    "### Lift curve"
   ]
  },
  {
   "cell_type": "code",
   "execution_count": 67,
   "metadata": {
    "ExecuteTime": {
     "end_time": "2021-02-05T09:40:32.521550Z",
     "start_time": "2021-02-05T09:40:32.416480Z"
    }
   },
   "outputs": [
    {
     "data": {
      "text/plain": [
       "[2.306531204644412,\n",
       " 2.564655037052907,\n",
       " 2.418539014941893,\n",
       " 2.1267203306629034,\n",
       " 1.8638627559490868,\n",
       " 1.6290557813709337,\n",
       " 1.4191355404598403,\n",
       " 1.2480818075848659,\n",
       " 1.111484123653658,\n",
       " 1]"
      ]
     },
     "execution_count": 67,
     "metadata": {},
     "output_type": "execute_result"
    }
   ],
   "source": [
    "[metrics.liftN(df['target'], df['p_churn'], x/10) for x in range (1,11)]"
   ]
  },
  {
   "cell_type": "code",
   "execution_count": 68,
   "metadata": {
    "ExecuteTime": {
     "end_time": "2021-02-05T09:40:34.354947Z",
     "start_time": "2021-02-05T09:40:34.078950Z"
    }
   },
   "outputs": [
    {
     "data": {
      "image/png": "[encoded data removed]",
      "text/plain": [
       "<Figure size 432x288 with 1 Axes>"
      ]
     },
     "metadata": {
      "needs_background": "light"
     },
     "output_type": "display_data"
    }
   ],
   "source": [
    "from matplotlib import pyplot as plt\n",
    "x= [(x/10) for x in range (1,11)]\n",
    "lift_curve = [metrics.liftN(df['target'], df['p_churn'], x/10) for x in range (1,11)]\n",
    "plt.plot(x, lift_curve, linestyle='-', color='red', label='Model 1')\n",
    "# axis labels\n",
    "plt.title('Lift curve')\n",
    "#plt.xlim(-0.01,1.01)\n",
    "#plt.ylim(-0.01,1.03)\n",
    "#plt.xlabel('False Positive Rate')\n",
    "#plt.ylabel('True Positive Rate')\n",
    "# show the legend\n",
    "plt.legend()\n",
    "# show the plot\n",
    "plt.show()"
   ]
  },
  {
   "cell_type": "markdown",
   "metadata": {},
   "source": [
    "### Precision-Recall curve"
   ]
  },
  {
   "cell_type": "code",
   "execution_count": 69,
   "metadata": {
    "ExecuteTime": {
     "end_time": "2021-02-05T09:40:45.884680Z",
     "start_time": "2021-02-05T09:40:45.789683Z"
    }
   },
   "outputs": [
    {
     "data": {
      "text/plain": [
       "(array([0.27778632, 0.27767528, 0.27771798, ..., 1.        , 1.        ,\n",
       "        1.        ]),\n",
       " array([1.00000000e+00, 9.99446597e-01, 9.99446597e-01, ...,\n",
       "        1.10680686e-03, 5.53403431e-04, 0.00000000e+00]),\n",
       " array([0.00209515, 0.00209674, 0.00209705, ..., 1.        , 1.        ,\n",
       "        1.        ]))"
      ]
     },
     "execution_count": 69,
     "metadata": {},
     "output_type": "execute_result"
    }
   ],
   "source": [
    "metrics.precision_recall_curve(df['target'], df['p_churn'])"
   ]
  },
  {
   "cell_type": "code",
   "execution_count": 70,
   "metadata": {
    "ExecuteTime": {
     "end_time": "2021-02-05T09:40:49.300758Z",
     "start_time": "2021-02-05T09:40:48.924716Z"
    }
   },
   "outputs": [
    {
     "data": {
      "image/png": "[encoded data removed]",
      "text/plain": [
       "<Figure size 432x288 with 1 Axes>"
      ]
     },
     "metadata": {
      "needs_background": "light"
     },
     "output_type": "display_data"
    }
   ],
   "source": [
    "from matplotlib import pyplot as plt\n",
    "\n",
    "\n",
    "f_scores = np.linspace(0.2, 0.8, num=4)\n",
    "lines = []\n",
    "labels = []\n",
    "for f_score in f_scores:\n",
    "    x = np.linspace(0.01, 1)\n",
    "    y = f_score * x / (2 * x - f_score)\n",
    "    l, = plt.plot(x[y >= 0], y[y >= 0], color='gray', alpha=0.2)\n",
    "    plt.annotate('f1={0:0.1f}'.format(f_score), xy=(0.9, y[45] + 0.02))\n",
    "lines.append(l)\n",
    "labels.append('iso-f1 curves')\n",
    "\n",
    "lr_precision, lr_recall, _ = metrics.precision_recall_curve(df['target'], df['p_churn'])\n",
    "# plot the precision-recall curves\n",
    "no_skill = len(df['target'][df['target']==1]) / len(df['target'])\n",
    "plt.plot([0, 1], [no_skill, no_skill], linestyle='--')\n",
    "l,=plt.plot(lr_recall, lr_precision,linestyle='-', color='red', label='Model 1')\n",
    "lines.append(l)\n",
    "labels.append('Model 1')\n",
    "# axis labels\n",
    "plt.title('Precision-Recall curve with iso-f1 curves')\n",
    "plt.xlabel('Recall')\n",
    "plt.ylabel('Precision')\n",
    "plt.xlim([0.0, 1.0])\n",
    "plt.ylim([0.0, 1.05])\n",
    "# show the legend\n",
    "plt.legend(lines,labels)\n",
    "# show the plot\n",
    "plt.show()\n"
   ]
  },
  {
   "cell_type": "markdown",
   "metadata": {},
   "source": [
    "# Basic Evaluators"
   ]
  },
  {
   "cell_type": "markdown",
   "metadata": {
    "ExecuteTime": {
     "end_time": "2020-12-17T19:31:46.233868Z",
     "start_time": "2020-12-17T19:31:45.976866Z"
    }
   },
   "source": [
    "## Lift Curve Evaluator"
   ]
  },
  {
   "cell_type": "code",
   "execution_count": 71,
   "metadata": {
    "ExecuteTime": {
     "end_time": "2021-02-05T09:40:53.150550Z",
     "start_time": "2021-02-05T09:40:53.052054Z"
    }
   },
   "outputs": [],
   "source": [
    "from mofr.basic_evaluators.LiftCurve import LiftCurveEvaluator\n",
    "\n",
    "lce=LiftCurveEvaluator()"
   ]
  },
  {
   "cell_type": "code",
   "execution_count": 72,
   "metadata": {
    "ExecuteTime": {
     "end_time": "2021-02-05T09:41:00.420136Z",
     "start_time": "2021-02-05T09:41:00.315879Z"
    }
   },
   "outputs": [
    {
     "data": {
      "text/plain": []
     },
     "execution_count": 72,
     "metadata": {},
     "output_type": "execute_result"
    }
   ],
   "source": [
    "lce.d(df).t([('target','target_obs')]).s(['p_churn', 'semi_random_score','random_score'])"
   ]
  },
  {
   "cell_type": "code",
   "execution_count": 73,
   "metadata": {
    "ExecuteTime": {
     "end_time": "2021-02-05T09:41:09.232302Z",
     "start_time": "2021-02-05T09:41:08.831304Z"
    }
   },
   "outputs": [
    {
     "data": {
      "image/png": "[encoded data removed]",
      "text/plain": [
       "<Figure size 504x576 with 1 Axes>"
      ]
     },
     "metadata": {
      "needs_background": "light"
     },
     "output_type": "display_data"
    },
    {
     "data": {
      "text/plain": []
     },
     "execution_count": 73,
     "metadata": {},
     "output_type": "execute_result"
    }
   ],
   "source": [
    "lce.get_graph()"
   ]
  },
  {
   "cell_type": "markdown",
   "metadata": {
    "ExecuteTime": {
     "end_time": "2020-12-17T19:32:52.905283Z",
     "start_time": "2020-12-17T19:32:52.814277Z"
    }
   },
   "source": [
    "## ROC Curve Evaluator"
   ]
  },
  {
   "cell_type": "code",
   "execution_count": 74,
   "metadata": {
    "ExecuteTime": {
     "end_time": "2021-02-05T09:41:20.320113Z",
     "start_time": "2021-02-05T09:41:20.229723Z"
    }
   },
   "outputs": [],
   "source": [
    "from mofr.basic_evaluators.ROCCurve import ROCCurveEvaluator\n",
    "\n",
    "rce=ROCCurveEvaluator()"
   ]
  },
  {
   "cell_type": "code",
   "execution_count": 75,
   "metadata": {
    "ExecuteTime": {
     "end_time": "2021-02-05T09:41:21.601723Z",
     "start_time": "2021-02-05T09:41:21.514722Z"
    }
   },
   "outputs": [
    {
     "data": {
      "text/plain": []
     },
     "execution_count": 75,
     "metadata": {},
     "output_type": "execute_result"
    }
   ],
   "source": [
    "rce.d(df).t([('target','target_obs')]).s(['p_churn', 'semi_random_score','random_score'])"
   ]
  },
  {
   "cell_type": "code",
   "execution_count": 76,
   "metadata": {
    "ExecuteTime": {
     "end_time": "2021-02-05T09:41:23.489849Z",
     "start_time": "2021-02-05T09:41:23.128852Z"
    }
   },
   "outputs": [
    {
     "data": {
      "image/png": "[encoded data removed]",
      "text/plain": [
       "<Figure size 504x576 with 1 Axes>"
      ]
     },
     "metadata": {
      "needs_background": "light"
     },
     "output_type": "display_data"
    },
    {
     "data": {
      "text/plain": []
     },
     "execution_count": 76,
     "metadata": {},
     "output_type": "execute_result"
    }
   ],
   "source": [
    "rce.get_graph()"
   ]
  },
  {
   "cell_type": "markdown",
   "metadata": {},
   "source": [
    "## PR Curve Evaluator"
   ]
  },
  {
   "cell_type": "code",
   "execution_count": 77,
   "metadata": {
    "ExecuteTime": {
     "end_time": "2021-02-05T09:41:40.126181Z",
     "start_time": "2021-02-05T09:41:40.033835Z"
    }
   },
   "outputs": [],
   "source": [
    "from mofr.basic_evaluators.PRCurve import PRCurveEvaluator\n",
    "\n",
    "prce=PRCurveEvaluator()"
   ]
  },
  {
   "cell_type": "code",
   "execution_count": 78,
   "metadata": {
    "ExecuteTime": {
     "end_time": "2021-02-05T09:41:41.300807Z",
     "start_time": "2021-02-05T09:41:41.212807Z"
    }
   },
   "outputs": [
    {
     "data": {
      "text/plain": []
     },
     "execution_count": 78,
     "metadata": {},
     "output_type": "execute_result"
    }
   ],
   "source": [
    "prce.d(df).t([('target','target_obs')]).s(['p_churn', 'semi_random_score','random_score'])"
   ]
  },
  {
   "cell_type": "code",
   "execution_count": 79,
   "metadata": {
    "ExecuteTime": {
     "end_time": "2021-02-05T09:41:42.710826Z",
     "start_time": "2021-02-05T09:41:42.373813Z"
    }
   },
   "outputs": [
    {
     "data": {
      "image/png": "[encoded data removed]",
      "text/plain": [
       "<Figure size 504x576 with 1 Axes>"
      ]
     },
     "metadata": {
      "needs_background": "light"
     },
     "output_type": "display_data"
    },
    {
     "data": {
      "text/plain": []
     },
     "execution_count": 79,
     "metadata": {},
     "output_type": "execute_result"
    }
   ],
   "source": [
    "prce.get_graph()"
   ]
  },
  {
   "cell_type": "code",
   "execution_count": 80,
   "metadata": {
    "ExecuteTime": {
     "end_time": "2021-02-05T09:41:44.269832Z",
     "start_time": "2021-02-05T09:41:43.804807Z"
    }
   },
   "outputs": [
    {
     "data": {
      "image/png": "[encoded data removed]",
      "text/plain": [
       "<Figure size 504x576 with 1 Axes>"
      ]
     },
     "metadata": {
      "needs_background": "light"
     },
     "output_type": "display_data"
    },
    {
     "data": {
      "text/plain": []
     },
     "execution_count": 80,
     "metadata": {},
     "output_type": "execute_result"
    }
   ],
   "source": [
    "prce.get_graph(isocurves='on')"
   ]
  },
  {
   "cell_type": "markdown",
   "metadata": {
    "ExecuteTime": {
     "end_time": "2021-02-05T10:03:05.945149Z",
     "start_time": "2021-02-05T10:03:05.854099Z"
    }
   },
   "source": [
    "## Gini in Time Evaluator"
   ]
  },
  {
   "cell_type": "code",
   "execution_count": 105,
   "metadata": {
    "ExecuteTime": {
     "end_time": "2021-02-05T10:48:13.497002Z",
     "start_time": "2021-02-05T10:48:13.402961Z"
    }
   },
   "outputs": [],
   "source": [
    "from mofr.basic_evaluators.GiniInTime import GiniInTimeEvaluator\n",
    "\n",
    "gite=GiniInTimeEvaluator()"
   ]
  },
  {
   "cell_type": "code",
   "execution_count": 107,
   "metadata": {
    "ExecuteTime": {
     "end_time": "2021-02-05T10:48:25.826416Z",
     "start_time": "2021-02-05T10:48:25.732395Z"
    }
   },
   "outputs": [
    {
     "data": {
      "text/plain": []
     },
     "execution_count": 107,
     "metadata": {},
     "output_type": "execute_result"
    }
   ],
   "source": [
    "gite.d(df).t([('target','target_obs')]).s(['p_churn', 'semi_random_score','random_score']).tc('month')"
   ]
  },
  {
   "cell_type": "code",
   "execution_count": 108,
   "metadata": {
    "ExecuteTime": {
     "end_time": "2021-02-05T10:48:35.755970Z",
     "start_time": "2021-02-05T10:48:35.651971Z"
    }
   },
   "outputs": [
    {
     "data": {
      "text/plain": []
     },
     "execution_count": 108,
     "metadata": {},
     "output_type": "execute_result"
    },
    {
     "data": {
      "text/plain": [
       "<Figure size 504x576 with 0 Axes>"
      ]
     },
     "metadata": {},
     "output_type": "display_data"
    }
   ],
   "source": [
    "gite.get_graph()"
   ]
  },
  {
   "cell_type": "code",
   "execution_count": 109,
   "metadata": {
    "ExecuteTime": {
     "end_time": "2021-02-05T10:48:42.855971Z",
     "start_time": "2021-02-05T10:48:42.757763Z"
    }
   },
   "outputs": [],
   "source": [
    "gite.get_table()"
   ]
  }
 ],
 "metadata": {
  "kernelspec": {
   "display_name": "Python 3",
   "language": "python",
   "name": "python3"
  },
  "language_info": {
   "codemirror_mode": {
    "name": "ipython",
    "version": 3
   },
   "file_extension": ".py",
   "mimetype": "text/x-python",
   "name": "python",
   "nbconvert_exporter": "python",
   "pygments_lexer": "ipython3",
   "version": "3.7.8"
  },
  "toc": {
   "base_numbering": 1,
   "nav_menu": {},
   "number_sections": true,
   "sideBar": true,
   "skip_h1_title": false,
   "title_cell": "Table of Contents",
   "title_sidebar": "Contents",
   "toc_cell": false,
   "toc_position": {
    "height": "calc(100% - 180px)",
    "left": "10px",
    "top": "150px",
    "width": "341.333px"
   },
   "toc_section_display": true,
   "toc_window_display": true
  },
  "varInspector": {
   "cols": {
    "lenName": 16,
    "lenType": 16,
    "lenVar": 40
   },
   "kernels_config": {
    "python": {
     "delete_cmd_postfix": "",
     "delete_cmd_prefix": "del ",
     "library": "var_list.py",
     "varRefreshCmd": "print(var_dic_list())"
    },
    "r": {
     "delete_cmd_postfix": ") ",
     "delete_cmd_prefix": "rm(",
     "library": "var_list.r",
     "varRefreshCmd": "cat(var_dic_list()) "
    }
   },
   "types_to_exclude": [
    "module",
    "function",
    "builtin_function_or_method",
    "instance",
    "_Feature"
   ],
   "window_display": false
  }
 },
 "nbformat": 4,
 "nbformat_minor": 4
}
