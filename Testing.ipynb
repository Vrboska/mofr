{
 "cells": [
  {
   "cell_type": "markdown",
   "metadata": {
    "ExecuteTime": {
     "end_time": "2020-12-14T20:53:36.838573Z",
     "start_time": "2020-12-14T20:53:36.835573Z"
    }
   },
   "source": [
    "# Testing packages"
   ]
  },
  {
   "cell_type": "code",
   "execution_count": 8,
   "metadata": {
    "ExecuteTime": {
     "end_time": "2021-11-01T12:59:41.495435Z",
     "start_time": "2021-11-01T12:59:41.393397Z"
    }
   },
   "outputs": [],
   "source": [
    "import pandas as pd\n",
    "import numpy as np\n",
    "import random"
   ]
  },
  {
   "cell_type": "code",
   "execution_count": 9,
   "metadata": {
    "ExecuteTime": {
     "end_time": "2021-11-01T12:59:41.606397Z",
     "start_time": "2021-11-01T12:59:41.497401Z"
    }
   },
   "outputs": [
    {
     "name": "stdout",
     "output_type": "stream",
     "text": [
      "The autoreload extension is already loaded. To reload it, use:\n",
      "  %reload_ext autoreload\n"
     ]
    }
   ],
   "source": [
    "%load_ext autoreload\n",
    "%autoreload 2"
   ]
  },
  {
   "cell_type": "markdown",
   "metadata": {
    "ExecuteTime": {
     "end_time": "2020-12-14T20:54:47.225113Z",
     "start_time": "2020-12-14T20:54:47.161113Z"
    }
   },
   "source": [
    "# Metrics"
   ]
  },
  {
   "cell_type": "markdown",
   "metadata": {},
   "source": [
    "## Simple scores"
   ]
  },
  {
   "cell_type": "code",
   "execution_count": 10,
   "metadata": {
    "ExecuteTime": {
     "end_time": "2021-11-01T12:59:41.702402Z",
     "start_time": "2021-11-01T12:59:41.608398Z"
    }
   },
   "outputs": [],
   "source": [
    "from mofr import metrics"
   ]
  },
  {
   "cell_type": "code",
   "execution_count": 11,
   "metadata": {
    "ExecuteTime": {
     "end_time": "2021-11-01T12:59:41.827441Z",
     "start_time": "2021-11-01T12:59:41.706403Z"
    }
   },
   "outputs": [],
   "source": [
    "df=pd.read_csv(r'c:\\Users\\T862363F\\Projects\\DevOps_Repos\\PRG_TD_ModellingFramework\\data\\Model_Eval_Data_For_Andrej.csv')"
   ]
  },
  {
   "cell_type": "code",
   "execution_count": 12,
   "metadata": {
    "ExecuteTime": {
     "end_time": "2021-11-01T12:59:41.952442Z",
     "start_time": "2021-11-01T12:59:41.829398Z"
    }
   },
   "outputs": [],
   "source": [
    "df['p_churn']=df['p_alive']*-1+1\n",
    "df['target_obs']=1\n",
    "df['random_score']=np.random.randint(1, 1000000, df.shape[0])/1000000\n",
    "df['semi_random_score']=0.7*df['p_churn']+0.3*np.random.normal(0,1,df.shape[0])\n",
    "df['month']=df['target_obs'].apply(lambda x: random.choice([202001,202002,202003]))"
   ]
  },
  {
   "cell_type": "code",
   "execution_count": 13,
   "metadata": {
    "ExecuteTime": {
     "end_time": "2021-11-01T12:59:42.062441Z",
     "start_time": "2021-11-01T12:59:41.955402Z"
    }
   },
   "outputs": [
    {
     "data": {
      "text/plain": [
       "7946"
      ]
     },
     "execution_count": 13,
     "metadata": {},
     "output_type": "execute_result"
    }
   ],
   "source": [
    "len(df)"
   ]
  },
  {
   "cell_type": "code",
   "execution_count": 14,
   "metadata": {
    "ExecuteTime": {
     "end_time": "2021-11-01T12:59:42.190401Z",
     "start_time": "2021-11-01T12:59:42.064404Z"
    }
   },
   "outputs": [
    {
     "data": {
      "text/html": [
       "<div>\n",
       "<style scoped>\n",
       "    .dataframe tbody tr th:only-of-type {\n",
       "        vertical-align: middle;\n",
       "    }\n",
       "\n",
       "    .dataframe tbody tr th {\n",
       "        vertical-align: top;\n",
       "    }\n",
       "\n",
       "    .dataframe thead th {\n",
       "        text-align: right;\n",
       "    }\n",
       "</style>\n",
       "<table border=\"1\" class=\"dataframe\">\n",
       "  <thead>\n",
       "    <tr style=\"text-align: right;\">\n",
       "      <th></th>\n",
       "      <th>TECCOMPCE</th>\n",
       "      <th>TECSOLDTO</th>\n",
       "      <th>p_alive</th>\n",
       "      <th>CLV</th>\n",
       "      <th>p_alive_</th>\n",
       "      <th>PB_Churn_Flag</th>\n",
       "      <th>CLV_</th>\n",
       "      <th>ob</th>\n",
       "      <th>omx</th>\n",
       "      <th>omn</th>\n",
       "      <th>...</th>\n",
       "      <th>CreditBlock</th>\n",
       "      <th>Churn</th>\n",
       "      <th>a</th>\n",
       "      <th>b</th>\n",
       "      <th>target</th>\n",
       "      <th>target_obs</th>\n",
       "      <th>p_churn</th>\n",
       "      <th>random_score</th>\n",
       "      <th>semi_random_score</th>\n",
       "      <th>month</th>\n",
       "    </tr>\n",
       "  </thead>\n",
       "  <tbody>\n",
       "    <tr>\n",
       "      <th>0</th>\n",
       "      <td>40</td>\n",
       "      <td>636362</td>\n",
       "      <td>0.994196</td>\n",
       "      <td>2821.981425</td>\n",
       "      <td>0</td>\n",
       "      <td>994196067.0</td>\n",
       "      <td>0</td>\n",
       "      <td>2821</td>\n",
       "      <td>981425.0</td>\n",
       "      <td>11</td>\n",
       "      <td>...</td>\n",
       "      <td>2020-09-29 00:00:00.0000000</td>\n",
       "      <td>2019-10-01 00:00:00.0000000</td>\n",
       "      <td>NaN</td>\n",
       "      <td>0.0</td>\n",
       "      <td>0</td>\n",
       "      <td>1</td>\n",
       "      <td>0.005804</td>\n",
       "      <td>0.995369</td>\n",
       "      <td>0.244627</td>\n",
       "      <td>202003</td>\n",
       "    </tr>\n",
       "    <tr>\n",
       "      <th>1</th>\n",
       "      <td>40</td>\n",
       "      <td>441577</td>\n",
       "      <td>0.613307</td>\n",
       "      <td>0.000000</td>\n",
       "      <td>0</td>\n",
       "      <td>613306736.0</td>\n",
       "      <td>0</td>\n",
       "      <td>0</td>\n",
       "      <td>1.0</td>\n",
       "      <td>2018-10-01 00:00:00.0000000</td>\n",
       "      <td>...</td>\n",
       "      <td>NaN</td>\n",
       "      <td>NaN</td>\n",
       "      <td>1.0</td>\n",
       "      <td>NaN</td>\n",
       "      <td>1</td>\n",
       "      <td>1</td>\n",
       "      <td>0.386693</td>\n",
       "      <td>0.204833</td>\n",
       "      <td>-0.087491</td>\n",
       "      <td>202001</td>\n",
       "    </tr>\n",
       "    <tr>\n",
       "      <th>2</th>\n",
       "      <td>40</td>\n",
       "      <td>422141</td>\n",
       "      <td>0.462324</td>\n",
       "      <td>3340.062341</td>\n",
       "      <td>0</td>\n",
       "      <td>462324357.0</td>\n",
       "      <td>1</td>\n",
       "      <td>3340</td>\n",
       "      <td>62341.0</td>\n",
       "      <td>7</td>\n",
       "      <td>...</td>\n",
       "      <td>2020-07-01 00:00:00.0000000</td>\n",
       "      <td>2020-02-19 00:00:00.0000000</td>\n",
       "      <td>NaN</td>\n",
       "      <td>0.0</td>\n",
       "      <td>0</td>\n",
       "      <td>1</td>\n",
       "      <td>0.537676</td>\n",
       "      <td>0.653815</td>\n",
       "      <td>0.367138</td>\n",
       "      <td>202002</td>\n",
       "    </tr>\n",
       "    <tr>\n",
       "      <th>3</th>\n",
       "      <td>40</td>\n",
       "      <td>706342</td>\n",
       "      <td>0.841013</td>\n",
       "      <td>5023.797898</td>\n",
       "      <td>0</td>\n",
       "      <td>841012858.0</td>\n",
       "      <td>0</td>\n",
       "      <td>5023</td>\n",
       "      <td>797898.0</td>\n",
       "      <td>17</td>\n",
       "      <td>...</td>\n",
       "      <td>2020-07-17 00:00:00.0000000</td>\n",
       "      <td>2019-10-03 00:00:00.0000000</td>\n",
       "      <td>NaN</td>\n",
       "      <td>0.0</td>\n",
       "      <td>0</td>\n",
       "      <td>1</td>\n",
       "      <td>0.158987</td>\n",
       "      <td>0.010544</td>\n",
       "      <td>0.424112</td>\n",
       "      <td>202002</td>\n",
       "    </tr>\n",
       "    <tr>\n",
       "      <th>4</th>\n",
       "      <td>40</td>\n",
       "      <td>718698</td>\n",
       "      <td>0.668060</td>\n",
       "      <td>0.000000</td>\n",
       "      <td>0</td>\n",
       "      <td>668060235.0</td>\n",
       "      <td>0</td>\n",
       "      <td>0</td>\n",
       "      <td>1.0</td>\n",
       "      <td>2019-02-06 00:00:00.0000000</td>\n",
       "      <td>...</td>\n",
       "      <td>2020-01-10 00:00:00.0000000</td>\n",
       "      <td>NaN</td>\n",
       "      <td>0.0</td>\n",
       "      <td>NaN</td>\n",
       "      <td>0</td>\n",
       "      <td>1</td>\n",
       "      <td>0.331940</td>\n",
       "      <td>0.454619</td>\n",
       "      <td>-0.154295</td>\n",
       "      <td>202002</td>\n",
       "    </tr>\n",
       "  </tbody>\n",
       "</table>\n",
       "<p>5 rows × 23 columns</p>\n",
       "</div>"
      ],
      "text/plain": [
       "   TECCOMPCE  TECSOLDTO   p_alive          CLV  p_alive_  PB_Churn_Flag  CLV_  \\\n",
       "0         40     636362  0.994196  2821.981425         0    994196067.0     0   \n",
       "1         40     441577  0.613307     0.000000         0    613306736.0     0   \n",
       "2         40     422141  0.462324  3340.062341         0    462324357.0     1   \n",
       "3         40     706342  0.841013  5023.797898         0    841012858.0     0   \n",
       "4         40     718698  0.668060     0.000000         0    668060235.0     0   \n",
       "\n",
       "     ob       omx                          omn  ...  \\\n",
       "0  2821  981425.0                           11  ...   \n",
       "1     0       1.0  2018-10-01 00:00:00.0000000  ...   \n",
       "2  3340   62341.0                            7  ...   \n",
       "3  5023  797898.0                           17  ...   \n",
       "4     0       1.0  2019-02-06 00:00:00.0000000  ...   \n",
       "\n",
       "                   CreditBlock                        Churn    a    b target  \\\n",
       "0  2020-09-29 00:00:00.0000000  2019-10-01 00:00:00.0000000  NaN  0.0      0   \n",
       "1                          NaN                          NaN  1.0  NaN      1   \n",
       "2  2020-07-01 00:00:00.0000000  2020-02-19 00:00:00.0000000  NaN  0.0      0   \n",
       "3  2020-07-17 00:00:00.0000000  2019-10-03 00:00:00.0000000  NaN  0.0      0   \n",
       "4  2020-01-10 00:00:00.0000000                          NaN  0.0  NaN      0   \n",
       "\n",
       "   target_obs   p_churn  random_score  semi_random_score   month  \n",
       "0           1  0.005804      0.995369           0.244627  202003  \n",
       "1           1  0.386693      0.204833          -0.087491  202001  \n",
       "2           1  0.537676      0.653815           0.367138  202002  \n",
       "3           1  0.158987      0.010544           0.424112  202002  \n",
       "4           1  0.331940      0.454619          -0.154295  202002  \n",
       "\n",
       "[5 rows x 23 columns]"
      ]
     },
     "execution_count": 14,
     "metadata": {},
     "output_type": "execute_result"
    }
   ],
   "source": [
    "df.head()"
   ]
  },
  {
   "cell_type": "markdown",
   "metadata": {},
   "source": [
    "### Accuracy"
   ]
  },
  {
   "cell_type": "code",
   "execution_count": 15,
   "metadata": {
    "ExecuteTime": {
     "end_time": "2021-11-01T12:59:42.301442Z",
     "start_time": "2021-11-01T12:59:42.193400Z"
    }
   },
   "outputs": [
    {
     "data": {
      "text/plain": [
       "0.7793858545179965"
      ]
     },
     "execution_count": 15,
     "metadata": {},
     "output_type": "execute_result"
    }
   ],
   "source": [
    "metrics.accuracy_score(df['target'], df['p_churn']>0.5)"
   ]
  },
  {
   "cell_type": "code",
   "execution_count": 16,
   "metadata": {
    "ExecuteTime": {
     "end_time": "2021-11-01T12:59:42.426400Z",
     "start_time": "2021-11-01T12:59:42.304430Z"
    }
   },
   "outputs": [
    {
     "data": {
      "text/plain": [
       "[0.31059652655424114,\n",
       " 0.40057890762647874,\n",
       " 0.46967027435187514,\n",
       " 0.5117040020135918,\n",
       " 0.5485779008306066,\n",
       " 0.5690913667253964,\n",
       " 0.591492574880443,\n",
       " 0.6063428139944627,\n",
       " 0.618801912912157,\n",
       " 0.6303800654417316,\n",
       " 0.6401963251950668,\n",
       " 0.6477472942360937,\n",
       " 0.6552982632771206,\n",
       " 0.6614648879939592,\n",
       " 0.6676315127107979,\n",
       " 0.6720362446513969,\n",
       " 0.676566826076013,\n",
       " 0.6827334507928517,\n",
       " 0.6867606342813994,\n",
       " 0.6906619682859301]"
      ]
     },
     "execution_count": 16,
     "metadata": {},
     "output_type": "execute_result"
    }
   ],
   "source": [
    "[metrics.accuracy_score(df['target'], df['p_churn']>(x+1)/1000) for x in range(20)]"
   ]
  },
  {
   "cell_type": "code",
   "execution_count": 17,
   "metadata": {
    "ExecuteTime": {
     "end_time": "2021-11-01T12:59:42.521448Z",
     "start_time": "2021-11-01T12:59:42.428402Z"
    }
   },
   "outputs": [],
   "source": [
    "#metrics.accuracy_score?"
   ]
  },
  {
   "cell_type": "markdown",
   "metadata": {},
   "source": [
    "### Precision"
   ]
  },
  {
   "cell_type": "code",
   "execution_count": 18,
   "metadata": {
    "ExecuteTime": {
     "end_time": "2021-11-01T12:59:42.616407Z",
     "start_time": "2021-11-01T12:59:42.522401Z"
    }
   },
   "outputs": [
    {
     "data": {
      "text/plain": [
       "0.5398230088495575"
      ]
     },
     "execution_count": 18,
     "metadata": {},
     "output_type": "execute_result"
    }
   ],
   "source": [
    "metrics.precision_score(df['target'], df['p_churn']>0.5)"
   ]
  },
  {
   "cell_type": "code",
   "execution_count": 19,
   "metadata": {
    "ExecuteTime": {
     "end_time": "2021-11-01T12:59:42.775978Z",
     "start_time": "2021-11-01T12:59:42.618401Z"
    }
   },
   "outputs": [
    {
     "data": {
      "text/plain": [
       "[0.6588235294117647,\n",
       " 0.6239316239316239,\n",
       " 0.625,\n",
       " 0.618421052631579,\n",
       " 0.6073619631901841,\n",
       " 0.6123595505617978,\n",
       " 0.6096256684491979,\n",
       " 0.6062176165803109,\n",
       " 0.6019417475728155,\n",
       " 0.591304347826087,\n",
       " 0.5887096774193549,\n",
       " 0.5889328063241107,\n",
       " 0.5923076923076923,\n",
       " 0.6,\n",
       " 0.5949820788530465,\n",
       " 0.5929824561403508,\n",
       " 0.5932203389830508,\n",
       " 0.5907590759075908,\n",
       " 0.6006191950464397,\n",
       " 0.600609756097561]"
      ]
     },
     "execution_count": 19,
     "metadata": {},
     "output_type": "execute_result"
    }
   ],
   "source": [
    "[metrics.precision_score(df['target'], df['p_churn']>(99-x)/100) for x in range(20)]"
   ]
  },
  {
   "cell_type": "code",
   "execution_count": 20,
   "metadata": {
    "ExecuteTime": {
     "end_time": "2021-11-01T12:59:42.871795Z",
     "start_time": "2021-11-01T12:59:42.779944Z"
    }
   },
   "outputs": [],
   "source": [
    "#metrics.precision_score?"
   ]
  },
  {
   "cell_type": "markdown",
   "metadata": {},
   "source": [
    "### Recall"
   ]
  },
  {
   "cell_type": "code",
   "execution_count": 21,
   "metadata": {
    "ExecuteTime": {
     "end_time": "2021-11-01T12:59:42.964803Z",
     "start_time": "2021-11-01T12:59:42.873555Z"
    }
   },
   "outputs": [
    {
     "data": {
      "text/plain": [
       "0.20254565578306585"
      ]
     },
     "execution_count": 21,
     "metadata": {},
     "output_type": "execute_result"
    }
   ],
   "source": [
    "metrics.recall_score(df['target'], df['p_churn']>0.5)"
   ]
  },
  {
   "cell_type": "code",
   "execution_count": 22,
   "metadata": {
    "ExecuteTime": {
     "end_time": "2021-11-01T12:59:43.121803Z",
     "start_time": "2021-11-01T12:59:42.967556Z"
    }
   },
   "outputs": [
    {
     "data": {
      "text/plain": [
       "[0.03099059214167128,\n",
       " 0.040398450470392915,\n",
       " 0.04703929164360819,\n",
       " 0.05201992252351965,\n",
       " 0.05478693967902601,\n",
       " 0.06032097399003874,\n",
       " 0.0630879911455451,\n",
       " 0.06474820143884892,\n",
       " 0.06862202545655784,\n",
       " 0.0752628666297731,\n",
       " 0.08079690094078583,\n",
       " 0.08245711123408965,\n",
       " 0.08522412838959602,\n",
       " 0.0896513558384062,\n",
       " 0.09186496956281129,\n",
       " 0.09352517985611511,\n",
       " 0.09684560044272275,\n",
       " 0.09905921416712783,\n",
       " 0.10736026563364692,\n",
       " 0.10902047592695074]"
      ]
     },
     "execution_count": 22,
     "metadata": {},
     "output_type": "execute_result"
    }
   ],
   "source": [
    "[metrics.recall_score(df['target'], df['p_churn']>(99-x)/100) for x in range(20)]"
   ]
  },
  {
   "cell_type": "code",
   "execution_count": 23,
   "metadata": {
    "ExecuteTime": {
     "end_time": "2021-11-01T12:59:43.216577Z",
     "start_time": "2021-11-01T12:59:43.123557Z"
    }
   },
   "outputs": [],
   "source": [
    "#metrics.recall_score?"
   ]
  },
  {
   "cell_type": "markdown",
   "metadata": {},
   "source": [
    "### F1 score"
   ]
  },
  {
   "cell_type": "code",
   "execution_count": 24,
   "metadata": {
    "ExecuteTime": {
     "end_time": "2021-11-01T12:59:43.312803Z",
     "start_time": "2021-11-01T12:59:43.218561Z"
    }
   },
   "outputs": [
    {
     "data": {
      "text/plain": [
       "0.2945674044265594"
      ]
     },
     "execution_count": 24,
     "metadata": {},
     "output_type": "execute_result"
    }
   ],
   "source": [
    "metrics.f1_score(df['target'], df['p_churn']>0.5)"
   ]
  },
  {
   "cell_type": "code",
   "execution_count": 25,
   "metadata": {
    "ExecuteTime": {
     "end_time": "2021-11-01T12:59:43.470804Z",
     "start_time": "2021-11-01T12:59:43.314559Z"
    }
   },
   "outputs": [
    {
     "data": {
      "text/plain": [
       "[0.39749230092388915,\n",
       " 0.4314193625402889,\n",
       " 0.46057347670250887,\n",
       " 0.48072805139186287,\n",
       " 0.5000696864111499,\n",
       " 0.5107173478136611,\n",
       " 0.5233480176211454,\n",
       " 0.5313155528918191,\n",
       " 0.5383325712543819,\n",
       " 0.545144804088586,\n",
       " 0.5509659180147636,\n",
       " 0.5550786838340487,\n",
       " 0.5590082112381259,\n",
       " 0.5628859278518037,\n",
       " 0.5664094565752751,\n",
       " 0.5691137566137566,\n",
       " 0.5709515859766277,\n",
       " 0.5755177639333221,\n",
       " 0.5776344815883251,\n",
       " 0.5796853625170998]"
      ]
     },
     "execution_count": 25,
     "metadata": {},
     "output_type": "execute_result"
    }
   ],
   "source": [
    "[metrics.f1_score(df['target'], df['p_churn']>(x+1)/1000) for x in range(20)]"
   ]
  },
  {
   "cell_type": "code",
   "execution_count": 26,
   "metadata": {
    "ExecuteTime": {
     "end_time": "2021-11-01T12:59:43.563877Z",
     "start_time": "2021-11-01T12:59:43.472580Z"
    }
   },
   "outputs": [],
   "source": [
    "#metrics.f1_score?"
   ]
  },
  {
   "cell_type": "markdown",
   "metadata": {},
   "source": [
    "### Confusion matrix"
   ]
  },
  {
   "cell_type": "code",
   "execution_count": 27,
   "metadata": {
    "ExecuteTime": {
     "end_time": "2021-11-01T12:59:43.675682Z",
     "start_time": "2021-11-01T12:59:43.565641Z"
    }
   },
   "outputs": [
    {
     "data": {
      "text/plain": [
       "array([[5827,  312],\n",
       "       [1441,  366]], dtype=int64)"
      ]
     },
     "execution_count": 27,
     "metadata": {},
     "output_type": "execute_result"
    }
   ],
   "source": [
    "metrics.confusion_matrix(df['target'], df['p_churn']>0.5)"
   ]
  },
  {
   "cell_type": "markdown",
   "metadata": {
    "ExecuteTime": {
     "end_time": "2020-12-14T21:53:17.790901Z",
     "start_time": "2020-12-14T21:53:17.685943Z"
    }
   },
   "source": [
    "### ROC AUC "
   ]
  },
  {
   "cell_type": "code",
   "execution_count": 28,
   "metadata": {
    "ExecuteTime": {
     "end_time": "2021-11-01T12:59:43.771682Z",
     "start_time": "2021-11-01T12:59:43.677638Z"
    }
   },
   "outputs": [
    {
     "data": {
      "text/plain": [
       "0.8560895967276451"
      ]
     },
     "execution_count": 28,
     "metadata": {},
     "output_type": "execute_result"
    }
   ],
   "source": [
    "metrics.roc_auc_score(df['target'], df['p_churn'])"
   ]
  },
  {
   "cell_type": "code",
   "execution_count": 29,
   "metadata": {
    "ExecuteTime": {
     "end_time": "2021-11-01T12:59:43.867537Z",
     "start_time": "2021-11-01T12:59:43.773638Z"
    }
   },
   "outputs": [],
   "source": [
    "#metrics.roc_auc_score?"
   ]
  },
  {
   "cell_type": "markdown",
   "metadata": {},
   "source": [
    "### GINI"
   ]
  },
  {
   "cell_type": "code",
   "execution_count": 30,
   "metadata": {
    "ExecuteTime": {
     "end_time": "2021-11-01T12:59:43.963786Z",
     "start_time": "2021-11-01T12:59:43.872539Z"
    }
   },
   "outputs": [
    {
     "data": {
      "text/plain": [
       "0.7121791934552901"
      ]
     },
     "execution_count": 30,
     "metadata": {},
     "output_type": "execute_result"
    }
   ],
   "source": [
    "metrics.gini(df['target'], df['p_churn'])"
   ]
  },
  {
   "cell_type": "code",
   "execution_count": 31,
   "metadata": {
    "ExecuteTime": {
     "end_time": "2021-11-01T12:59:44.072581Z",
     "start_time": "2021-11-01T12:59:43.967538Z"
    }
   },
   "outputs": [
    {
     "data": {
      "text/plain": [
       "0.7121791934552901"
      ]
     },
     "execution_count": 31,
     "metadata": {},
     "output_type": "execute_result"
    }
   ],
   "source": [
    "metrics.gini(df['target'], df['p_churn'], average='samples')"
   ]
  },
  {
   "cell_type": "code",
   "execution_count": 32,
   "metadata": {
    "ExecuteTime": {
     "end_time": "2021-11-01T12:59:44.166542Z",
     "start_time": "2021-11-01T12:59:44.074541Z"
    }
   },
   "outputs": [],
   "source": [
    "#metrics.gini?"
   ]
  },
  {
   "cell_type": "markdown",
   "metadata": {},
   "source": [
    "### Lift"
   ]
  },
  {
   "cell_type": "code",
   "execution_count": 33,
   "metadata": {
    "ExecuteTime": {
     "end_time": "2021-11-01T12:59:44.261787Z",
     "start_time": "2021-11-01T12:59:44.168542Z"
    }
   },
   "outputs": [
    {
     "data": {
      "text/plain": [
       "2.306531204644412"
      ]
     },
     "execution_count": 33,
     "metadata": {},
     "output_type": "execute_result"
    }
   ],
   "source": [
    "metrics.lift(df['target'], df['p_churn'])"
   ]
  },
  {
   "cell_type": "code",
   "execution_count": 34,
   "metadata": {
    "ExecuteTime": {
     "end_time": "2021-11-01T12:59:44.357538Z",
     "start_time": "2021-11-01T12:59:44.263544Z"
    }
   },
   "outputs": [
    {
     "data": {
      "text/plain": [
       "2.519081294685937"
      ]
     },
     "execution_count": 34,
     "metadata": {},
     "output_type": "execute_result"
    }
   ],
   "source": [
    "metrics.liftN(df['target'], df['p_churn'], 0.05)"
   ]
  },
  {
   "cell_type": "code",
   "execution_count": 35,
   "metadata": {
    "ExecuteTime": {
     "end_time": "2021-11-01T12:59:44.485582Z",
     "start_time": "2021-11-01T12:59:44.359540Z"
    }
   },
   "outputs": [
    {
     "data": {
      "text/plain": [
       "[2.564655037052907,\n",
       " 2.418539014941893,\n",
       " 2.1267203306629034,\n",
       " 1.8638627559490868,\n",
       " 1.6290557813709337,\n",
       " 1.4191355404598403,\n",
       " 1.2480818075848659,\n",
       " 1.111484123653658,\n",
       " 1]"
      ]
     },
     "execution_count": 35,
     "metadata": {},
     "output_type": "execute_result"
    }
   ],
   "source": [
    "[metrics.liftN(df['target'], df['p_churn'],(x+1)/10) for x in range(1,10)]"
   ]
  },
  {
   "cell_type": "markdown",
   "metadata": {},
   "source": [
    "### KS score"
   ]
  },
  {
   "cell_type": "code",
   "execution_count": 36,
   "metadata": {
    "ExecuteTime": {
     "end_time": "2021-11-01T12:59:44.673713Z",
     "start_time": "2021-11-01T12:59:44.487549Z"
    }
   },
   "outputs": [
    {
     "data": {
      "text/plain": [
       "0.588206908879903"
      ]
     },
     "execution_count": 36,
     "metadata": {},
     "output_type": "execute_result"
    }
   ],
   "source": [
    "metrics.ks_score(df['target'], df['p_churn'])"
   ]
  },
  {
   "cell_type": "code",
   "execution_count": 37,
   "metadata": {
    "ExecuteTime": {
     "end_time": "2021-11-01T12:59:44.769182Z",
     "start_time": "2021-11-01T12:59:44.675465Z"
    }
   },
   "outputs": [],
   "source": [
    "#metrics.ks_score?"
   ]
  },
  {
   "cell_type": "markdown",
   "metadata": {},
   "source": [
    "## Curves and others"
   ]
  },
  {
   "cell_type": "markdown",
   "metadata": {},
   "source": [
    "### ROC curve"
   ]
  },
  {
   "cell_type": "code",
   "execution_count": 38,
   "metadata": {
    "ExecuteTime": {
     "end_time": "2021-11-01T12:59:44.863364Z",
     "start_time": "2021-11-01T12:59:44.770935Z"
    }
   },
   "outputs": [
    {
     "data": {
      "text/plain": [
       "(array([0.        , 0.        , 0.        , ..., 0.99788239, 0.99837107,\n",
       "        1.        ]),\n",
       " array([0.00000000e+00, 5.53403431e-04, 7.74764804e-03, ...,\n",
       "        1.00000000e+00, 1.00000000e+00, 1.00000000e+00]),\n",
       " array([2.0000000e+00, 1.0000000e+00, 9.9999814e-01, ..., 1.7253500e-04,\n",
       "        1.7186300e-04, 1.5661200e-04]))"
      ]
     },
     "execution_count": 38,
     "metadata": {},
     "output_type": "execute_result"
    }
   ],
   "source": [
    "metrics.roc_curve(df['target'], df['p_churn'])"
   ]
  },
  {
   "cell_type": "code",
   "execution_count": 39,
   "metadata": {
    "ExecuteTime": {
     "end_time": "2021-11-01T12:59:45.561901Z",
     "start_time": "2021-11-01T12:59:44.865370Z"
    }
   },
   "outputs": [
    {
     "data": {
      "image/png": "[encoded data removed]",
      "text/plain": [
       "<Figure size 432x288 with 1 Axes>"
      ]
     },
     "metadata": {
      "needs_background": "light"
     },
     "output_type": "display_data"
    }
   ],
   "source": [
    "from matplotlib import pyplot as plt\n",
    "_fpr, _tpr, _ = metrics.roc_curve(df['target'], df['p_churn'])\n",
    "\n",
    "# plot the roc curve for the model\n",
    "plt.plot(_fpr, _tpr, linestyle='-', color='red', label='Model 1')\n",
    "\n",
    "# axis labels\n",
    "plt.title('ROC curve')\n",
    "plt.xlim(-0.01,1.01)\n",
    "plt.ylim(-0.01,1.03)\n",
    "plt.xlabel('False Positive Rate')\n",
    "plt.ylabel('True Positive Rate')\n",
    "# show the legend\n",
    "plt.legend()\n",
    "# show the plot\n",
    "plt.show()"
   ]
  },
  {
   "cell_type": "code",
   "execution_count": 40,
   "metadata": {
    "ExecuteTime": {
     "end_time": "2021-11-01T12:59:45.655147Z",
     "start_time": "2021-11-01T12:59:45.563899Z"
    }
   },
   "outputs": [],
   "source": [
    "#metrics.roc_curve?"
   ]
  },
  {
   "cell_type": "markdown",
   "metadata": {},
   "source": [
    "### Lift curve"
   ]
  },
  {
   "cell_type": "code",
   "execution_count": 41,
   "metadata": {
    "ExecuteTime": {
     "end_time": "2021-11-01T12:59:45.781153Z",
     "start_time": "2021-11-01T12:59:45.656899Z"
    }
   },
   "outputs": [
    {
     "data": {
      "text/plain": [
       "[2.306531204644412,\n",
       " 2.564655037052907,\n",
       " 2.418539014941893,\n",
       " 2.1267203306629034,\n",
       " 1.8638627559490868,\n",
       " 1.6290557813709337,\n",
       " 1.4191355404598403,\n",
       " 1.2480818075848659,\n",
       " 1.111484123653658,\n",
       " 1]"
      ]
     },
     "execution_count": 41,
     "metadata": {},
     "output_type": "execute_result"
    }
   ],
   "source": [
    "[metrics.liftN(df['target'], df['p_churn'], x/10) for x in range (1,11)]"
   ]
  },
  {
   "cell_type": "code",
   "execution_count": 42,
   "metadata": {
    "ExecuteTime": {
     "end_time": "2021-11-01T12:59:46.081149Z",
     "start_time": "2021-11-01T12:59:45.783899Z"
    }
   },
   "outputs": [
    {
     "data": {
      "image/png": "[encoded data removed]",
      "text/plain": [
       "<Figure size 432x288 with 1 Axes>"
      ]
     },
     "metadata": {
      "needs_background": "light"
     },
     "output_type": "display_data"
    }
   ],
   "source": [
    "from matplotlib import pyplot as plt\n",
    "x= [(x/10) for x in range (1,11)]\n",
    "lift_curve = [metrics.liftN(df['target'], df['p_churn'], x/10) for x in range (1,11)]\n",
    "plt.plot(x, lift_curve, linestyle='-', color='red', label='Model 1')\n",
    "# axis labels\n",
    "plt.title('Lift curve')\n",
    "#plt.xlim(-0.01,1.01)\n",
    "#plt.ylim(-0.01,1.03)\n",
    "#plt.xlabel('False Positive Rate')\n",
    "#plt.ylabel('True Positive Rate')\n",
    "# show the legend\n",
    "plt.legend()\n",
    "# show the plot\n",
    "plt.show()"
   ]
  },
  {
   "cell_type": "markdown",
   "metadata": {},
   "source": [
    "### Precision-Recall curve"
   ]
  },
  {
   "cell_type": "code",
   "execution_count": 43,
   "metadata": {
    "ExecuteTime": {
     "end_time": "2021-11-01T12:59:46.190747Z",
     "start_time": "2021-11-01T12:59:46.083901Z"
    }
   },
   "outputs": [
    {
     "data": {
      "text/plain": [
       "(array([0.27778632, 0.27767528, 0.27771798, ..., 1.        , 1.        ,\n",
       "        1.        ]),\n",
       " array([1.00000000e+00, 9.99446597e-01, 9.99446597e-01, ...,\n",
       "        1.10680686e-03, 5.53403431e-04, 0.00000000e+00]),\n",
       " array([0.00209515, 0.00209674, 0.00209705, ..., 1.        , 1.        ,\n",
       "        1.        ]))"
      ]
     },
     "execution_count": 43,
     "metadata": {},
     "output_type": "execute_result"
    }
   ],
   "source": [
    "metrics.precision_recall_curve(df['target'], df['p_churn'])"
   ]
  },
  {
   "cell_type": "code",
   "execution_count": 44,
   "metadata": {
    "ExecuteTime": {
     "end_time": "2021-11-01T12:59:46.584764Z",
     "start_time": "2021-11-01T12:59:46.193719Z"
    }
   },
   "outputs": [
    {
     "data": {
      "image/png": "[encoded data removed]",
      "text/plain": [
       "<Figure size 432x288 with 1 Axes>"
      ]
     },
     "metadata": {
      "needs_background": "light"
     },
     "output_type": "display_data"
    }
   ],
   "source": [
    "from matplotlib import pyplot as plt\n",
    "\n",
    "\n",
    "f_scores = np.linspace(0.2, 0.8, num=4)\n",
    "lines = []\n",
    "labels = []\n",
    "for f_score in f_scores:\n",
    "    x = np.linspace(0.01, 1)\n",
    "    y = f_score * x / (2 * x - f_score)\n",
    "    l, = plt.plot(x[y >= 0], y[y >= 0], color='gray', alpha=0.2)\n",
    "    plt.annotate('f1={0:0.1f}'.format(f_score), xy=(0.9, y[45] + 0.02))\n",
    "lines.append(l)\n",
    "labels.append('iso-f1 curves')\n",
    "\n",
    "lr_precision, lr_recall, _ = metrics.precision_recall_curve(df['target'], df['p_churn'])\n",
    "# plot the precision-recall curves\n",
    "no_skill = len(df['target'][df['target']==1]) / len(df['target'])\n",
    "plt.plot([0, 1], [no_skill, no_skill], linestyle='--')\n",
    "l,=plt.plot(lr_recall, lr_precision,linestyle='-', color='red', label='Model 1')\n",
    "lines.append(l)\n",
    "labels.append('Model 1')\n",
    "# axis labels\n",
    "plt.title('Precision-Recall curve with iso-f1 curves')\n",
    "plt.xlabel('Recall')\n",
    "plt.ylabel('Precision')\n",
    "plt.xlim([0.0, 1.0])\n",
    "plt.ylim([0.0, 1.05])\n",
    "# show the legend\n",
    "plt.legend(lines,labels)\n",
    "# show the plot\n",
    "plt.show()\n"
   ]
  },
  {
   "cell_type": "markdown",
   "metadata": {},
   "source": [
    "# Basic Evaluators"
   ]
  },
  {
   "cell_type": "markdown",
   "metadata": {
    "ExecuteTime": {
     "end_time": "2020-12-17T19:31:46.233868Z",
     "start_time": "2020-12-17T19:31:45.976866Z"
    }
   },
   "source": [
    "## Lift Curve Evaluator"
   ]
  },
  {
   "cell_type": "code",
   "execution_count": 45,
   "metadata": {
    "ExecuteTime": {
     "end_time": "2021-11-01T12:59:46.695764Z",
     "start_time": "2021-11-01T12:59:46.586721Z"
    }
   },
   "outputs": [],
   "source": [
    "from mofr.basic_evaluators.LiftCurve import LiftCurveEvaluator\n",
    "\n",
    "lce=LiftCurveEvaluator()"
   ]
  },
  {
   "cell_type": "code",
   "execution_count": 46,
   "metadata": {
    "ExecuteTime": {
     "end_time": "2021-11-01T12:59:46.789769Z",
     "start_time": "2021-11-01T12:59:46.698721Z"
    }
   },
   "outputs": [
    {
     "data": {
      "text/plain": []
     },
     "execution_count": 46,
     "metadata": {},
     "output_type": "execute_result"
    }
   ],
   "source": [
    "lce.d(df).t([('target','target_obs')]).s(['p_churn', 'semi_random_score','random_score'])"
   ]
  },
  {
   "cell_type": "code",
   "execution_count": 47,
   "metadata": {
    "ExecuteTime": {
     "end_time": "2021-11-01T12:59:47.280724Z",
     "start_time": "2021-11-01T12:59:46.791720Z"
    }
   },
   "outputs": [
    {
     "data": {
      "image/png": "[encoded data removed]",
      "text/plain": [
       "<Figure size 504x576 with 1 Axes>"
      ]
     },
     "metadata": {
      "needs_background": "light"
     },
     "output_type": "display_data"
    },
    {
     "data": {
      "text/plain": []
     },
     "execution_count": 47,
     "metadata": {},
     "output_type": "execute_result"
    }
   ],
   "source": [
    "lce.get_graph()"
   ]
  },
  {
   "cell_type": "markdown",
   "metadata": {
    "ExecuteTime": {
     "end_time": "2020-12-17T19:32:52.905283Z",
     "start_time": "2020-12-17T19:32:52.814277Z"
    }
   },
   "source": [
    "## ROC Curve Evaluator"
   ]
  },
  {
   "cell_type": "code",
   "execution_count": 48,
   "metadata": {
    "ExecuteTime": {
     "end_time": "2021-11-01T12:59:47.406722Z",
     "start_time": "2021-11-01T12:59:47.284728Z"
    }
   },
   "outputs": [],
   "source": [
    "from mofr.basic_evaluators.ROCCurve import ROCCurveEvaluator\n",
    "\n",
    "rce=ROCCurveEvaluator()"
   ]
  },
  {
   "cell_type": "code",
   "execution_count": 49,
   "metadata": {
    "ExecuteTime": {
     "end_time": "2021-11-01T12:59:47.516751Z",
     "start_time": "2021-11-01T12:59:47.409727Z"
    }
   },
   "outputs": [
    {
     "data": {
      "text/plain": []
     },
     "execution_count": 49,
     "metadata": {},
     "output_type": "execute_result"
    }
   ],
   "source": [
    "rce.d(df).t([('target','target_obs')]).s(['p_churn', 'semi_random_score','random_score'])"
   ]
  },
  {
   "cell_type": "code",
   "execution_count": 50,
   "metadata": {
    "ExecuteTime": {
     "end_time": "2021-11-01T12:59:47.927973Z",
     "start_time": "2021-11-01T12:59:47.518722Z"
    }
   },
   "outputs": [
    {
     "data": {
      "image/png": "[encoded data removed]",
      "text/plain": [
       "<Figure size 504x576 with 1 Axes>"
      ]
     },
     "metadata": {
      "needs_background": "light"
     },
     "output_type": "display_data"
    },
    {
     "data": {
      "text/plain": []
     },
     "execution_count": 50,
     "metadata": {},
     "output_type": "execute_result"
    }
   ],
   "source": [
    "rce.get_graph()"
   ]
  },
  {
   "cell_type": "markdown",
   "metadata": {},
   "source": [
    "## PR Curve Evaluator"
   ]
  },
  {
   "cell_type": "code",
   "execution_count": 51,
   "metadata": {
    "ExecuteTime": {
     "end_time": "2021-11-01T12:59:48.037925Z",
     "start_time": "2021-11-01T12:59:47.929739Z"
    }
   },
   "outputs": [],
   "source": [
    "from mofr.basic_evaluators.PRCurve import PRCurveEvaluator\n",
    "\n",
    "prce=PRCurveEvaluator()"
   ]
  },
  {
   "cell_type": "code",
   "execution_count": 52,
   "metadata": {
    "ExecuteTime": {
     "end_time": "2021-11-01T12:59:48.149724Z",
     "start_time": "2021-11-01T12:59:48.039726Z"
    }
   },
   "outputs": [
    {
     "data": {
      "text/plain": []
     },
     "execution_count": 52,
     "metadata": {},
     "output_type": "execute_result"
    }
   ],
   "source": [
    "prce.d(df).t([('target','target_obs')]).s(['p_churn', 'semi_random_score','random_score'])"
   ]
  },
  {
   "cell_type": "code",
   "execution_count": 53,
   "metadata": {
    "ExecuteTime": {
     "end_time": "2021-11-01T12:59:48.513730Z",
     "start_time": "2021-11-01T12:59:48.151728Z"
    }
   },
   "outputs": [
    {
     "data": {
      "image/png": "[encoded data removed]",
      "text/plain": [
       "<Figure size 504x576 with 1 Axes>"
      ]
     },
     "metadata": {
      "needs_background": "light"
     },
     "output_type": "display_data"
    },
    {
     "data": {
      "text/plain": []
     },
     "execution_count": 53,
     "metadata": {},
     "output_type": "execute_result"
    }
   ],
   "source": [
    "prce.get_graph()"
   ]
  },
  {
   "cell_type": "code",
   "execution_count": 54,
   "metadata": {
    "ExecuteTime": {
     "end_time": "2021-11-01T12:59:49.036729Z",
     "start_time": "2021-11-01T12:59:48.515728Z"
    }
   },
   "outputs": [
    {
     "data": {
      "image/png": "[encoded data removed]",
      "text/plain": [
       "<Figure size 504x576 with 1 Axes>"
      ]
     },
     "metadata": {
      "needs_background": "light"
     },
     "output_type": "display_data"
    },
    {
     "data": {
      "text/plain": []
     },
     "execution_count": 54,
     "metadata": {},
     "output_type": "execute_result"
    }
   ],
   "source": [
    "prce.get_graph(isocurves='on')"
   ]
  },
  {
   "cell_type": "markdown",
   "metadata": {
    "ExecuteTime": {
     "end_time": "2021-02-05T10:03:05.945149Z",
     "start_time": "2021-02-05T10:03:05.854099Z"
    }
   },
   "source": [
    "## Gini in Time Evaluator"
   ]
  },
  {
   "cell_type": "code",
   "execution_count": 158,
   "metadata": {
    "ExecuteTime": {
     "end_time": "2021-11-01T16:18:27.006593Z",
     "start_time": "2021-11-01T16:18:26.787577Z"
    }
   },
   "outputs": [],
   "source": [
    "from mofr.basic_evaluators.GiniInTime import GiniInTimeEvaluator\n",
    "\n",
    "gite=GiniInTimeEvaluator()"
   ]
  },
  {
   "cell_type": "code",
   "execution_count": 159,
   "metadata": {
    "ExecuteTime": {
     "end_time": "2021-11-01T16:18:27.475643Z",
     "start_time": "2021-11-01T16:18:27.363620Z"
    }
   },
   "outputs": [
    {
     "data": {
      "text/plain": []
     },
     "execution_count": 159,
     "metadata": {},
     "output_type": "execute_result"
    }
   ],
   "source": [
    "gite.d(df).t([('target','target_obs')]).s(['p_churn', 'semi_random_score','random_score']).tc('month')"
   ]
  },
  {
   "cell_type": "code",
   "execution_count": 160,
   "metadata": {
    "ExecuteTime": {
     "end_time": "2021-11-01T16:18:28.135700Z",
     "start_time": "2021-11-01T16:18:27.775169Z"
    }
   },
   "outputs": [
    {
     "data": {
      "image/png": "[encoded data removed]",
      "text/plain": [
       "<Figure size 504x576 with 1 Axes>"
      ]
     },
     "metadata": {
      "needs_background": "light"
     },
     "output_type": "display_data"
    },
    {
     "data": {
      "text/plain": []
     },
     "execution_count": 160,
     "metadata": {},
     "output_type": "execute_result"
    }
   ],
   "source": [
    "gite.get_graph()"
   ]
  },
  {
   "cell_type": "code",
   "execution_count": 161,
   "metadata": {
    "ExecuteTime": {
     "end_time": "2021-11-01T16:18:28.857678Z",
     "start_time": "2021-11-01T16:18:28.599670Z"
    }
   },
   "outputs": [
    {
     "data": {
      "text/html": [
       "<style  type=\"text/css\" >\n",
       "</style><table id=\"T_593e1b00_3b2f_11ec_97a4_5c879c826b52\" style='display:inline'><caption>GINI on target \"target\"</caption><thead>    <tr>        <th class=\"blank level0\" ></th>        <th class=\"col_heading level0 col0\" >target_score__x</th>        <th class=\"col_heading level0 col1\" >target_score__y</th>        <th class=\"col_heading level0 col2\" >target_score_</th>    </tr>    <tr>        <th class=\"index_name level0\" >month</th>        <th class=\"blank\" ></th>        <th class=\"blank\" ></th>        <th class=\"blank\" ></th>    </tr></thead><tbody>\n",
       "                <tr>\n",
       "                        <th id=\"T_593e1b00_3b2f_11ec_97a4_5c879c826b52level0_row0\" class=\"row_heading level0 row0\" >202001</th>\n",
       "                        <td id=\"T_593e1b00_3b2f_11ec_97a4_5c879c826b52row0_col0\" class=\"data row0 col0\" >0.712356</td>\n",
       "                        <td id=\"T_593e1b00_3b2f_11ec_97a4_5c879c826b52row0_col1\" class=\"data row0 col1\" >0.317010</td>\n",
       "                        <td id=\"T_593e1b00_3b2f_11ec_97a4_5c879c826b52row0_col2\" class=\"data row0 col2\" >-0.006196</td>\n",
       "            </tr>\n",
       "            <tr>\n",
       "                        <th id=\"T_593e1b00_3b2f_11ec_97a4_5c879c826b52level0_row1\" class=\"row_heading level0 row1\" >202002</th>\n",
       "                        <td id=\"T_593e1b00_3b2f_11ec_97a4_5c879c826b52row1_col0\" class=\"data row1 col0\" >0.719933</td>\n",
       "                        <td id=\"T_593e1b00_3b2f_11ec_97a4_5c879c826b52row1_col1\" class=\"data row1 col1\" >0.297266</td>\n",
       "                        <td id=\"T_593e1b00_3b2f_11ec_97a4_5c879c826b52row1_col2\" class=\"data row1 col2\" >-0.027883</td>\n",
       "            </tr>\n",
       "            <tr>\n",
       "                        <th id=\"T_593e1b00_3b2f_11ec_97a4_5c879c826b52level0_row2\" class=\"row_heading level0 row2\" >202003</th>\n",
       "                        <td id=\"T_593e1b00_3b2f_11ec_97a4_5c879c826b52row2_col0\" class=\"data row2 col0\" >0.704598</td>\n",
       "                        <td id=\"T_593e1b00_3b2f_11ec_97a4_5c879c826b52row2_col1\" class=\"data row2 col1\" >0.244581</td>\n",
       "                        <td id=\"T_593e1b00_3b2f_11ec_97a4_5c879c826b52row2_col2\" class=\"data row2 col2\" >0.014937</td>\n",
       "            </tr>\n",
       "            <tr>\n",
       "                        <th id=\"T_593e1b00_3b2f_11ec_97a4_5c879c826b52level0_row3\" class=\"row_heading level0 row3\" >All</th>\n",
       "                        <td id=\"T_593e1b00_3b2f_11ec_97a4_5c879c826b52row3_col0\" class=\"data row3 col0\" >0.712179</td>\n",
       "                        <td id=\"T_593e1b00_3b2f_11ec_97a4_5c879c826b52row3_col1\" class=\"data row3 col1\" >0.285842</td>\n",
       "                        <td id=\"T_593e1b00_3b2f_11ec_97a4_5c879c826b52row3_col2\" class=\"data row3 col2\" >-0.005642</td>\n",
       "            </tr>\n",
       "    </tbody></table>"
      ],
      "text/plain": [
       "<pandas.io.formats.style.Styler at 0x1d87bf10>"
      ]
     },
     "execution_count": 161,
     "metadata": {},
     "output_type": "execute_result"
    }
   ],
   "source": [
    "gite.get_table()\n",
    "gite.table"
   ]
  },
  {
   "cell_type": "markdown",
   "metadata": {
    "ExecuteTime": {
     "end_time": "2021-02-05T10:03:05.945149Z",
     "start_time": "2021-02-05T10:03:05.854099Z"
    }
   },
   "source": [
    "## Lift in Time Evaluator"
   ]
  },
  {
   "cell_type": "code",
   "execution_count": 59,
   "metadata": {
    "ExecuteTime": {
     "end_time": "2021-11-01T12:59:49.810978Z",
     "start_time": "2021-11-01T12:59:49.717730Z"
    }
   },
   "outputs": [],
   "source": [
    "from mofr.basic_evaluators.LiftInTime import LiftInTimeEvaluator\n",
    "\n",
    "lite=LiftInTimeEvaluator()"
   ]
  },
  {
   "cell_type": "code",
   "execution_count": 60,
   "metadata": {
    "ExecuteTime": {
     "end_time": "2021-11-01T12:59:49.905775Z",
     "start_time": "2021-11-01T12:59:49.812730Z"
    }
   },
   "outputs": [
    {
     "data": {
      "text/plain": []
     },
     "execution_count": 60,
     "metadata": {},
     "output_type": "execute_result"
    }
   ],
   "source": [
    "lite.d(df).t([('target','target_obs')]).s(['p_churn', 'semi_random_score','random_score']).tc('month')"
   ]
  },
  {
   "cell_type": "code",
   "execution_count": 61,
   "metadata": {
    "ExecuteTime": {
     "end_time": "2021-11-01T12:59:50.270732Z",
     "start_time": "2021-11-01T12:59:49.907732Z"
    }
   },
   "outputs": [
    {
     "data": {
      "image/png": "[encoded data removed]",
      "text/plain": [
       "<Figure size 504x576 with 1 Axes>"
      ]
     },
     "metadata": {
      "needs_background": "light"
     },
     "output_type": "display_data"
    },
    {
     "data": {
      "text/plain": []
     },
     "execution_count": 61,
     "metadata": {},
     "output_type": "execute_result"
    }
   ],
   "source": [
    "lite.get_graph()"
   ]
  },
  {
   "cell_type": "code",
   "execution_count": 62,
   "metadata": {
    "ExecuteTime": {
     "end_time": "2021-11-01T12:59:50.365733Z",
     "start_time": "2021-11-01T12:59:50.273735Z"
    }
   },
   "outputs": [],
   "source": [
    "lite.get_table()"
   ]
  },
  {
   "cell_type": "markdown",
   "metadata": {
    "ExecuteTime": {
     "end_time": "2021-02-05T10:03:05.945149Z",
     "start_time": "2021-02-05T10:03:05.854099Z"
    }
   },
   "source": [
    "## KS in Time Evaluator"
   ]
  },
  {
   "cell_type": "code",
   "execution_count": 63,
   "metadata": {
    "ExecuteTime": {
     "end_time": "2021-11-01T12:59:50.505732Z",
     "start_time": "2021-11-01T12:59:50.368732Z"
    }
   },
   "outputs": [],
   "source": [
    "from mofr.basic_evaluators.KSInTime import KSInTimeEvaluator\n",
    "\n",
    "kite=KSInTimeEvaluator()"
   ]
  },
  {
   "cell_type": "code",
   "execution_count": 64,
   "metadata": {
    "ExecuteTime": {
     "end_time": "2021-11-01T12:59:50.632733Z",
     "start_time": "2021-11-01T12:59:50.507733Z"
    }
   },
   "outputs": [
    {
     "data": {
      "text/plain": []
     },
     "execution_count": 64,
     "metadata": {},
     "output_type": "execute_result"
    }
   ],
   "source": [
    "kite.d(df).t([('target','target_obs')]).s(['p_churn', 'semi_random_score','random_score']).tc('month')"
   ]
  },
  {
   "cell_type": "code",
   "execution_count": 65,
   "metadata": {
    "ExecuteTime": {
     "end_time": "2021-11-01T12:59:51.327737Z",
     "start_time": "2021-11-01T12:59:50.636733Z"
    }
   },
   "outputs": [
    {
     "data": {
      "image/png": "[encoded data removed]",
      "text/plain": [
       "<Figure size 504x576 with 1 Axes>"
      ]
     },
     "metadata": {
      "needs_background": "light"
     },
     "output_type": "display_data"
    },
    {
     "data": {
      "text/plain": []
     },
     "execution_count": 65,
     "metadata": {},
     "output_type": "execute_result"
    }
   ],
   "source": [
    "kite.get_graph()"
   ]
  },
  {
   "cell_type": "code",
   "execution_count": 66,
   "metadata": {
    "ExecuteTime": {
     "end_time": "2021-11-01T12:59:51.454760Z",
     "start_time": "2021-11-01T12:59:51.331740Z"
    }
   },
   "outputs": [],
   "source": [
    "kite.get_table()"
   ]
  },
  {
   "cell_type": "markdown",
   "metadata": {},
   "source": [
    "# Misc"
   ]
  },
  {
   "cell_type": "code",
   "execution_count": 76,
   "metadata": {
    "ExecuteTime": {
     "end_time": "2021-11-01T14:46:28.460290Z",
     "start_time": "2021-11-01T14:46:28.340318Z"
    }
   },
   "outputs": [
    {
     "data": {
      "text/html": [
       "<div>\n",
       "<style scoped>\n",
       "    .dataframe tbody tr th:only-of-type {\n",
       "        vertical-align: middle;\n",
       "    }\n",
       "\n",
       "    .dataframe tbody tr th {\n",
       "        vertical-align: top;\n",
       "    }\n",
       "\n",
       "    .dataframe thead th {\n",
       "        text-align: right;\n",
       "    }\n",
       "</style>\n",
       "<table border=\"1\" class=\"dataframe\">\n",
       "  <thead>\n",
       "    <tr style=\"text-align: right;\">\n",
       "      <th></th>\n",
       "      <th>month</th>\n",
       "      <th>GINI</th>\n",
       "    </tr>\n",
       "  </thead>\n",
       "  <tbody>\n",
       "    <tr>\n",
       "      <th>0</th>\n",
       "      <td>202001</td>\n",
       "      <td>0.712356</td>\n",
       "    </tr>\n",
       "    <tr>\n",
       "      <th>1</th>\n",
       "      <td>202002</td>\n",
       "      <td>0.719933</td>\n",
       "    </tr>\n",
       "    <tr>\n",
       "      <th>2</th>\n",
       "      <td>202003</td>\n",
       "      <td>0.704598</td>\n",
       "    </tr>\n",
       "  </tbody>\n",
       "</table>\n",
       "</div>"
      ],
      "text/plain": [
       "    month      GINI\n",
       "0  202001  0.712356\n",
       "1  202002  0.719933\n",
       "2  202003  0.704598"
      ]
     },
     "execution_count": 76,
     "metadata": {},
     "output_type": "execute_result"
    }
   ],
   "source": [
    "a=df.groupby('month').apply(lambda x: metrics.gini(x['target'], x['p_churn']) ).to_frame('GINI')\n",
    "a.reset_index(level=0, inplace=True)\n",
    "a"
   ]
  },
  {
   "cell_type": "code",
   "execution_count": 68,
   "metadata": {
    "ExecuteTime": {
     "end_time": "2021-11-01T12:59:51.690992Z",
     "start_time": "2021-11-01T12:59:51.582737Z"
    }
   },
   "outputs": [
    {
     "data": {
      "text/plain": [
       "202003"
      ]
     },
     "execution_count": 68,
     "metadata": {},
     "output_type": "execute_result"
    }
   ],
   "source": [
    "df['month'][0]"
   ]
  },
  {
   "cell_type": "code",
   "execution_count": 98,
   "metadata": {
    "ExecuteTime": {
     "end_time": "2021-11-01T15:00:24.584858Z",
     "start_time": "2021-11-01T15:00:24.496855Z"
    }
   },
   "outputs": [],
   "source": [
    "a=zip(df['target'], df['p_churn'])"
   ]
  },
  {
   "cell_type": "code",
   "execution_count": 99,
   "metadata": {
    "ExecuteTime": {
     "end_time": "2021-11-01T15:00:25.030692Z",
     "start_time": "2021-11-01T15:00:24.922716Z"
    }
   },
   "outputs": [
    {
     "data": {
      "text/plain": [
       "7946"
      ]
     },
     "execution_count": 99,
     "metadata": {},
     "output_type": "execute_result"
    }
   ],
   "source": [
    "len(list(zip(*a))[1])"
   ]
  },
  {
   "cell_type": "code",
   "execution_count": 102,
   "metadata": {
    "ExecuteTime": {
     "end_time": "2021-11-01T15:17:50.138099Z",
     "start_time": "2021-11-01T15:17:50.042950Z"
    }
   },
   "outputs": [],
   "source": [
    "def gini_zipped(x):\n",
    "    list_=list(zip(*x))\n",
    "    target_=list_[0]\n",
    "    score_=list_[1]\n",
    "            \n",
    "    return metrics.gini(target_, score_)"
   ]
  },
  {
   "cell_type": "code",
   "execution_count": 129,
   "metadata": {
    "ExecuteTime": {
     "end_time": "2021-11-01T15:39:35.241034Z",
     "start_time": "2021-11-01T15:39:35.136036Z"
    }
   },
   "outputs": [
    {
     "data": {
      "text/plain": [
       "0.7199333955431517"
      ]
     },
     "execution_count": 129,
     "metadata": {},
     "output_type": "execute_result"
    }
   ],
   "source": [
    " metrics.gini(df[df['month']==202002]['target'], df[df['month']==202002]['p_churn'])"
   ]
  },
  {
   "cell_type": "code",
   "execution_count": 130,
   "metadata": {
    "ExecuteTime": {
     "end_time": "2021-11-01T15:39:35.773695Z",
     "start_time": "2021-11-01T15:39:35.652325Z"
    }
   },
   "outputs": [],
   "source": [
    "df['target_score_']=list(zip(df['target'], df['p_churn']))\n",
    "\n",
    "a=tables"
   ]
  },
  {
   "cell_type": "code",
   "execution_count": 132,
   "metadata": {
    "ExecuteTime": {
     "end_time": "2021-11-01T15:39:45.189497Z",
     "start_time": "2021-11-01T15:39:45.044022Z"
    }
   },
   "outputs": [],
   "source": [
    "df['target_score2_']=list(zip(df['target'], df['semi_random_score']))\n",
    "\n",
    "b=pd.pivot_table(df, values=['target_score2_'], index='month', columns=None, aggfunc=gini_zipped, fill_value=None, margins=True, dropna=True, margins_name='All')"
   ]
  },
  {
   "cell_type": "code",
   "execution_count": 140,
   "metadata": {
    "ExecuteTime": {
     "end_time": "2021-11-01T15:51:09.776754Z",
     "start_time": "2021-11-01T15:51:09.677772Z"
    }
   },
   "outputs": [
    {
     "data": {
      "text/html": [
       "<style  type=\"text/css\" >\n",
       "</style><table id=\"T_8847e3b0_3b2b_11ec_b082_5c879c826b52\" style='display:inline'><caption>GINI on target   </caption><thead>    <tr>        <th class=\"blank level0\" ></th>        <th class=\"col_heading level0 col0\" >target_score_</th>        <th class=\"col_heading level0 col1\" >target_score2_</th>    </tr>    <tr>        <th class=\"index_name level0\" >month</th>        <th class=\"blank\" ></th>        <th class=\"blank\" ></th>    </tr></thead><tbody>\n",
       "                <tr>\n",
       "                        <th id=\"T_8847e3b0_3b2b_11ec_b082_5c879c826b52level0_row0\" class=\"row_heading level0 row0\" >202001</th>\n",
       "                        <td id=\"T_8847e3b0_3b2b_11ec_b082_5c879c826b52row0_col0\" class=\"data row0 col0\" >0.712356</td>\n",
       "                        <td id=\"T_8847e3b0_3b2b_11ec_b082_5c879c826b52row0_col1\" class=\"data row0 col1\" >0.317010</td>\n",
       "            </tr>\n",
       "            <tr>\n",
       "                        <th id=\"T_8847e3b0_3b2b_11ec_b082_5c879c826b52level0_row1\" class=\"row_heading level0 row1\" >202002</th>\n",
       "                        <td id=\"T_8847e3b0_3b2b_11ec_b082_5c879c826b52row1_col0\" class=\"data row1 col0\" >0.719933</td>\n",
       "                        <td id=\"T_8847e3b0_3b2b_11ec_b082_5c879c826b52row1_col1\" class=\"data row1 col1\" >0.297266</td>\n",
       "            </tr>\n",
       "            <tr>\n",
       "                        <th id=\"T_8847e3b0_3b2b_11ec_b082_5c879c826b52level0_row2\" class=\"row_heading level0 row2\" >202003</th>\n",
       "                        <td id=\"T_8847e3b0_3b2b_11ec_b082_5c879c826b52row2_col0\" class=\"data row2 col0\" >0.704598</td>\n",
       "                        <td id=\"T_8847e3b0_3b2b_11ec_b082_5c879c826b52row2_col1\" class=\"data row2 col1\" >0.244581</td>\n",
       "            </tr>\n",
       "            <tr>\n",
       "                        <th id=\"T_8847e3b0_3b2b_11ec_b082_5c879c826b52level0_row3\" class=\"row_heading level0 row3\" >All</th>\n",
       "                        <td id=\"T_8847e3b0_3b2b_11ec_b082_5c879c826b52row3_col0\" class=\"data row3 col0\" >0.712179</td>\n",
       "                        <td id=\"T_8847e3b0_3b2b_11ec_b082_5c879c826b52row3_col1\" class=\"data row3 col1\" >0.285842</td>\n",
       "            </tr>\n",
       "    </tbody></table>"
      ],
      "text/plain": [
       "<pandas.io.formats.style.Styler at 0x1dccc150>"
      ]
     },
     "execution_count": 140,
     "metadata": {},
     "output_type": "execute_result"
    }
   ],
   "source": [
    "a.merge(b,left_index=True,right_index=True).style.set_table_attributes(\"style='display:inline'\").set_caption('GINI on target   ')\n"
   ]
  },
  {
   "cell_type": "code",
   "execution_count": 118,
   "metadata": {
    "ExecuteTime": {
     "end_time": "2021-11-01T15:35:52.156033Z",
     "start_time": "2021-11-01T15:35:51.955982Z"
    }
   },
   "outputs": [
    {
     "data": {
      "text/html": [
       "<div>\n",
       "<style scoped>\n",
       "    .dataframe tbody tr th:only-of-type {\n",
       "        vertical-align: middle;\n",
       "    }\n",
       "\n",
       "    .dataframe tbody tr th {\n",
       "        vertical-align: top;\n",
       "    }\n",
       "\n",
       "    .dataframe thead th {\n",
       "        text-align: right;\n",
       "    }\n",
       "</style>\n",
       "<table border=\"1\" class=\"dataframe\">\n",
       "  <thead>\n",
       "    <tr style=\"text-align: right;\">\n",
       "      <th></th>\n",
       "      <th>target_score2_</th>\n",
       "      <th>target_score_</th>\n",
       "    </tr>\n",
       "    <tr>\n",
       "      <th>month</th>\n",
       "      <th></th>\n",
       "      <th></th>\n",
       "    </tr>\n",
       "  </thead>\n",
       "  <tbody>\n",
       "    <tr>\n",
       "      <th>202001</th>\n",
       "      <td>0.317010</td>\n",
       "      <td>0.712356</td>\n",
       "    </tr>\n",
       "    <tr>\n",
       "      <th>202002</th>\n",
       "      <td>0.297266</td>\n",
       "      <td>0.719933</td>\n",
       "    </tr>\n",
       "    <tr>\n",
       "      <th>202003</th>\n",
       "      <td>0.244581</td>\n",
       "      <td>0.704598</td>\n",
       "    </tr>\n",
       "    <tr>\n",
       "      <th>All</th>\n",
       "      <td>0.285842</td>\n",
       "      <td>0.712179</td>\n",
       "    </tr>\n",
       "  </tbody>\n",
       "</table>\n",
       "</div>"
      ],
      "text/plain": [
       "        target_score2_  target_score_\n",
       "month                                \n",
       "202001        0.317010       0.712356\n",
       "202002        0.297266       0.719933\n",
       "202003        0.244581       0.704598\n",
       "All           0.285842       0.712179"
      ]
     },
     "execution_count": 118,
     "metadata": {},
     "output_type": "execute_result"
    }
   ],
   "source": [
    "df['target_score_']=list(zip(df['target'], df['p_churn']))\n",
    "df['target_score2_']=list(zip(df['target'], df['semi_random_score']))\n",
    "\n",
    "pd.pivot_table(df, values=['target_score_','target_score2_'], index='month', columns=None, aggfunc=gini_zipped, fill_value=None, margins=True, dropna=True, margins_name='All')"
   ]
  },
  {
   "cell_type": "code",
   "execution_count": 111,
   "metadata": {
    "ExecuteTime": {
     "end_time": "2021-11-01T15:24:04.497635Z",
     "start_time": "2021-11-01T15:24:04.401591Z"
    }
   },
   "outputs": [
    {
     "data": {
      "text/plain": [
       "0.7121791934552901"
      ]
     },
     "execution_count": 111,
     "metadata": {},
     "output_type": "execute_result"
    }
   ],
   "source": [
    "metrics.gini(df['target'], df['p_churn'])"
   ]
  },
  {
   "cell_type": "code",
   "execution_count": 71,
   "metadata": {
    "ExecuteTime": {
     "end_time": "2021-11-01T12:59:52.071906Z",
     "start_time": "2021-11-01T12:59:51.947926Z"
    },
    "scrolled": true
   },
   "outputs": [
    {
     "data": {
      "text/plain": [
       "0.7121791934552901"
      ]
     },
     "execution_count": 71,
     "metadata": {},
     "output_type": "execute_result"
    }
   ],
   "source": [
    "metrics.gini(df['target'], df['p_churn']) "
   ]
  },
  {
   "cell_type": "code",
   "execution_count": null,
   "metadata": {},
   "outputs": [],
   "source": []
  }
 ],
 "metadata": {
  "hide_input": false,
  "kernelspec": {
   "display_name": "Python 3",
   "language": "python",
   "name": "python3"
  },
  "language_info": {
   "codemirror_mode": {
    "name": "ipython",
    "version": 3
   },
   "file_extension": ".py",
   "mimetype": "text/x-python",
   "name": "python",
   "nbconvert_exporter": "python",
   "pygments_lexer": "ipython3",
   "version": "3.7.8"
  },
  "toc": {
   "base_numbering": 1,
   "nav_menu": {},
   "number_sections": true,
   "sideBar": true,
   "skip_h1_title": false,
   "title_cell": "Table of Contents",
   "title_sidebar": "Contents",
   "toc_cell": false,
   "toc_position": {
    "height": "calc(100% - 180px)",
    "left": "10px",
    "top": "150px",
    "width": "341.333px"
   },
   "toc_section_display": true,
   "toc_window_display": true
  },
  "varInspector": {
   "cols": {
    "lenName": 16,
    "lenType": 16,
    "lenVar": 40
   },
   "kernels_config": {
    "python": {
     "delete_cmd_postfix": "",
     "delete_cmd_prefix": "del ",
     "library": "var_list.py",
     "varRefreshCmd": "print(var_dic_list())"
    },
    "r": {
     "delete_cmd_postfix": ") ",
     "delete_cmd_prefix": "rm(",
     "library": "var_list.r",
     "varRefreshCmd": "cat(var_dic_list()) "
    }
   },
   "types_to_exclude": [
    "module",
    "function",
    "builtin_function_or_method",
    "instance",
    "_Feature"
   ],
   "window_display": false
  }
 },
 "nbformat": 4,
 "nbformat_minor": 4
}
