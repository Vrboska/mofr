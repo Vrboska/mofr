{
 "cells": [
  {
   "cell_type": "markdown",
   "metadata": {
    "ExecuteTime": {
     "end_time": "2020-12-14T20:53:36.838573Z",
     "start_time": "2020-12-14T20:53:36.835573Z"
    }
   },
   "source": [
    "# Testing packages"
   ]
  },
  {
   "cell_type": "code",
   "execution_count": 264,
   "metadata": {
    "ExecuteTime": {
     "end_time": "2021-11-04T18:27:40.402267Z",
     "start_time": "2021-11-04T18:27:40.025266Z"
    }
   },
   "outputs": [],
   "source": [
    "import pandas as pd\n",
    "import numpy as np\n",
    "import random"
   ]
  },
  {
   "cell_type": "code",
   "execution_count": 265,
   "metadata": {
    "ExecuteTime": {
     "end_time": "2021-11-04T18:27:40.498267Z",
     "start_time": "2021-11-04T18:27:40.405269Z"
    }
   },
   "outputs": [
    {
     "name": "stdout",
     "output_type": "stream",
     "text": [
      "The autoreload extension is already loaded. To reload it, use:\n",
      "  %reload_ext autoreload\n"
     ]
    }
   ],
   "source": [
    "%load_ext autoreload\n",
    "%autoreload 2"
   ]
  },
  {
   "cell_type": "markdown",
   "metadata": {
    "ExecuteTime": {
     "end_time": "2020-12-14T20:54:47.225113Z",
     "start_time": "2020-12-14T20:54:47.161113Z"
    }
   },
   "source": [
    "# Metrics"
   ]
  },
  {
   "cell_type": "markdown",
   "metadata": {},
   "source": [
    "## Simple scores"
   ]
  },
  {
   "cell_type": "code",
   "execution_count": 266,
   "metadata": {
    "ExecuteTime": {
     "end_time": "2021-11-04T18:27:40.608660Z",
     "start_time": "2021-11-04T18:27:40.501269Z"
    }
   },
   "outputs": [],
   "source": [
    "from mofr import metrics"
   ]
  },
  {
   "cell_type": "code",
   "execution_count": 267,
   "metadata": {
    "ExecuteTime": {
     "end_time": "2021-11-04T18:27:40.734681Z",
     "start_time": "2021-11-04T18:27:40.610416Z"
    }
   },
   "outputs": [],
   "source": [
    "df=pd.read_csv(r'c:\\Users\\T862363F\\Projects\\DevOps_Repos\\PRG_TD_ModellingFramework\\data\\Model_Eval_Data_For_Andrej.csv')"
   ]
  },
  {
   "cell_type": "code",
   "execution_count": 268,
   "metadata": {
    "ExecuteTime": {
     "end_time": "2021-11-04T18:27:40.843743Z",
     "start_time": "2021-11-04T18:27:40.735736Z"
    }
   },
   "outputs": [],
   "source": [
    "df['p_churn']=df['p_alive']*-1+1\n",
    "df['target_obs']=1\n",
    "df['random_score']=np.random.randint(1, 1000000, df.shape[0])/1000000\n",
    "df['semi_random_score']=0.7*df['p_churn']+0.3*np.random.normal(0,1,df.shape[0])\n",
    "df['month']=df['target_obs'].apply(lambda x: random.choice([202001,202002,202003]))"
   ]
  },
  {
   "cell_type": "code",
   "execution_count": 269,
   "metadata": {
    "ExecuteTime": {
     "end_time": "2021-11-04T18:27:40.938745Z",
     "start_time": "2021-11-04T18:27:40.846746Z"
    }
   },
   "outputs": [
    {
     "data": {
      "text/plain": [
       "7946"
      ]
     },
     "execution_count": 269,
     "metadata": {},
     "output_type": "execute_result"
    }
   ],
   "source": [
    "len(df)"
   ]
  },
  {
   "cell_type": "code",
   "execution_count": 270,
   "metadata": {
    "ExecuteTime": {
     "end_time": "2021-11-04T18:27:41.096745Z",
     "start_time": "2021-11-04T18:27:40.940744Z"
    }
   },
   "outputs": [
    {
     "data": {
      "text/html": [
       "<div>\n",
       "<style scoped>\n",
       "    .dataframe tbody tr th:only-of-type {\n",
       "        vertical-align: middle;\n",
       "    }\n",
       "\n",
       "    .dataframe tbody tr th {\n",
       "        vertical-align: top;\n",
       "    }\n",
       "\n",
       "    .dataframe thead th {\n",
       "        text-align: right;\n",
       "    }\n",
       "</style>\n",
       "<table border=\"1\" class=\"dataframe\">\n",
       "  <thead>\n",
       "    <tr style=\"text-align: right;\">\n",
       "      <th></th>\n",
       "      <th>TECCOMPCE</th>\n",
       "      <th>TECSOLDTO</th>\n",
       "      <th>p_alive</th>\n",
       "      <th>CLV</th>\n",
       "      <th>p_alive_</th>\n",
       "      <th>PB_Churn_Flag</th>\n",
       "      <th>CLV_</th>\n",
       "      <th>ob</th>\n",
       "      <th>omx</th>\n",
       "      <th>omn</th>\n",
       "      <th>...</th>\n",
       "      <th>CreditBlock</th>\n",
       "      <th>Churn</th>\n",
       "      <th>a</th>\n",
       "      <th>b</th>\n",
       "      <th>target</th>\n",
       "      <th>target_obs</th>\n",
       "      <th>p_churn</th>\n",
       "      <th>random_score</th>\n",
       "      <th>semi_random_score</th>\n",
       "      <th>month</th>\n",
       "    </tr>\n",
       "  </thead>\n",
       "  <tbody>\n",
       "    <tr>\n",
       "      <th>0</th>\n",
       "      <td>40</td>\n",
       "      <td>636362</td>\n",
       "      <td>0.994196</td>\n",
       "      <td>2821.981425</td>\n",
       "      <td>0</td>\n",
       "      <td>994196067.0</td>\n",
       "      <td>0</td>\n",
       "      <td>2821</td>\n",
       "      <td>981425.0</td>\n",
       "      <td>11</td>\n",
       "      <td>...</td>\n",
       "      <td>2020-09-29 00:00:00.0000000</td>\n",
       "      <td>2019-10-01 00:00:00.0000000</td>\n",
       "      <td>NaN</td>\n",
       "      <td>0.0</td>\n",
       "      <td>0</td>\n",
       "      <td>1</td>\n",
       "      <td>0.005804</td>\n",
       "      <td>0.455738</td>\n",
       "      <td>-0.247755</td>\n",
       "      <td>202002</td>\n",
       "    </tr>\n",
       "    <tr>\n",
       "      <th>1</th>\n",
       "      <td>40</td>\n",
       "      <td>441577</td>\n",
       "      <td>0.613307</td>\n",
       "      <td>0.000000</td>\n",
       "      <td>0</td>\n",
       "      <td>613306736.0</td>\n",
       "      <td>0</td>\n",
       "      <td>0</td>\n",
       "      <td>1.0</td>\n",
       "      <td>2018-10-01 00:00:00.0000000</td>\n",
       "      <td>...</td>\n",
       "      <td>NaN</td>\n",
       "      <td>NaN</td>\n",
       "      <td>1.0</td>\n",
       "      <td>NaN</td>\n",
       "      <td>1</td>\n",
       "      <td>1</td>\n",
       "      <td>0.386693</td>\n",
       "      <td>0.532948</td>\n",
       "      <td>0.089493</td>\n",
       "      <td>202001</td>\n",
       "    </tr>\n",
       "    <tr>\n",
       "      <th>2</th>\n",
       "      <td>40</td>\n",
       "      <td>422141</td>\n",
       "      <td>0.462324</td>\n",
       "      <td>3340.062341</td>\n",
       "      <td>0</td>\n",
       "      <td>462324357.0</td>\n",
       "      <td>1</td>\n",
       "      <td>3340</td>\n",
       "      <td>62341.0</td>\n",
       "      <td>7</td>\n",
       "      <td>...</td>\n",
       "      <td>2020-07-01 00:00:00.0000000</td>\n",
       "      <td>2020-02-19 00:00:00.0000000</td>\n",
       "      <td>NaN</td>\n",
       "      <td>0.0</td>\n",
       "      <td>0</td>\n",
       "      <td>1</td>\n",
       "      <td>0.537676</td>\n",
       "      <td>0.705958</td>\n",
       "      <td>0.170487</td>\n",
       "      <td>202001</td>\n",
       "    </tr>\n",
       "    <tr>\n",
       "      <th>3</th>\n",
       "      <td>40</td>\n",
       "      <td>706342</td>\n",
       "      <td>0.841013</td>\n",
       "      <td>5023.797898</td>\n",
       "      <td>0</td>\n",
       "      <td>841012858.0</td>\n",
       "      <td>0</td>\n",
       "      <td>5023</td>\n",
       "      <td>797898.0</td>\n",
       "      <td>17</td>\n",
       "      <td>...</td>\n",
       "      <td>2020-07-17 00:00:00.0000000</td>\n",
       "      <td>2019-10-03 00:00:00.0000000</td>\n",
       "      <td>NaN</td>\n",
       "      <td>0.0</td>\n",
       "      <td>0</td>\n",
       "      <td>1</td>\n",
       "      <td>0.158987</td>\n",
       "      <td>0.788786</td>\n",
       "      <td>0.147370</td>\n",
       "      <td>202003</td>\n",
       "    </tr>\n",
       "    <tr>\n",
       "      <th>4</th>\n",
       "      <td>40</td>\n",
       "      <td>718698</td>\n",
       "      <td>0.668060</td>\n",
       "      <td>0.000000</td>\n",
       "      <td>0</td>\n",
       "      <td>668060235.0</td>\n",
       "      <td>0</td>\n",
       "      <td>0</td>\n",
       "      <td>1.0</td>\n",
       "      <td>2019-02-06 00:00:00.0000000</td>\n",
       "      <td>...</td>\n",
       "      <td>2020-01-10 00:00:00.0000000</td>\n",
       "      <td>NaN</td>\n",
       "      <td>0.0</td>\n",
       "      <td>NaN</td>\n",
       "      <td>0</td>\n",
       "      <td>1</td>\n",
       "      <td>0.331940</td>\n",
       "      <td>0.610560</td>\n",
       "      <td>0.062955</td>\n",
       "      <td>202003</td>\n",
       "    </tr>\n",
       "  </tbody>\n",
       "</table>\n",
       "<p>5 rows × 23 columns</p>\n",
       "</div>"
      ],
      "text/plain": [
       "   TECCOMPCE  TECSOLDTO   p_alive          CLV  p_alive_  PB_Churn_Flag  CLV_  \\\n",
       "0         40     636362  0.994196  2821.981425         0    994196067.0     0   \n",
       "1         40     441577  0.613307     0.000000         0    613306736.0     0   \n",
       "2         40     422141  0.462324  3340.062341         0    462324357.0     1   \n",
       "3         40     706342  0.841013  5023.797898         0    841012858.0     0   \n",
       "4         40     718698  0.668060     0.000000         0    668060235.0     0   \n",
       "\n",
       "     ob       omx                          omn  ...  \\\n",
       "0  2821  981425.0                           11  ...   \n",
       "1     0       1.0  2018-10-01 00:00:00.0000000  ...   \n",
       "2  3340   62341.0                            7  ...   \n",
       "3  5023  797898.0                           17  ...   \n",
       "4     0       1.0  2019-02-06 00:00:00.0000000  ...   \n",
       "\n",
       "                   CreditBlock                        Churn    a    b target  \\\n",
       "0  2020-09-29 00:00:00.0000000  2019-10-01 00:00:00.0000000  NaN  0.0      0   \n",
       "1                          NaN                          NaN  1.0  NaN      1   \n",
       "2  2020-07-01 00:00:00.0000000  2020-02-19 00:00:00.0000000  NaN  0.0      0   \n",
       "3  2020-07-17 00:00:00.0000000  2019-10-03 00:00:00.0000000  NaN  0.0      0   \n",
       "4  2020-01-10 00:00:00.0000000                          NaN  0.0  NaN      0   \n",
       "\n",
       "   target_obs   p_churn  random_score  semi_random_score   month  \n",
       "0           1  0.005804      0.455738          -0.247755  202002  \n",
       "1           1  0.386693      0.532948           0.089493  202001  \n",
       "2           1  0.537676      0.705958           0.170487  202001  \n",
       "3           1  0.158987      0.788786           0.147370  202003  \n",
       "4           1  0.331940      0.610560           0.062955  202003  \n",
       "\n",
       "[5 rows x 23 columns]"
      ]
     },
     "execution_count": 270,
     "metadata": {},
     "output_type": "execute_result"
    }
   ],
   "source": [
    "df.head()"
   ]
  },
  {
   "cell_type": "markdown",
   "metadata": {},
   "source": [
    "### Accuracy"
   ]
  },
  {
   "cell_type": "code",
   "execution_count": 271,
   "metadata": {
    "ExecuteTime": {
     "end_time": "2021-11-04T18:27:41.223744Z",
     "start_time": "2021-11-04T18:27:41.100754Z"
    }
   },
   "outputs": [
    {
     "data": {
      "text/plain": [
       "0.7793858545179965"
      ]
     },
     "execution_count": 271,
     "metadata": {},
     "output_type": "execute_result"
    }
   ],
   "source": [
    "metrics.accuracy_score(df['target'], df['p_churn']>0.5)"
   ]
  },
  {
   "cell_type": "code",
   "execution_count": 272,
   "metadata": {
    "ExecuteTime": {
     "end_time": "2021-11-04T18:27:41.365743Z",
     "start_time": "2021-11-04T18:27:41.226746Z"
    }
   },
   "outputs": [
    {
     "data": {
      "text/plain": [
       "[0.31059652655424114,\n",
       " 0.40057890762647874,\n",
       " 0.46967027435187514,\n",
       " 0.5117040020135918,\n",
       " 0.5485779008306066,\n",
       " 0.5690913667253964,\n",
       " 0.591492574880443,\n",
       " 0.6063428139944627,\n",
       " 0.618801912912157,\n",
       " 0.6303800654417316,\n",
       " 0.6401963251950668,\n",
       " 0.6477472942360937,\n",
       " 0.6552982632771206,\n",
       " 0.6614648879939592,\n",
       " 0.6676315127107979,\n",
       " 0.6720362446513969,\n",
       " 0.676566826076013,\n",
       " 0.6827334507928517,\n",
       " 0.6867606342813994,\n",
       " 0.6906619682859301]"
      ]
     },
     "execution_count": 272,
     "metadata": {},
     "output_type": "execute_result"
    }
   ],
   "source": [
    "[metrics.accuracy_score(df['target'], df['p_churn']>(x+1)/1000) for x in range(20)]"
   ]
  },
  {
   "cell_type": "code",
   "execution_count": 273,
   "metadata": {
    "ExecuteTime": {
     "end_time": "2021-11-04T18:27:41.477745Z",
     "start_time": "2021-11-04T18:27:41.367744Z"
    }
   },
   "outputs": [],
   "source": [
    "#metrics.accuracy_score?"
   ]
  },
  {
   "cell_type": "markdown",
   "metadata": {},
   "source": [
    "### Precision"
   ]
  },
  {
   "cell_type": "code",
   "execution_count": 274,
   "metadata": {
    "ExecuteTime": {
     "end_time": "2021-11-04T18:27:41.602742Z",
     "start_time": "2021-11-04T18:27:41.480758Z"
    }
   },
   "outputs": [
    {
     "data": {
      "text/plain": [
       "0.5398230088495575"
      ]
     },
     "execution_count": 274,
     "metadata": {},
     "output_type": "execute_result"
    }
   ],
   "source": [
    "metrics.precision_score(df['target'], df['p_churn']>0.5)"
   ]
  },
  {
   "cell_type": "code",
   "execution_count": 275,
   "metadata": {
    "ExecuteTime": {
     "end_time": "2021-11-04T18:27:41.793751Z",
     "start_time": "2021-11-04T18:27:41.605745Z"
    }
   },
   "outputs": [
    {
     "data": {
      "text/plain": [
       "[0.6588235294117647,\n",
       " 0.6239316239316239,\n",
       " 0.625,\n",
       " 0.618421052631579,\n",
       " 0.6073619631901841,\n",
       " 0.6123595505617978,\n",
       " 0.6096256684491979,\n",
       " 0.6062176165803109,\n",
       " 0.6019417475728155,\n",
       " 0.591304347826087,\n",
       " 0.5887096774193549,\n",
       " 0.5889328063241107,\n",
       " 0.5923076923076923,\n",
       " 0.6,\n",
       " 0.5949820788530465,\n",
       " 0.5929824561403508,\n",
       " 0.5932203389830508,\n",
       " 0.5907590759075908,\n",
       " 0.6006191950464397,\n",
       " 0.600609756097561]"
      ]
     },
     "execution_count": 275,
     "metadata": {},
     "output_type": "execute_result"
    }
   ],
   "source": [
    "[metrics.precision_score(df['target'], df['p_churn']>(99-x)/100) for x in range(20)]"
   ]
  },
  {
   "cell_type": "code",
   "execution_count": 276,
   "metadata": {
    "ExecuteTime": {
     "end_time": "2021-11-04T18:27:41.904996Z",
     "start_time": "2021-11-04T18:27:41.795744Z"
    }
   },
   "outputs": [],
   "source": [
    "#metrics.precision_score?"
   ]
  },
  {
   "cell_type": "markdown",
   "metadata": {},
   "source": [
    "### Recall"
   ]
  },
  {
   "cell_type": "code",
   "execution_count": 277,
   "metadata": {
    "ExecuteTime": {
     "end_time": "2021-11-04T18:27:42.016789Z",
     "start_time": "2021-11-04T18:27:41.906743Z"
    }
   },
   "outputs": [
    {
     "data": {
      "text/plain": [
       "0.20254565578306585"
      ]
     },
     "execution_count": 277,
     "metadata": {},
     "output_type": "execute_result"
    }
   ],
   "source": [
    "metrics.recall_score(df['target'], df['p_churn']>0.5)"
   ]
  },
  {
   "cell_type": "code",
   "execution_count": 278,
   "metadata": {
    "ExecuteTime": {
     "end_time": "2021-11-04T18:27:42.206850Z",
     "start_time": "2021-11-04T18:27:42.019747Z"
    }
   },
   "outputs": [
    {
     "data": {
      "text/plain": [
       "[0.03099059214167128,\n",
       " 0.040398450470392915,\n",
       " 0.04703929164360819,\n",
       " 0.05201992252351965,\n",
       " 0.05478693967902601,\n",
       " 0.06032097399003874,\n",
       " 0.0630879911455451,\n",
       " 0.06474820143884892,\n",
       " 0.06862202545655784,\n",
       " 0.0752628666297731,\n",
       " 0.08079690094078583,\n",
       " 0.08245711123408965,\n",
       " 0.08522412838959602,\n",
       " 0.0896513558384062,\n",
       " 0.09186496956281129,\n",
       " 0.09352517985611511,\n",
       " 0.09684560044272275,\n",
       " 0.09905921416712783,\n",
       " 0.10736026563364692,\n",
       " 0.10902047592695074]"
      ]
     },
     "execution_count": 278,
     "metadata": {},
     "output_type": "execute_result"
    }
   ],
   "source": [
    "[metrics.recall_score(df['target'], df['p_churn']>(99-x)/100) for x in range(20)]"
   ]
  },
  {
   "cell_type": "code",
   "execution_count": 279,
   "metadata": {
    "ExecuteTime": {
     "end_time": "2021-11-04T18:27:42.317743Z",
     "start_time": "2021-11-04T18:27:42.208744Z"
    }
   },
   "outputs": [],
   "source": [
    "#metrics.recall_score?"
   ]
  },
  {
   "cell_type": "markdown",
   "metadata": {},
   "source": [
    "### F1 score"
   ]
  },
  {
   "cell_type": "code",
   "execution_count": 280,
   "metadata": {
    "ExecuteTime": {
     "end_time": "2021-11-04T18:27:42.442120Z",
     "start_time": "2021-11-04T18:27:42.320746Z"
    }
   },
   "outputs": [
    {
     "data": {
      "text/plain": [
       "0.2945674044265594"
      ]
     },
     "execution_count": 280,
     "metadata": {},
     "output_type": "execute_result"
    }
   ],
   "source": [
    "metrics.f1_score(df['target'], df['p_churn']>0.5)"
   ]
  },
  {
   "cell_type": "code",
   "execution_count": 281,
   "metadata": {
    "ExecuteTime": {
     "end_time": "2021-11-04T18:27:42.631613Z",
     "start_time": "2021-11-04T18:27:42.445109Z"
    }
   },
   "outputs": [
    {
     "data": {
      "text/plain": [
       "[0.39749230092388915,\n",
       " 0.4314193625402889,\n",
       " 0.46057347670250887,\n",
       " 0.48072805139186287,\n",
       " 0.5000696864111499,\n",
       " 0.5107173478136611,\n",
       " 0.5233480176211454,\n",
       " 0.5313155528918191,\n",
       " 0.5383325712543819,\n",
       " 0.545144804088586,\n",
       " 0.5509659180147636,\n",
       " 0.5550786838340487,\n",
       " 0.5590082112381259,\n",
       " 0.5628859278518037,\n",
       " 0.5664094565752751,\n",
       " 0.5691137566137566,\n",
       " 0.5709515859766277,\n",
       " 0.5755177639333221,\n",
       " 0.5776344815883251,\n",
       " 0.5796853625170998]"
      ]
     },
     "execution_count": 281,
     "metadata": {},
     "output_type": "execute_result"
    }
   ],
   "source": [
    "[metrics.f1_score(df['target'], df['p_churn']>(x+1)/1000) for x in range(20)]"
   ]
  },
  {
   "cell_type": "code",
   "execution_count": 282,
   "metadata": {
    "ExecuteTime": {
     "end_time": "2021-11-04T18:27:42.742355Z",
     "start_time": "2021-11-04T18:27:42.633637Z"
    }
   },
   "outputs": [],
   "source": [
    "#metrics.f1_score?"
   ]
  },
  {
   "cell_type": "markdown",
   "metadata": {},
   "source": [
    "### Confusion matrix"
   ]
  },
  {
   "cell_type": "code",
   "execution_count": 283,
   "metadata": {
    "ExecuteTime": {
     "end_time": "2021-11-04T18:27:42.886154Z",
     "start_time": "2021-11-04T18:27:42.744112Z"
    }
   },
   "outputs": [
    {
     "data": {
      "text/plain": [
       "array([[5827,  312],\n",
       "       [1441,  366]], dtype=int64)"
      ]
     },
     "execution_count": 283,
     "metadata": {},
     "output_type": "execute_result"
    }
   ],
   "source": [
    "metrics.confusion_matrix(df['target'], df['p_churn']>0.5)"
   ]
  },
  {
   "cell_type": "markdown",
   "metadata": {
    "ExecuteTime": {
     "end_time": "2020-12-14T21:53:17.790901Z",
     "start_time": "2020-12-14T21:53:17.685943Z"
    }
   },
   "source": [
    "### ROC AUC "
   ]
  },
  {
   "cell_type": "code",
   "execution_count": 284,
   "metadata": {
    "ExecuteTime": {
     "end_time": "2021-11-04T18:27:43.014156Z",
     "start_time": "2021-11-04T18:27:42.889110Z"
    }
   },
   "outputs": [
    {
     "data": {
      "text/plain": [
       "0.8560895967276451"
      ]
     },
     "execution_count": 284,
     "metadata": {},
     "output_type": "execute_result"
    }
   ],
   "source": [
    "metrics.roc_auc_score(df['target'], df['p_churn'])"
   ]
  },
  {
   "cell_type": "code",
   "execution_count": 285,
   "metadata": {
    "ExecuteTime": {
     "end_time": "2021-11-04T18:27:43.125110Z",
     "start_time": "2021-11-04T18:27:43.017114Z"
    }
   },
   "outputs": [],
   "source": [
    "#metrics.roc_auc_score?"
   ]
  },
  {
   "cell_type": "markdown",
   "metadata": {},
   "source": [
    "### GINI"
   ]
  },
  {
   "cell_type": "code",
   "execution_count": 286,
   "metadata": {
    "ExecuteTime": {
     "end_time": "2021-11-04T18:27:43.236153Z",
     "start_time": "2021-11-04T18:27:43.130112Z"
    }
   },
   "outputs": [
    {
     "data": {
      "text/plain": [
       "0.7121791934552901"
      ]
     },
     "execution_count": 286,
     "metadata": {},
     "output_type": "execute_result"
    }
   ],
   "source": [
    "metrics.gini(df['target'], df['p_churn'])"
   ]
  },
  {
   "cell_type": "code",
   "execution_count": 287,
   "metadata": {
    "ExecuteTime": {
     "end_time": "2021-11-04T18:27:43.347129Z",
     "start_time": "2021-11-04T18:27:43.239119Z"
    }
   },
   "outputs": [
    {
     "data": {
      "text/plain": [
       "0.7121791934552901"
      ]
     },
     "execution_count": 287,
     "metadata": {},
     "output_type": "execute_result"
    }
   ],
   "source": [
    "metrics.gini(df['target'], df['p_churn'], average='samples')"
   ]
  },
  {
   "cell_type": "code",
   "execution_count": 288,
   "metadata": {
    "ExecuteTime": {
     "end_time": "2021-11-04T18:27:43.458112Z",
     "start_time": "2021-11-04T18:27:43.349112Z"
    }
   },
   "outputs": [],
   "source": [
    "#metrics.gini?"
   ]
  },
  {
   "cell_type": "markdown",
   "metadata": {},
   "source": [
    "### Lift"
   ]
  },
  {
   "cell_type": "code",
   "execution_count": 289,
   "metadata": {
    "ExecuteTime": {
     "end_time": "2021-11-04T18:27:43.568115Z",
     "start_time": "2021-11-04T18:27:43.461112Z"
    }
   },
   "outputs": [
    {
     "data": {
      "text/plain": [
       "2.306531204644412"
      ]
     },
     "execution_count": 289,
     "metadata": {},
     "output_type": "execute_result"
    }
   ],
   "source": [
    "metrics.lift(df['target'], df['p_churn'])"
   ]
  },
  {
   "cell_type": "code",
   "execution_count": 290,
   "metadata": {
    "ExecuteTime": {
     "end_time": "2021-11-04T18:27:43.678110Z",
     "start_time": "2021-11-04T18:27:43.570122Z"
    }
   },
   "outputs": [
    {
     "data": {
      "text/plain": [
       "2.519081294685937"
      ]
     },
     "execution_count": 290,
     "metadata": {},
     "output_type": "execute_result"
    }
   ],
   "source": [
    "metrics.liftN(df['target'], df['p_churn'], 0.05)"
   ]
  },
  {
   "cell_type": "code",
   "execution_count": 291,
   "metadata": {
    "ExecuteTime": {
     "end_time": "2021-11-04T18:27:43.821111Z",
     "start_time": "2021-11-04T18:27:43.681115Z"
    }
   },
   "outputs": [
    {
     "data": {
      "text/plain": [
       "[2.564655037052907,\n",
       " 2.418539014941893,\n",
       " 2.1267203306629034,\n",
       " 1.8638627559490868,\n",
       " 1.6290557813709337,\n",
       " 1.4191355404598403,\n",
       " 1.2480818075848659,\n",
       " 1.111484123653658,\n",
       " 1]"
      ]
     },
     "execution_count": 291,
     "metadata": {},
     "output_type": "execute_result"
    }
   ],
   "source": [
    "[metrics.liftN(df['target'], df['p_churn'],(x+1)/10) for x in range(1,10)]"
   ]
  },
  {
   "cell_type": "markdown",
   "metadata": {},
   "source": [
    "### KS score"
   ]
  },
  {
   "cell_type": "code",
   "execution_count": 292,
   "metadata": {
    "ExecuteTime": {
     "end_time": "2021-11-04T18:27:44.041361Z",
     "start_time": "2021-11-04T18:27:43.824127Z"
    }
   },
   "outputs": [
    {
     "data": {
      "text/plain": [
       "0.588206908879903"
      ]
     },
     "execution_count": 292,
     "metadata": {},
     "output_type": "execute_result"
    }
   ],
   "source": [
    "metrics.ks_score(df['target'], df['p_churn'])"
   ]
  },
  {
   "cell_type": "code",
   "execution_count": 293,
   "metadata": {
    "ExecuteTime": {
     "end_time": "2021-11-04T18:27:44.153112Z",
     "start_time": "2021-11-04T18:27:44.043112Z"
    }
   },
   "outputs": [],
   "source": [
    "#metrics.ks_score?"
   ]
  },
  {
   "cell_type": "markdown",
   "metadata": {},
   "source": [
    "## Curves and others"
   ]
  },
  {
   "cell_type": "markdown",
   "metadata": {},
   "source": [
    "### ROC curve"
   ]
  },
  {
   "cell_type": "code",
   "execution_count": 294,
   "metadata": {
    "ExecuteTime": {
     "end_time": "2021-11-04T18:27:44.264113Z",
     "start_time": "2021-11-04T18:27:44.155113Z"
    }
   },
   "outputs": [
    {
     "data": {
      "text/plain": [
       "(array([0.        , 0.        , 0.        , ..., 0.99788239, 0.99837107,\n",
       "        1.        ]),\n",
       " array([0.00000000e+00, 5.53403431e-04, 7.74764804e-03, ...,\n",
       "        1.00000000e+00, 1.00000000e+00, 1.00000000e+00]),\n",
       " array([2.0000000e+00, 1.0000000e+00, 9.9999814e-01, ..., 1.7253500e-04,\n",
       "        1.7186300e-04, 1.5661200e-04]))"
      ]
     },
     "execution_count": 294,
     "metadata": {},
     "output_type": "execute_result"
    }
   ],
   "source": [
    "metrics.roc_curve(df['target'], df['p_churn'])"
   ]
  },
  {
   "cell_type": "code",
   "execution_count": 295,
   "metadata": {
    "ExecuteTime": {
     "end_time": "2021-11-04T18:27:44.661147Z",
     "start_time": "2021-11-04T18:27:44.266113Z"
    }
   },
   "outputs": [
    {
     "data": {
      "image/png": "[encoded data removed]",
      "text/plain": [
       "<Figure size 432x288 with 1 Axes>"
      ]
     },
     "metadata": {
      "needs_background": "light"
     },
     "output_type": "display_data"
    }
   ],
   "source": [
    "from matplotlib import pyplot as plt\n",
    "_fpr, _tpr, _ = metrics.roc_curve(df['target'], df['p_churn'])\n",
    "\n",
    "# plot the roc curve for the model\n",
    "plt.plot(_fpr, _tpr, linestyle='-', color='red', label='Model 1')\n",
    "\n",
    "# axis labels\n",
    "plt.title('ROC curve')\n",
    "plt.xlim(-0.01,1.01)\n",
    "plt.ylim(-0.01,1.03)\n",
    "plt.xlabel('False Positive Rate')\n",
    "plt.ylabel('True Positive Rate')\n",
    "# show the legend\n",
    "plt.legend()\n",
    "# show the plot\n",
    "plt.show()"
   ]
  },
  {
   "cell_type": "code",
   "execution_count": 296,
   "metadata": {
    "ExecuteTime": {
     "end_time": "2021-11-04T18:27:44.789147Z",
     "start_time": "2021-11-04T18:27:44.664113Z"
    }
   },
   "outputs": [],
   "source": [
    "#metrics.roc_curve?"
   ]
  },
  {
   "cell_type": "markdown",
   "metadata": {},
   "source": [
    "### Lift curve"
   ]
  },
  {
   "cell_type": "code",
   "execution_count": 297,
   "metadata": {
    "ExecuteTime": {
     "end_time": "2021-11-04T18:27:44.962110Z",
     "start_time": "2021-11-04T18:27:44.791114Z"
    }
   },
   "outputs": [
    {
     "data": {
      "text/plain": [
       "[2.306531204644412,\n",
       " 2.564655037052907,\n",
       " 2.418539014941893,\n",
       " 2.1267203306629034,\n",
       " 1.8638627559490868,\n",
       " 1.6290557813709337,\n",
       " 1.4191355404598403,\n",
       " 1.2480818075848659,\n",
       " 1.111484123653658,\n",
       " 1]"
      ]
     },
     "execution_count": 297,
     "metadata": {},
     "output_type": "execute_result"
    }
   ],
   "source": [
    "[metrics.liftN(df['target'], df['p_churn'], x/10) for x in range (1,11)]"
   ]
  },
  {
   "cell_type": "code",
   "execution_count": 298,
   "metadata": {
    "ExecuteTime": {
     "end_time": "2021-11-04T18:27:45.518148Z",
     "start_time": "2021-11-04T18:27:44.966112Z"
    }
   },
   "outputs": [
    {
     "data": {
      "image/png": "[encoded data removed]",
      "text/plain": [
       "<Figure size 432x288 with 1 Axes>"
      ]
     },
     "metadata": {
      "needs_background": "light"
     },
     "output_type": "display_data"
    }
   ],
   "source": [
    "from matplotlib import pyplot as plt\n",
    "x= [(x/10) for x in range (1,11)]\n",
    "lift_curve = [metrics.liftN(df['target'], df['p_churn'], x/10) for x in range (1,11)]\n",
    "plt.plot(x, lift_curve, linestyle='-', color='red', label='Model 1')\n",
    "# axis labels\n",
    "plt.title('Lift curve')\n",
    "#plt.xlim(-0.01,1.01)\n",
    "#plt.ylim(-0.01,1.03)\n",
    "#plt.xlabel('False Positive Rate')\n",
    "#plt.ylabel('True Positive Rate')\n",
    "# show the legend\n",
    "plt.legend()\n",
    "# show the plot\n",
    "plt.show()"
   ]
  },
  {
   "cell_type": "markdown",
   "metadata": {},
   "source": [
    "### Precision-Recall curve"
   ]
  },
  {
   "cell_type": "code",
   "execution_count": 299,
   "metadata": {
    "ExecuteTime": {
     "end_time": "2021-11-04T18:27:45.644109Z",
     "start_time": "2021-11-04T18:27:45.520114Z"
    }
   },
   "outputs": [
    {
     "data": {
      "text/plain": [
       "(array([0.27778632, 0.27767528, 0.27771798, ..., 1.        , 1.        ,\n",
       "        1.        ]),\n",
       " array([1.00000000e+00, 9.99446597e-01, 9.99446597e-01, ...,\n",
       "        1.10680686e-03, 5.53403431e-04, 0.00000000e+00]),\n",
       " array([0.00209515, 0.00209674, 0.00209705, ..., 1.        , 1.        ,\n",
       "        1.        ]))"
      ]
     },
     "execution_count": 299,
     "metadata": {},
     "output_type": "execute_result"
    }
   ],
   "source": [
    "metrics.precision_recall_curve(df['target'], df['p_churn'])"
   ]
  },
  {
   "cell_type": "code",
   "execution_count": 300,
   "metadata": {
    "ExecuteTime": {
     "end_time": "2021-11-04T18:27:46.104609Z",
     "start_time": "2021-11-04T18:27:45.646112Z"
    }
   },
   "outputs": [
    {
     "data": {
      "image/png": "[encoded data removed]",
      "text/plain": [
       "<Figure size 432x288 with 1 Axes>"
      ]
     },
     "metadata": {
      "needs_background": "light"
     },
     "output_type": "display_data"
    }
   ],
   "source": [
    "from matplotlib import pyplot as plt\n",
    "\n",
    "\n",
    "f_scores = np.linspace(0.2, 0.8, num=4)\n",
    "lines = []\n",
    "labels = []\n",
    "for f_score in f_scores:\n",
    "    x = np.linspace(0.01, 1)\n",
    "    y = f_score * x / (2 * x - f_score)\n",
    "    l, = plt.plot(x[y >= 0], y[y >= 0], color='gray', alpha=0.2)\n",
    "    plt.annotate('f1={0:0.1f}'.format(f_score), xy=(0.9, y[45] + 0.02))\n",
    "lines.append(l)\n",
    "labels.append('iso-f1 curves')\n",
    "\n",
    "lr_precision, lr_recall, _ = metrics.precision_recall_curve(df['target'], df['p_churn'])\n",
    "# plot the precision-recall curves\n",
    "no_skill = len(df['target'][df['target']==1]) / len(df['target'])\n",
    "plt.plot([0, 1], [no_skill, no_skill], linestyle='--')\n",
    "l,=plt.plot(lr_recall, lr_precision,linestyle='-', color='red', label='Model 1')\n",
    "lines.append(l)\n",
    "labels.append('Model 1')\n",
    "# axis labels\n",
    "plt.title('Precision-Recall curve with iso-f1 curves')\n",
    "plt.xlabel('Recall')\n",
    "plt.ylabel('Precision')\n",
    "plt.xlim([0.0, 1.0])\n",
    "plt.ylim([0.0, 1.05])\n",
    "# show the legend\n",
    "plt.legend(lines,labels)\n",
    "# show the plot\n",
    "plt.show()\n"
   ]
  },
  {
   "cell_type": "markdown",
   "metadata": {},
   "source": [
    "# Basic Evaluators"
   ]
  },
  {
   "cell_type": "markdown",
   "metadata": {
    "ExecuteTime": {
     "end_time": "2020-12-17T19:31:46.233868Z",
     "start_time": "2020-12-17T19:31:45.976866Z"
    }
   },
   "source": [
    "## Lift Curve Evaluator"
   ]
  },
  {
   "cell_type": "code",
   "execution_count": 301,
   "metadata": {
    "ExecuteTime": {
     "end_time": "2021-11-04T18:27:46.216190Z",
     "start_time": "2021-11-04T18:27:46.106194Z"
    }
   },
   "outputs": [],
   "source": [
    "from mofr.basic_evaluators.LiftCurve import LiftCurveEvaluator\n",
    "\n",
    "lce=LiftCurveEvaluator()"
   ]
  },
  {
   "cell_type": "code",
   "execution_count": 302,
   "metadata": {
    "ExecuteTime": {
     "end_time": "2021-11-04T18:27:46.327192Z",
     "start_time": "2021-11-04T18:27:46.218202Z"
    }
   },
   "outputs": [
    {
     "data": {
      "text/plain": []
     },
     "execution_count": 302,
     "metadata": {},
     "output_type": "execute_result"
    }
   ],
   "source": [
    "lce.d(df).t([('target','target_obs')]).s(['p_churn', 'semi_random_score','random_score'])"
   ]
  },
  {
   "cell_type": "code",
   "execution_count": 303,
   "metadata": {
    "ExecuteTime": {
     "end_time": "2021-11-04T18:27:46.898194Z",
     "start_time": "2021-11-04T18:27:46.330229Z"
    }
   },
   "outputs": [
    {
     "data": {
      "image/png": "[encoded data removed]",
      "text/plain": [
       "<Figure size 504x576 with 1 Axes>"
      ]
     },
     "metadata": {
      "needs_background": "light"
     },
     "output_type": "display_data"
    },
    {
     "data": {
      "text/plain": []
     },
     "execution_count": 303,
     "metadata": {},
     "output_type": "execute_result"
    }
   ],
   "source": [
    "lce.get_graph()"
   ]
  },
  {
   "cell_type": "markdown",
   "metadata": {
    "ExecuteTime": {
     "end_time": "2020-12-17T19:32:52.905283Z",
     "start_time": "2020-12-17T19:32:52.814277Z"
    }
   },
   "source": [
    "## ROC Curve Evaluator"
   ]
  },
  {
   "cell_type": "code",
   "execution_count": 304,
   "metadata": {
    "ExecuteTime": {
     "end_time": "2021-11-04T18:27:47.056192Z",
     "start_time": "2021-11-04T18:27:46.900193Z"
    }
   },
   "outputs": [],
   "source": [
    "from mofr.basic_evaluators.ROCCurve import ROCCurveEvaluator\n",
    "\n",
    "rce=ROCCurveEvaluator()"
   ]
  },
  {
   "cell_type": "code",
   "execution_count": 305,
   "metadata": {
    "ExecuteTime": {
     "end_time": "2021-11-04T18:27:47.198261Z",
     "start_time": "2021-11-04T18:27:47.058191Z"
    }
   },
   "outputs": [
    {
     "data": {
      "text/plain": []
     },
     "execution_count": 305,
     "metadata": {},
     "output_type": "execute_result"
    }
   ],
   "source": [
    "rce.d(df).t([('target','target_obs')]).s(['p_churn', 'semi_random_score','random_score'])"
   ]
  },
  {
   "cell_type": "code",
   "execution_count": 306,
   "metadata": {
    "ExecuteTime": {
     "end_time": "2021-11-04T18:27:47.768189Z",
     "start_time": "2021-11-04T18:27:47.201194Z"
    }
   },
   "outputs": [
    {
     "data": {
      "image/png": "[encoded data removed]",
      "text/plain": [
       "<Figure size 504x576 with 1 Axes>"
      ]
     },
     "metadata": {
      "needs_background": "light"
     },
     "output_type": "display_data"
    },
    {
     "data": {
      "text/plain": []
     },
     "execution_count": 306,
     "metadata": {},
     "output_type": "execute_result"
    }
   ],
   "source": [
    "rce.get_graph()"
   ]
  },
  {
   "cell_type": "markdown",
   "metadata": {},
   "source": [
    "## PR Curve Evaluator"
   ]
  },
  {
   "cell_type": "code",
   "execution_count": 307,
   "metadata": {
    "ExecuteTime": {
     "end_time": "2021-11-04T18:27:47.880190Z",
     "start_time": "2021-11-04T18:27:47.770191Z"
    }
   },
   "outputs": [],
   "source": [
    "from mofr.basic_evaluators.PRCurve import PRCurveEvaluator\n",
    "\n",
    "prce=PRCurveEvaluator()"
   ]
  },
  {
   "cell_type": "code",
   "execution_count": 308,
   "metadata": {
    "ExecuteTime": {
     "end_time": "2021-11-04T18:27:47.991192Z",
     "start_time": "2021-11-04T18:27:47.881190Z"
    }
   },
   "outputs": [
    {
     "data": {
      "text/plain": []
     },
     "execution_count": 308,
     "metadata": {},
     "output_type": "execute_result"
    }
   ],
   "source": [
    "prce.d(df).t([('target','target_obs')]).s(['p_churn', 'semi_random_score','random_score'])"
   ]
  },
  {
   "cell_type": "code",
   "execution_count": 309,
   "metadata": {
    "ExecuteTime": {
     "end_time": "2021-11-04T18:27:48.465190Z",
     "start_time": "2021-11-04T18:27:47.994195Z"
    }
   },
   "outputs": [
    {
     "data": {
      "image/png": "[encoded data removed]",
      "text/plain": [
       "<Figure size 504x576 with 1 Axes>"
      ]
     },
     "metadata": {
      "needs_background": "light"
     },
     "output_type": "display_data"
    },
    {
     "data": {
      "text/plain": []
     },
     "execution_count": 309,
     "metadata": {},
     "output_type": "execute_result"
    }
   ],
   "source": [
    "prce.get_graph()"
   ]
  },
  {
   "cell_type": "code",
   "execution_count": 310,
   "metadata": {
    "ExecuteTime": {
     "end_time": "2021-11-04T18:27:49.005190Z",
     "start_time": "2021-11-04T18:27:48.467191Z"
    }
   },
   "outputs": [
    {
     "data": {
      "image/png": "[encoded data removed]",
      "text/plain": [
       "<Figure size 504x576 with 1 Axes>"
      ]
     },
     "metadata": {
      "needs_background": "light"
     },
     "output_type": "display_data"
    },
    {
     "data": {
      "text/plain": []
     },
     "execution_count": 310,
     "metadata": {},
     "output_type": "execute_result"
    }
   ],
   "source": [
    "prce.get_graph(isocurves='on')"
   ]
  },
  {
   "cell_type": "markdown",
   "metadata": {
    "ExecuteTime": {
     "end_time": "2021-02-05T10:03:05.945149Z",
     "start_time": "2021-02-05T10:03:05.854099Z"
    }
   },
   "source": [
    "## Gini in Time Evaluator"
   ]
  },
  {
   "cell_type": "code",
   "execution_count": 311,
   "metadata": {
    "ExecuteTime": {
     "end_time": "2021-11-04T18:27:49.116398Z",
     "start_time": "2021-11-04T18:27:49.007190Z"
    }
   },
   "outputs": [],
   "source": [
    "from mofr.basic_evaluators.GiniInTime import GiniInTimeEvaluator\n",
    "\n",
    "gite=GiniInTimeEvaluator()"
   ]
  },
  {
   "cell_type": "code",
   "execution_count": 312,
   "metadata": {
    "ExecuteTime": {
     "end_time": "2021-11-04T18:27:49.227611Z",
     "start_time": "2021-11-04T18:27:49.118190Z"
    }
   },
   "outputs": [
    {
     "data": {
      "text/plain": []
     },
     "execution_count": 312,
     "metadata": {},
     "output_type": "execute_result"
    }
   ],
   "source": [
    "gite.d(df).t([('target','target_obs')]).s(['p_churn', 'semi_random_score','random_score']).tc('month')"
   ]
  },
  {
   "cell_type": "code",
   "execution_count": 313,
   "metadata": {
    "ExecuteTime": {
     "end_time": "2021-11-04T18:27:49.637737Z",
     "start_time": "2021-11-04T18:27:49.229618Z"
    }
   },
   "outputs": [
    {
     "data": {
      "image/png": "[encoded data removed]",
      "text/plain": [
       "<Figure size 504x576 with 1 Axes>"
      ]
     },
     "metadata": {
      "needs_background": "light"
     },
     "output_type": "display_data"
    },
    {
     "data": {
      "text/plain": []
     },
     "execution_count": 313,
     "metadata": {},
     "output_type": "execute_result"
    }
   ],
   "source": [
    "gite.get_graph()"
   ]
  },
  {
   "cell_type": "code",
   "execution_count": 314,
   "metadata": {
    "ExecuteTime": {
     "end_time": "2021-11-04T18:27:49.845610Z",
     "start_time": "2021-11-04T18:27:49.639610Z"
    }
   },
   "outputs": [
    {
     "data": {
      "text/html": [
       "<style  type=\"text/css\" >\n",
       "</style><table id=\"T_ea65d142_3d9c_11ec_b962_5c879c826b52\" style='display:inline'><caption>GINI on target \"target\"</caption><thead>    <tr>        <th class=\"blank level0\" ></th>        <th class=\"col_heading level0 col0\" >p_churn</th>        <th class=\"col_heading level0 col1\" >semi_random_score</th>        <th class=\"col_heading level0 col2\" >random_score</th>    </tr>    <tr>        <th class=\"index_name level0\" >month</th>        <th class=\"blank\" ></th>        <th class=\"blank\" ></th>        <th class=\"blank\" ></th>    </tr></thead><tbody>\n",
       "                <tr>\n",
       "                        <th id=\"T_ea65d142_3d9c_11ec_b962_5c879c826b52level0_row0\" class=\"row_heading level0 row0\" >202001</th>\n",
       "                        <td id=\"T_ea65d142_3d9c_11ec_b962_5c879c826b52row0_col0\" class=\"data row0 col0\" >0.709340</td>\n",
       "                        <td id=\"T_ea65d142_3d9c_11ec_b962_5c879c826b52row0_col1\" class=\"data row0 col1\" >0.318462</td>\n",
       "                        <td id=\"T_ea65d142_3d9c_11ec_b962_5c879c826b52row0_col2\" class=\"data row0 col2\" >0.004644</td>\n",
       "            </tr>\n",
       "            <tr>\n",
       "                        <th id=\"T_ea65d142_3d9c_11ec_b962_5c879c826b52level0_row1\" class=\"row_heading level0 row1\" >202002</th>\n",
       "                        <td id=\"T_ea65d142_3d9c_11ec_b962_5c879c826b52row1_col0\" class=\"data row1 col0\" >0.691503</td>\n",
       "                        <td id=\"T_ea65d142_3d9c_11ec_b962_5c879c826b52row1_col1\" class=\"data row1 col1\" >0.287731</td>\n",
       "                        <td id=\"T_ea65d142_3d9c_11ec_b962_5c879c826b52row1_col2\" class=\"data row1 col2\" >0.027207</td>\n",
       "            </tr>\n",
       "            <tr>\n",
       "                        <th id=\"T_ea65d142_3d9c_11ec_b962_5c879c826b52level0_row2\" class=\"row_heading level0 row2\" >202003</th>\n",
       "                        <td id=\"T_ea65d142_3d9c_11ec_b962_5c879c826b52row2_col0\" class=\"data row2 col0\" >0.734519</td>\n",
       "                        <td id=\"T_ea65d142_3d9c_11ec_b962_5c879c826b52row2_col1\" class=\"data row2 col1\" >0.268019</td>\n",
       "                        <td id=\"T_ea65d142_3d9c_11ec_b962_5c879c826b52row2_col2\" class=\"data row2 col2\" >0.028276</td>\n",
       "            </tr>\n",
       "            <tr>\n",
       "                        <th id=\"T_ea65d142_3d9c_11ec_b962_5c879c826b52level0_row3\" class=\"row_heading level0 row3\" >All</th>\n",
       "                        <td id=\"T_ea65d142_3d9c_11ec_b962_5c879c826b52row3_col0\" class=\"data row3 col0\" >0.712179</td>\n",
       "                        <td id=\"T_ea65d142_3d9c_11ec_b962_5c879c826b52row3_col1\" class=\"data row3 col1\" >0.291026</td>\n",
       "                        <td id=\"T_ea65d142_3d9c_11ec_b962_5c879c826b52row3_col2\" class=\"data row3 col2\" >0.020002</td>\n",
       "            </tr>\n",
       "    </tbody></table>"
      ],
      "text/plain": [
       "<pandas.io.formats.style.Styler at 0x1dcc9930>"
      ]
     },
     "execution_count": 314,
     "metadata": {},
     "output_type": "execute_result"
    }
   ],
   "source": [
    "gite.get_table()\n",
    "gite.table"
   ]
  },
  {
   "cell_type": "markdown",
   "metadata": {
    "ExecuteTime": {
     "end_time": "2021-02-05T10:03:05.945149Z",
     "start_time": "2021-02-05T10:03:05.854099Z"
    }
   },
   "source": [
    "## Lift in Time Evaluator"
   ]
  },
  {
   "cell_type": "code",
   "execution_count": 315,
   "metadata": {
    "ExecuteTime": {
     "end_time": "2021-11-04T18:27:49.956639Z",
     "start_time": "2021-11-04T18:27:49.846612Z"
    }
   },
   "outputs": [],
   "source": [
    "from mofr.basic_evaluators.LiftInTime import LiftInTimeEvaluator\n",
    "\n",
    "lite=LiftInTimeEvaluator()"
   ]
  },
  {
   "cell_type": "code",
   "execution_count": 316,
   "metadata": {
    "ExecuteTime": {
     "end_time": "2021-11-04T18:27:50.066311Z",
     "start_time": "2021-11-04T18:27:49.958312Z"
    }
   },
   "outputs": [
    {
     "data": {
      "text/plain": []
     },
     "execution_count": 316,
     "metadata": {},
     "output_type": "execute_result"
    }
   ],
   "source": [
    "lite.d(df).t([('target','target_obs')]).s(['p_churn', 'semi_random_score','random_score']).tc('month')"
   ]
  },
  {
   "cell_type": "code",
   "execution_count": 317,
   "metadata": {
    "ExecuteTime": {
     "end_time": "2021-11-04T18:27:50.573659Z",
     "start_time": "2021-11-04T18:27:50.068274Z"
    }
   },
   "outputs": [
    {
     "data": {
      "image/png": "[encoded data removed]",
      "text/plain": [
       "<Figure size 504x576 with 1 Axes>"
      ]
     },
     "metadata": {
      "needs_background": "light"
     },
     "output_type": "display_data"
    },
    {
     "data": {
      "text/plain": []
     },
     "execution_count": 317,
     "metadata": {},
     "output_type": "execute_result"
    }
   ],
   "source": [
    "lite.get_graph()"
   ]
  },
  {
   "cell_type": "code",
   "execution_count": 318,
   "metadata": {
    "ExecuteTime": {
     "end_time": "2021-11-04T18:27:50.874310Z",
     "start_time": "2021-11-04T18:27:50.575274Z"
    }
   },
   "outputs": [
    {
     "data": {
      "text/html": [
       "<style  type=\"text/css\" >\n",
       "</style><table id=\"T_eb0202a2_3d9c_11ec_a05c_5c879c826b52\" style='display:inline'><caption>Lift on target \"target\"</caption><thead>    <tr>        <th class=\"blank level0\" ></th>        <th class=\"col_heading level0 col0\" >p_churn</th>        <th class=\"col_heading level0 col1\" >semi_random_score</th>        <th class=\"col_heading level0 col2\" >random_score</th>    </tr>    <tr>        <th class=\"index_name level0\" >month</th>        <th class=\"blank\" ></th>        <th class=\"blank\" ></th>        <th class=\"blank\" ></th>    </tr></thead><tbody>\n",
       "                <tr>\n",
       "                        <th id=\"T_eb0202a2_3d9c_11ec_a05c_5c879c826b52level0_row0\" class=\"row_heading level0 row0\" >202001</th>\n",
       "                        <td id=\"T_eb0202a2_3d9c_11ec_a05c_5c879c826b52row0_col0\" class=\"data row0 col0\" >2.242769</td>\n",
       "                        <td id=\"T_eb0202a2_3d9c_11ec_a05c_5c879c826b52row0_col1\" class=\"data row0 col1\" >2.065284</td>\n",
       "                        <td id=\"T_eb0202a2_3d9c_11ec_a05c_5c879c826b52row0_col2\" class=\"data row0 col2\" >1.000372</td>\n",
       "            </tr>\n",
       "            <tr>\n",
       "                        <th id=\"T_eb0202a2_3d9c_11ec_a05c_5c879c826b52level0_row1\" class=\"row_heading level0 row1\" >202002</th>\n",
       "                        <td id=\"T_eb0202a2_3d9c_11ec_a05c_5c879c826b52row1_col0\" class=\"data row1 col0\" >2.358053</td>\n",
       "                        <td id=\"T_eb0202a2_3d9c_11ec_a05c_5c879c826b52row1_col1\" class=\"data row1 col1\" >1.982908</td>\n",
       "                        <td id=\"T_eb0202a2_3d9c_11ec_a05c_5c879c826b52row1_col2\" class=\"data row1 col2\" >1.036114</td>\n",
       "            </tr>\n",
       "            <tr>\n",
       "                        <th id=\"T_eb0202a2_3d9c_11ec_a05c_5c879c826b52level0_row2\" class=\"row_heading level0 row2\" >202003</th>\n",
       "                        <td id=\"T_eb0202a2_3d9c_11ec_a05c_5c879c826b52row2_col0\" class=\"data row2 col0\" >2.323316</td>\n",
       "                        <td id=\"T_eb0202a2_3d9c_11ec_a05c_5c879c826b52row2_col1\" class=\"data row2 col1\" >1.877749</td>\n",
       "                        <td id=\"T_eb0202a2_3d9c_11ec_a05c_5c879c826b52row2_col2\" class=\"data row2 col2\" >0.954787</td>\n",
       "            </tr>\n",
       "            <tr>\n",
       "                        <th id=\"T_eb0202a2_3d9c_11ec_a05c_5c879c826b52level0_row3\" class=\"row_heading level0 row3\" >All</th>\n",
       "                        <td id=\"T_eb0202a2_3d9c_11ec_a05c_5c879c826b52row3_col0\" class=\"data row3 col0\" >2.306531</td>\n",
       "                        <td id=\"T_eb0202a2_3d9c_11ec_a05c_5c879c826b52row3_col1\" class=\"data row3 col1\" >1.969125</td>\n",
       "                        <td id=\"T_eb0202a2_3d9c_11ec_a05c_5c879c826b52row3_col2\" class=\"data row3 col2\" >1.017750</td>\n",
       "            </tr>\n",
       "    </tbody></table>"
      ],
      "text/plain": [
       "<pandas.io.formats.style.Styler at 0x1e707c50>"
      ]
     },
     "execution_count": 318,
     "metadata": {},
     "output_type": "execute_result"
    }
   ],
   "source": [
    "lite.get_table()\n",
    "lite.table"
   ]
  },
  {
   "cell_type": "markdown",
   "metadata": {
    "ExecuteTime": {
     "end_time": "2021-02-05T10:03:05.945149Z",
     "start_time": "2021-02-05T10:03:05.854099Z"
    }
   },
   "source": [
    "## KS in Time Evaluator"
   ]
  },
  {
   "cell_type": "code",
   "execution_count": 319,
   "metadata": {
    "ExecuteTime": {
     "end_time": "2021-11-04T18:27:51.002311Z",
     "start_time": "2021-11-04T18:27:50.877287Z"
    }
   },
   "outputs": [],
   "source": [
    "from mofr.basic_evaluators.KSInTime import KSInTimeEvaluator\n",
    "\n",
    "kite=KSInTimeEvaluator()"
   ]
  },
  {
   "cell_type": "code",
   "execution_count": 320,
   "metadata": {
    "ExecuteTime": {
     "end_time": "2021-11-04T18:27:51.160274Z",
     "start_time": "2021-11-04T18:27:51.005279Z"
    }
   },
   "outputs": [
    {
     "data": {
      "text/plain": []
     },
     "execution_count": 320,
     "metadata": {},
     "output_type": "execute_result"
    }
   ],
   "source": [
    "kite.d(df).t([('target','target_obs')]).s(['p_churn', 'semi_random_score','random_score']).tc('month')"
   ]
  },
  {
   "cell_type": "code",
   "execution_count": 321,
   "metadata": {
    "ExecuteTime": {
     "end_time": "2021-11-04T18:27:51.842362Z",
     "start_time": "2021-11-04T18:27:51.162273Z"
    }
   },
   "outputs": [
    {
     "data": {
      "image/png": "[encoded data removed]",
      "text/plain": [
       "<Figure size 504x576 with 1 Axes>"
      ]
     },
     "metadata": {
      "needs_background": "light"
     },
     "output_type": "display_data"
    },
    {
     "data": {
      "text/plain": []
     },
     "execution_count": 321,
     "metadata": {},
     "output_type": "execute_result"
    }
   ],
   "source": [
    "kite.get_graph()"
   ]
  },
  {
   "cell_type": "code",
   "execution_count": 322,
   "metadata": {
    "ExecuteTime": {
     "end_time": "2021-11-04T18:27:52.599387Z",
     "start_time": "2021-11-04T18:27:51.847281Z"
    }
   },
   "outputs": [
    {
     "data": {
      "text/html": [
       "<style  type=\"text/css\" >\n",
       "</style><table id=\"T_ec08c598_3d9c_11ec_8d54_5c879c826b52\" style='display:inline'><caption>KS on target \"target\"</caption><thead>    <tr>        <th class=\"blank level0\" ></th>        <th class=\"col_heading level0 col0\" >p_churn</th>        <th class=\"col_heading level0 col1\" >semi_random_score</th>        <th class=\"col_heading level0 col2\" >random_score</th>    </tr>    <tr>        <th class=\"index_name level0\" >month</th>        <th class=\"blank\" ></th>        <th class=\"blank\" ></th>        <th class=\"blank\" ></th>    </tr></thead><tbody>\n",
       "                <tr>\n",
       "                        <th id=\"T_ec08c598_3d9c_11ec_8d54_5c879c826b52level0_row0\" class=\"row_heading level0 row0\" >202001</th>\n",
       "                        <td id=\"T_ec08c598_3d9c_11ec_8d54_5c879c826b52row0_col0\" class=\"data row0 col0\" >0.593582</td>\n",
       "                        <td id=\"T_ec08c598_3d9c_11ec_8d54_5c879c826b52row0_col1\" class=\"data row0 col1\" >0.239686</td>\n",
       "                        <td id=\"T_ec08c598_3d9c_11ec_8d54_5c879c826b52row0_col2\" class=\"data row0 col2\" >0.021523</td>\n",
       "            </tr>\n",
       "            <tr>\n",
       "                        <th id=\"T_ec08c598_3d9c_11ec_8d54_5c879c826b52level0_row1\" class=\"row_heading level0 row1\" >202002</th>\n",
       "                        <td id=\"T_ec08c598_3d9c_11ec_8d54_5c879c826b52row1_col0\" class=\"data row1 col0\" >0.549870</td>\n",
       "                        <td id=\"T_ec08c598_3d9c_11ec_8d54_5c879c826b52row1_col1\" class=\"data row1 col1\" >0.219489</td>\n",
       "                        <td id=\"T_ec08c598_3d9c_11ec_8d54_5c879c826b52row1_col2\" class=\"data row1 col2\" >0.047142</td>\n",
       "            </tr>\n",
       "            <tr>\n",
       "                        <th id=\"T_ec08c598_3d9c_11ec_8d54_5c879c826b52level0_row2\" class=\"row_heading level0 row2\" >202003</th>\n",
       "                        <td id=\"T_ec08c598_3d9c_11ec_8d54_5c879c826b52row2_col0\" class=\"data row2 col0\" >0.621927</td>\n",
       "                        <td id=\"T_ec08c598_3d9c_11ec_8d54_5c879c826b52row2_col1\" class=\"data row2 col1\" >0.202916</td>\n",
       "                        <td id=\"T_ec08c598_3d9c_11ec_8d54_5c879c826b52row2_col2\" class=\"data row2 col2\" >0.044293</td>\n",
       "            </tr>\n",
       "            <tr>\n",
       "                        <th id=\"T_ec08c598_3d9c_11ec_8d54_5c879c826b52level0_row3\" class=\"row_heading level0 row3\" >All</th>\n",
       "                        <td id=\"T_ec08c598_3d9c_11ec_8d54_5c879c826b52row3_col0\" class=\"data row3 col0\" >0.588207</td>\n",
       "                        <td id=\"T_ec08c598_3d9c_11ec_8d54_5c879c826b52row3_col1\" class=\"data row3 col1\" >0.216893</td>\n",
       "                        <td id=\"T_ec08c598_3d9c_11ec_8d54_5c879c826b52row3_col2\" class=\"data row3 col2\" >0.022298</td>\n",
       "            </tr>\n",
       "    </tbody></table>"
      ],
      "text/plain": [
       "<pandas.io.formats.style.Styler at 0x20206550>"
      ]
     },
     "execution_count": 322,
     "metadata": {},
     "output_type": "execute_result"
    }
   ],
   "source": [
    "kite.get_table()\n",
    "kite.table"
   ]
  },
  {
   "cell_type": "markdown",
   "metadata": {
    "ExecuteTime": {
     "end_time": "2021-02-05T10:03:05.945149Z",
     "start_time": "2021-02-05T10:03:05.854099Z"
    }
   },
   "source": [
    "## StabilityInTimeCategorical Evaluator"
   ]
  },
  {
   "cell_type": "code",
   "execution_count": 323,
   "metadata": {
    "ExecuteTime": {
     "end_time": "2021-11-04T18:27:52.711389Z",
     "start_time": "2021-11-04T18:27:52.601389Z"
    }
   },
   "outputs": [],
   "source": [
    "df['categorical_predictor']=df['target_obs'].apply(lambda x: random.choice(['A','B','C', 'D', 'F', 'G', 'H']))"
   ]
  },
  {
   "cell_type": "code",
   "execution_count": 324,
   "metadata": {
    "ExecuteTime": {
     "end_time": "2021-11-04T18:27:52.822426Z",
     "start_time": "2021-11-04T18:27:52.713391Z"
    }
   },
   "outputs": [],
   "source": [
    "from mofr.basic_evaluators.StabilityInTimeCategorical import StabilityInTimeCategoricalEvaluator\n",
    "\n",
    "sitcae=StabilityInTimeCategoricalEvaluator()"
   ]
  },
  {
   "cell_type": "code",
   "execution_count": 325,
   "metadata": {
    "ExecuteTime": {
     "end_time": "2021-11-04T18:27:52.932431Z",
     "start_time": "2021-11-04T18:27:52.824388Z"
    }
   },
   "outputs": [
    {
     "data": {
      "text/plain": []
     },
     "execution_count": 325,
     "metadata": {},
     "output_type": "execute_result"
    }
   ],
   "source": [
    "sitcae.d(df).pc('categorical_predictor').tc('month')"
   ]
  },
  {
   "cell_type": "code",
   "execution_count": 326,
   "metadata": {
    "ExecuteTime": {
     "end_time": "2021-11-04T18:27:53.409388Z",
     "start_time": "2021-11-04T18:27:52.934395Z"
    }
   },
   "outputs": [
    {
     "data": {
      "image/png": "[encoded data removed]",
      "text/plain": [
       "<Figure size 504x576 with 1 Axes>"
      ]
     },
     "metadata": {
      "needs_background": "light"
     },
     "output_type": "display_data"
    },
    {
     "data": {
      "text/plain": []
     },
     "execution_count": 326,
     "metadata": {},
     "output_type": "execute_result"
    }
   ],
   "source": [
    "sitcae.get_graph()"
   ]
  },
  {
   "cell_type": "code",
   "execution_count": 327,
   "metadata": {
    "ExecuteTime": {
     "end_time": "2021-11-04T18:27:53.549388Z",
     "start_time": "2021-11-04T18:27:53.412395Z"
    }
   },
   "outputs": [
    {
     "data": {
      "text/html": [
       "<style  type=\"text/css\" >\n",
       "</style><table id=\"T_ec9a8288_3d9c_11ec_8570_5c879c826b52\" style='display:inline'><caption>Distribution of predictor \"categorical_predictor\" in time</caption><thead>    <tr>        <th class=\"index_name level0\" >categorical_predictor</th>        <th class=\"col_heading level0 col0\" >A</th>        <th class=\"col_heading level0 col1\" >B</th>        <th class=\"col_heading level0 col2\" >C</th>        <th class=\"col_heading level0 col3\" >D</th>        <th class=\"col_heading level0 col4\" >F</th>        <th class=\"col_heading level0 col5\" >G</th>        <th class=\"col_heading level0 col6\" >H</th>    </tr>    <tr>        <th class=\"index_name level0\" >month</th>        <th class=\"blank\" ></th>        <th class=\"blank\" ></th>        <th class=\"blank\" ></th>        <th class=\"blank\" ></th>        <th class=\"blank\" ></th>        <th class=\"blank\" ></th>        <th class=\"blank\" ></th>    </tr></thead><tbody>\n",
       "                <tr>\n",
       "                        <th id=\"T_ec9a8288_3d9c_11ec_8570_5c879c826b52level0_row0\" class=\"row_heading level0 row0\" >202001</th>\n",
       "                        <td id=\"T_ec9a8288_3d9c_11ec_8570_5c879c826b52row0_col0\" class=\"data row0 col0\" >0.137124</td>\n",
       "                        <td id=\"T_ec9a8288_3d9c_11ec_8570_5c879c826b52row0_col1\" class=\"data row0 col1\" >0.144928</td>\n",
       "                        <td id=\"T_ec9a8288_3d9c_11ec_8570_5c879c826b52row0_col2\" class=\"data row0 col2\" >0.136381</td>\n",
       "                        <td id=\"T_ec9a8288_3d9c_11ec_8570_5c879c826b52row0_col3\" class=\"data row0 col3\" >0.142326</td>\n",
       "                        <td id=\"T_ec9a8288_3d9c_11ec_8570_5c879c826b52row0_col4\" class=\"data row0 col4\" >0.150502</td>\n",
       "                        <td id=\"T_ec9a8288_3d9c_11ec_8570_5c879c826b52row0_col5\" class=\"data row0 col5\" >0.137495</td>\n",
       "                        <td id=\"T_ec9a8288_3d9c_11ec_8570_5c879c826b52row0_col6\" class=\"data row0 col6\" >0.151245</td>\n",
       "            </tr>\n",
       "            <tr>\n",
       "                        <th id=\"T_ec9a8288_3d9c_11ec_8570_5c879c826b52level0_row1\" class=\"row_heading level0 row1\" >202002</th>\n",
       "                        <td id=\"T_ec9a8288_3d9c_11ec_8570_5c879c826b52row1_col0\" class=\"data row1 col0\" >0.145890</td>\n",
       "                        <td id=\"T_ec9a8288_3d9c_11ec_8570_5c879c826b52row1_col1\" class=\"data row1 col1\" >0.140100</td>\n",
       "                        <td id=\"T_ec9a8288_3d9c_11ec_8570_5c879c826b52row1_col2\" class=\"data row1 col2\" >0.151293</td>\n",
       "                        <td id=\"T_ec9a8288_3d9c_11ec_8570_5c879c826b52row1_col3\" class=\"data row1 col3\" >0.138171</td>\n",
       "                        <td id=\"T_ec9a8288_3d9c_11ec_8570_5c879c826b52row1_col4\" class=\"data row1 col4\" >0.143574</td>\n",
       "                        <td id=\"T_ec9a8288_3d9c_11ec_8570_5c879c826b52row1_col5\" class=\"data row1 col5\" >0.148205</td>\n",
       "                        <td id=\"T_ec9a8288_3d9c_11ec_8570_5c879c826b52row1_col6\" class=\"data row1 col6\" >0.132767</td>\n",
       "            </tr>\n",
       "            <tr>\n",
       "                        <th id=\"T_ec9a8288_3d9c_11ec_8570_5c879c826b52level0_row2\" class=\"row_heading level0 row2\" >202003</th>\n",
       "                        <td id=\"T_ec9a8288_3d9c_11ec_8570_5c879c826b52row2_col0\" class=\"data row2 col0\" >0.133258</td>\n",
       "                        <td id=\"T_ec9a8288_3d9c_11ec_8570_5c879c826b52row2_col1\" class=\"data row2 col1\" >0.152778</td>\n",
       "                        <td id=\"T_ec9a8288_3d9c_11ec_8570_5c879c826b52row2_col2\" class=\"data row2 col2\" >0.152027</td>\n",
       "                        <td id=\"T_ec9a8288_3d9c_11ec_8570_5c879c826b52row2_col3\" class=\"data row2 col3\" >0.154655</td>\n",
       "                        <td id=\"T_ec9a8288_3d9c_11ec_8570_5c879c826b52row2_col4\" class=\"data row2 col4\" >0.139264</td>\n",
       "                        <td id=\"T_ec9a8288_3d9c_11ec_8570_5c879c826b52row2_col5\" class=\"data row2 col5\" >0.137012</td>\n",
       "                        <td id=\"T_ec9a8288_3d9c_11ec_8570_5c879c826b52row2_col6\" class=\"data row2 col6\" >0.131006</td>\n",
       "            </tr>\n",
       "    </tbody></table>"
      ],
      "text/plain": [
       "<pandas.io.formats.style.Styler at 0x1e32b810>"
      ]
     },
     "execution_count": 327,
     "metadata": {},
     "output_type": "execute_result"
    }
   ],
   "source": [
    "sitcae.get_table()\n",
    "sitcae.table"
   ]
  },
  {
   "cell_type": "markdown",
   "metadata": {
    "ExecuteTime": {
     "end_time": "2021-02-05T10:03:05.945149Z",
     "start_time": "2021-02-05T10:03:05.854099Z"
    }
   },
   "source": [
    "## StabilityInTimeContinuous Evaluator"
   ]
  },
  {
   "cell_type": "code",
   "execution_count": 328,
   "metadata": {
    "ExecuteTime": {
     "end_time": "2021-11-04T18:27:53.661390Z",
     "start_time": "2021-11-04T18:27:53.551388Z"
    }
   },
   "outputs": [],
   "source": [
    "from mofr.basic_evaluators.StabilityInTimeContinuous import StabilityInTimeContinuousEvaluator\n",
    "\n",
    "sitcoe=StabilityInTimeContinuousEvaluator()"
   ]
  },
  {
   "cell_type": "code",
   "execution_count": 329,
   "metadata": {
    "ExecuteTime": {
     "end_time": "2021-11-04T18:27:53.772653Z",
     "start_time": "2021-11-04T18:27:53.664389Z"
    }
   },
   "outputs": [
    {
     "data": {
      "text/plain": []
     },
     "execution_count": 329,
     "metadata": {},
     "output_type": "execute_result"
    }
   ],
   "source": [
    "sitcoe.d(df).pc('p_churn').tc('month')"
   ]
  },
  {
   "cell_type": "code",
   "execution_count": 330,
   "metadata": {
    "ExecuteTime": {
     "end_time": "2021-11-04T18:27:54.217754Z",
     "start_time": "2021-11-04T18:27:53.774391Z"
    }
   },
   "outputs": [
    {
     "data": {
      "image/png": "[encoded data removed]",
      "text/plain": [
       "<Figure size 504x576 with 1 Axes>"
      ]
     },
     "metadata": {
      "needs_background": "light"
     },
     "output_type": "display_data"
    },
    {
     "data": {
      "text/plain": []
     },
     "execution_count": 330,
     "metadata": {},
     "output_type": "execute_result"
    }
   ],
   "source": [
    "sitcoe.get_graph()"
   ]
  },
  {
   "cell_type": "code",
   "execution_count": 331,
   "metadata": {
    "ExecuteTime": {
     "end_time": "2021-11-04T18:27:54.377387Z",
     "start_time": "2021-11-04T18:27:54.230387Z"
    }
   },
   "outputs": [
    {
     "data": {
      "text/html": [
       "<style  type=\"text/css\" >\n",
       "</style><table id=\"T_ed194e34_3d9c_11ec_970b_5c879c826b52\" style='display:inline'><caption>Distribution of predictor \"p_churn\" in time</caption><thead>    <tr>        <th class=\"blank level0\" ></th>        <th class=\"col_heading level0 col0\" >percentile_10</th>        <th class=\"col_heading level0 col1\" >percentile_25</th>        <th class=\"col_heading level0 col2\" >percentile_50</th>        <th class=\"col_heading level0 col3\" >percentile_75</th>        <th class=\"col_heading level0 col4\" >percentile_90</th>    </tr>    <tr>        <th class=\"index_name level0\" >month</th>        <th class=\"blank\" ></th>        <th class=\"blank\" ></th>        <th class=\"blank\" ></th>        <th class=\"blank\" ></th>        <th class=\"blank\" ></th>    </tr></thead><tbody>\n",
       "                <tr>\n",
       "                        <th id=\"T_ed194e34_3d9c_11ec_970b_5c879c826b52level0_row0\" class=\"row_heading level0 row0\" >202001</th>\n",
       "                        <td id=\"T_ed194e34_3d9c_11ec_970b_5c879c826b52row0_col0\" class=\"data row0 col0\" >0.001139</td>\n",
       "                        <td id=\"T_ed194e34_3d9c_11ec_970b_5c879c826b52row0_col1\" class=\"data row0 col1\" >0.003349</td>\n",
       "                        <td id=\"T_ed194e34_3d9c_11ec_970b_5c879c826b52row0_col2\" class=\"data row0 col2\" >0.025581</td>\n",
       "                        <td id=\"T_ed194e34_3d9c_11ec_970b_5c879c826b52row0_col3\" class=\"data row0 col3\" >0.256419</td>\n",
       "                        <td id=\"T_ed194e34_3d9c_11ec_970b_5c879c826b52row0_col4\" class=\"data row0 col4\" >0.449709</td>\n",
       "            </tr>\n",
       "            <tr>\n",
       "                        <th id=\"T_ed194e34_3d9c_11ec_970b_5c879c826b52level0_row1\" class=\"row_heading level0 row1\" >202002</th>\n",
       "                        <td id=\"T_ed194e34_3d9c_11ec_970b_5c879c826b52row1_col0\" class=\"data row1 col0\" >0.001173</td>\n",
       "                        <td id=\"T_ed194e34_3d9c_11ec_970b_5c879c826b52row1_col1\" class=\"data row1 col1\" >0.003286</td>\n",
       "                        <td id=\"T_ed194e34_3d9c_11ec_970b_5c879c826b52row1_col2\" class=\"data row1 col2\" >0.022429</td>\n",
       "                        <td id=\"T_ed194e34_3d9c_11ec_970b_5c879c826b52row1_col3\" class=\"data row1 col3\" >0.242105</td>\n",
       "                        <td id=\"T_ed194e34_3d9c_11ec_970b_5c879c826b52row1_col4\" class=\"data row1 col4\" >0.386693</td>\n",
       "            </tr>\n",
       "            <tr>\n",
       "                        <th id=\"T_ed194e34_3d9c_11ec_970b_5c879c826b52level0_row2\" class=\"row_heading level0 row2\" >202003</th>\n",
       "                        <td id=\"T_ed194e34_3d9c_11ec_970b_5c879c826b52row2_col0\" class=\"data row2 col0\" >0.001111</td>\n",
       "                        <td id=\"T_ed194e34_3d9c_11ec_970b_5c879c826b52row2_col1\" class=\"data row2 col1\" >0.002938</td>\n",
       "                        <td id=\"T_ed194e34_3d9c_11ec_970b_5c879c826b52row2_col2\" class=\"data row2 col2\" >0.019563</td>\n",
       "                        <td id=\"T_ed194e34_3d9c_11ec_970b_5c879c826b52row2_col3\" class=\"data row2 col3\" >0.246829</td>\n",
       "                        <td id=\"T_ed194e34_3d9c_11ec_970b_5c879c826b52row2_col4\" class=\"data row2 col4\" >0.386225</td>\n",
       "            </tr>\n",
       "    </tbody></table>"
      ],
      "text/plain": [
       "<pandas.io.formats.style.Styler at 0x1e592c10>"
      ]
     },
     "execution_count": 331,
     "metadata": {},
     "output_type": "execute_result"
    }
   ],
   "source": [
    "sitcoe.get_table()\n",
    "sitcoe.table"
   ]
  },
  {
   "cell_type": "markdown",
   "metadata": {
    "ExecuteTime": {
     "end_time": "2021-02-05T10:03:05.945149Z",
     "start_time": "2021-02-05T10:03:05.854099Z"
    }
   },
   "source": [
    "## HistogramCategorical Evaluator"
   ]
  },
  {
   "cell_type": "code",
   "execution_count": 351,
   "metadata": {
    "ExecuteTime": {
     "end_time": "2021-11-04T18:34:14.658818Z",
     "start_time": "2021-11-04T18:34:14.483846Z"
    }
   },
   "outputs": [],
   "source": [
    "df['categorical_predictor']=df['target_obs'].apply(lambda x: random.choice(['A','B','C', 'D', 'F', 'G', 'H']))"
   ]
  },
  {
   "cell_type": "code",
   "execution_count": 352,
   "metadata": {
    "ExecuteTime": {
     "end_time": "2021-11-04T18:34:15.147857Z",
     "start_time": "2021-11-04T18:34:15.053818Z"
    }
   },
   "outputs": [],
   "source": [
    "from mofr.basic_evaluators.HistogramCategorical import HistogramCategoricalEvaluator\n",
    "\n",
    "hcae=HistogramCategoricalEvaluator()"
   ]
  },
  {
   "cell_type": "code",
   "execution_count": 353,
   "metadata": {
    "ExecuteTime": {
     "end_time": "2021-11-04T18:34:15.618859Z",
     "start_time": "2021-11-04T18:34:15.527845Z"
    }
   },
   "outputs": [
    {
     "data": {
      "text/plain": []
     },
     "execution_count": 353,
     "metadata": {},
     "output_type": "execute_result"
    }
   ],
   "source": [
    "hcae.d(df).pc('categorical_predictor')"
   ]
  },
  {
   "cell_type": "code",
   "execution_count": 354,
   "metadata": {
    "ExecuteTime": {
     "end_time": "2021-11-04T18:34:16.298848Z",
     "start_time": "2021-11-04T18:34:16.001819Z"
    }
   },
   "outputs": [
    {
     "data": {
      "image/png": "[encoded data removed]",
      "text/plain": [
       "<Figure size 504x576 with 1 Axes>"
      ]
     },
     "metadata": {
      "needs_background": "light"
     },
     "output_type": "display_data"
    },
    {
     "data": {
      "text/plain": []
     },
     "execution_count": 354,
     "metadata": {},
     "output_type": "execute_result"
    }
   ],
   "source": [
    "hcae.get_graph()"
   ]
  },
  {
   "cell_type": "code",
   "execution_count": 355,
   "metadata": {
    "ExecuteTime": {
     "end_time": "2021-11-04T18:34:16.946619Z",
     "start_time": "2021-11-04T18:34:16.836906Z"
    }
   },
   "outputs": [
    {
     "data": {
      "text/html": [
       "<div>\n",
       "<style scoped>\n",
       "    .dataframe tbody tr th:only-of-type {\n",
       "        vertical-align: middle;\n",
       "    }\n",
       "\n",
       "    .dataframe tbody tr th {\n",
       "        vertical-align: top;\n",
       "    }\n",
       "\n",
       "    .dataframe thead th {\n",
       "        text-align: right;\n",
       "    }\n",
       "</style>\n",
       "<table border=\"1\" class=\"dataframe\">\n",
       "  <thead>\n",
       "    <tr style=\"text-align: right;\">\n",
       "      <th></th>\n",
       "      <th>categorical_predictor %</th>\n",
       "      <th>categorical_predictor</th>\n",
       "    </tr>\n",
       "  </thead>\n",
       "  <tbody>\n",
       "    <tr>\n",
       "      <th>A</th>\n",
       "      <td>0.146615</td>\n",
       "      <td>1165</td>\n",
       "    </tr>\n",
       "    <tr>\n",
       "      <th>H</th>\n",
       "      <td>0.145104</td>\n",
       "      <td>1153</td>\n",
       "    </tr>\n",
       "    <tr>\n",
       "      <th>F</th>\n",
       "      <td>0.143217</td>\n",
       "      <td>1138</td>\n",
       "    </tr>\n",
       "    <tr>\n",
       "      <th>C</th>\n",
       "      <td>0.142965</td>\n",
       "      <td>1136</td>\n",
       "    </tr>\n",
       "    <tr>\n",
       "      <th>D</th>\n",
       "      <td>0.142713</td>\n",
       "      <td>1134</td>\n",
       "    </tr>\n",
       "    <tr>\n",
       "      <th>B</th>\n",
       "      <td>0.140070</td>\n",
       "      <td>1113</td>\n",
       "    </tr>\n",
       "    <tr>\n",
       "      <th>G</th>\n",
       "      <td>0.139315</td>\n",
       "      <td>1107</td>\n",
       "    </tr>\n",
       "  </tbody>\n",
       "</table>\n",
       "</div>"
      ],
      "text/plain": [
       "   categorical_predictor %  categorical_predictor\n",
       "A                 0.146615                   1165\n",
       "H                 0.145104                   1153\n",
       "F                 0.143217                   1138\n",
       "C                 0.142965                   1136\n",
       "D                 0.142713                   1134\n",
       "B                 0.140070                   1113\n",
       "G                 0.139315                   1107"
      ]
     },
     "execution_count": 355,
     "metadata": {},
     "output_type": "execute_result"
    }
   ],
   "source": [
    "hcae.get_table()\n",
    "pd.DataFrame(hcae.table)"
   ]
  },
  {
   "cell_type": "markdown",
   "metadata": {
    "ExecuteTime": {
     "end_time": "2021-02-05T10:03:05.945149Z",
     "start_time": "2021-02-05T10:03:05.854099Z"
    }
   },
   "source": [
    "## HistogramContinuous Evaluator"
   ]
  },
  {
   "cell_type": "code",
   "execution_count": 384,
   "metadata": {
    "ExecuteTime": {
     "end_time": "2021-11-04T18:46:58.755855Z",
     "start_time": "2021-11-04T18:46:58.597854Z"
    }
   },
   "outputs": [],
   "source": [
    "from mofr.basic_evaluators.HistogramContinuous import HistogramContinuousEvaluator\n",
    "\n",
    "hcoe=HistogramContinuousEvaluator()"
   ]
  },
  {
   "cell_type": "code",
   "execution_count": 385,
   "metadata": {
    "ExecuteTime": {
     "end_time": "2021-11-04T18:46:59.245199Z",
     "start_time": "2021-11-04T18:46:59.151821Z"
    }
   },
   "outputs": [
    {
     "data": {
      "text/plain": []
     },
     "execution_count": 385,
     "metadata": {},
     "output_type": "execute_result"
    }
   ],
   "source": [
    "hcoe.d(df).pc('p_churn')"
   ]
  },
  {
   "cell_type": "code",
   "execution_count": 386,
   "metadata": {
    "ExecuteTime": {
     "end_time": "2021-11-04T18:46:59.926823Z",
     "start_time": "2021-11-04T18:46:59.625822Z"
    },
    "scrolled": true
   },
   "outputs": [
    {
     "data": {
      "image/png": "[encoded data removed]",
      "text/plain": [
       "<Figure size 504x576 with 1 Axes>"
      ]
     },
     "metadata": {
      "needs_background": "light"
     },
     "output_type": "display_data"
    },
    {
     "data": {
      "text/plain": []
     },
     "execution_count": 386,
     "metadata": {},
     "output_type": "execute_result"
    }
   ],
   "source": [
    "hcoe.get_graph()"
   ]
  },
  {
   "cell_type": "code",
   "execution_count": 387,
   "metadata": {
    "ExecuteTime": {
     "end_time": "2021-11-04T18:47:00.464619Z",
     "start_time": "2021-11-04T18:47:00.324821Z"
    }
   },
   "outputs": [
    {
     "data": {
      "text/html": [
       "<style  type=\"text/css\" >\n",
       "</style><table id=\"T_9837ec02_3d9f_11ec_ad72_5c879c826b52\" style='display:inline'><caption>Percentiles of predictor \"p_churn\"</caption><thead>    <tr>        <th class=\"index_name level0\" >one</th>        <th class=\"col_heading level0 col0\" >Percentiles</th>    </tr></thead><tbody>\n",
       "                <tr>\n",
       "                        <th id=\"T_9837ec02_3d9f_11ec_ad72_5c879c826b52level0_row0\" class=\"row_heading level0 row0\" >percentile_10</th>\n",
       "                        <td id=\"T_9837ec02_3d9f_11ec_ad72_5c879c826b52row0_col0\" class=\"data row0 col0\" >0.001139</td>\n",
       "            </tr>\n",
       "            <tr>\n",
       "                        <th id=\"T_9837ec02_3d9f_11ec_ad72_5c879c826b52level0_row1\" class=\"row_heading level0 row1\" >percentile_25</th>\n",
       "                        <td id=\"T_9837ec02_3d9f_11ec_ad72_5c879c826b52row1_col0\" class=\"data row1 col0\" >0.003166</td>\n",
       "            </tr>\n",
       "            <tr>\n",
       "                        <th id=\"T_9837ec02_3d9f_11ec_ad72_5c879c826b52level0_row2\" class=\"row_heading level0 row2\" >percentile_50</th>\n",
       "                        <td id=\"T_9837ec02_3d9f_11ec_ad72_5c879c826b52row2_col0\" class=\"data row2 col0\" >0.021627</td>\n",
       "            </tr>\n",
       "            <tr>\n",
       "                        <th id=\"T_9837ec02_3d9f_11ec_ad72_5c879c826b52level0_row3\" class=\"row_heading level0 row3\" >percentile_75</th>\n",
       "                        <td id=\"T_9837ec02_3d9f_11ec_ad72_5c879c826b52row3_col0\" class=\"data row3 col0\" >0.247600</td>\n",
       "            </tr>\n",
       "            <tr>\n",
       "                        <th id=\"T_9837ec02_3d9f_11ec_ad72_5c879c826b52level0_row4\" class=\"row_heading level0 row4\" >percentile_90</th>\n",
       "                        <td id=\"T_9837ec02_3d9f_11ec_ad72_5c879c826b52row4_col0\" class=\"data row4 col0\" >0.401849</td>\n",
       "            </tr>\n",
       "    </tbody></table>"
      ],
      "text/plain": [
       "<pandas.io.formats.style.Styler at 0x2020c570>"
      ]
     },
     "execution_count": 387,
     "metadata": {},
     "output_type": "execute_result"
    }
   ],
   "source": [
    "hcoe.get_table()\n",
    "hcoe.table"
   ]
  },
  {
   "cell_type": "markdown",
   "metadata": {},
   "source": [
    "# Misc"
   ]
  },
  {
   "cell_type": "code",
   "execution_count": 196,
   "metadata": {
    "ExecuteTime": {
     "end_time": "2021-11-04T17:38:36.917930Z",
     "start_time": "2021-11-04T17:38:36.777759Z"
    }
   },
   "outputs": [],
   "source": [
    "df['categorical_predictor']=df['target_obs'].apply(lambda x: random.choice(['A','B','C', 'D', 'F', 'G', 'H']))"
   ]
  },
  {
   "cell_type": "code",
   "execution_count": null,
   "metadata": {},
   "outputs": [],
   "source": [
    "df['categorical_predictor'].value_counts(dropna=False, normalize=True).plot.bar(color=['navy', 'turquoise', 'darkorange', 'cornflowerblue', 'teal'])"
   ]
  },
  {
   "cell_type": "code",
   "execution_count": 210,
   "metadata": {
    "ExecuteTime": {
     "end_time": "2021-11-04T17:52:16.301570Z",
     "start_time": "2021-11-04T17:52:16.192573Z"
    }
   },
   "outputs": [
    {
     "data": {
      "text/plain": [
       "C    0.147118\n",
       "G    0.146866\n",
       "A    0.144979\n",
       "B    0.143343\n",
       "F    0.140951\n",
       "D    0.140574\n",
       "H    0.136169\n",
       "Name: categorical_predictor, dtype: float64"
      ]
     },
     "execution_count": 210,
     "metadata": {},
     "output_type": "execute_result"
    }
   ],
   "source": [
    "a=df['categorical_predictor'].value_counts(dropna=False, normalize=True)\n",
    "a"
   ]
  },
  {
   "cell_type": "code",
   "execution_count": 361,
   "metadata": {
    "ExecuteTime": {
     "end_time": "2021-11-04T18:36:39.965131Z",
     "start_time": "2021-11-04T18:36:39.636092Z"
    }
   },
   "outputs": [
    {
     "data": {
      "image/png": "[encoded data removed]",
      "text/plain": [
       "<Figure size 504x576 with 1 Axes>"
      ]
     },
     "metadata": {
      "needs_background": "light"
     },
     "output_type": "display_data"
    }
   ],
   "source": [
    "import numpy as np\n",
    "import matplotlib.pyplot as plt\n",
    "\n",
    "plt.figure(figsize=(7, 8))\n",
    "\n",
    "# the histogram of the data\n",
    "n, bins, patches = plt.hist(df['p_churn'], bins='doane', density=False, facecolor='b', alpha=0.75)\n",
    "\n",
    "\n",
    "plt.xlabel('Smarts')\n",
    "plt.ylabel('Probability')\n",
    "plt.title('Histogram of IQ')\n",
    "#plt.xlim(40, 160)\n",
    "#plt.ylim(0, 0.03)\n",
    "plt.grid(True)\n",
    "plt.show()"
   ]
  },
  {
   "cell_type": "code",
   "execution_count": 212,
   "metadata": {
    "ExecuteTime": {
     "end_time": "2021-11-04T17:52:40.760758Z",
     "start_time": "2021-11-04T17:52:40.654715Z"
    }
   },
   "outputs": [
    {
     "data": {
      "text/plain": [
       "array([0.14711805, 0.14686635, 0.14497861, 0.14334256, 0.14095142,\n",
       "       0.14057387, 0.13616914])"
      ]
     },
     "execution_count": 212,
     "metadata": {},
     "output_type": "execute_result"
    }
   ],
   "source": [
    "a.values"
   ]
  },
  {
   "cell_type": "code",
   "execution_count": 83,
   "metadata": {
    "ExecuteTime": {
     "end_time": "2021-11-03T14:59:05.017176Z",
     "start_time": "2021-11-03T14:59:04.922846Z"
    }
   },
   "outputs": [],
   "source": [
    "list(df[self.predictor_column].unique())"
   ]
  },
  {
   "cell_type": "code",
   "execution_count": 97,
   "metadata": {
    "ExecuteTime": {
     "end_time": "2021-11-03T15:15:15.587683Z",
     "start_time": "2021-11-03T15:15:15.362682Z"
    }
   },
   "outputs": [
    {
     "data": {
      "image/png": "[encoded data removed]",
      "text/plain": [
       "<Figure size 432x288 with 1 Axes>"
      ]
     },
     "metadata": {
      "needs_background": "light"
     },
     "output_type": "display_data"
    }
   ],
   "source": [
    "l, = plt.plot(a['A'])\n",
    "\n",
    "\n",
    "#set plotting parameters\n",
    "fig = plt.gcf()\n",
    "fig.subplots_adjust(bottom=0.25)\n",
    "plt.ticklabel_format(useOffset=False)\n",
    "plt.xticks(range(min(a.index), max(a.index)+1))\n",
    "#plt.xlim(min(_x)-0.1,max(_x)+0.1)\n",
    "#plt.ylim(-0.01,1.03)\n",
    "plt.xlabel('Month')\n",
    "plt.ylabel('GINI')\n",
    "\n",
    "\n",
    "plt.show()    "
   ]
  },
  {
   "cell_type": "code",
   "execution_count": 93,
   "metadata": {
    "ExecuteTime": {
     "end_time": "2021-11-03T15:13:30.495761Z",
     "start_time": "2021-11-03T15:13:30.392762Z"
    }
   },
   "outputs": [
    {
     "data": {
      "text/plain": [
       "month\n",
       "202001    0.354704\n",
       "202002    0.327259\n",
       "202003    0.341555\n",
       "Name: A, dtype: float64"
      ]
     },
     "execution_count": 93,
     "metadata": {},
     "output_type": "execute_result"
    }
   ],
   "source": [
    "a['A']"
   ]
  }
 ],
 "metadata": {
  "hide_input": false,
  "kernelspec": {
   "display_name": "Python 3",
   "language": "python",
   "name": "python3"
  },
  "language_info": {
   "codemirror_mode": {
    "name": "ipython",
    "version": 3
   },
   "file_extension": ".py",
   "mimetype": "text/x-python",
   "name": "python",
   "nbconvert_exporter": "python",
   "pygments_lexer": "ipython3",
   "version": "3.7.8"
  },
  "toc": {
   "base_numbering": 1,
   "nav_menu": {},
   "number_sections": true,
   "sideBar": true,
   "skip_h1_title": false,
   "title_cell": "Table of Contents",
   "title_sidebar": "Contents",
   "toc_cell": false,
   "toc_position": {
    "height": "calc(100% - 180px)",
    "left": "10px",
    "top": "150px",
    "width": "341.317px"
   },
   "toc_section_display": true,
   "toc_window_display": true
  },
  "varInspector": {
   "cols": {
    "lenName": 16,
    "lenType": 16,
    "lenVar": 40
   },
   "kernels_config": {
    "python": {
     "delete_cmd_postfix": "",
     "delete_cmd_prefix": "del ",
     "library": "var_list.py",
     "varRefreshCmd": "print(var_dic_list())"
    },
    "r": {
     "delete_cmd_postfix": ") ",
     "delete_cmd_prefix": "rm(",
     "library": "var_list.r",
     "varRefreshCmd": "cat(var_dic_list()) "
    }
   },
   "types_to_exclude": [
    "module",
    "function",
    "builtin_function_or_method",
    "instance",
    "_Feature"
   ],
   "window_display": false
  }
 },
 "nbformat": 4,
 "nbformat_minor": 4
}
