{
 "cells": [
  {
   "cell_type": "markdown",
   "metadata": {
    "ExecuteTime": {
     "end_time": "2020-12-14T20:53:36.838573Z",
     "start_time": "2020-12-14T20:53:36.835573Z"
    }
   },
   "source": [
    "# Testing packages"
   ]
  },
  {
   "cell_type": "code",
   "execution_count": 1,
   "metadata": {
    "ExecuteTime": {
     "end_time": "2021-11-15T11:56:04.969892Z",
     "start_time": "2021-11-15T11:56:03.977889Z"
    }
   },
   "outputs": [],
   "source": [
    "import pandas as pd\n",
    "import numpy as np\n",
    "import random"
   ]
  },
  {
   "cell_type": "code",
   "execution_count": 2,
   "metadata": {
    "ExecuteTime": {
     "end_time": "2021-11-15T11:56:05.141892Z",
     "start_time": "2021-11-15T11:56:04.973893Z"
    }
   },
   "outputs": [],
   "source": [
    "%load_ext autoreload\n",
    "%autoreload 2"
   ]
  },
  {
   "cell_type": "markdown",
   "metadata": {
    "ExecuteTime": {
     "end_time": "2020-12-14T20:54:47.225113Z",
     "start_time": "2020-12-14T20:54:47.161113Z"
    }
   },
   "source": [
    "# Metrics"
   ]
  },
  {
   "cell_type": "markdown",
   "metadata": {},
   "source": [
    "## Simple scores"
   ]
  },
  {
   "cell_type": "code",
   "execution_count": 3,
   "metadata": {
    "ExecuteTime": {
     "end_time": "2021-11-15T11:56:06.625893Z",
     "start_time": "2021-11-15T11:56:05.145891Z"
    }
   },
   "outputs": [],
   "source": [
    "from mofr import metrics"
   ]
  },
  {
   "cell_type": "code",
   "execution_count": 4,
   "metadata": {
    "ExecuteTime": {
     "end_time": "2021-11-15T11:56:06.815898Z",
     "start_time": "2021-11-15T11:56:06.629913Z"
    }
   },
   "outputs": [],
   "source": [
    "df=pd.read_csv(r'c:\\Users\\T862363F\\Projects\\DevOps_Repos\\PRG_TD_ModellingFramework\\data\\Model_Eval_Data_For_Andrej.csv')"
   ]
  },
  {
   "cell_type": "code",
   "execution_count": 5,
   "metadata": {
    "ExecuteTime": {
     "end_time": "2021-11-15T11:56:06.989894Z",
     "start_time": "2021-11-15T11:56:06.818924Z"
    }
   },
   "outputs": [],
   "source": [
    "df['p_churn']=df['p_alive']*-1+1\n",
    "df['target_obs']=1\n",
    "df['random_score']=np.random.randint(1, 1000000, df.shape[0])/1000000\n",
    "df['semi_random_score']=0.7*df['p_churn']+0.3*np.random.normal(0,1,df.shape[0])\n",
    "df['month']=df['target_obs'].apply(lambda x: random.choice([202001,202002,202003]))"
   ]
  },
  {
   "cell_type": "code",
   "execution_count": 6,
   "metadata": {
    "ExecuteTime": {
     "end_time": "2021-11-15T11:56:07.161894Z",
     "start_time": "2021-11-15T11:56:06.994896Z"
    }
   },
   "outputs": [
    {
     "data": {
      "text/plain": [
       "7946"
      ]
     },
     "execution_count": 6,
     "metadata": {},
     "output_type": "execute_result"
    }
   ],
   "source": [
    "len(df)"
   ]
  },
  {
   "cell_type": "code",
   "execution_count": 7,
   "metadata": {
    "ExecuteTime": {
     "end_time": "2021-11-15T11:56:07.364897Z",
     "start_time": "2021-11-15T11:56:07.164899Z"
    }
   },
   "outputs": [
    {
     "data": {
      "text/html": [
       "<div>\n",
       "<style scoped>\n",
       "    .dataframe tbody tr th:only-of-type {\n",
       "        vertical-align: middle;\n",
       "    }\n",
       "\n",
       "    .dataframe tbody tr th {\n",
       "        vertical-align: top;\n",
       "    }\n",
       "\n",
       "    .dataframe thead th {\n",
       "        text-align: right;\n",
       "    }\n",
       "</style>\n",
       "<table border=\"1\" class=\"dataframe\">\n",
       "  <thead>\n",
       "    <tr style=\"text-align: right;\">\n",
       "      <th></th>\n",
       "      <th>TECCOMPCE</th>\n",
       "      <th>TECSOLDTO</th>\n",
       "      <th>p_alive</th>\n",
       "      <th>CLV</th>\n",
       "      <th>p_alive_</th>\n",
       "      <th>PB_Churn_Flag</th>\n",
       "      <th>CLV_</th>\n",
       "      <th>ob</th>\n",
       "      <th>omx</th>\n",
       "      <th>omn</th>\n",
       "      <th>...</th>\n",
       "      <th>CreditBlock</th>\n",
       "      <th>Churn</th>\n",
       "      <th>a</th>\n",
       "      <th>b</th>\n",
       "      <th>target</th>\n",
       "      <th>target_obs</th>\n",
       "      <th>p_churn</th>\n",
       "      <th>random_score</th>\n",
       "      <th>semi_random_score</th>\n",
       "      <th>month</th>\n",
       "    </tr>\n",
       "  </thead>\n",
       "  <tbody>\n",
       "    <tr>\n",
       "      <th>0</th>\n",
       "      <td>40</td>\n",
       "      <td>636362</td>\n",
       "      <td>0.994196</td>\n",
       "      <td>2821.981425</td>\n",
       "      <td>0</td>\n",
       "      <td>994196067.0</td>\n",
       "      <td>0</td>\n",
       "      <td>2821</td>\n",
       "      <td>981425.0</td>\n",
       "      <td>11</td>\n",
       "      <td>...</td>\n",
       "      <td>2020-09-29 00:00:00.0000000</td>\n",
       "      <td>2019-10-01 00:00:00.0000000</td>\n",
       "      <td>NaN</td>\n",
       "      <td>0.0</td>\n",
       "      <td>0</td>\n",
       "      <td>1</td>\n",
       "      <td>0.005804</td>\n",
       "      <td>0.798873</td>\n",
       "      <td>-0.531723</td>\n",
       "      <td>202002</td>\n",
       "    </tr>\n",
       "    <tr>\n",
       "      <th>1</th>\n",
       "      <td>40</td>\n",
       "      <td>441577</td>\n",
       "      <td>0.613307</td>\n",
       "      <td>0.000000</td>\n",
       "      <td>0</td>\n",
       "      <td>613306736.0</td>\n",
       "      <td>0</td>\n",
       "      <td>0</td>\n",
       "      <td>1.0</td>\n",
       "      <td>2018-10-01 00:00:00.0000000</td>\n",
       "      <td>...</td>\n",
       "      <td>NaN</td>\n",
       "      <td>NaN</td>\n",
       "      <td>1.0</td>\n",
       "      <td>NaN</td>\n",
       "      <td>1</td>\n",
       "      <td>1</td>\n",
       "      <td>0.386693</td>\n",
       "      <td>0.148656</td>\n",
       "      <td>0.567643</td>\n",
       "      <td>202001</td>\n",
       "    </tr>\n",
       "    <tr>\n",
       "      <th>2</th>\n",
       "      <td>40</td>\n",
       "      <td>422141</td>\n",
       "      <td>0.462324</td>\n",
       "      <td>3340.062341</td>\n",
       "      <td>0</td>\n",
       "      <td>462324357.0</td>\n",
       "      <td>1</td>\n",
       "      <td>3340</td>\n",
       "      <td>62341.0</td>\n",
       "      <td>7</td>\n",
       "      <td>...</td>\n",
       "      <td>2020-07-01 00:00:00.0000000</td>\n",
       "      <td>2020-02-19 00:00:00.0000000</td>\n",
       "      <td>NaN</td>\n",
       "      <td>0.0</td>\n",
       "      <td>0</td>\n",
       "      <td>1</td>\n",
       "      <td>0.537676</td>\n",
       "      <td>0.201664</td>\n",
       "      <td>0.306940</td>\n",
       "      <td>202001</td>\n",
       "    </tr>\n",
       "    <tr>\n",
       "      <th>3</th>\n",
       "      <td>40</td>\n",
       "      <td>706342</td>\n",
       "      <td>0.841013</td>\n",
       "      <td>5023.797898</td>\n",
       "      <td>0</td>\n",
       "      <td>841012858.0</td>\n",
       "      <td>0</td>\n",
       "      <td>5023</td>\n",
       "      <td>797898.0</td>\n",
       "      <td>17</td>\n",
       "      <td>...</td>\n",
       "      <td>2020-07-17 00:00:00.0000000</td>\n",
       "      <td>2019-10-03 00:00:00.0000000</td>\n",
       "      <td>NaN</td>\n",
       "      <td>0.0</td>\n",
       "      <td>0</td>\n",
       "      <td>1</td>\n",
       "      <td>0.158987</td>\n",
       "      <td>0.824530</td>\n",
       "      <td>0.527543</td>\n",
       "      <td>202001</td>\n",
       "    </tr>\n",
       "    <tr>\n",
       "      <th>4</th>\n",
       "      <td>40</td>\n",
       "      <td>718698</td>\n",
       "      <td>0.668060</td>\n",
       "      <td>0.000000</td>\n",
       "      <td>0</td>\n",
       "      <td>668060235.0</td>\n",
       "      <td>0</td>\n",
       "      <td>0</td>\n",
       "      <td>1.0</td>\n",
       "      <td>2019-02-06 00:00:00.0000000</td>\n",
       "      <td>...</td>\n",
       "      <td>2020-01-10 00:00:00.0000000</td>\n",
       "      <td>NaN</td>\n",
       "      <td>0.0</td>\n",
       "      <td>NaN</td>\n",
       "      <td>0</td>\n",
       "      <td>1</td>\n",
       "      <td>0.331940</td>\n",
       "      <td>0.552426</td>\n",
       "      <td>0.102741</td>\n",
       "      <td>202003</td>\n",
       "    </tr>\n",
       "  </tbody>\n",
       "</table>\n",
       "<p>5 rows × 23 columns</p>\n",
       "</div>"
      ],
      "text/plain": [
       "   TECCOMPCE  TECSOLDTO   p_alive          CLV  p_alive_  PB_Churn_Flag  CLV_  \\\n",
       "0         40     636362  0.994196  2821.981425         0    994196067.0     0   \n",
       "1         40     441577  0.613307     0.000000         0    613306736.0     0   \n",
       "2         40     422141  0.462324  3340.062341         0    462324357.0     1   \n",
       "3         40     706342  0.841013  5023.797898         0    841012858.0     0   \n",
       "4         40     718698  0.668060     0.000000         0    668060235.0     0   \n",
       "\n",
       "     ob       omx                          omn  ...  \\\n",
       "0  2821  981425.0                           11  ...   \n",
       "1     0       1.0  2018-10-01 00:00:00.0000000  ...   \n",
       "2  3340   62341.0                            7  ...   \n",
       "3  5023  797898.0                           17  ...   \n",
       "4     0       1.0  2019-02-06 00:00:00.0000000  ...   \n",
       "\n",
       "                   CreditBlock                        Churn    a    b target  \\\n",
       "0  2020-09-29 00:00:00.0000000  2019-10-01 00:00:00.0000000  NaN  0.0      0   \n",
       "1                          NaN                          NaN  1.0  NaN      1   \n",
       "2  2020-07-01 00:00:00.0000000  2020-02-19 00:00:00.0000000  NaN  0.0      0   \n",
       "3  2020-07-17 00:00:00.0000000  2019-10-03 00:00:00.0000000  NaN  0.0      0   \n",
       "4  2020-01-10 00:00:00.0000000                          NaN  0.0  NaN      0   \n",
       "\n",
       "   target_obs   p_churn  random_score  semi_random_score   month  \n",
       "0           1  0.005804      0.798873          -0.531723  202002  \n",
       "1           1  0.386693      0.148656           0.567643  202001  \n",
       "2           1  0.537676      0.201664           0.306940  202001  \n",
       "3           1  0.158987      0.824530           0.527543  202001  \n",
       "4           1  0.331940      0.552426           0.102741  202003  \n",
       "\n",
       "[5 rows x 23 columns]"
      ]
     },
     "execution_count": 7,
     "metadata": {},
     "output_type": "execute_result"
    }
   ],
   "source": [
    "df.head()"
   ]
  },
  {
   "cell_type": "markdown",
   "metadata": {},
   "source": [
    "### Accuracy"
   ]
  },
  {
   "cell_type": "code",
   "execution_count": 8,
   "metadata": {
    "ExecuteTime": {
     "end_time": "2021-11-15T11:56:07.521898Z",
     "start_time": "2021-11-15T11:56:07.368902Z"
    }
   },
   "outputs": [
    {
     "data": {
      "text/plain": [
       "0.7793858545179965"
      ]
     },
     "execution_count": 8,
     "metadata": {},
     "output_type": "execute_result"
    }
   ],
   "source": [
    "metrics.accuracy_score(df['target'], df['p_churn']>0.5)"
   ]
  },
  {
   "cell_type": "code",
   "execution_count": 9,
   "metadata": {
    "ExecuteTime": {
     "end_time": "2021-11-15T11:56:07.694899Z",
     "start_time": "2021-11-15T11:56:07.525895Z"
    }
   },
   "outputs": [
    {
     "data": {
      "text/plain": [
       "[0.31059652655424114,\n",
       " 0.40057890762647874,\n",
       " 0.46967027435187514,\n",
       " 0.5117040020135918,\n",
       " 0.5485779008306066,\n",
       " 0.5690913667253964,\n",
       " 0.591492574880443,\n",
       " 0.6063428139944627,\n",
       " 0.618801912912157,\n",
       " 0.6303800654417316,\n",
       " 0.6401963251950668,\n",
       " 0.6477472942360937,\n",
       " 0.6552982632771206,\n",
       " 0.6614648879939592,\n",
       " 0.6676315127107979,\n",
       " 0.6720362446513969,\n",
       " 0.676566826076013,\n",
       " 0.6827334507928517,\n",
       " 0.6867606342813994,\n",
       " 0.6906619682859301]"
      ]
     },
     "execution_count": 9,
     "metadata": {},
     "output_type": "execute_result"
    }
   ],
   "source": [
    "[metrics.accuracy_score(df['target'], df['p_churn']>(x+1)/1000) for x in range(20)]"
   ]
  },
  {
   "cell_type": "code",
   "execution_count": 10,
   "metadata": {
    "ExecuteTime": {
     "end_time": "2021-11-15T11:56:07.833933Z",
     "start_time": "2021-11-15T11:56:07.697936Z"
    }
   },
   "outputs": [],
   "source": [
    "#metrics.accuracy_score?"
   ]
  },
  {
   "cell_type": "markdown",
   "metadata": {},
   "source": [
    "### Precision"
   ]
  },
  {
   "cell_type": "code",
   "execution_count": 11,
   "metadata": {
    "ExecuteTime": {
     "end_time": "2021-11-15T11:56:07.959935Z",
     "start_time": "2021-11-15T11:56:07.835901Z"
    }
   },
   "outputs": [
    {
     "data": {
      "text/plain": [
       "0.5398230088495575"
      ]
     },
     "execution_count": 11,
     "metadata": {},
     "output_type": "execute_result"
    }
   ],
   "source": [
    "metrics.precision_score(df['target'], df['p_churn']>0.5)"
   ]
  },
  {
   "cell_type": "code",
   "execution_count": 12,
   "metadata": {
    "ExecuteTime": {
     "end_time": "2021-11-15T11:56:08.177899Z",
     "start_time": "2021-11-15T11:56:07.961897Z"
    }
   },
   "outputs": [
    {
     "data": {
      "text/plain": [
       "[0.6588235294117647,\n",
       " 0.6239316239316239,\n",
       " 0.625,\n",
       " 0.618421052631579,\n",
       " 0.6073619631901841,\n",
       " 0.6123595505617978,\n",
       " 0.6096256684491979,\n",
       " 0.6062176165803109,\n",
       " 0.6019417475728155,\n",
       " 0.591304347826087,\n",
       " 0.5887096774193549,\n",
       " 0.5889328063241107,\n",
       " 0.5923076923076923,\n",
       " 0.6,\n",
       " 0.5949820788530465,\n",
       " 0.5929824561403508,\n",
       " 0.5932203389830508,\n",
       " 0.5907590759075908,\n",
       " 0.6006191950464397,\n",
       " 0.600609756097561]"
      ]
     },
     "execution_count": 12,
     "metadata": {},
     "output_type": "execute_result"
    }
   ],
   "source": [
    "[metrics.precision_score(df['target'], df['p_churn']>(99-x)/100) for x in range(20)]"
   ]
  },
  {
   "cell_type": "code",
   "execution_count": 13,
   "metadata": {
    "ExecuteTime": {
     "end_time": "2021-11-15T11:56:08.317898Z",
     "start_time": "2021-11-15T11:56:08.180896Z"
    }
   },
   "outputs": [],
   "source": [
    "#metrics.precision_score?"
   ]
  },
  {
   "cell_type": "markdown",
   "metadata": {},
   "source": [
    "### Recall"
   ]
  },
  {
   "cell_type": "code",
   "execution_count": 14,
   "metadata": {
    "ExecuteTime": {
     "end_time": "2021-11-15T11:56:08.457899Z",
     "start_time": "2021-11-15T11:56:08.320900Z"
    }
   },
   "outputs": [
    {
     "data": {
      "text/plain": [
       "0.20254565578306585"
      ]
     },
     "execution_count": 14,
     "metadata": {},
     "output_type": "execute_result"
    }
   ],
   "source": [
    "metrics.recall_score(df['target'], df['p_churn']>0.5)"
   ]
  },
  {
   "cell_type": "code",
   "execution_count": 15,
   "metadata": {
    "ExecuteTime": {
     "end_time": "2021-11-15T11:56:08.740900Z",
     "start_time": "2021-11-15T11:56:08.459898Z"
    }
   },
   "outputs": [
    {
     "data": {
      "text/plain": [
       "[0.03099059214167128,\n",
       " 0.040398450470392915,\n",
       " 0.04703929164360819,\n",
       " 0.05201992252351965,\n",
       " 0.05478693967902601,\n",
       " 0.06032097399003874,\n",
       " 0.0630879911455451,\n",
       " 0.06474820143884892,\n",
       " 0.06862202545655784,\n",
       " 0.0752628666297731,\n",
       " 0.08079690094078583,\n",
       " 0.08245711123408965,\n",
       " 0.08522412838959602,\n",
       " 0.0896513558384062,\n",
       " 0.09186496956281129,\n",
       " 0.09352517985611511,\n",
       " 0.09684560044272275,\n",
       " 0.09905921416712783,\n",
       " 0.10736026563364692,\n",
       " 0.10902047592695074]"
      ]
     },
     "execution_count": 15,
     "metadata": {},
     "output_type": "execute_result"
    }
   ],
   "source": [
    "[metrics.recall_score(df['target'], df['p_churn']>(99-x)/100) for x in range(20)]"
   ]
  },
  {
   "cell_type": "code",
   "execution_count": 16,
   "metadata": {
    "ExecuteTime": {
     "end_time": "2021-11-15T11:56:08.877904Z",
     "start_time": "2021-11-15T11:56:08.745901Z"
    }
   },
   "outputs": [],
   "source": [
    "#metrics.recall_score?"
   ]
  },
  {
   "cell_type": "markdown",
   "metadata": {},
   "source": [
    "### F1 score"
   ]
  },
  {
   "cell_type": "code",
   "execution_count": 17,
   "metadata": {
    "ExecuteTime": {
     "end_time": "2021-11-15T11:56:09.019938Z",
     "start_time": "2021-11-15T11:56:08.879902Z"
    }
   },
   "outputs": [
    {
     "data": {
      "text/plain": [
       "0.2945674044265594"
      ]
     },
     "execution_count": 17,
     "metadata": {},
     "output_type": "execute_result"
    }
   ],
   "source": [
    "metrics.f1_score(df['target'], df['p_churn']>0.5)"
   ]
  },
  {
   "cell_type": "code",
   "execution_count": 18,
   "metadata": {
    "ExecuteTime": {
     "end_time": "2021-11-15T11:56:09.269903Z",
     "start_time": "2021-11-15T11:56:09.022899Z"
    }
   },
   "outputs": [
    {
     "data": {
      "text/plain": [
       "[0.39749230092388915,\n",
       " 0.4314193625402889,\n",
       " 0.46057347670250887,\n",
       " 0.48072805139186287,\n",
       " 0.5000696864111499,\n",
       " 0.5107173478136611,\n",
       " 0.5233480176211454,\n",
       " 0.5313155528918191,\n",
       " 0.5383325712543819,\n",
       " 0.545144804088586,\n",
       " 0.5509659180147636,\n",
       " 0.5550786838340487,\n",
       " 0.5590082112381259,\n",
       " 0.5628859278518037,\n",
       " 0.5664094565752751,\n",
       " 0.5691137566137566,\n",
       " 0.5709515859766277,\n",
       " 0.5755177639333221,\n",
       " 0.5776344815883251,\n",
       " 0.5796853625170998]"
      ]
     },
     "execution_count": 18,
     "metadata": {},
     "output_type": "execute_result"
    }
   ],
   "source": [
    "[metrics.f1_score(df['target'], df['p_churn']>(x+1)/1000) for x in range(20)]"
   ]
  },
  {
   "cell_type": "code",
   "execution_count": 19,
   "metadata": {
    "ExecuteTime": {
     "end_time": "2021-11-15T11:56:09.392901Z",
     "start_time": "2021-11-15T11:56:09.271902Z"
    }
   },
   "outputs": [],
   "source": [
    "#metrics.f1_score?"
   ]
  },
  {
   "cell_type": "markdown",
   "metadata": {},
   "source": [
    "### Confusion matrix"
   ]
  },
  {
   "cell_type": "code",
   "execution_count": 20,
   "metadata": {
    "ExecuteTime": {
     "end_time": "2021-11-15T11:56:09.579958Z",
     "start_time": "2021-11-15T11:56:09.394903Z"
    }
   },
   "outputs": [
    {
     "data": {
      "text/plain": [
       "array([[5827,  312],\n",
       "       [1441,  366]], dtype=int64)"
      ]
     },
     "execution_count": 20,
     "metadata": {},
     "output_type": "execute_result"
    }
   ],
   "source": [
    "metrics.confusion_matrix(df['target'], df['p_churn']>0.5)"
   ]
  },
  {
   "cell_type": "markdown",
   "metadata": {
    "ExecuteTime": {
     "end_time": "2020-12-14T21:53:17.790901Z",
     "start_time": "2020-12-14T21:53:17.685943Z"
    }
   },
   "source": [
    "### ROC AUC "
   ]
  },
  {
   "cell_type": "code",
   "execution_count": 21,
   "metadata": {
    "ExecuteTime": {
     "end_time": "2021-11-15T11:56:09.722905Z",
     "start_time": "2021-11-15T11:56:09.584902Z"
    }
   },
   "outputs": [
    {
     "data": {
      "text/plain": [
       "0.8560895967276451"
      ]
     },
     "execution_count": 21,
     "metadata": {},
     "output_type": "execute_result"
    }
   ],
   "source": [
    "metrics.roc_auc_score(df['target'], df['p_churn'])"
   ]
  },
  {
   "cell_type": "code",
   "execution_count": 22,
   "metadata": {
    "ExecuteTime": {
     "end_time": "2021-11-15T11:56:09.894902Z",
     "start_time": "2021-11-15T11:56:09.724907Z"
    }
   },
   "outputs": [],
   "source": [
    "#metrics.roc_auc_score?"
   ]
  },
  {
   "cell_type": "markdown",
   "metadata": {},
   "source": [
    "### GINI"
   ]
  },
  {
   "cell_type": "code",
   "execution_count": 23,
   "metadata": {
    "ExecuteTime": {
     "end_time": "2021-11-15T11:56:10.033904Z",
     "start_time": "2021-11-15T11:56:09.899903Z"
    }
   },
   "outputs": [
    {
     "data": {
      "text/plain": [
       "0.7121791934552901"
      ]
     },
     "execution_count": 23,
     "metadata": {},
     "output_type": "execute_result"
    }
   ],
   "source": [
    "metrics.gini(df['target'], df['p_churn'])"
   ]
  },
  {
   "cell_type": "code",
   "execution_count": 24,
   "metadata": {
    "ExecuteTime": {
     "end_time": "2021-11-15T11:56:10.174905Z",
     "start_time": "2021-11-15T11:56:10.035901Z"
    }
   },
   "outputs": [
    {
     "data": {
      "text/plain": [
       "0.7121791934552901"
      ]
     },
     "execution_count": 24,
     "metadata": {},
     "output_type": "execute_result"
    }
   ],
   "source": [
    "metrics.gini(df['target'], df['p_churn'], average='samples')"
   ]
  },
  {
   "cell_type": "code",
   "execution_count": 25,
   "metadata": {
    "ExecuteTime": {
     "end_time": "2021-11-15T11:56:10.318904Z",
     "start_time": "2021-11-15T11:56:10.177907Z"
    }
   },
   "outputs": [],
   "source": [
    "#metrics.gini?"
   ]
  },
  {
   "cell_type": "markdown",
   "metadata": {},
   "source": [
    "### Lift"
   ]
  },
  {
   "cell_type": "code",
   "execution_count": 26,
   "metadata": {
    "ExecuteTime": {
     "end_time": "2021-11-15T11:56:10.475903Z",
     "start_time": "2021-11-15T11:56:10.321907Z"
    }
   },
   "outputs": [
    {
     "data": {
      "text/plain": [
       "2.306531204644412"
      ]
     },
     "execution_count": 26,
     "metadata": {},
     "output_type": "execute_result"
    }
   ],
   "source": [
    "metrics.lift(df['target'], df['p_churn'])"
   ]
  },
  {
   "cell_type": "code",
   "execution_count": 27,
   "metadata": {
    "ExecuteTime": {
     "end_time": "2021-11-15T11:56:10.632907Z",
     "start_time": "2021-11-15T11:56:10.484908Z"
    }
   },
   "outputs": [
    {
     "data": {
      "text/plain": [
       "2.519081294685937"
      ]
     },
     "execution_count": 27,
     "metadata": {},
     "output_type": "execute_result"
    }
   ],
   "source": [
    "metrics.liftN(df['target'], df['p_churn'], 0.05)"
   ]
  },
  {
   "cell_type": "code",
   "execution_count": 28,
   "metadata": {
    "ExecuteTime": {
     "end_time": "2021-11-15T11:56:10.804943Z",
     "start_time": "2021-11-15T11:56:10.639909Z"
    }
   },
   "outputs": [
    {
     "data": {
      "text/plain": [
       "[2.564655037052907,\n",
       " 2.418539014941893,\n",
       " 2.1267203306629034,\n",
       " 1.8638627559490868,\n",
       " 1.6290557813709337,\n",
       " 1.4191355404598403,\n",
       " 1.2480818075848659,\n",
       " 1.111484123653658,\n",
       " 1]"
      ]
     },
     "execution_count": 28,
     "metadata": {},
     "output_type": "execute_result"
    }
   ],
   "source": [
    "[metrics.liftN(df['target'], df['p_churn'],(x+1)/10) for x in range(1,10)]"
   ]
  },
  {
   "cell_type": "markdown",
   "metadata": {},
   "source": [
    "### KS score"
   ]
  },
  {
   "cell_type": "code",
   "execution_count": 29,
   "metadata": {
    "ExecuteTime": {
     "end_time": "2021-11-15T11:56:11.103942Z",
     "start_time": "2021-11-15T11:56:10.806906Z"
    }
   },
   "outputs": [
    {
     "data": {
      "text/plain": [
       "0.588206908879903"
      ]
     },
     "execution_count": 29,
     "metadata": {},
     "output_type": "execute_result"
    }
   ],
   "source": [
    "metrics.ks_score(df['target'], df['p_churn'])"
   ]
  },
  {
   "cell_type": "code",
   "execution_count": 30,
   "metadata": {
    "ExecuteTime": {
     "end_time": "2021-11-15T11:56:11.242908Z",
     "start_time": "2021-11-15T11:56:11.106905Z"
    }
   },
   "outputs": [],
   "source": [
    "#metrics.ks_score?"
   ]
  },
  {
   "cell_type": "markdown",
   "metadata": {},
   "source": [
    "## Curves and others"
   ]
  },
  {
   "cell_type": "markdown",
   "metadata": {},
   "source": [
    "### ROC curve"
   ]
  },
  {
   "cell_type": "code",
   "execution_count": 31,
   "metadata": {
    "ExecuteTime": {
     "end_time": "2021-11-15T11:56:11.415909Z",
     "start_time": "2021-11-15T11:56:11.245907Z"
    }
   },
   "outputs": [
    {
     "data": {
      "text/plain": [
       "(array([0.        , 0.        , 0.        , ..., 0.99788239, 0.99837107,\n",
       "        1.        ]),\n",
       " array([0.00000000e+00, 5.53403431e-04, 7.74764804e-03, ...,\n",
       "        1.00000000e+00, 1.00000000e+00, 1.00000000e+00]),\n",
       " array([2.0000000e+00, 1.0000000e+00, 9.9999814e-01, ..., 1.7253500e-04,\n",
       "        1.7186300e-04, 1.5661200e-04]))"
      ]
     },
     "execution_count": 31,
     "metadata": {},
     "output_type": "execute_result"
    }
   ],
   "source": [
    "metrics.roc_curve(df['target'], df['p_churn'])"
   ]
  },
  {
   "cell_type": "code",
   "execution_count": 32,
   "metadata": {
    "ExecuteTime": {
     "end_time": "2021-11-15T11:56:12.524906Z",
     "start_time": "2021-11-15T11:56:11.418907Z"
    }
   },
   "outputs": [
    {
     "data": {
      "image/png": "[encoded data removed]",
      "text/plain": [
       "<Figure size 432x288 with 1 Axes>"
      ]
     },
     "metadata": {
      "needs_background": "light"
     },
     "output_type": "display_data"
    }
   ],
   "source": [
    "from matplotlib import pyplot as plt\n",
    "_fpr, _tpr, _ = metrics.roc_curve(df['target'], df['p_churn'])\n",
    "\n",
    "# plot the roc curve for the model\n",
    "plt.plot(_fpr, _tpr, linestyle='-', color='red', label='Model 1')\n",
    "\n",
    "# axis labels\n",
    "plt.title('ROC curve')\n",
    "plt.xlim(-0.01,1.01)\n",
    "plt.ylim(-0.01,1.03)\n",
    "plt.xlabel('False Positive Rate')\n",
    "plt.ylabel('True Positive Rate')\n",
    "# show the legend\n",
    "plt.legend()\n",
    "# show the plot\n",
    "plt.show()"
   ]
  },
  {
   "cell_type": "code",
   "execution_count": 33,
   "metadata": {
    "ExecuteTime": {
     "end_time": "2021-11-15T11:56:12.711918Z",
     "start_time": "2021-11-15T11:56:12.528909Z"
    }
   },
   "outputs": [],
   "source": [
    "#metrics.roc_curve?"
   ]
  },
  {
   "cell_type": "markdown",
   "metadata": {},
   "source": [
    "### Lift curve"
   ]
  },
  {
   "cell_type": "code",
   "execution_count": 34,
   "metadata": {
    "ExecuteTime": {
     "end_time": "2021-11-15T11:56:12.914934Z",
     "start_time": "2021-11-15T11:56:12.716911Z"
    }
   },
   "outputs": [
    {
     "data": {
      "text/plain": [
       "[2.306531204644412,\n",
       " 2.564655037052907,\n",
       " 2.418539014941893,\n",
       " 2.1267203306629034,\n",
       " 1.8638627559490868,\n",
       " 1.6290557813709337,\n",
       " 1.4191355404598403,\n",
       " 1.2480818075848659,\n",
       " 1.111484123653658,\n",
       " 1]"
      ]
     },
     "execution_count": 34,
     "metadata": {},
     "output_type": "execute_result"
    }
   ],
   "source": [
    "[metrics.liftN(df['target'], df['p_churn'], x/10) for x in range (1,11)]"
   ]
  },
  {
   "cell_type": "code",
   "execution_count": 35,
   "metadata": {
    "ExecuteTime": {
     "end_time": "2021-11-15T11:56:13.431913Z",
     "start_time": "2021-11-15T11:56:12.917914Z"
    }
   },
   "outputs": [
    {
     "data": {
      "image/png": "[encoded data removed]",
      "text/plain": [
       "<Figure size 432x288 with 1 Axes>"
      ]
     },
     "metadata": {
      "needs_background": "light"
     },
     "output_type": "display_data"
    }
   ],
   "source": [
    "from matplotlib import pyplot as plt\n",
    "x= [(x/10) for x in range (1,11)]\n",
    "lift_curve = [metrics.liftN(df['target'], df['p_churn'], x/10) for x in range (1,11)]\n",
    "plt.plot(x, lift_curve, linestyle='-', color='red', label='Model 1')\n",
    "# axis labels\n",
    "plt.title('Lift curve')\n",
    "#plt.xlim(-0.01,1.01)\n",
    "#plt.ylim(-0.01,1.03)\n",
    "#plt.xlabel('False Positive Rate')\n",
    "#plt.ylabel('True Positive Rate')\n",
    "# show the legend\n",
    "plt.legend()\n",
    "# show the plot\n",
    "plt.show()"
   ]
  },
  {
   "cell_type": "markdown",
   "metadata": {},
   "source": [
    "### Precision-Recall curve"
   ]
  },
  {
   "cell_type": "code",
   "execution_count": 36,
   "metadata": {
    "ExecuteTime": {
     "end_time": "2021-11-15T11:56:13.604908Z",
     "start_time": "2021-11-15T11:56:13.434946Z"
    }
   },
   "outputs": [
    {
     "data": {
      "text/plain": [
       "(array([0.27778632, 0.27767528, 0.27771798, ..., 1.        , 1.        ,\n",
       "        1.        ]),\n",
       " array([1.00000000e+00, 9.99446597e-01, 9.99446597e-01, ...,\n",
       "        1.10680686e-03, 5.53403431e-04, 0.00000000e+00]),\n",
       " array([0.00209515, 0.00209674, 0.00209705, ..., 1.        , 1.        ,\n",
       "        1.        ]))"
      ]
     },
     "execution_count": 36,
     "metadata": {},
     "output_type": "execute_result"
    }
   ],
   "source": [
    "metrics.precision_recall_curve(df['target'], df['p_churn'])"
   ]
  },
  {
   "cell_type": "code",
   "execution_count": 37,
   "metadata": {
    "ExecuteTime": {
     "end_time": "2021-11-15T11:56:14.474913Z",
     "start_time": "2021-11-15T11:56:13.607914Z"
    }
   },
   "outputs": [
    {
     "data": {
      "image/png": "[encoded data removed]",
      "text/plain": [
       "<Figure size 432x288 with 1 Axes>"
      ]
     },
     "metadata": {
      "needs_background": "light"
     },
     "output_type": "display_data"
    }
   ],
   "source": [
    "from matplotlib import pyplot as plt\n",
    "\n",
    "\n",
    "f_scores = np.linspace(0.2, 0.8, num=4)\n",
    "lines = []\n",
    "labels = []\n",
    "for f_score in f_scores:\n",
    "    x = np.linspace(0.01, 1)\n",
    "    y = f_score * x / (2 * x - f_score)\n",
    "    l, = plt.plot(x[y >= 0], y[y >= 0], color='gray', alpha=0.2)\n",
    "    plt.annotate('f1={0:0.1f}'.format(f_score), xy=(0.9, y[45] + 0.02))\n",
    "lines.append(l)\n",
    "labels.append('iso-f1 curves')\n",
    "\n",
    "lr_precision, lr_recall, _ = metrics.precision_recall_curve(df['target'], df['p_churn'])\n",
    "# plot the precision-recall curves\n",
    "no_skill = len(df['target'][df['target']==1]) / len(df['target'])\n",
    "plt.plot([0, 1], [no_skill, no_skill], linestyle='--')\n",
    "l,=plt.plot(lr_recall, lr_precision,linestyle='-', color='red', label='Model 1')\n",
    "lines.append(l)\n",
    "labels.append('Model 1')\n",
    "# axis labels\n",
    "plt.title('Precision-Recall curve with iso-f1 curves')\n",
    "plt.xlabel('Recall')\n",
    "plt.ylabel('Precision')\n",
    "plt.xlim([0.0, 1.0])\n",
    "plt.ylim([0.0, 1.05])\n",
    "# show the legend\n",
    "plt.legend(lines,labels)\n",
    "# show the plot\n",
    "plt.show()\n"
   ]
  },
  {
   "cell_type": "markdown",
   "metadata": {},
   "source": [
    "# Basic Evaluators"
   ]
  },
  {
   "cell_type": "markdown",
   "metadata": {
    "ExecuteTime": {
     "end_time": "2020-12-17T19:31:46.233868Z",
     "start_time": "2020-12-17T19:31:45.976866Z"
    }
   },
   "source": [
    "## Lift Curve Evaluator"
   ]
  },
  {
   "cell_type": "code",
   "execution_count": 38,
   "metadata": {
    "ExecuteTime": {
     "end_time": "2021-11-15T11:56:14.665915Z",
     "start_time": "2021-11-15T11:56:14.477913Z"
    }
   },
   "outputs": [],
   "source": [
    "from mofr.basic_evaluators.LiftCurve import LiftCurveEvaluator\n",
    "\n",
    "lce=LiftCurveEvaluator()"
   ]
  },
  {
   "cell_type": "code",
   "execution_count": 39,
   "metadata": {
    "ExecuteTime": {
     "end_time": "2021-11-15T11:56:14.839914Z",
     "start_time": "2021-11-15T11:56:14.669915Z"
    }
   },
   "outputs": [
    {
     "data": {
      "text/plain": []
     },
     "execution_count": 39,
     "metadata": {},
     "output_type": "execute_result"
    }
   ],
   "source": [
    "lce.d(df).t([('target','target_obs')]).s(['p_churn', 'semi_random_score','random_score'])"
   ]
  },
  {
   "cell_type": "code",
   "execution_count": 40,
   "metadata": {
    "ExecuteTime": {
     "end_time": "2021-11-15T11:56:15.578918Z",
     "start_time": "2021-11-15T11:56:14.842914Z"
    },
    "scrolled": false
   },
   "outputs": [
    {
     "data": {
      "image/png": "[encoded data removed]",
      "text/plain": [
       "<Figure size 504x576 with 1 Axes>"
      ]
     },
     "metadata": {
      "needs_background": "light"
     },
     "output_type": "display_data"
    },
    {
     "data": {
      "text/plain": []
     },
     "execution_count": 40,
     "metadata": {},
     "output_type": "execute_result"
    }
   ],
   "source": [
    "lce.get_graph()"
   ]
  },
  {
   "cell_type": "markdown",
   "metadata": {
    "ExecuteTime": {
     "end_time": "2020-12-17T19:32:52.905283Z",
     "start_time": "2020-12-17T19:32:52.814277Z"
    }
   },
   "source": [
    "## ROC Curve Evaluator"
   ]
  },
  {
   "cell_type": "code",
   "execution_count": 41,
   "metadata": {
    "ExecuteTime": {
     "end_time": "2021-11-15T11:56:15.752918Z",
     "start_time": "2021-11-15T11:56:15.582926Z"
    }
   },
   "outputs": [],
   "source": [
    "from mofr.basic_evaluators.ROCCurve import ROCCurveEvaluator\n",
    "\n",
    "rce=ROCCurveEvaluator()"
   ]
  },
  {
   "cell_type": "code",
   "execution_count": 42,
   "metadata": {
    "ExecuteTime": {
     "end_time": "2021-11-15T11:56:15.909919Z",
     "start_time": "2021-11-15T11:56:15.755918Z"
    }
   },
   "outputs": [
    {
     "data": {
      "text/plain": []
     },
     "execution_count": 42,
     "metadata": {},
     "output_type": "execute_result"
    }
   ],
   "source": [
    "rce.d(df).t([('target','target_obs')]).s(['p_churn', 'semi_random_score','random_score'])"
   ]
  },
  {
   "cell_type": "code",
   "execution_count": 43,
   "metadata": {
    "ExecuteTime": {
     "end_time": "2021-11-15T11:56:16.522920Z",
     "start_time": "2021-11-15T11:56:15.913927Z"
    }
   },
   "outputs": [
    {
     "data": {
      "image/png": "[encoded data removed]",
      "text/plain": [
       "<Figure size 504x576 with 1 Axes>"
      ]
     },
     "metadata": {
      "needs_background": "light"
     },
     "output_type": "display_data"
    },
    {
     "data": {
      "text/plain": []
     },
     "execution_count": 43,
     "metadata": {},
     "output_type": "execute_result"
    }
   ],
   "source": [
    "rce.get_graph()"
   ]
  },
  {
   "cell_type": "markdown",
   "metadata": {},
   "source": [
    "## PR Curve Evaluator"
   ]
  },
  {
   "cell_type": "code",
   "execution_count": 44,
   "metadata": {
    "ExecuteTime": {
     "end_time": "2021-11-15T11:56:16.711958Z",
     "start_time": "2021-11-15T11:56:16.526919Z"
    }
   },
   "outputs": [],
   "source": [
    "from mofr.basic_evaluators.PRCurve import PRCurveEvaluator\n",
    "\n",
    "prce=PRCurveEvaluator()"
   ]
  },
  {
   "cell_type": "code",
   "execution_count": 45,
   "metadata": {
    "ExecuteTime": {
     "end_time": "2021-11-15T11:56:16.882925Z",
     "start_time": "2021-11-15T11:56:16.716939Z"
    }
   },
   "outputs": [
    {
     "data": {
      "text/plain": []
     },
     "execution_count": 45,
     "metadata": {},
     "output_type": "execute_result"
    }
   ],
   "source": [
    "prce.d(df).t([('target','target_obs')]).s(['p_churn', 'semi_random_score','random_score'])"
   ]
  },
  {
   "cell_type": "code",
   "execution_count": 46,
   "metadata": {
    "ExecuteTime": {
     "end_time": "2021-11-15T11:56:17.531925Z",
     "start_time": "2021-11-15T11:56:16.885925Z"
    }
   },
   "outputs": [
    {
     "data": {
      "image/png": "[encoded data removed]",
      "text/plain": [
       "<Figure size 504x576 with 1 Axes>"
      ]
     },
     "metadata": {
      "needs_background": "light"
     },
     "output_type": "display_data"
    },
    {
     "data": {
      "text/plain": []
     },
     "execution_count": 46,
     "metadata": {},
     "output_type": "execute_result"
    }
   ],
   "source": [
    "prce.get_graph()"
   ]
  },
  {
   "cell_type": "code",
   "execution_count": 47,
   "metadata": {
    "ExecuteTime": {
     "end_time": "2021-11-15T11:56:18.373925Z",
     "start_time": "2021-11-15T11:56:17.534920Z"
    }
   },
   "outputs": [
    {
     "data": {
      "image/png": "[encoded data removed]",
      "text/plain": [
       "<Figure size 504x576 with 1 Axes>"
      ]
     },
     "metadata": {
      "needs_background": "light"
     },
     "output_type": "display_data"
    },
    {
     "data": {
      "text/plain": []
     },
     "execution_count": 47,
     "metadata": {},
     "output_type": "execute_result"
    }
   ],
   "source": [
    "prce.get_graph(isocurves='on')"
   ]
  },
  {
   "cell_type": "markdown",
   "metadata": {
    "ExecuteTime": {
     "end_time": "2021-02-05T10:03:05.945149Z",
     "start_time": "2021-02-05T10:03:05.854099Z"
    }
   },
   "source": [
    "## Gini in Time Evaluator"
   ]
  },
  {
   "cell_type": "code",
   "execution_count": 48,
   "metadata": {
    "ExecuteTime": {
     "end_time": "2021-11-15T11:56:18.532963Z",
     "start_time": "2021-11-15T11:56:18.376922Z"
    }
   },
   "outputs": [],
   "source": [
    "from mofr.basic_evaluators.GiniInTime import GiniInTimeEvaluator\n",
    "\n",
    "gite=GiniInTimeEvaluator()"
   ]
  },
  {
   "cell_type": "code",
   "execution_count": 49,
   "metadata": {
    "ExecuteTime": {
     "end_time": "2021-11-15T11:56:18.719926Z",
     "start_time": "2021-11-15T11:56:18.535923Z"
    }
   },
   "outputs": [
    {
     "data": {
      "text/plain": []
     },
     "execution_count": 49,
     "metadata": {},
     "output_type": "execute_result"
    }
   ],
   "source": [
    "gite.d(df).t([('target','target_obs')]).s(['p_churn', 'semi_random_score','random_score']).tc('month')"
   ]
  },
  {
   "cell_type": "code",
   "execution_count": 50,
   "metadata": {
    "ExecuteTime": {
     "end_time": "2021-11-15T11:56:19.285927Z",
     "start_time": "2021-11-15T11:56:18.723925Z"
    }
   },
   "outputs": [
    {
     "data": {
      "image/png": "[encoded data removed]",
      "text/plain": [
       "<Figure size 504x576 with 1 Axes>"
      ]
     },
     "metadata": {
      "needs_background": "light"
     },
     "output_type": "display_data"
    },
    {
     "data": {
      "text/plain": []
     },
     "execution_count": 50,
     "metadata": {},
     "output_type": "execute_result"
    }
   ],
   "source": [
    "gite.get_graph()"
   ]
  },
  {
   "cell_type": "code",
   "execution_count": 51,
   "metadata": {
    "ExecuteTime": {
     "end_time": "2021-11-15T11:56:20.201926Z",
     "start_time": "2021-11-15T11:56:19.287925Z"
    }
   },
   "outputs": [
    {
     "data": {
      "text/html": [
       "<style  type=\"text/css\" >\n",
       "</style><table id=\"T_0c040df0_460b_11ec_bac7_5c879c826b52\" style='display:inline'><caption>GINI on target \"target\"</caption><thead>    <tr>        <th class=\"blank level0\" ></th>        <th class=\"col_heading level0 col0\" >p_churn</th>        <th class=\"col_heading level0 col1\" >semi_random_score</th>        <th class=\"col_heading level0 col2\" >random_score</th>    </tr>    <tr>        <th class=\"index_name level0\" >month</th>        <th class=\"blank\" ></th>        <th class=\"blank\" ></th>        <th class=\"blank\" ></th>    </tr></thead><tbody>\n",
       "                <tr>\n",
       "                        <th id=\"T_0c040df0_460b_11ec_bac7_5c879c826b52level0_row0\" class=\"row_heading level0 row0\" >202001</th>\n",
       "                        <td id=\"T_0c040df0_460b_11ec_bac7_5c879c826b52row0_col0\" class=\"data row0 col0\" >0.714483</td>\n",
       "                        <td id=\"T_0c040df0_460b_11ec_bac7_5c879c826b52row0_col1\" class=\"data row0 col1\" >0.264028</td>\n",
       "                        <td id=\"T_0c040df0_460b_11ec_bac7_5c879c826b52row0_col2\" class=\"data row0 col2\" >0.002713</td>\n",
       "            </tr>\n",
       "            <tr>\n",
       "                        <th id=\"T_0c040df0_460b_11ec_bac7_5c879c826b52level0_row1\" class=\"row_heading level0 row1\" >202002</th>\n",
       "                        <td id=\"T_0c040df0_460b_11ec_bac7_5c879c826b52row1_col0\" class=\"data row1 col0\" >0.725059</td>\n",
       "                        <td id=\"T_0c040df0_460b_11ec_bac7_5c879c826b52row1_col1\" class=\"data row1 col1\" >0.330956</td>\n",
       "                        <td id=\"T_0c040df0_460b_11ec_bac7_5c879c826b52row1_col2\" class=\"data row1 col2\" >0.005948</td>\n",
       "            </tr>\n",
       "            <tr>\n",
       "                        <th id=\"T_0c040df0_460b_11ec_bac7_5c879c826b52level0_row2\" class=\"row_heading level0 row2\" >202003</th>\n",
       "                        <td id=\"T_0c040df0_460b_11ec_bac7_5c879c826b52row2_col0\" class=\"data row2 col0\" >0.696774</td>\n",
       "                        <td id=\"T_0c040df0_460b_11ec_bac7_5c879c826b52row2_col1\" class=\"data row2 col1\" >0.303308</td>\n",
       "                        <td id=\"T_0c040df0_460b_11ec_bac7_5c879c826b52row2_col2\" class=\"data row2 col2\" >-0.022322</td>\n",
       "            </tr>\n",
       "            <tr>\n",
       "                        <th id=\"T_0c040df0_460b_11ec_bac7_5c879c826b52level0_row3\" class=\"row_heading level0 row3\" >All</th>\n",
       "                        <td id=\"T_0c040df0_460b_11ec_bac7_5c879c826b52row3_col0\" class=\"data row3 col0\" >0.712179</td>\n",
       "                        <td id=\"T_0c040df0_460b_11ec_bac7_5c879c826b52row3_col1\" class=\"data row3 col1\" >0.299905</td>\n",
       "                        <td id=\"T_0c040df0_460b_11ec_bac7_5c879c826b52row3_col2\" class=\"data row3 col2\" >-0.004323</td>\n",
       "            </tr>\n",
       "    </tbody></table>"
      ],
      "text/plain": [
       "<pandas.io.formats.style.Styler at 0x1c982690>"
      ]
     },
     "execution_count": 51,
     "metadata": {},
     "output_type": "execute_result"
    }
   ],
   "source": [
    "gite.get_table()\n",
    "gite.table"
   ]
  },
  {
   "cell_type": "markdown",
   "metadata": {
    "ExecuteTime": {
     "end_time": "2021-02-05T10:03:05.945149Z",
     "start_time": "2021-02-05T10:03:05.854099Z"
    }
   },
   "source": [
    "## Lift in Time Evaluator"
   ]
  },
  {
   "cell_type": "code",
   "execution_count": 52,
   "metadata": {
    "ExecuteTime": {
     "end_time": "2021-11-15T11:56:20.343965Z",
     "start_time": "2021-11-15T11:56:20.204927Z"
    }
   },
   "outputs": [],
   "source": [
    "from mofr.basic_evaluators.LiftInTime import LiftInTimeEvaluator\n",
    "\n",
    "lite=LiftInTimeEvaluator()"
   ]
  },
  {
   "cell_type": "code",
   "execution_count": 53,
   "metadata": {
    "ExecuteTime": {
     "end_time": "2021-11-15T11:56:20.500932Z",
     "start_time": "2021-11-15T11:56:20.346926Z"
    }
   },
   "outputs": [
    {
     "data": {
      "text/plain": []
     },
     "execution_count": 53,
     "metadata": {},
     "output_type": "execute_result"
    }
   ],
   "source": [
    "lite.d(df).t([('target','target_obs')]).s(['p_churn', 'semi_random_score','random_score']).tc('month')"
   ]
  },
  {
   "cell_type": "code",
   "execution_count": 54,
   "metadata": {
    "ExecuteTime": {
     "end_time": "2021-11-15T11:56:21.186931Z",
     "start_time": "2021-11-15T11:56:20.503930Z"
    }
   },
   "outputs": [
    {
     "data": {
      "image/png": "[encoded data removed]",
      "text/plain": [
       "<Figure size 504x576 with 1 Axes>"
      ]
     },
     "metadata": {
      "needs_background": "light"
     },
     "output_type": "display_data"
    },
    {
     "data": {
      "text/plain": []
     },
     "execution_count": 54,
     "metadata": {},
     "output_type": "execute_result"
    }
   ],
   "source": [
    "lite.get_graph()"
   ]
  },
  {
   "cell_type": "code",
   "execution_count": 55,
   "metadata": {
    "ExecuteTime": {
     "end_time": "2021-11-15T11:56:21.576929Z",
     "start_time": "2021-11-15T11:56:21.188931Z"
    }
   },
   "outputs": [
    {
     "data": {
      "text/html": [
       "<style  type=\"text/css\" >\n",
       "</style><table id=\"T_0cd7897a_460b_11ec_8ad0_5c879c826b52\" style='display:inline'><caption>Lift on target \"target\"</caption><thead>    <tr>        <th class=\"blank level0\" ></th>        <th class=\"col_heading level0 col0\" >p_churn</th>        <th class=\"col_heading level0 col1\" >semi_random_score</th>        <th class=\"col_heading level0 col2\" >random_score</th>    </tr>    <tr>        <th class=\"index_name level0\" >month</th>        <th class=\"blank\" ></th>        <th class=\"blank\" ></th>        <th class=\"blank\" ></th>    </tr></thead><tbody>\n",
       "                <tr>\n",
       "                        <th id=\"T_0cd7897a_460b_11ec_8ad0_5c879c826b52level0_row0\" class=\"row_heading level0 row0\" >202001</th>\n",
       "                        <td id=\"T_0cd7897a_460b_11ec_8ad0_5c879c826b52row0_col0\" class=\"data row0 col0\" >2.310616</td>\n",
       "                        <td id=\"T_0cd7897a_460b_11ec_8ad0_5c879c826b52row0_col1\" class=\"data row0 col1\" >1.811922</td>\n",
       "                        <td id=\"T_0cd7897a_460b_11ec_8ad0_5c879c826b52row0_col2\" class=\"data row0 col2\" >0.847780</td>\n",
       "            </tr>\n",
       "            <tr>\n",
       "                        <th id=\"T_0cd7897a_460b_11ec_8ad0_5c879c826b52level0_row1\" class=\"row_heading level0 row1\" >202002</th>\n",
       "                        <td id=\"T_0cd7897a_460b_11ec_8ad0_5c879c826b52row1_col0\" class=\"data row1 col0\" >2.333490</td>\n",
       "                        <td id=\"T_0cd7897a_460b_11ec_8ad0_5c879c826b52row1_col1\" class=\"data row1 col1\" >1.980948</td>\n",
       "                        <td id=\"T_0cd7897a_460b_11ec_8ad0_5c879c826b52row1_col2\" class=\"data row1 col2\" >0.822597</td>\n",
       "            </tr>\n",
       "            <tr>\n",
       "                        <th id=\"T_0cd7897a_460b_11ec_8ad0_5c879c826b52level0_row2\" class=\"row_heading level0 row2\" >202003</th>\n",
       "                        <td id=\"T_0cd7897a_460b_11ec_8ad0_5c879c826b52row2_col0\" class=\"data row2 col0\" >2.365678</td>\n",
       "                        <td id=\"T_0cd7897a_460b_11ec_8ad0_5c879c826b52row2_col1\" class=\"data row2 col1\" >1.876227</td>\n",
       "                        <td id=\"T_0cd7897a_460b_11ec_8ad0_5c879c826b52row2_col2\" class=\"data row2 col2\" >1.011531</td>\n",
       "            </tr>\n",
       "            <tr>\n",
       "                        <th id=\"T_0cd7897a_460b_11ec_8ad0_5c879c826b52level0_row3\" class=\"row_heading level0 row3\" >All</th>\n",
       "                        <td id=\"T_0cd7897a_460b_11ec_8ad0_5c879c826b52row3_col0\" class=\"data row3 col0\" >2.306531</td>\n",
       "                        <td id=\"T_0cd7897a_460b_11ec_8ad0_5c879c826b52row3_col1\" class=\"data row3 col1\" >1.919344</td>\n",
       "                        <td id=\"T_0cd7897a_460b_11ec_8ad0_5c879c826b52row3_col2\" class=\"data row3 col2\" >0.873937</td>\n",
       "            </tr>\n",
       "    </tbody></table>"
      ],
      "text/plain": [
       "<pandas.io.formats.style.Styler at 0x1cf1d530>"
      ]
     },
     "execution_count": 55,
     "metadata": {},
     "output_type": "execute_result"
    }
   ],
   "source": [
    "lite.get_table()\n",
    "lite.table"
   ]
  },
  {
   "cell_type": "markdown",
   "metadata": {
    "ExecuteTime": {
     "end_time": "2021-02-05T10:03:05.945149Z",
     "start_time": "2021-02-05T10:03:05.854099Z"
    }
   },
   "source": [
    "## KS in Time Evaluator"
   ]
  },
  {
   "cell_type": "code",
   "execution_count": 56,
   "metadata": {
    "ExecuteTime": {
     "end_time": "2021-11-15T11:56:21.749934Z",
     "start_time": "2021-11-15T11:56:21.582939Z"
    }
   },
   "outputs": [],
   "source": [
    "from mofr.basic_evaluators.KSInTime import KSInTimeEvaluator\n",
    "\n",
    "kite=KSInTimeEvaluator()"
   ]
  },
  {
   "cell_type": "code",
   "execution_count": 57,
   "metadata": {
    "ExecuteTime": {
     "end_time": "2021-11-15T11:56:21.921930Z",
     "start_time": "2021-11-15T11:56:21.753934Z"
    }
   },
   "outputs": [
    {
     "data": {
      "text/plain": []
     },
     "execution_count": 57,
     "metadata": {},
     "output_type": "execute_result"
    }
   ],
   "source": [
    "kite.d(df).t([('target','target_obs')]).s(['p_churn', 'semi_random_score','random_score']).tc('month')"
   ]
  },
  {
   "cell_type": "code",
   "execution_count": 58,
   "metadata": {
    "ExecuteTime": {
     "end_time": "2021-11-15T11:56:22.890936Z",
     "start_time": "2021-11-15T11:56:21.925931Z"
    }
   },
   "outputs": [
    {
     "data": {
      "image/png": "[encoded data removed]",
      "text/plain": [
       "<Figure size 504x576 with 1 Axes>"
      ]
     },
     "metadata": {
      "needs_background": "light"
     },
     "output_type": "display_data"
    },
    {
     "data": {
      "text/plain": []
     },
     "execution_count": 58,
     "metadata": {},
     "output_type": "execute_result"
    }
   ],
   "source": [
    "kite.get_graph()"
   ]
  },
  {
   "cell_type": "code",
   "execution_count": 59,
   "metadata": {
    "ExecuteTime": {
     "end_time": "2021-11-15T11:56:23.869936Z",
     "start_time": "2021-11-15T11:56:22.893934Z"
    }
   },
   "outputs": [
    {
     "data": {
      "text/html": [
       "<style  type=\"text/css\" >\n",
       "</style><table id=\"T_0e343358_460b_11ec_926f_5c879c826b52\" style='display:inline'><caption>KS on target \"target\"</caption><thead>    <tr>        <th class=\"blank level0\" ></th>        <th class=\"col_heading level0 col0\" >p_churn</th>        <th class=\"col_heading level0 col1\" >semi_random_score</th>        <th class=\"col_heading level0 col2\" >random_score</th>    </tr>    <tr>        <th class=\"index_name level0\" >month</th>        <th class=\"blank\" ></th>        <th class=\"blank\" ></th>        <th class=\"blank\" ></th>    </tr></thead><tbody>\n",
       "                <tr>\n",
       "                        <th id=\"T_0e343358_460b_11ec_926f_5c879c826b52level0_row0\" class=\"row_heading level0 row0\" >202001</th>\n",
       "                        <td id=\"T_0e343358_460b_11ec_926f_5c879c826b52row0_col0\" class=\"data row0 col0\" >0.591918</td>\n",
       "                        <td id=\"T_0e343358_460b_11ec_926f_5c879c826b52row0_col1\" class=\"data row0 col1\" >0.209033</td>\n",
       "                        <td id=\"T_0e343358_460b_11ec_926f_5c879c826b52row0_col2\" class=\"data row0 col2\" >0.031368</td>\n",
       "            </tr>\n",
       "            <tr>\n",
       "                        <th id=\"T_0e343358_460b_11ec_926f_5c879c826b52level0_row1\" class=\"row_heading level0 row1\" >202002</th>\n",
       "                        <td id=\"T_0e343358_460b_11ec_926f_5c879c826b52row1_col0\" class=\"data row1 col0\" >0.615777</td>\n",
       "                        <td id=\"T_0e343358_460b_11ec_926f_5c879c826b52row1_col1\" class=\"data row1 col1\" >0.255253</td>\n",
       "                        <td id=\"T_0e343358_460b_11ec_926f_5c879c826b52row1_col2\" class=\"data row1 col2\" >0.054254</td>\n",
       "            </tr>\n",
       "            <tr>\n",
       "                        <th id=\"T_0e343358_460b_11ec_926f_5c879c826b52level0_row2\" class=\"row_heading level0 row2\" >202003</th>\n",
       "                        <td id=\"T_0e343358_460b_11ec_926f_5c879c826b52row2_col0\" class=\"data row2 col0\" >0.561139</td>\n",
       "                        <td id=\"T_0e343358_460b_11ec_926f_5c879c826b52row2_col1\" class=\"data row2 col1\" >0.237582</td>\n",
       "                        <td id=\"T_0e343358_460b_11ec_926f_5c879c826b52row2_col2\" class=\"data row2 col2\" >0.039488</td>\n",
       "            </tr>\n",
       "            <tr>\n",
       "                        <th id=\"T_0e343358_460b_11ec_926f_5c879c826b52level0_row3\" class=\"row_heading level0 row3\" >All</th>\n",
       "                        <td id=\"T_0e343358_460b_11ec_926f_5c879c826b52row3_col0\" class=\"data row3 col0\" >0.588207</td>\n",
       "                        <td id=\"T_0e343358_460b_11ec_926f_5c879c826b52row3_col1\" class=\"data row3 col1\" >0.223460</td>\n",
       "                        <td id=\"T_0e343358_460b_11ec_926f_5c879c826b52row3_col2\" class=\"data row3 col2\" >0.019512</td>\n",
       "            </tr>\n",
       "    </tbody></table>"
      ],
      "text/plain": [
       "<pandas.io.formats.style.Styler at 0x1c96ab10>"
      ]
     },
     "execution_count": 59,
     "metadata": {},
     "output_type": "execute_result"
    }
   ],
   "source": [
    "kite.get_table()\n",
    "kite.table"
   ]
  },
  {
   "cell_type": "markdown",
   "metadata": {
    "ExecuteTime": {
     "end_time": "2021-02-05T10:03:05.945149Z",
     "start_time": "2021-02-05T10:03:05.854099Z"
    }
   },
   "source": [
    "## StabilityInTimeCategorical Evaluator"
   ]
  },
  {
   "cell_type": "code",
   "execution_count": 60,
   "metadata": {
    "ExecuteTime": {
     "end_time": "2021-11-15T11:56:24.073936Z",
     "start_time": "2021-11-15T11:56:23.873935Z"
    }
   },
   "outputs": [],
   "source": [
    "df['categorical_predictor']=df['target_obs'].apply(lambda x: random.choice(['A','B','C', 'D', 'F', 'G', 'H']))"
   ]
  },
  {
   "cell_type": "code",
   "execution_count": 61,
   "metadata": {
    "ExecuteTime": {
     "end_time": "2021-11-15T11:56:24.212940Z",
     "start_time": "2021-11-15T11:56:24.078955Z"
    }
   },
   "outputs": [],
   "source": [
    "from mofr.basic_evaluators.StabilityInTimeCategorical import StabilityInTimeCategoricalEvaluator\n",
    "\n",
    "sitcae=StabilityInTimeCategoricalEvaluator()"
   ]
  },
  {
   "cell_type": "code",
   "execution_count": 62,
   "metadata": {
    "ExecuteTime": {
     "end_time": "2021-11-15T11:56:24.353938Z",
     "start_time": "2021-11-15T11:56:24.214940Z"
    }
   },
   "outputs": [
    {
     "data": {
      "text/plain": []
     },
     "execution_count": 62,
     "metadata": {},
     "output_type": "execute_result"
    }
   ],
   "source": [
    "sitcae.d(df).pc('categorical_predictor').tc('month')"
   ]
  },
  {
   "cell_type": "code",
   "execution_count": 63,
   "metadata": {
    "ExecuteTime": {
     "end_time": "2021-11-15T11:56:24.963940Z",
     "start_time": "2021-11-15T11:56:24.355937Z"
    }
   },
   "outputs": [
    {
     "data": {
      "image/png": "[encoded data removed]",
      "text/plain": [
       "<Figure size 504x576 with 1 Axes>"
      ]
     },
     "metadata": {
      "needs_background": "light"
     },
     "output_type": "display_data"
    },
    {
     "data": {
      "text/plain": []
     },
     "execution_count": 63,
     "metadata": {},
     "output_type": "execute_result"
    }
   ],
   "source": [
    "sitcae.get_graph()"
   ]
  },
  {
   "cell_type": "code",
   "execution_count": 64,
   "metadata": {
    "ExecuteTime": {
     "end_time": "2021-11-15T11:56:25.118942Z",
     "start_time": "2021-11-15T11:56:24.966976Z"
    }
   },
   "outputs": [
    {
     "data": {
      "text/html": [
       "<style  type=\"text/css\" >\n",
       "</style><table id=\"T_0ef3b462_460b_11ec_8c74_5c879c826b52\" style='display:inline'><caption>Distribution of predictor \"categorical_predictor\" in time</caption><thead>    <tr>        <th class=\"index_name level0\" >categorical_predictor</th>        <th class=\"col_heading level0 col0\" >A</th>        <th class=\"col_heading level0 col1\" >B</th>        <th class=\"col_heading level0 col2\" >C</th>        <th class=\"col_heading level0 col3\" >D</th>        <th class=\"col_heading level0 col4\" >F</th>        <th class=\"col_heading level0 col5\" >G</th>        <th class=\"col_heading level0 col6\" >H</th>    </tr>    <tr>        <th class=\"index_name level0\" >month</th>        <th class=\"blank\" ></th>        <th class=\"blank\" ></th>        <th class=\"blank\" ></th>        <th class=\"blank\" ></th>        <th class=\"blank\" ></th>        <th class=\"blank\" ></th>        <th class=\"blank\" ></th>    </tr></thead><tbody>\n",
       "                <tr>\n",
       "                        <th id=\"T_0ef3b462_460b_11ec_8c74_5c879c826b52level0_row0\" class=\"row_heading level0 row0\" >202001</th>\n",
       "                        <td id=\"T_0ef3b462_460b_11ec_8c74_5c879c826b52row0_col0\" class=\"data row0 col0\" >0.128694</td>\n",
       "                        <td id=\"T_0ef3b462_460b_11ec_8c74_5c879c826b52row0_col1\" class=\"data row0 col1\" >0.148522</td>\n",
       "                        <td id=\"T_0ef3b462_460b_11ec_8c74_5c879c826b52row0_col2\" class=\"data row0 col2\" >0.139544</td>\n",
       "                        <td id=\"T_0ef3b462_460b_11ec_8c74_5c879c826b52row0_col3\" class=\"data row0 col3\" >0.143659</td>\n",
       "                        <td id=\"T_0ef3b462_460b_11ec_8c74_5c879c826b52row0_col4\" class=\"data row0 col4\" >0.147026</td>\n",
       "                        <td id=\"T_0ef3b462_460b_11ec_8c74_5c879c826b52row0_col5\" class=\"data row0 col5\" >0.151515</td>\n",
       "                        <td id=\"T_0ef3b462_460b_11ec_8c74_5c879c826b52row0_col6\" class=\"data row0 col6\" >0.141040</td>\n",
       "            </tr>\n",
       "            <tr>\n",
       "                        <th id=\"T_0ef3b462_460b_11ec_8c74_5c879c826b52level0_row1\" class=\"row_heading level0 row1\" >202002</th>\n",
       "                        <td id=\"T_0ef3b462_460b_11ec_8c74_5c879c826b52row1_col0\" class=\"data row1 col0\" >0.144314</td>\n",
       "                        <td id=\"T_0ef3b462_460b_11ec_8c74_5c879c826b52row1_col1\" class=\"data row1 col1\" >0.149603</td>\n",
       "                        <td id=\"T_0ef3b462_460b_11ec_8c74_5c879c826b52row1_col2\" class=\"data row1 col2\" >0.132225</td>\n",
       "                        <td id=\"T_0ef3b462_460b_11ec_8c74_5c879c826b52row1_col3\" class=\"data row1 col3\" >0.134492</td>\n",
       "                        <td id=\"T_0ef3b462_460b_11ec_8c74_5c879c826b52row1_col4\" class=\"data row1 col4\" >0.141670</td>\n",
       "                        <td id=\"T_0ef3b462_460b_11ec_8c74_5c879c826b52row1_col5\" class=\"data row1 col5\" >0.151870</td>\n",
       "                        <td id=\"T_0ef3b462_460b_11ec_8c74_5c879c826b52row1_col6\" class=\"data row1 col6\" >0.145825</td>\n",
       "            </tr>\n",
       "            <tr>\n",
       "                        <th id=\"T_0ef3b462_460b_11ec_8c74_5c879c826b52level0_row2\" class=\"row_heading level0 row2\" >202003</th>\n",
       "                        <td id=\"T_0ef3b462_460b_11ec_8c74_5c879c826b52row2_col0\" class=\"data row2 col0\" >0.142041</td>\n",
       "                        <td id=\"T_0ef3b462_460b_11ec_8c74_5c879c826b52row2_col1\" class=\"data row2 col1\" >0.152323</td>\n",
       "                        <td id=\"T_0ef3b462_460b_11ec_8c74_5c879c826b52row2_col2\" class=\"data row2 col2\" >0.142041</td>\n",
       "                        <td id=\"T_0ef3b462_460b_11ec_8c74_5c879c826b52row2_col3\" class=\"data row2 col3\" >0.136329</td>\n",
       "                        <td id=\"T_0ef3b462_460b_11ec_8c74_5c879c826b52row2_col4\" class=\"data row2 col4\" >0.145088</td>\n",
       "                        <td id=\"T_0ef3b462_460b_11ec_8c74_5c879c826b52row2_col5\" class=\"data row2 col5\" >0.146992</td>\n",
       "                        <td id=\"T_0ef3b462_460b_11ec_8c74_5c879c826b52row2_col6\" class=\"data row2 col6\" >0.135187</td>\n",
       "            </tr>\n",
       "    </tbody></table>"
      ],
      "text/plain": [
       "<pandas.io.formats.style.Styler at 0x1c96a9b0>"
      ]
     },
     "execution_count": 64,
     "metadata": {},
     "output_type": "execute_result"
    }
   ],
   "source": [
    "sitcae.get_table()\n",
    "sitcae.table"
   ]
  },
  {
   "cell_type": "markdown",
   "metadata": {
    "ExecuteTime": {
     "end_time": "2021-02-05T10:03:05.945149Z",
     "start_time": "2021-02-05T10:03:05.854099Z"
    }
   },
   "source": [
    "## StabilityInTimeContinuous Evaluator"
   ]
  },
  {
   "cell_type": "code",
   "execution_count": 65,
   "metadata": {
    "ExecuteTime": {
     "end_time": "2021-11-15T11:56:25.245011Z",
     "start_time": "2021-11-15T11:56:25.121942Z"
    }
   },
   "outputs": [],
   "source": [
    "from mofr.basic_evaluators.StabilityInTimeContinuous import StabilityInTimeContinuousEvaluator\n",
    "\n",
    "sitcoe=StabilityInTimeContinuousEvaluator()"
   ]
  },
  {
   "cell_type": "code",
   "execution_count": 66,
   "metadata": {
    "ExecuteTime": {
     "end_time": "2021-11-15T11:56:25.384947Z",
     "start_time": "2021-11-15T11:56:25.246981Z"
    }
   },
   "outputs": [
    {
     "data": {
      "text/plain": []
     },
     "execution_count": 66,
     "metadata": {},
     "output_type": "execute_result"
    }
   ],
   "source": [
    "sitcoe.d(df).pc('p_churn').tc('month')"
   ]
  },
  {
   "cell_type": "code",
   "execution_count": 67,
   "metadata": {
    "ExecuteTime": {
     "end_time": "2021-11-15T11:56:25.948941Z",
     "start_time": "2021-11-15T11:56:25.387944Z"
    }
   },
   "outputs": [
    {
     "data": {
      "image/png": "[encoded data removed]",
      "text/plain": [
       "<Figure size 504x576 with 1 Axes>"
      ]
     },
     "metadata": {
      "needs_background": "light"
     },
     "output_type": "display_data"
    },
    {
     "data": {
      "text/plain": []
     },
     "execution_count": 67,
     "metadata": {},
     "output_type": "execute_result"
    }
   ],
   "source": [
    "sitcoe.get_graph()"
   ]
  },
  {
   "cell_type": "code",
   "execution_count": 68,
   "metadata": {
    "ExecuteTime": {
     "end_time": "2021-11-15T11:56:26.134945Z",
     "start_time": "2021-11-15T11:56:25.950940Z"
    }
   },
   "outputs": [
    {
     "data": {
      "text/html": [
       "<style  type=\"text/css\" >\n",
       "</style><table id=\"T_0f8f581c_460b_11ec_9fbe_5c879c826b52\" style='display:inline'><caption>Distribution of predictor \"p_churn\" in time</caption><thead>    <tr>        <th class=\"blank level0\" ></th>        <th class=\"col_heading level0 col0\" >percentile_10</th>        <th class=\"col_heading level0 col1\" >percentile_25</th>        <th class=\"col_heading level0 col2\" >percentile_50</th>        <th class=\"col_heading level0 col3\" >percentile_75</th>        <th class=\"col_heading level0 col4\" >percentile_90</th>    </tr>    <tr>        <th class=\"index_name level0\" >month</th>        <th class=\"blank\" ></th>        <th class=\"blank\" ></th>        <th class=\"blank\" ></th>        <th class=\"blank\" ></th>        <th class=\"blank\" ></th>    </tr></thead><tbody>\n",
       "                <tr>\n",
       "                        <th id=\"T_0f8f581c_460b_11ec_9fbe_5c879c826b52level0_row0\" class=\"row_heading level0 row0\" >202001</th>\n",
       "                        <td id=\"T_0f8f581c_460b_11ec_9fbe_5c879c826b52row0_col0\" class=\"data row0 col0\" >0.001083</td>\n",
       "                        <td id=\"T_0f8f581c_460b_11ec_9fbe_5c879c826b52row0_col1\" class=\"data row0 col1\" >0.002996</td>\n",
       "                        <td id=\"T_0f8f581c_460b_11ec_9fbe_5c879c826b52row0_col2\" class=\"data row0 col2\" >0.019286</td>\n",
       "                        <td id=\"T_0f8f581c_460b_11ec_9fbe_5c879c826b52row0_col3\" class=\"data row0 col3\" >0.235673</td>\n",
       "                        <td id=\"T_0f8f581c_460b_11ec_9fbe_5c879c826b52row0_col4\" class=\"data row0 col4\" >0.384081</td>\n",
       "            </tr>\n",
       "            <tr>\n",
       "                        <th id=\"T_0f8f581c_460b_11ec_9fbe_5c879c826b52level0_row1\" class=\"row_heading level0 row1\" >202002</th>\n",
       "                        <td id=\"T_0f8f581c_460b_11ec_9fbe_5c879c826b52row1_col0\" class=\"data row1 col0\" >0.001170</td>\n",
       "                        <td id=\"T_0f8f581c_460b_11ec_9fbe_5c879c826b52row1_col1\" class=\"data row1 col1\" >0.002974</td>\n",
       "                        <td id=\"T_0f8f581c_460b_11ec_9fbe_5c879c826b52row1_col2\" class=\"data row1 col2\" >0.020166</td>\n",
       "                        <td id=\"T_0f8f581c_460b_11ec_9fbe_5c879c826b52row1_col3\" class=\"data row1 col3\" >0.258727</td>\n",
       "                        <td id=\"T_0f8f581c_460b_11ec_9fbe_5c879c826b52row1_col4\" class=\"data row1 col4\" >0.444975</td>\n",
       "            </tr>\n",
       "            <tr>\n",
       "                        <th id=\"T_0f8f581c_460b_11ec_9fbe_5c879c826b52level0_row2\" class=\"row_heading level0 row2\" >202003</th>\n",
       "                        <td id=\"T_0f8f581c_460b_11ec_9fbe_5c879c826b52row2_col0\" class=\"data row2 col0\" >0.001223</td>\n",
       "                        <td id=\"T_0f8f581c_460b_11ec_9fbe_5c879c826b52row2_col1\" class=\"data row2 col1\" >0.003511</td>\n",
       "                        <td id=\"T_0f8f581c_460b_11ec_9fbe_5c879c826b52row2_col2\" class=\"data row2 col2\" >0.026418</td>\n",
       "                        <td id=\"T_0f8f581c_460b_11ec_9fbe_5c879c826b52row2_col3\" class=\"data row2 col3\" >0.253430</td>\n",
       "                        <td id=\"T_0f8f581c_460b_11ec_9fbe_5c879c826b52row2_col4\" class=\"data row2 col4\" >0.406317</td>\n",
       "            </tr>\n",
       "    </tbody></table>"
      ],
      "text/plain": [
       "<pandas.io.formats.style.Styler at 0x1ca51dd0>"
      ]
     },
     "execution_count": 68,
     "metadata": {},
     "output_type": "execute_result"
    }
   ],
   "source": [
    "sitcoe.get_table()\n",
    "sitcoe.table"
   ]
  },
  {
   "cell_type": "markdown",
   "metadata": {
    "ExecuteTime": {
     "end_time": "2021-02-05T10:03:05.945149Z",
     "start_time": "2021-02-05T10:03:05.854099Z"
    }
   },
   "source": [
    "## HistogramCategorical Evaluator"
   ]
  },
  {
   "cell_type": "code",
   "execution_count": 69,
   "metadata": {
    "ExecuteTime": {
     "end_time": "2021-11-15T11:56:26.277945Z",
     "start_time": "2021-11-15T11:56:26.136941Z"
    }
   },
   "outputs": [],
   "source": [
    "df['categorical_predictor']=df['target_obs'].apply(lambda x: random.choice(['A','B','C', 'D', 'F', 'G', 'H']))"
   ]
  },
  {
   "cell_type": "code",
   "execution_count": 70,
   "metadata": {
    "ExecuteTime": {
     "end_time": "2021-11-15T11:56:26.405943Z",
     "start_time": "2021-11-15T11:56:26.283940Z"
    }
   },
   "outputs": [],
   "source": [
    "from mofr.basic_evaluators.HistogramCategorical import HistogramCategoricalEvaluator\n",
    "\n",
    "hcae=HistogramCategoricalEvaluator()"
   ]
  },
  {
   "cell_type": "code",
   "execution_count": 71,
   "metadata": {
    "ExecuteTime": {
     "end_time": "2021-11-15T11:56:26.531979Z",
     "start_time": "2021-11-15T11:56:26.407980Z"
    }
   },
   "outputs": [
    {
     "data": {
      "text/plain": []
     },
     "execution_count": 71,
     "metadata": {},
     "output_type": "execute_result"
    }
   ],
   "source": [
    "hcae.d(df).pc('categorical_predictor')"
   ]
  },
  {
   "cell_type": "code",
   "execution_count": 72,
   "metadata": {
    "ExecuteTime": {
     "end_time": "2021-11-15T11:56:26.956980Z",
     "start_time": "2021-11-15T11:56:26.533946Z"
    }
   },
   "outputs": [
    {
     "data": {
      "image/png": "[encoded data removed]",
      "text/plain": [
       "<Figure size 504x576 with 1 Axes>"
      ]
     },
     "metadata": {
      "needs_background": "light"
     },
     "output_type": "display_data"
    },
    {
     "data": {
      "text/plain": []
     },
     "execution_count": 72,
     "metadata": {},
     "output_type": "execute_result"
    }
   ],
   "source": [
    "hcae.get_graph()"
   ]
  },
  {
   "cell_type": "code",
   "execution_count": 73,
   "metadata": {
    "ExecuteTime": {
     "end_time": "2021-11-15T11:56:27.097978Z",
     "start_time": "2021-11-15T11:56:26.959946Z"
    }
   },
   "outputs": [
    {
     "data": {
      "text/html": [
       "<div>\n",
       "<style scoped>\n",
       "    .dataframe tbody tr th:only-of-type {\n",
       "        vertical-align: middle;\n",
       "    }\n",
       "\n",
       "    .dataframe tbody tr th {\n",
       "        vertical-align: top;\n",
       "    }\n",
       "\n",
       "    .dataframe thead th {\n",
       "        text-align: right;\n",
       "    }\n",
       "</style>\n",
       "<table border=\"1\" class=\"dataframe\">\n",
       "  <thead>\n",
       "    <tr style=\"text-align: right;\">\n",
       "      <th></th>\n",
       "      <th>categorical_predictor %</th>\n",
       "      <th>categorical_predictor</th>\n",
       "    </tr>\n",
       "  </thead>\n",
       "  <tbody>\n",
       "    <tr>\n",
       "      <th>D</th>\n",
       "      <td>0.145356</td>\n",
       "      <td>1155</td>\n",
       "    </tr>\n",
       "    <tr>\n",
       "      <th>G</th>\n",
       "      <td>0.144349</td>\n",
       "      <td>1147</td>\n",
       "    </tr>\n",
       "    <tr>\n",
       "      <th>H</th>\n",
       "      <td>0.144349</td>\n",
       "      <td>1147</td>\n",
       "    </tr>\n",
       "    <tr>\n",
       "      <th>F</th>\n",
       "      <td>0.142839</td>\n",
       "      <td>1135</td>\n",
       "    </tr>\n",
       "    <tr>\n",
       "      <th>C</th>\n",
       "      <td>0.142713</td>\n",
       "      <td>1134</td>\n",
       "    </tr>\n",
       "    <tr>\n",
       "      <th>B</th>\n",
       "      <td>0.141832</td>\n",
       "      <td>1127</td>\n",
       "    </tr>\n",
       "    <tr>\n",
       "      <th>A</th>\n",
       "      <td>0.138560</td>\n",
       "      <td>1101</td>\n",
       "    </tr>\n",
       "  </tbody>\n",
       "</table>\n",
       "</div>"
      ],
      "text/plain": [
       "   categorical_predictor %  categorical_predictor\n",
       "D                 0.145356                   1155\n",
       "G                 0.144349                   1147\n",
       "H                 0.144349                   1147\n",
       "F                 0.142839                   1135\n",
       "C                 0.142713                   1134\n",
       "B                 0.141832                   1127\n",
       "A                 0.138560                   1101"
      ]
     },
     "execution_count": 73,
     "metadata": {},
     "output_type": "execute_result"
    }
   ],
   "source": [
    "hcae.get_table()\n",
    "pd.DataFrame(hcae.table)"
   ]
  },
  {
   "cell_type": "markdown",
   "metadata": {
    "ExecuteTime": {
     "end_time": "2021-02-05T10:03:05.945149Z",
     "start_time": "2021-02-05T10:03:05.854099Z"
    }
   },
   "source": [
    "## HistogramContinuous Evaluator"
   ]
  },
  {
   "cell_type": "code",
   "execution_count": 74,
   "metadata": {
    "ExecuteTime": {
     "end_time": "2021-11-15T11:56:27.223948Z",
     "start_time": "2021-11-15T11:56:27.099944Z"
    }
   },
   "outputs": [],
   "source": [
    "from mofr.basic_evaluators.HistogramContinuous import HistogramContinuousEvaluator\n",
    "\n",
    "hcoe=HistogramContinuousEvaluator()"
   ]
  },
  {
   "cell_type": "code",
   "execution_count": 75,
   "metadata": {
    "ExecuteTime": {
     "end_time": "2021-11-15T11:56:27.348945Z",
     "start_time": "2021-11-15T11:56:27.226947Z"
    }
   },
   "outputs": [
    {
     "data": {
      "text/plain": []
     },
     "execution_count": 75,
     "metadata": {},
     "output_type": "execute_result"
    }
   ],
   "source": [
    "hcoe.d(df).pc('p_churn')"
   ]
  },
  {
   "cell_type": "code",
   "execution_count": 76,
   "metadata": {
    "ExecuteTime": {
     "end_time": "2021-11-15T11:56:27.806944Z",
     "start_time": "2021-11-15T11:56:27.350947Z"
    },
    "scrolled": false
   },
   "outputs": [
    {
     "data": {
      "image/png": "[encoded data removed]",
      "text/plain": [
       "<Figure size 504x576 with 1 Axes>"
      ]
     },
     "metadata": {
      "needs_background": "light"
     },
     "output_type": "display_data"
    },
    {
     "data": {
      "text/plain": []
     },
     "execution_count": 76,
     "metadata": {},
     "output_type": "execute_result"
    }
   ],
   "source": [
    "hcoe.get_graph()"
   ]
  },
  {
   "cell_type": "code",
   "execution_count": 77,
   "metadata": {
    "ExecuteTime": {
     "end_time": "2021-11-15T11:56:28.024946Z",
     "start_time": "2021-11-15T11:56:27.811004Z"
    },
    "scrolled": true
   },
   "outputs": [
    {
     "data": {
      "text/html": [
       "<style  type=\"text/css\" >\n",
       "</style><table id=\"T_10ade63a_460b_11ec_94be_5c879c826b52\" style='display:inline'><caption>Percentiles of predictor \"p_churn\"</caption><thead>    <tr>        <th class=\"index_name level0\" ></th>        <th class=\"col_heading level0 col0\" >p_churn</th>    </tr></thead><tbody>\n",
       "                <tr>\n",
       "                        <th id=\"T_10ade63a_460b_11ec_94be_5c879c826b52level0_row0\" class=\"row_heading level0 row0\" >percentile_10</th>\n",
       "                        <td id=\"T_10ade63a_460b_11ec_94be_5c879c826b52row0_col0\" class=\"data row0 col0\" >0.001139</td>\n",
       "            </tr>\n",
       "            <tr>\n",
       "                        <th id=\"T_10ade63a_460b_11ec_94be_5c879c826b52level0_row1\" class=\"row_heading level0 row1\" >percentile_25</th>\n",
       "                        <td id=\"T_10ade63a_460b_11ec_94be_5c879c826b52row1_col0\" class=\"data row1 col0\" >0.003166</td>\n",
       "            </tr>\n",
       "            <tr>\n",
       "                        <th id=\"T_10ade63a_460b_11ec_94be_5c879c826b52level0_row2\" class=\"row_heading level0 row2\" >percentile_50</th>\n",
       "                        <td id=\"T_10ade63a_460b_11ec_94be_5c879c826b52row2_col0\" class=\"data row2 col0\" >0.021627</td>\n",
       "            </tr>\n",
       "            <tr>\n",
       "                        <th id=\"T_10ade63a_460b_11ec_94be_5c879c826b52level0_row3\" class=\"row_heading level0 row3\" >percentile_75</th>\n",
       "                        <td id=\"T_10ade63a_460b_11ec_94be_5c879c826b52row3_col0\" class=\"data row3 col0\" >0.247600</td>\n",
       "            </tr>\n",
       "            <tr>\n",
       "                        <th id=\"T_10ade63a_460b_11ec_94be_5c879c826b52level0_row4\" class=\"row_heading level0 row4\" >percentile_90</th>\n",
       "                        <td id=\"T_10ade63a_460b_11ec_94be_5c879c826b52row4_col0\" class=\"data row4 col0\" >0.401849</td>\n",
       "            </tr>\n",
       "    </tbody></table>"
      ],
      "text/plain": [
       "<pandas.io.formats.style.Styler at 0x1c8ac3d0>"
      ]
     },
     "execution_count": 77,
     "metadata": {},
     "output_type": "execute_result"
    }
   ],
   "source": [
    "hcoe.get_table()\n",
    "hcoe.table"
   ]
  },
  {
   "cell_type": "markdown",
   "metadata": {
    "ExecuteTime": {
     "end_time": "2021-02-05T10:03:05.945149Z",
     "start_time": "2021-02-05T10:03:05.854099Z"
    }
   },
   "source": [
    "## TargetAssociationCategorical Evaluator"
   ]
  },
  {
   "cell_type": "code",
   "execution_count": 78,
   "metadata": {
    "ExecuteTime": {
     "end_time": "2021-11-15T11:56:28.151985Z",
     "start_time": "2021-11-15T11:56:28.027947Z"
    }
   },
   "outputs": [],
   "source": [
    "df['categorical_predictor']=df['target_obs'].apply(lambda x: random.choice(['A','B','C', 'D', 'F', 'G', 'H']))"
   ]
  },
  {
   "cell_type": "code",
   "execution_count": 79,
   "metadata": {
    "ExecuteTime": {
     "end_time": "2021-11-15T11:56:28.292949Z",
     "start_time": "2021-11-15T11:56:28.154948Z"
    }
   },
   "outputs": [],
   "source": [
    "from mofr.basic_evaluators.TargetAssociationCategorical import TargetAssociationCategoricalEvaluator\n",
    "\n",
    "tacae=TargetAssociationCategoricalEvaluator()"
   ]
  },
  {
   "cell_type": "code",
   "execution_count": 80,
   "metadata": {
    "ExecuteTime": {
     "end_time": "2021-11-15T11:56:28.451951Z",
     "start_time": "2021-11-15T11:56:28.297946Z"
    }
   },
   "outputs": [
    {
     "data": {
      "text/plain": []
     },
     "execution_count": 80,
     "metadata": {},
     "output_type": "execute_result"
    }
   ],
   "source": [
    "tacae.d(df).t([('target', 'target_obs')]).pc('categorical_predictor').tc('month')"
   ]
  },
  {
   "cell_type": "code",
   "execution_count": 81,
   "metadata": {
    "ExecuteTime": {
     "end_time": "2021-11-15T11:56:29.051959Z",
     "start_time": "2021-11-15T11:56:28.467984Z"
    }
   },
   "outputs": [
    {
     "data": {
      "image/png": "[encoded data removed]",
      "text/plain": [
       "<Figure size 504x576 with 1 Axes>"
      ]
     },
     "metadata": {
      "needs_background": "light"
     },
     "output_type": "display_data"
    },
    {
     "data": {
      "text/plain": []
     },
     "execution_count": 81,
     "metadata": {},
     "output_type": "execute_result"
    }
   ],
   "source": [
    "tacae.get_graph()"
   ]
  },
  {
   "cell_type": "code",
   "execution_count": 82,
   "metadata": {
    "ExecuteTime": {
     "end_time": "2021-11-15T11:56:29.303954Z",
     "start_time": "2021-11-15T11:56:29.060991Z"
    }
   },
   "outputs": [
    {
     "data": {
      "text/html": [
       "<style  type=\"text/css\" >\n",
       "</style><table id=\"T_1170c13e_460b_11ec_8135_5c879c826b52\" style='display:inline'><caption>Target association (default rate) of predictor \"categorical_predictor\" in time</caption><thead>    <tr>        <th class=\"index_name level0\" >categorical_predictor</th>        <th class=\"col_heading level0 col0\" >A</th>        <th class=\"col_heading level0 col1\" >B</th>        <th class=\"col_heading level0 col2\" >C</th>        <th class=\"col_heading level0 col3\" >D</th>        <th class=\"col_heading level0 col4\" >F</th>        <th class=\"col_heading level0 col5\" >G</th>        <th class=\"col_heading level0 col6\" >H</th>    </tr>    <tr>        <th class=\"index_name level0\" >month</th>        <th class=\"blank\" ></th>        <th class=\"blank\" ></th>        <th class=\"blank\" ></th>        <th class=\"blank\" ></th>        <th class=\"blank\" ></th>        <th class=\"blank\" ></th>        <th class=\"blank\" ></th>    </tr></thead><tbody>\n",
       "                <tr>\n",
       "                        <th id=\"T_1170c13e_460b_11ec_8135_5c879c826b52level0_row0\" class=\"row_heading level0 row0\" >202001</th>\n",
       "                        <td id=\"T_1170c13e_460b_11ec_8135_5c879c826b52row0_col0\" class=\"data row0 col0\" >0.143333</td>\n",
       "                        <td id=\"T_1170c13e_460b_11ec_8135_5c879c826b52row0_col1\" class=\"data row0 col1\" >0.120000</td>\n",
       "                        <td id=\"T_1170c13e_460b_11ec_8135_5c879c826b52row0_col2\" class=\"data row0 col2\" >0.133333</td>\n",
       "                        <td id=\"T_1170c13e_460b_11ec_8135_5c879c826b52row0_col3\" class=\"data row0 col3\" >0.175000</td>\n",
       "                        <td id=\"T_1170c13e_460b_11ec_8135_5c879c826b52row0_col4\" class=\"data row0 col4\" >0.146667</td>\n",
       "                        <td id=\"T_1170c13e_460b_11ec_8135_5c879c826b52row0_col5\" class=\"data row0 col5\" >0.153333</td>\n",
       "                        <td id=\"T_1170c13e_460b_11ec_8135_5c879c826b52row0_col6\" class=\"data row0 col6\" >0.128333</td>\n",
       "            </tr>\n",
       "            <tr>\n",
       "                        <th id=\"T_1170c13e_460b_11ec_8135_5c879c826b52level0_row1\" class=\"row_heading level0 row1\" >202002</th>\n",
       "                        <td id=\"T_1170c13e_460b_11ec_8135_5c879c826b52row1_col0\" class=\"data row1 col0\" >0.152941</td>\n",
       "                        <td id=\"T_1170c13e_460b_11ec_8135_5c879c826b52row1_col1\" class=\"data row1 col1\" >0.159664</td>\n",
       "                        <td id=\"T_1170c13e_460b_11ec_8135_5c879c826b52row1_col2\" class=\"data row1 col2\" >0.144538</td>\n",
       "                        <td id=\"T_1170c13e_460b_11ec_8135_5c879c826b52row1_col3\" class=\"data row1 col3\" >0.147899</td>\n",
       "                        <td id=\"T_1170c13e_460b_11ec_8135_5c879c826b52row1_col4\" class=\"data row1 col4\" >0.114286</td>\n",
       "                        <td id=\"T_1170c13e_460b_11ec_8135_5c879c826b52row1_col5\" class=\"data row1 col5\" >0.154622</td>\n",
       "                        <td id=\"T_1170c13e_460b_11ec_8135_5c879c826b52row1_col6\" class=\"data row1 col6\" >0.126050</td>\n",
       "            </tr>\n",
       "            <tr>\n",
       "                        <th id=\"T_1170c13e_460b_11ec_8135_5c879c826b52level0_row2\" class=\"row_heading level0 row2\" >202003</th>\n",
       "                        <td id=\"T_1170c13e_460b_11ec_8135_5c879c826b52row2_col0\" class=\"data row2 col0\" >0.140523</td>\n",
       "                        <td id=\"T_1170c13e_460b_11ec_8135_5c879c826b52row2_col1\" class=\"data row2 col1\" >0.143791</td>\n",
       "                        <td id=\"T_1170c13e_460b_11ec_8135_5c879c826b52row2_col2\" class=\"data row2 col2\" >0.151961</td>\n",
       "                        <td id=\"T_1170c13e_460b_11ec_8135_5c879c826b52row2_col3\" class=\"data row2 col3\" >0.137255</td>\n",
       "                        <td id=\"T_1170c13e_460b_11ec_8135_5c879c826b52row2_col4\" class=\"data row2 col4\" >0.151961</td>\n",
       "                        <td id=\"T_1170c13e_460b_11ec_8135_5c879c826b52row2_col5\" class=\"data row2 col5\" >0.133987</td>\n",
       "                        <td id=\"T_1170c13e_460b_11ec_8135_5c879c826b52row2_col6\" class=\"data row2 col6\" >0.140523</td>\n",
       "            </tr>\n",
       "            <tr>\n",
       "                        <th id=\"T_1170c13e_460b_11ec_8135_5c879c826b52level0_row3\" class=\"row_heading level0 row3\" >All</th>\n",
       "                        <td id=\"T_1170c13e_460b_11ec_8135_5c879c826b52row3_col0\" class=\"data row3 col0\" >0.145545</td>\n",
       "                        <td id=\"T_1170c13e_460b_11ec_8135_5c879c826b52row3_col1\" class=\"data row3 col1\" >0.141118</td>\n",
       "                        <td id=\"T_1170c13e_460b_11ec_8135_5c879c826b52row3_col2\" class=\"data row3 col2\" >0.143331</td>\n",
       "                        <td id=\"T_1170c13e_460b_11ec_8135_5c879c826b52row3_col3\" class=\"data row3 col3\" >0.153293</td>\n",
       "                        <td id=\"T_1170c13e_460b_11ec_8135_5c879c826b52row3_col4\" class=\"data row3 col4\" >0.137797</td>\n",
       "                        <td id=\"T_1170c13e_460b_11ec_8135_5c879c826b52row3_col5\" class=\"data row3 col5\" >0.147205</td>\n",
       "                        <td id=\"T_1170c13e_460b_11ec_8135_5c879c826b52row3_col6\" class=\"data row3 col6\" >0.131710</td>\n",
       "            </tr>\n",
       "    </tbody></table>"
      ],
      "text/plain": [
       "<pandas.io.formats.style.Styler at 0x1c9ef690>"
      ]
     },
     "execution_count": 82,
     "metadata": {},
     "output_type": "execute_result"
    }
   ],
   "source": [
    "tacae.get_table()\n",
    "tacae.table"
   ]
  },
  {
   "cell_type": "markdown",
   "metadata": {
    "ExecuteTime": {
     "end_time": "2021-02-05T10:03:05.945149Z",
     "start_time": "2021-02-05T10:03:05.854099Z"
    }
   },
   "source": [
    "## TargetAssociationContinuous Evaluator"
   ]
  },
  {
   "cell_type": "code",
   "execution_count": 83,
   "metadata": {
    "ExecuteTime": {
     "end_time": "2021-11-15T11:56:29.476948Z",
     "start_time": "2021-11-15T11:56:29.308951Z"
    }
   },
   "outputs": [],
   "source": [
    "from mofr.basic_evaluators.TargetAssociationContinuous import TargetAssociationContinuousEvaluator\n",
    "\n",
    "tacoe=TargetAssociationContinuousEvaluator()"
   ]
  },
  {
   "cell_type": "code",
   "execution_count": 84,
   "metadata": {
    "ExecuteTime": {
     "end_time": "2021-11-15T11:56:29.618952Z",
     "start_time": "2021-11-15T11:56:29.479950Z"
    }
   },
   "outputs": [
    {
     "data": {
      "text/plain": []
     },
     "execution_count": 84,
     "metadata": {},
     "output_type": "execute_result"
    }
   ],
   "source": [
    "tacoe.d(df).t([('target', 'target_obs')]).pc('p_churn').tc('month')"
   ]
  },
  {
   "cell_type": "code",
   "execution_count": 85,
   "metadata": {
    "ExecuteTime": {
     "end_time": "2021-11-15T11:56:30.470949Z",
     "start_time": "2021-11-15T11:56:29.620955Z"
    }
   },
   "outputs": [
    {
     "data": {
      "image/png": "[encoded data removed]",
      "text/plain": [
       "<Figure size 504x576 with 1 Axes>"
      ]
     },
     "metadata": {
      "needs_background": "light"
     },
     "output_type": "display_data"
    },
    {
     "data": {
      "text/plain": []
     },
     "execution_count": 85,
     "metadata": {},
     "output_type": "execute_result"
    }
   ],
   "source": [
    "tacoe.get_graph()"
   ]
  },
  {
   "cell_type": "code",
   "execution_count": 86,
   "metadata": {
    "ExecuteTime": {
     "end_time": "2021-11-15T11:56:30.911952Z",
     "start_time": "2021-11-15T11:56:30.472953Z"
    },
    "scrolled": true
   },
   "outputs": [
    {
     "data": {
      "text/html": [
       "<style  type=\"text/css\" >\n",
       "</style><table id=\"T_1265cfcc_460b_11ec_903e_5c879c826b52\" style='display:inline'><caption>Different aggregations of target variable \"target\" vs. the predictor \"p_churn\" values</caption><thead>    <tr>        <th class=\"blank level0\" ></th>        <th class=\"col_heading level0 col0\" colspan=4>count</th>        <th class=\"col_heading level0 col4\" colspan=4>sum</th>        <th class=\"col_heading level0 col8\" colspan=4>mean</th>        <th class=\"col_heading level0 col12\" colspan=4>logodds_</th>    </tr>    <tr>        <th class=\"index_name level1\" >month</th>        <th class=\"col_heading level1 col0\" >202001</th>        <th class=\"col_heading level1 col1\" >202002</th>        <th class=\"col_heading level1 col2\" >202003</th>        <th class=\"col_heading level1 col3\" >All</th>        <th class=\"col_heading level1 col4\" >202001</th>        <th class=\"col_heading level1 col5\" >202002</th>        <th class=\"col_heading level1 col6\" >202003</th>        <th class=\"col_heading level1 col7\" >All</th>        <th class=\"col_heading level1 col8\" >202001</th>        <th class=\"col_heading level1 col9\" >202002</th>        <th class=\"col_heading level1 col10\" >202003</th>        <th class=\"col_heading level1 col11\" >All</th>        <th class=\"col_heading level1 col12\" >202001</th>        <th class=\"col_heading level1 col13\" >202002</th>        <th class=\"col_heading level1 col14\" >202003</th>        <th class=\"col_heading level1 col15\" >All</th>    </tr>    <tr>        <th class=\"index_name level0\" >p_churn_binned</th>        <th class=\"blank\" ></th>        <th class=\"blank\" ></th>        <th class=\"blank\" ></th>        <th class=\"blank\" ></th>        <th class=\"blank\" ></th>        <th class=\"blank\" ></th>        <th class=\"blank\" ></th>        <th class=\"blank\" ></th>        <th class=\"blank\" ></th>        <th class=\"blank\" ></th>        <th class=\"blank\" ></th>        <th class=\"blank\" ></th>        <th class=\"blank\" ></th>        <th class=\"blank\" ></th>        <th class=\"blank\" ></th>        <th class=\"blank\" ></th>    </tr></thead><tbody>\n",
       "                <tr>\n",
       "                        <th id=\"T_1265cfcc_460b_11ec_903e_5c879c826b52level0_row0\" class=\"row_heading level0 row0\" >(-0.000843, 0.2]</th>\n",
       "                        <td id=\"T_1265cfcc_460b_11ec_903e_5c879c826b52row0_col0\" class=\"data row0 col0\" >1941</td>\n",
       "                        <td id=\"T_1265cfcc_460b_11ec_903e_5c879c826b52row0_col1\" class=\"data row0 col1\" >1887</td>\n",
       "                        <td id=\"T_1265cfcc_460b_11ec_903e_5c879c826b52row0_col2\" class=\"data row0 col2\" >1882</td>\n",
       "                        <td id=\"T_1265cfcc_460b_11ec_903e_5c879c826b52row0_col3\" class=\"data row0 col3\" >5710</td>\n",
       "                        <td id=\"T_1265cfcc_460b_11ec_903e_5c879c826b52row0_col4\" class=\"data row0 col4\" >182</td>\n",
       "                        <td id=\"T_1265cfcc_460b_11ec_903e_5c879c826b52row0_col5\" class=\"data row0 col5\" >165</td>\n",
       "                        <td id=\"T_1265cfcc_460b_11ec_903e_5c879c826b52row0_col6\" class=\"data row0 col6\" >200</td>\n",
       "                        <td id=\"T_1265cfcc_460b_11ec_903e_5c879c826b52row0_col7\" class=\"data row0 col7\" >547</td>\n",
       "                        <td id=\"T_1265cfcc_460b_11ec_903e_5c879c826b52row0_col8\" class=\"data row0 col8\" >0.093766</td>\n",
       "                        <td id=\"T_1265cfcc_460b_11ec_903e_5c879c826b52row0_col9\" class=\"data row0 col9\" >0.087440</td>\n",
       "                        <td id=\"T_1265cfcc_460b_11ec_903e_5c879c826b52row0_col10\" class=\"data row0 col10\" >0.106270</td>\n",
       "                        <td id=\"T_1265cfcc_460b_11ec_903e_5c879c826b52row0_col11\" class=\"data row0 col11\" >0.095797</td>\n",
       "                        <td id=\"T_1265cfcc_460b_11ec_903e_5c879c826b52row0_col12\" class=\"data row0 col12\" >-2.268494</td>\n",
       "                        <td id=\"T_1265cfcc_460b_11ec_903e_5c879c826b52row0_col13\" class=\"data row0 col13\" >-2.345296</td>\n",
       "                        <td id=\"T_1265cfcc_460b_11ec_903e_5c879c826b52row0_col14\" class=\"data row0 col14\" >-2.129421</td>\n",
       "                        <td id=\"T_1265cfcc_460b_11ec_903e_5c879c826b52row0_col15\" class=\"data row0 col15\" >-2.244824</td>\n",
       "            </tr>\n",
       "            <tr>\n",
       "                        <th id=\"T_1265cfcc_460b_11ec_903e_5c879c826b52level0_row1\" class=\"row_heading level0 row1\" >(0.2, 0.4]</th>\n",
       "                        <td id=\"T_1265cfcc_460b_11ec_903e_5c879c826b52row1_col0\" class=\"data row1 col0\" >483</td>\n",
       "                        <td id=\"T_1265cfcc_460b_11ec_903e_5c879c826b52row1_col1\" class=\"data row1 col1\" >478</td>\n",
       "                        <td id=\"T_1265cfcc_460b_11ec_903e_5c879c826b52row1_col2\" class=\"data row1 col2\" >479</td>\n",
       "                        <td id=\"T_1265cfcc_460b_11ec_903e_5c879c826b52row1_col3\" class=\"data row1 col3\" >1440</td>\n",
       "                        <td id=\"T_1265cfcc_460b_11ec_903e_5c879c826b52row1_col4\" class=\"data row1 col4\" >291</td>\n",
       "                        <td id=\"T_1265cfcc_460b_11ec_903e_5c879c826b52row1_col5\" class=\"data row1 col5\" >286</td>\n",
       "                        <td id=\"T_1265cfcc_460b_11ec_903e_5c879c826b52row1_col6\" class=\"data row1 col6\" >266</td>\n",
       "                        <td id=\"T_1265cfcc_460b_11ec_903e_5c879c826b52row1_col7\" class=\"data row1 col7\" >843</td>\n",
       "                        <td id=\"T_1265cfcc_460b_11ec_903e_5c879c826b52row1_col8\" class=\"data row1 col8\" >0.602484</td>\n",
       "                        <td id=\"T_1265cfcc_460b_11ec_903e_5c879c826b52row1_col9\" class=\"data row1 col9\" >0.598326</td>\n",
       "                        <td id=\"T_1265cfcc_460b_11ec_903e_5c879c826b52row1_col10\" class=\"data row1 col10\" >0.555324</td>\n",
       "                        <td id=\"T_1265cfcc_460b_11ec_903e_5c879c826b52row1_col11\" class=\"data row1 col11\" >0.585417</td>\n",
       "                        <td id=\"T_1265cfcc_460b_11ec_903e_5c879c826b52row1_col12\" class=\"data row1 col12\" >0.415828</td>\n",
       "                        <td id=\"T_1265cfcc_460b_11ec_903e_5c879c826b52row1_col13\" class=\"data row1 col13\" >0.398496</td>\n",
       "                        <td id=\"T_1265cfcc_460b_11ec_903e_5c879c826b52row1_col14\" class=\"data row1 col14\" >0.222204</td>\n",
       "                        <td id=\"T_1265cfcc_460b_11ec_903e_5c879c826b52row1_col15\" class=\"data row1 col15\" >0.345050</td>\n",
       "            </tr>\n",
       "            <tr>\n",
       "                        <th id=\"T_1265cfcc_460b_11ec_903e_5c879c826b52level0_row2\" class=\"row_heading level0 row2\" >(0.4, 0.6]</th>\n",
       "                        <td id=\"T_1265cfcc_460b_11ec_903e_5c879c826b52row2_col0\" class=\"data row2 col0\" >72</td>\n",
       "                        <td id=\"T_1265cfcc_460b_11ec_903e_5c879c826b52row2_col1\" class=\"data row2 col1\" >87</td>\n",
       "                        <td id=\"T_1265cfcc_460b_11ec_903e_5c879c826b52row2_col2\" class=\"data row2 col2\" >77</td>\n",
       "                        <td id=\"T_1265cfcc_460b_11ec_903e_5c879c826b52row2_col3\" class=\"data row2 col3\" >236</td>\n",
       "                        <td id=\"T_1265cfcc_460b_11ec_903e_5c879c826b52row2_col4\" class=\"data row2 col4\" >33</td>\n",
       "                        <td id=\"T_1265cfcc_460b_11ec_903e_5c879c826b52row2_col5\" class=\"data row2 col5\" >32</td>\n",
       "                        <td id=\"T_1265cfcc_460b_11ec_903e_5c879c826b52row2_col6\" class=\"data row2 col6\" >39</td>\n",
       "                        <td id=\"T_1265cfcc_460b_11ec_903e_5c879c826b52row2_col7\" class=\"data row2 col7\" >104</td>\n",
       "                        <td id=\"T_1265cfcc_460b_11ec_903e_5c879c826b52row2_col8\" class=\"data row2 col8\" >0.458333</td>\n",
       "                        <td id=\"T_1265cfcc_460b_11ec_903e_5c879c826b52row2_col9\" class=\"data row2 col9\" >0.367816</td>\n",
       "                        <td id=\"T_1265cfcc_460b_11ec_903e_5c879c826b52row2_col10\" class=\"data row2 col10\" >0.506494</td>\n",
       "                        <td id=\"T_1265cfcc_460b_11ec_903e_5c879c826b52row2_col11\" class=\"data row2 col11\" >0.440678</td>\n",
       "                        <td id=\"T_1265cfcc_460b_11ec_903e_5c879c826b52row2_col12\" class=\"data row2 col12\" >-0.167054</td>\n",
       "                        <td id=\"T_1265cfcc_460b_11ec_903e_5c879c826b52row2_col13\" class=\"data row2 col13\" >-0.541597</td>\n",
       "                        <td id=\"T_1265cfcc_460b_11ec_903e_5c879c826b52row2_col14\" class=\"data row2 col14\" >0.025975</td>\n",
       "                        <td id=\"T_1265cfcc_460b_11ec_903e_5c879c826b52row2_col15\" class=\"data row2 col15\" >-0.238411</td>\n",
       "            </tr>\n",
       "            <tr>\n",
       "                        <th id=\"T_1265cfcc_460b_11ec_903e_5c879c826b52level0_row3\" class=\"row_heading level0 row3\" >(0.6, 0.8]</th>\n",
       "                        <td id=\"T_1265cfcc_460b_11ec_903e_5c879c826b52row3_col0\" class=\"data row3 col0\" >79</td>\n",
       "                        <td id=\"T_1265cfcc_460b_11ec_903e_5c879c826b52row3_col1\" class=\"data row3 col1\" >81</td>\n",
       "                        <td id=\"T_1265cfcc_460b_11ec_903e_5c879c826b52row3_col2\" class=\"data row3 col2\" >72</td>\n",
       "                        <td id=\"T_1265cfcc_460b_11ec_903e_5c879c826b52row3_col3\" class=\"data row3 col3\" >232</td>\n",
       "                        <td id=\"T_1265cfcc_460b_11ec_903e_5c879c826b52row3_col4\" class=\"data row3 col4\" >39</td>\n",
       "                        <td id=\"T_1265cfcc_460b_11ec_903e_5c879c826b52row3_col5\" class=\"data row3 col5\" >40</td>\n",
       "                        <td id=\"T_1265cfcc_460b_11ec_903e_5c879c826b52row3_col6\" class=\"data row3 col6\" >37</td>\n",
       "                        <td id=\"T_1265cfcc_460b_11ec_903e_5c879c826b52row3_col7\" class=\"data row3 col7\" >116</td>\n",
       "                        <td id=\"T_1265cfcc_460b_11ec_903e_5c879c826b52row3_col8\" class=\"data row3 col8\" >0.493671</td>\n",
       "                        <td id=\"T_1265cfcc_460b_11ec_903e_5c879c826b52row3_col9\" class=\"data row3 col9\" >0.493827</td>\n",
       "                        <td id=\"T_1265cfcc_460b_11ec_903e_5c879c826b52row3_col10\" class=\"data row3 col10\" >0.513889</td>\n",
       "                        <td id=\"T_1265cfcc_460b_11ec_903e_5c879c826b52row3_col11\" class=\"data row3 col11\" >0.500000</td>\n",
       "                        <td id=\"T_1265cfcc_460b_11ec_903e_5c879c826b52row3_col12\" class=\"data row3 col12\" >-0.025318</td>\n",
       "                        <td id=\"T_1265cfcc_460b_11ec_903e_5c879c826b52row3_col13\" class=\"data row3 col13\" >-0.024693</td>\n",
       "                        <td id=\"T_1265cfcc_460b_11ec_903e_5c879c826b52row3_col14\" class=\"data row3 col14\" >0.055570</td>\n",
       "                        <td id=\"T_1265cfcc_460b_11ec_903e_5c879c826b52row3_col15\" class=\"data row3 col15\" >0.000000</td>\n",
       "            </tr>\n",
       "            <tr>\n",
       "                        <th id=\"T_1265cfcc_460b_11ec_903e_5c879c826b52level0_row4\" class=\"row_heading level0 row4\" >(0.8, 1.0]</th>\n",
       "                        <td id=\"T_1265cfcc_460b_11ec_903e_5c879c826b52row4_col0\" class=\"data row4 col0\" >98</td>\n",
       "                        <td id=\"T_1265cfcc_460b_11ec_903e_5c879c826b52row4_col1\" class=\"data row4 col1\" >114</td>\n",
       "                        <td id=\"T_1265cfcc_460b_11ec_903e_5c879c826b52row4_col2\" class=\"data row4 col2\" >116</td>\n",
       "                        <td id=\"T_1265cfcc_460b_11ec_903e_5c879c826b52row4_col3\" class=\"data row4 col3\" >328</td>\n",
       "                        <td id=\"T_1265cfcc_460b_11ec_903e_5c879c826b52row4_col4\" class=\"data row4 col4\" >55</td>\n",
       "                        <td id=\"T_1265cfcc_460b_11ec_903e_5c879c826b52row4_col5\" class=\"data row4 col5\" >72</td>\n",
       "                        <td id=\"T_1265cfcc_460b_11ec_903e_5c879c826b52row4_col6\" class=\"data row4 col6\" >70</td>\n",
       "                        <td id=\"T_1265cfcc_460b_11ec_903e_5c879c826b52row4_col7\" class=\"data row4 col7\" >197</td>\n",
       "                        <td id=\"T_1265cfcc_460b_11ec_903e_5c879c826b52row4_col8\" class=\"data row4 col8\" >0.561224</td>\n",
       "                        <td id=\"T_1265cfcc_460b_11ec_903e_5c879c826b52row4_col9\" class=\"data row4 col9\" >0.631579</td>\n",
       "                        <td id=\"T_1265cfcc_460b_11ec_903e_5c879c826b52row4_col10\" class=\"data row4 col10\" >0.603448</td>\n",
       "                        <td id=\"T_1265cfcc_460b_11ec_903e_5c879c826b52row4_col11\" class=\"data row4 col11\" >0.600610</td>\n",
       "                        <td id=\"T_1265cfcc_460b_11ec_903e_5c879c826b52row4_col12\" class=\"data row4 col12\" >0.246133</td>\n",
       "                        <td id=\"T_1265cfcc_460b_11ec_903e_5c879c826b52row4_col13\" class=\"data row4 col13\" >0.538997</td>\n",
       "                        <td id=\"T_1265cfcc_460b_11ec_903e_5c879c826b52row4_col14\" class=\"data row4 col14\" >0.419854</td>\n",
       "                        <td id=\"T_1265cfcc_460b_11ec_903e_5c879c826b52row4_col15\" class=\"data row4 col15\" >0.408006</td>\n",
       "            </tr>\n",
       "            <tr>\n",
       "                        <th id=\"T_1265cfcc_460b_11ec_903e_5c879c826b52level0_row5\" class=\"row_heading level0 row5\" >All</th>\n",
       "                        <td id=\"T_1265cfcc_460b_11ec_903e_5c879c826b52row5_col0\" class=\"data row5 col0\" >2673</td>\n",
       "                        <td id=\"T_1265cfcc_460b_11ec_903e_5c879c826b52row5_col1\" class=\"data row5 col1\" >2647</td>\n",
       "                        <td id=\"T_1265cfcc_460b_11ec_903e_5c879c826b52row5_col2\" class=\"data row5 col2\" >2626</td>\n",
       "                        <td id=\"T_1265cfcc_460b_11ec_903e_5c879c826b52row5_col3\" class=\"data row5 col3\" >7946</td>\n",
       "                        <td id=\"T_1265cfcc_460b_11ec_903e_5c879c826b52row5_col4\" class=\"data row5 col4\" >600</td>\n",
       "                        <td id=\"T_1265cfcc_460b_11ec_903e_5c879c826b52row5_col5\" class=\"data row5 col5\" >595</td>\n",
       "                        <td id=\"T_1265cfcc_460b_11ec_903e_5c879c826b52row5_col6\" class=\"data row5 col6\" >612</td>\n",
       "                        <td id=\"T_1265cfcc_460b_11ec_903e_5c879c826b52row5_col7\" class=\"data row5 col7\" >1807</td>\n",
       "                        <td id=\"T_1265cfcc_460b_11ec_903e_5c879c826b52row5_col8\" class=\"data row5 col8\" >0.224467</td>\n",
       "                        <td id=\"T_1265cfcc_460b_11ec_903e_5c879c826b52row5_col9\" class=\"data row5 col9\" >0.224783</td>\n",
       "                        <td id=\"T_1265cfcc_460b_11ec_903e_5c879c826b52row5_col10\" class=\"data row5 col10\" >0.233054</td>\n",
       "                        <td id=\"T_1265cfcc_460b_11ec_903e_5c879c826b52row5_col11\" class=\"data row5 col11\" >0.227410</td>\n",
       "                        <td id=\"T_1265cfcc_460b_11ec_903e_5c879c826b52row5_col12\" class=\"data row5 col12\" >-1.239822</td>\n",
       "                        <td id=\"T_1265cfcc_460b_11ec_903e_5c879c826b52row5_col13\" class=\"data row5 col13\" >-1.238009</td>\n",
       "                        <td id=\"T_1265cfcc_460b_11ec_903e_5c879c826b52row5_col14\" class=\"data row5 col14\" >-1.191146</td>\n",
       "                        <td id=\"T_1265cfcc_460b_11ec_903e_5c879c826b52row5_col15\" class=\"data row5 col15\" >-1.222994</td>\n",
       "            </tr>\n",
       "    </tbody></table>"
      ],
      "text/plain": [
       "<pandas.io.formats.style.Styler at 0x1d0058b0>"
      ]
     },
     "execution_count": 86,
     "metadata": {},
     "output_type": "execute_result"
    }
   ],
   "source": [
    "tacoe.get_table()\n",
    "tacoe.table"
   ]
  },
  {
   "cell_type": "markdown",
   "metadata": {},
   "source": [
    "# Complex Evaluators"
   ]
  },
  {
   "cell_type": "code",
   "execution_count": null,
   "metadata": {},
   "outputs": [],
   "source": []
  },
  {
   "cell_type": "markdown",
   "metadata": {},
   "source": [
    "# Misc"
   ]
  },
  {
   "cell_type": "code",
   "execution_count": 87,
   "metadata": {
    "ExecuteTime": {
     "end_time": "2021-11-15T11:56:31.052950Z",
     "start_time": "2021-11-15T11:56:30.914953Z"
    }
   },
   "outputs": [
    {
     "data": {
      "text/plain": [
       "0       (-0.001, 0.2]\n",
       "1          (0.8, 1.0]\n",
       "2       (-0.001, 0.2]\n",
       "3       (-0.001, 0.2]\n",
       "4       (-0.001, 0.2]\n",
       "            ...      \n",
       "7941    (-0.001, 0.2]\n",
       "7942    (-0.001, 0.2]\n",
       "7943       (0.8, 1.0]\n",
       "7944    (-0.001, 0.2]\n",
       "7945    (-0.001, 0.2]\n",
       "Name: target, Length: 7946, dtype: category\n",
       "Categories (5, interval[float64]): [(-0.001, 0.2] < (0.2, 0.4] < (0.4, 0.6] < (0.6, 0.8] < (0.8, 1.0]]"
      ]
     },
     "execution_count": 87,
     "metadata": {},
     "output_type": "execute_result"
    }
   ],
   "source": [
    "pd.cut(df['target'], bins=5)"
   ]
  },
  {
   "cell_type": "code",
   "execution_count": 88,
   "metadata": {
    "ExecuteTime": {
     "end_time": "2021-11-15T11:56:31.209956Z",
     "start_time": "2021-11-15T11:56:31.054995Z"
    }
   },
   "outputs": [],
   "source": [
    "df['p_churn_binned']=pd.cut(df['p_churn'], bins=5)"
   ]
  },
  {
   "cell_type": "code",
   "execution_count": 89,
   "metadata": {
    "ExecuteTime": {
     "end_time": "2021-11-15T11:56:31.636991Z",
     "start_time": "2021-11-15T11:56:31.212954Z"
    }
   },
   "outputs": [
    {
     "data": {
      "text/html": [
       "<div>\n",
       "<style scoped>\n",
       "    .dataframe tbody tr th:only-of-type {\n",
       "        vertical-align: middle;\n",
       "    }\n",
       "\n",
       "    .dataframe tbody tr th {\n",
       "        vertical-align: top;\n",
       "    }\n",
       "\n",
       "    .dataframe thead tr th {\n",
       "        text-align: left;\n",
       "    }\n",
       "\n",
       "    .dataframe thead tr:last-of-type th {\n",
       "        text-align: right;\n",
       "    }\n",
       "</style>\n",
       "<table border=\"1\" class=\"dataframe\">\n",
       "  <thead>\n",
       "    <tr>\n",
       "      <th></th>\n",
       "      <th colspan=\"4\" halign=\"left\">count</th>\n",
       "      <th colspan=\"4\" halign=\"left\">sum</th>\n",
       "      <th colspan=\"4\" halign=\"left\">mean</th>\n",
       "      <th colspan=\"4\" halign=\"left\">logodds_</th>\n",
       "    </tr>\n",
       "    <tr>\n",
       "      <th>month</th>\n",
       "      <th>202001</th>\n",
       "      <th>202002</th>\n",
       "      <th>202003</th>\n",
       "      <th>All</th>\n",
       "      <th>202001</th>\n",
       "      <th>202002</th>\n",
       "      <th>202003</th>\n",
       "      <th>All</th>\n",
       "      <th>202001</th>\n",
       "      <th>202002</th>\n",
       "      <th>202003</th>\n",
       "      <th>All</th>\n",
       "      <th>202001</th>\n",
       "      <th>202002</th>\n",
       "      <th>202003</th>\n",
       "      <th>All</th>\n",
       "    </tr>\n",
       "    <tr>\n",
       "      <th>p_churn_binned</th>\n",
       "      <th></th>\n",
       "      <th></th>\n",
       "      <th></th>\n",
       "      <th></th>\n",
       "      <th></th>\n",
       "      <th></th>\n",
       "      <th></th>\n",
       "      <th></th>\n",
       "      <th></th>\n",
       "      <th></th>\n",
       "      <th></th>\n",
       "      <th></th>\n",
       "      <th></th>\n",
       "      <th></th>\n",
       "      <th></th>\n",
       "      <th></th>\n",
       "    </tr>\n",
       "  </thead>\n",
       "  <tbody>\n",
       "    <tr>\n",
       "      <th>(-0.000843, 0.2]</th>\n",
       "      <td>1941</td>\n",
       "      <td>1887</td>\n",
       "      <td>1882</td>\n",
       "      <td>5710</td>\n",
       "      <td>182</td>\n",
       "      <td>165</td>\n",
       "      <td>200</td>\n",
       "      <td>547</td>\n",
       "      <td>0.093766</td>\n",
       "      <td>0.087440</td>\n",
       "      <td>0.106270</td>\n",
       "      <td>0.095797</td>\n",
       "      <td>-2.268494</td>\n",
       "      <td>-2.345296</td>\n",
       "      <td>-2.129421</td>\n",
       "      <td>-2.244824</td>\n",
       "    </tr>\n",
       "    <tr>\n",
       "      <th>(0.2, 0.4]</th>\n",
       "      <td>483</td>\n",
       "      <td>478</td>\n",
       "      <td>479</td>\n",
       "      <td>1440</td>\n",
       "      <td>291</td>\n",
       "      <td>286</td>\n",
       "      <td>266</td>\n",
       "      <td>843</td>\n",
       "      <td>0.602484</td>\n",
       "      <td>0.598326</td>\n",
       "      <td>0.555324</td>\n",
       "      <td>0.585417</td>\n",
       "      <td>0.415828</td>\n",
       "      <td>0.398496</td>\n",
       "      <td>0.222204</td>\n",
       "      <td>0.345050</td>\n",
       "    </tr>\n",
       "    <tr>\n",
       "      <th>(0.4, 0.6]</th>\n",
       "      <td>72</td>\n",
       "      <td>87</td>\n",
       "      <td>77</td>\n",
       "      <td>236</td>\n",
       "      <td>33</td>\n",
       "      <td>32</td>\n",
       "      <td>39</td>\n",
       "      <td>104</td>\n",
       "      <td>0.458333</td>\n",
       "      <td>0.367816</td>\n",
       "      <td>0.506494</td>\n",
       "      <td>0.440678</td>\n",
       "      <td>-0.167054</td>\n",
       "      <td>-0.541597</td>\n",
       "      <td>0.025975</td>\n",
       "      <td>-0.238411</td>\n",
       "    </tr>\n",
       "    <tr>\n",
       "      <th>(0.6, 0.8]</th>\n",
       "      <td>79</td>\n",
       "      <td>81</td>\n",
       "      <td>72</td>\n",
       "      <td>232</td>\n",
       "      <td>39</td>\n",
       "      <td>40</td>\n",
       "      <td>37</td>\n",
       "      <td>116</td>\n",
       "      <td>0.493671</td>\n",
       "      <td>0.493827</td>\n",
       "      <td>0.513889</td>\n",
       "      <td>0.500000</td>\n",
       "      <td>-0.025318</td>\n",
       "      <td>-0.024693</td>\n",
       "      <td>0.055570</td>\n",
       "      <td>0.000000</td>\n",
       "    </tr>\n",
       "    <tr>\n",
       "      <th>(0.8, 1.0]</th>\n",
       "      <td>98</td>\n",
       "      <td>114</td>\n",
       "      <td>116</td>\n",
       "      <td>328</td>\n",
       "      <td>55</td>\n",
       "      <td>72</td>\n",
       "      <td>70</td>\n",
       "      <td>197</td>\n",
       "      <td>0.561224</td>\n",
       "      <td>0.631579</td>\n",
       "      <td>0.603448</td>\n",
       "      <td>0.600610</td>\n",
       "      <td>0.246133</td>\n",
       "      <td>0.538997</td>\n",
       "      <td>0.419854</td>\n",
       "      <td>0.408006</td>\n",
       "    </tr>\n",
       "    <tr>\n",
       "      <th>All</th>\n",
       "      <td>2673</td>\n",
       "      <td>2647</td>\n",
       "      <td>2626</td>\n",
       "      <td>7946</td>\n",
       "      <td>600</td>\n",
       "      <td>595</td>\n",
       "      <td>612</td>\n",
       "      <td>1807</td>\n",
       "      <td>0.224467</td>\n",
       "      <td>0.224783</td>\n",
       "      <td>0.233054</td>\n",
       "      <td>0.227410</td>\n",
       "      <td>-1.239822</td>\n",
       "      <td>-1.238009</td>\n",
       "      <td>-1.191146</td>\n",
       "      <td>-1.222994</td>\n",
       "    </tr>\n",
       "  </tbody>\n",
       "</table>\n",
       "</div>"
      ],
      "text/plain": [
       "                  count                        sum                      \\\n",
       "month            202001 202002 202003   All 202001 202002 202003   All   \n",
       "p_churn_binned                                                           \n",
       "(-0.000843, 0.2]   1941   1887   1882  5710    182    165    200   547   \n",
       "(0.2, 0.4]          483    478    479  1440    291    286    266   843   \n",
       "(0.4, 0.6]           72     87     77   236     33     32     39   104   \n",
       "(0.6, 0.8]           79     81     72   232     39     40     37   116   \n",
       "(0.8, 1.0]           98    114    116   328     55     72     70   197   \n",
       "All                2673   2647   2626  7946    600    595    612  1807   \n",
       "\n",
       "                      mean                                logodds_            \\\n",
       "month               202001    202002    202003       All    202001    202002   \n",
       "p_churn_binned                                                                 \n",
       "(-0.000843, 0.2]  0.093766  0.087440  0.106270  0.095797 -2.268494 -2.345296   \n",
       "(0.2, 0.4]        0.602484  0.598326  0.555324  0.585417  0.415828  0.398496   \n",
       "(0.4, 0.6]        0.458333  0.367816  0.506494  0.440678 -0.167054 -0.541597   \n",
       "(0.6, 0.8]        0.493671  0.493827  0.513889  0.500000 -0.025318 -0.024693   \n",
       "(0.8, 1.0]        0.561224  0.631579  0.603448  0.600610  0.246133  0.538997   \n",
       "All               0.224467  0.224783  0.233054  0.227410 -1.239822 -1.238009   \n",
       "\n",
       "                                      \n",
       "month               202003       All  \n",
       "p_churn_binned                        \n",
       "(-0.000843, 0.2] -2.129421 -2.244824  \n",
       "(0.2, 0.4]        0.222204  0.345050  \n",
       "(0.4, 0.6]        0.025975 -0.238411  \n",
       "(0.6, 0.8]        0.055570  0.000000  \n",
       "(0.8, 1.0]        0.419854  0.408006  \n",
       "All              -1.191146 -1.222994  "
      ]
     },
     "execution_count": 89,
     "metadata": {},
     "output_type": "execute_result"
    }
   ],
   "source": [
    "def logodds_(x):\n",
    "    mean_=np.mean(x)\n",
    "    if mean_==1.0:\n",
    "        return -10.0\n",
    "    if mean_==0.0:\n",
    "        return 10.0\n",
    "    else:\n",
    "        a=np.log(mean_/(1-mean_))\n",
    "        return a\n",
    "    \n",
    "\n",
    "pd.crosstab(index=df['p_churn_binned'], columns=df['month'], values=df['target'], rownames=None, colnames=None, aggfunc=['count','sum','mean',logodds_], margins=True, margins_name='All', dropna=True, normalize=False)"
   ]
  },
  {
   "cell_type": "code",
   "execution_count": 90,
   "metadata": {
    "ExecuteTime": {
     "end_time": "2021-11-15T11:56:31.953060Z",
     "start_time": "2021-11-15T11:56:31.638958Z"
    }
   },
   "outputs": [
    {
     "ename": "NameError",
     "evalue": "name 'a' is not defined",
     "output_type": "error",
     "traceback": [
      "\u001b[1;31m---------------------------------------------------------------------------\u001b[0m",
      "\u001b[1;31mNameError\u001b[0m                                 Traceback (most recent call last)",
      "\u001b[1;32m<ipython-input-90-14e48bc95e95>\u001b[0m in \u001b[0;36m<module>\u001b[1;34m\u001b[0m\n\u001b[1;32m----> 1\u001b[1;33m \u001b[0ma\u001b[0m\u001b[1;33m[\u001b[0m\u001b[0ma\u001b[0m\u001b[1;33m.\u001b[0m\u001b[0mcolumns\u001b[0m\u001b[1;33m[\u001b[0m\u001b[1;36m0\u001b[0m\u001b[1;33m]\u001b[0m\u001b[1;33m]\u001b[0m\u001b[1;33m.\u001b[0m\u001b[0mindex\u001b[0m\u001b[1;33m\u001b[0m\u001b[1;33m\u001b[0m\u001b[0m\n\u001b[0m",
      "\u001b[1;31mNameError\u001b[0m: name 'a' is not defined"
     ]
    }
   ],
   "source": [
    "a[a.columns[0]].index"
   ]
  },
  {
   "cell_type": "code",
   "execution_count": null,
   "metadata": {
    "ExecuteTime": {
     "end_time": "2021-11-15T11:56:31.966007Z",
     "start_time": "2021-11-15T11:56:04.600Z"
    }
   },
   "outputs": [],
   "source": [
    "df['categorical_predictor']=df['target_obs'].apply(lambda x: random.choice(['A','B','C', 'D', 'F', 'G', 'H']))"
   ]
  },
  {
   "cell_type": "code",
   "execution_count": null,
   "metadata": {
    "ExecuteTime": {
     "end_time": "2021-11-15T11:56:31.966957Z",
     "start_time": "2021-11-15T11:56:04.605Z"
    }
   },
   "outputs": [],
   "source": [
    "pd.crosstab(index=df['categorical_predictor'], columns=df['month'], values=df['target'], rownames=None, colnames=None, aggfunc=sum, margins=True, margins_name='All', dropna=True, normalize='columns').transpose()"
   ]
  },
  {
   "cell_type": "code",
   "execution_count": null,
   "metadata": {
    "ExecuteTime": {
     "end_time": "2021-11-15T11:56:31.967957Z",
     "start_time": "2021-11-15T11:56:04.609Z"
    }
   },
   "outputs": [],
   "source": [
    "df['categorical_predictor'].value_counts(dropna=False, normalize=True).plot.bar(color=['navy', 'turquoise', 'darkorange', 'cornflowerblue', 'teal'])"
   ]
  },
  {
   "cell_type": "code",
   "execution_count": null,
   "metadata": {
    "ExecuteTime": {
     "end_time": "2021-11-15T11:56:31.969956Z",
     "start_time": "2021-11-15T11:56:04.615Z"
    }
   },
   "outputs": [],
   "source": [
    "a=df['categorical_predictor'].value_counts(dropna=False, normalize=True)\n",
    "a"
   ]
  },
  {
   "cell_type": "code",
   "execution_count": null,
   "metadata": {
    "ExecuteTime": {
     "end_time": "2021-11-15T11:56:31.970956Z",
     "start_time": "2021-11-15T11:56:04.619Z"
    }
   },
   "outputs": [],
   "source": [
    "import numpy as np\n",
    "import matplotlib.pyplot as plt\n",
    "\n",
    "plt.figure(figsize=(7, 8))\n",
    "\n",
    "# the histogram of the data\n",
    "n, bins, patches = plt.hist(df['p_churn'], bins='doane', density=False, facecolor='b', alpha=0.75)\n",
    "\n",
    "\n",
    "plt.xlabel('Smarts')\n",
    "plt.ylabel('Probability')\n",
    "plt.title('Histogram of IQ')\n",
    "#plt.xlim(40, 160)\n",
    "#plt.ylim(0, 0.03)\n",
    "plt.grid(True)\n",
    "plt.show()"
   ]
  },
  {
   "cell_type": "code",
   "execution_count": null,
   "metadata": {
    "ExecuteTime": {
     "end_time": "2021-11-15T11:56:31.971956Z",
     "start_time": "2021-11-15T11:56:04.622Z"
    }
   },
   "outputs": [],
   "source": [
    "a.values"
   ]
  },
  {
   "cell_type": "code",
   "execution_count": null,
   "metadata": {
    "ExecuteTime": {
     "end_time": "2021-11-15T11:56:31.972956Z",
     "start_time": "2021-11-15T11:56:04.627Z"
    }
   },
   "outputs": [],
   "source": [
    "list(df[self.predictor_column].unique())"
   ]
  },
  {
   "cell_type": "code",
   "execution_count": null,
   "metadata": {
    "ExecuteTime": {
     "end_time": "2021-11-15T11:56:31.974958Z",
     "start_time": "2021-11-15T11:56:04.631Z"
    }
   },
   "outputs": [],
   "source": [
    "l, = plt.plot(a['A'])\n",
    "\n",
    "\n",
    "#set plotting parameters\n",
    "fig = plt.gcf()\n",
    "fig.subplots_adjust(bottom=0.25)\n",
    "plt.ticklabel_format(useOffset=False)\n",
    "plt.xticks(range(min(a.index), max(a.index)+1))\n",
    "#plt.xlim(min(_x)-0.1,max(_x)+0.1)\n",
    "#plt.ylim(-0.01,1.03)\n",
    "plt.xlabel('Month')\n",
    "plt.ylabel('GINI')\n",
    "\n",
    "\n",
    "plt.show()    "
   ]
  },
  {
   "cell_type": "code",
   "execution_count": null,
   "metadata": {
    "ExecuteTime": {
     "end_time": "2021-11-15T11:56:31.975956Z",
     "start_time": "2021-11-15T11:56:04.636Z"
    }
   },
   "outputs": [],
   "source": [
    "a['A']"
   ]
  }
 ],
 "metadata": {
  "hide_input": false,
  "kernelspec": {
   "display_name": "Python 3",
   "language": "python",
   "name": "python3"
  },
  "language_info": {
   "codemirror_mode": {
    "name": "ipython",
    "version": 3
   },
   "file_extension": ".py",
   "mimetype": "text/x-python",
   "name": "python",
   "nbconvert_exporter": "python",
   "pygments_lexer": "ipython3",
   "version": "3.7.8"
  },
  "toc": {
   "base_numbering": 1,
   "nav_menu": {},
   "number_sections": true,
   "sideBar": true,
   "skip_h1_title": false,
   "title_cell": "Table of Contents",
   "title_sidebar": "Contents",
   "toc_cell": false,
   "toc_position": {
    "height": "calc(100% - 180px)",
    "left": "10px",
    "top": "150px",
    "width": "341.317px"
   },
   "toc_section_display": true,
   "toc_window_display": true
  },
  "varInspector": {
   "cols": {
    "lenName": 16,
    "lenType": 16,
    "lenVar": 40
   },
   "kernels_config": {
    "python": {
     "delete_cmd_postfix": "",
     "delete_cmd_prefix": "del ",
     "library": "var_list.py",
     "varRefreshCmd": "print(var_dic_list())"
    },
    "r": {
     "delete_cmd_postfix": ") ",
     "delete_cmd_prefix": "rm(",
     "library": "var_list.r",
     "varRefreshCmd": "cat(var_dic_list()) "
    }
   },
   "types_to_exclude": [
    "module",
    "function",
    "builtin_function_or_method",
    "instance",
    "_Feature"
   ],
   "window_display": false
  }
 },
 "nbformat": 4,
 "nbformat_minor": 4
}
